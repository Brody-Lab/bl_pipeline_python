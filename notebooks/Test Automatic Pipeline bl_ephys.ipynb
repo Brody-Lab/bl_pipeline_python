{
 "cells": [
  {
   "cell_type": "markdown",
   "metadata": {},
   "source": [
    "### Check if configuration has been run already and change directory to repository root:"
   ]
  },
  {
   "cell_type": "code",
   "execution_count": 1,
   "metadata": {},
   "outputs": [
    {
     "name": "stdout",
     "output_type": "stream",
     "text": [
      "Local configuration file found !!, no need to run the configuration (unless configuration has changed)\n"
     ]
    }
   ],
   "source": [
    "from scripts.conf_file_finding import try_find_conf_file\n",
    "try_find_conf_file()"
   ]
  },
  {
   "cell_type": "code",
   "execution_count": 2,
   "metadata": {},
   "outputs": [
    {
     "data": {
      "text/plain": [
       "'0.13.2'"
      ]
     },
     "execution_count": 2,
     "metadata": {},
     "output_type": "execute_result"
    }
   ],
   "source": [
    "import datajoint as dj\n",
    "import os\n",
    "import getpass\n",
    "import pandas as pd\n",
    "import subprocess\n",
    "import json\n",
    "import utility.dj_shortcuts as dj_short\n",
    "dj.__version__"
   ]
  },
  {
   "cell_type": "markdown",
   "metadata": {},
   "source": [
    "### Declare AutoPipeline and Status tables if they don't exist"
   ]
  },
  {
   "cell_type": "code",
   "execution_count": 3,
   "metadata": {},
   "outputs": [
    {
     "name": "stdout",
     "output_type": "stream",
     "text": [
      "Connecting alvaros@datajoint01.pni.princeton.edu:3306\n"
     ]
    },
    {
     "data": {
      "text/plain": [
       "bl_pipeline.acquisition.AcquisitionSessionsStatus"
      ]
     },
     "execution_count": 3,
     "metadata": {},
     "output_type": "execute_result"
    }
   ],
   "source": [
    "from bl_pipeline import acquisition\n",
    "acquisition.StatusDefinition\n",
    "acquisition.AcquisitionSessionsTestAutoPipeline\n",
    "acquisition.AcquisitionSessionsStatus\n"
   ]
  },
  {
   "cell_type": "code",
   "execution_count": 4,
   "metadata": {},
   "outputs": [],
   "source": [
    "## Just for now, folders for ephys things in Globus\n",
    "#FOR PNI endpoint\n",
    "pni_ep_id = '6ce834d6-ff8a-11e6-bad1-22000b9a448b'\n",
    "pni_ephys_root_data_dir   = '/jukebox/archive/brody/RATTER/PhysData/Raw/'\n",
    "pni_ephys_sorted_data_dir = '/mnt/cup/labs/brody/RATTER/PhysData/Test_ephys_pipeline_NP_sorted/'\n",
    "\n",
    "#For tiger endpoint\n",
    "tiger_ep_dir = 'a9df83d2-42f0-11e6-80cf-22000b1701d1'\n",
    "tiger_ephys_root_data_dir = '/tigress/alvaros/ephys_raw/'\n",
    "tiger_ephys_sorted_data_dir = '/tigress/alvaros/ephys_sorted/'\n"
   ]
  },
  {
   "cell_type": "markdown",
   "metadata": {},
   "source": [
    "### Delete and insert on the AcquisitionSessionsTestAutoPipeline and Status tables"
   ]
  },
  {
   "cell_type": "code",
   "execution_count": null,
   "metadata": {},
   "outputs": [],
   "source": [
    "acquisition.AcquisitionSessionsTestAutoPipeline.delete()\n",
    "acquisition.AcquisitionSessionsStatus.delete"
   ]
  },
  {
   "cell_type": "code",
   "execution_count": null,
   "metadata": {},
   "outputs": [],
   "source": [
    "fields_t1 = pd.DataFrame.from_dict(acquisition.AcquisitionSessionsTestAutoPipeline.heading.attributes, orient='index')\n",
    "fields_t1_list = fields_t1.loc[fields_t1['in_key'] == True].index.to_list()\n",
    "fields_t1_list"
   ]
  },
  {
   "cell_type": "markdown",
   "metadata": {},
   "source": [
    "### Get 5 \"real\" sessions to test and insert them to the TestAutoPipeline"
   ]
  },
  {
   "cell_type": "code",
   "execution_count": null,
   "metadata": {},
   "outputs": [],
   "source": [
    "acq_sessions_df = pd.DataFrame(acquisition.AcquisitionSessions.fetch(limit=5, as_dict=True))\n",
    "acq_sessions_df['status_pipeline'] = 0\n",
    "acquisition.AcquisitionSessionsTestAutoPipeline.insert(acq_sessions_df, skip_duplicates=True)\n",
    "acquisition.AcquisitionSessionsTestAutoPipeline()"
   ]
  },
  {
   "cell_type": "markdown",
   "metadata": {},
   "source": [
    "### Check if logged to globus"
   ]
  },
  {
   "cell_type": "code",
   "execution_count": null,
   "metadata": {},
   "outputs": [],
   "source": [
    "s = subprocess.run([\"globus\", \"whoami\"], capture_output=True)\n",
    "s.stdout.decode('UTF-8')"
   ]
  },
  {
   "cell_type": "markdown",
   "metadata": {},
   "source": [
    "### Get all \"active sessions\""
   ]
  },
  {
   "cell_type": "code",
   "execution_count": 21,
   "metadata": {},
   "outputs": [
    {
     "data": {
      "text/html": [
       "<div>\n",
       "<style scoped>\n",
       "    .dataframe tbody tr th:only-of-type {\n",
       "        vertical-align: middle;\n",
       "    }\n",
       "\n",
       "    .dataframe tbody tr th {\n",
       "        vertical-align: top;\n",
       "    }\n",
       "\n",
       "    .dataframe thead th {\n",
       "        text-align: right;\n",
       "    }\n",
       "</style>\n",
       "<table border=\"1\" class=\"dataframe\">\n",
       "  <thead>\n",
       "    <tr style=\"text-align: right;\">\n",
       "      <th></th>\n",
       "      <th>sessid</th>\n",
       "      <th>status_pipeline</th>\n",
       "      <th>session_rat</th>\n",
       "      <th>session_userid</th>\n",
       "      <th>session_rigid</th>\n",
       "      <th>acquisition_type</th>\n",
       "      <th>acquisition_raw_rel_path</th>\n",
       "      <th>acquisition_post_rel_path</th>\n",
       "      <th>task_copy_id_pre_path</th>\n",
       "      <th>task_copy_id_pos_path</th>\n",
       "      <th>slurm_id_sorting</th>\n",
       "      <th>query_key</th>\n",
       "    </tr>\n",
       "  </thead>\n",
       "  <tbody>\n",
       "    <tr>\n",
       "      <th>0</th>\n",
       "      <td>585444</td>\n",
       "      <td>1</td>\n",
       "      <td>T170</td>\n",
       "      <td>zhihaol</td>\n",
       "      <td>202</td>\n",
       "      <td>ephys</td>\n",
       "      <td>Thomas/T170/T170_2018_03_16</td>\n",
       "      <td>Thomas/T170/T170_2018_03_16_600s/spikesort_202...</td>\n",
       "      <td>fc167e0e-3277-11ec-9e4f-3df4ed83d858</td>\n",
       "      <td>None</td>\n",
       "      <td>None</td>\n",
       "      <td>{'sessid': 585444}</td>\n",
       "    </tr>\n",
       "    <tr>\n",
       "      <th>1</th>\n",
       "      <td>585488</td>\n",
       "      <td>0</td>\n",
       "      <td>T173</td>\n",
       "      <td>zhihaol</td>\n",
       "      <td>202</td>\n",
       "      <td>ephys</td>\n",
       "      <td>Thomas/T173/T173_bank1_2018_03_16</td>\n",
       "      <td>Thomas/T173/T173_2018_03_16_bank1_600s/spikeso...</td>\n",
       "      <td>None</td>\n",
       "      <td>None</td>\n",
       "      <td>None</td>\n",
       "      <td>{'sessid': 585488}</td>\n",
       "    </tr>\n",
       "    <tr>\n",
       "      <th>2</th>\n",
       "      <td>586335</td>\n",
       "      <td>0</td>\n",
       "      <td>T170</td>\n",
       "      <td>zhihaol</td>\n",
       "      <td>202</td>\n",
       "      <td>ephys</td>\n",
       "      <td>Thomas/T170/T170_2018_03_19</td>\n",
       "      <td>Thomas/T170/T170_2018_03_19/spikesort_2020_09_...</td>\n",
       "      <td>None</td>\n",
       "      <td>None</td>\n",
       "      <td>None</td>\n",
       "      <td>{'sessid': 586335}</td>\n",
       "    </tr>\n",
       "    <tr>\n",
       "      <th>3</th>\n",
       "      <td>586376</td>\n",
       "      <td>0</td>\n",
       "      <td>T173</td>\n",
       "      <td>zhihaol</td>\n",
       "      <td>202</td>\n",
       "      <td>ephys</td>\n",
       "      <td>Thomas/T173/T173_bank0_2018_03_19</td>\n",
       "      <td>Thomas/T173/T173_2018_03_19_bank0_600s/spikeso...</td>\n",
       "      <td>None</td>\n",
       "      <td>None</td>\n",
       "      <td>None</td>\n",
       "      <td>{'sessid': 586376}</td>\n",
       "    </tr>\n",
       "    <tr>\n",
       "      <th>4</th>\n",
       "      <td>590577</td>\n",
       "      <td>0</td>\n",
       "      <td>T170</td>\n",
       "      <td>zhihaol</td>\n",
       "      <td>202</td>\n",
       "      <td>ephys</td>\n",
       "      <td>Thomas/T170/T170_2018_04_05</td>\n",
       "      <td>Thomas/T170/T170_2018_04_05/spikesort_2020_09_...</td>\n",
       "      <td>None</td>\n",
       "      <td>None</td>\n",
       "      <td>None</td>\n",
       "      <td>{'sessid': 590577}</td>\n",
       "    </tr>\n",
       "  </tbody>\n",
       "</table>\n",
       "</div>"
      ],
      "text/plain": [
       "   sessid  status_pipeline session_rat session_userid  session_rigid  \\\n",
       "0  585444                1        T170        zhihaol            202   \n",
       "1  585488                0        T173        zhihaol            202   \n",
       "2  586335                0        T170        zhihaol            202   \n",
       "3  586376                0        T173        zhihaol            202   \n",
       "4  590577                0        T170        zhihaol            202   \n",
       "\n",
       "  acquisition_type           acquisition_raw_rel_path  \\\n",
       "0            ephys        Thomas/T170/T170_2018_03_16   \n",
       "1            ephys  Thomas/T173/T173_bank1_2018_03_16   \n",
       "2            ephys        Thomas/T170/T170_2018_03_19   \n",
       "3            ephys  Thomas/T173/T173_bank0_2018_03_19   \n",
       "4            ephys        Thomas/T170/T170_2018_04_05   \n",
       "\n",
       "                           acquisition_post_rel_path  \\\n",
       "0  Thomas/T170/T170_2018_03_16_600s/spikesort_202...   \n",
       "1  Thomas/T173/T173_2018_03_16_bank1_600s/spikeso...   \n",
       "2  Thomas/T170/T170_2018_03_19/spikesort_2020_09_...   \n",
       "3  Thomas/T173/T173_2018_03_19_bank0_600s/spikeso...   \n",
       "4  Thomas/T170/T170_2018_04_05/spikesort_2020_09_...   \n",
       "\n",
       "                  task_copy_id_pre_path task_copy_id_pos_path  \\\n",
       "0  fc167e0e-3277-11ec-9e4f-3df4ed83d858                  None   \n",
       "1                                  None                  None   \n",
       "2                                  None                  None   \n",
       "3                                  None                  None   \n",
       "4                                  None                  None   \n",
       "\n",
       "  slurm_id_sorting           query_key  \n",
       "0             None  {'sessid': 585444}  \n",
       "1             None  {'sessid': 585488}  \n",
       "2             None  {'sessid': 586335}  \n",
       "3             None  {'sessid': 586376}  \n",
       "4             None  {'sessid': 590577}  "
      ]
     },
     "execution_count": 21,
     "metadata": {},
     "output_type": "execute_result"
    }
   ],
   "source": [
    "sessions_active = acquisition.AcquisitionSessionsTestAutoPipeline & 'status_pipeline < 7 and status_pipeline >= 0'\n",
    "df_sessions = pd.DataFrame(sessions_active.fetch(as_dict=True))\n",
    "\n",
    "#Add a column to have a key dictionary as a new column\n",
    "key_list = dj_short.get_primary_key_fields(acquisition.AcquisitionSessionsTestAutoPipeline)\n",
    "df_sessions['query_key'] = df_sessions.loc[:, key_list].to_dict(orient='records')\n",
    "df_sessions"
   ]
  },
  {
   "cell_type": "code",
   "execution_count": 17,
   "metadata": {},
   "outputs": [
    {
     "data": {
      "text/html": [
       "<div>\n",
       "<style scoped>\n",
       "    .dataframe tbody tr th:only-of-type {\n",
       "        vertical-align: middle;\n",
       "    }\n",
       "\n",
       "    .dataframe tbody tr th {\n",
       "        vertical-align: top;\n",
       "    }\n",
       "\n",
       "    .dataframe thead th {\n",
       "        text-align: right;\n",
       "    }\n",
       "</style>\n",
       "<table border=\"1\" class=\"dataframe\">\n",
       "  <thead>\n",
       "    <tr style=\"text-align: right;\">\n",
       "      <th></th>\n",
       "      <th>sessid</th>\n",
       "      <th>status_pipeline</th>\n",
       "      <th>session_rat</th>\n",
       "      <th>session_userid</th>\n",
       "      <th>session_rigid</th>\n",
       "      <th>acquisition_type</th>\n",
       "      <th>acquisition_raw_rel_path</th>\n",
       "      <th>acquisition_post_rel_path</th>\n",
       "      <th>task_copy_id_pre_path</th>\n",
       "      <th>task_copy_id_pos_path</th>\n",
       "      <th>slurm_id_sorting</th>\n",
       "      <th>query_key</th>\n",
       "    </tr>\n",
       "  </thead>\n",
       "  <tbody>\n",
       "    <tr>\n",
       "      <th>0</th>\n",
       "      <td>585444</td>\n",
       "      <td>0</td>\n",
       "      <td>T170</td>\n",
       "      <td>zhihaol</td>\n",
       "      <td>202</td>\n",
       "      <td>ephys</td>\n",
       "      <td>Thomas/T170/T170_2018_03_16</td>\n",
       "      <td>Thomas/T170/T170_2018_03_16_600s/spikesort_202...</td>\n",
       "      <td>None</td>\n",
       "      <td>None</td>\n",
       "      <td>None</td>\n",
       "      <td>{'sessid': 585444}</td>\n",
       "    </tr>\n",
       "    <tr>\n",
       "      <th>1</th>\n",
       "      <td>585488</td>\n",
       "      <td>0</td>\n",
       "      <td>T173</td>\n",
       "      <td>zhihaol</td>\n",
       "      <td>202</td>\n",
       "      <td>ephys</td>\n",
       "      <td>Thomas/T173/T173_bank1_2018_03_16</td>\n",
       "      <td>Thomas/T173/T173_2018_03_16_bank1_600s/spikeso...</td>\n",
       "      <td>None</td>\n",
       "      <td>None</td>\n",
       "      <td>None</td>\n",
       "      <td>{'sessid': 585488}</td>\n",
       "    </tr>\n",
       "    <tr>\n",
       "      <th>2</th>\n",
       "      <td>586335</td>\n",
       "      <td>0</td>\n",
       "      <td>T170</td>\n",
       "      <td>zhihaol</td>\n",
       "      <td>202</td>\n",
       "      <td>ephys</td>\n",
       "      <td>Thomas/T170/T170_2018_03_19</td>\n",
       "      <td>Thomas/T170/T170_2018_03_19/spikesort_2020_09_...</td>\n",
       "      <td>None</td>\n",
       "      <td>None</td>\n",
       "      <td>None</td>\n",
       "      <td>{'sessid': 586335}</td>\n",
       "    </tr>\n",
       "    <tr>\n",
       "      <th>3</th>\n",
       "      <td>586376</td>\n",
       "      <td>0</td>\n",
       "      <td>T173</td>\n",
       "      <td>zhihaol</td>\n",
       "      <td>202</td>\n",
       "      <td>ephys</td>\n",
       "      <td>Thomas/T173/T173_bank0_2018_03_19</td>\n",
       "      <td>Thomas/T173/T173_2018_03_19_bank0_600s/spikeso...</td>\n",
       "      <td>None</td>\n",
       "      <td>None</td>\n",
       "      <td>None</td>\n",
       "      <td>{'sessid': 586376}</td>\n",
       "    </tr>\n",
       "    <tr>\n",
       "      <th>4</th>\n",
       "      <td>590577</td>\n",
       "      <td>0</td>\n",
       "      <td>T170</td>\n",
       "      <td>zhihaol</td>\n",
       "      <td>202</td>\n",
       "      <td>ephys</td>\n",
       "      <td>Thomas/T170/T170_2018_04_05</td>\n",
       "      <td>Thomas/T170/T170_2018_04_05/spikesort_2020_09_...</td>\n",
       "      <td>None</td>\n",
       "      <td>None</td>\n",
       "      <td>None</td>\n",
       "      <td>{'sessid': 590577}</td>\n",
       "    </tr>\n",
       "  </tbody>\n",
       "</table>\n",
       "</div>"
      ],
      "text/plain": [
       "   sessid  status_pipeline session_rat session_userid  session_rigid  \\\n",
       "0  585444                0        T170        zhihaol            202   \n",
       "1  585488                0        T173        zhihaol            202   \n",
       "2  586335                0        T170        zhihaol            202   \n",
       "3  586376                0        T173        zhihaol            202   \n",
       "4  590577                0        T170        zhihaol            202   \n",
       "\n",
       "  acquisition_type           acquisition_raw_rel_path  \\\n",
       "0            ephys        Thomas/T170/T170_2018_03_16   \n",
       "1            ephys  Thomas/T173/T173_bank1_2018_03_16   \n",
       "2            ephys        Thomas/T170/T170_2018_03_19   \n",
       "3            ephys  Thomas/T173/T173_bank0_2018_03_19   \n",
       "4            ephys        Thomas/T170/T170_2018_04_05   \n",
       "\n",
       "                           acquisition_post_rel_path task_copy_id_pre_path  \\\n",
       "0  Thomas/T170/T170_2018_03_16_600s/spikesort_202...                  None   \n",
       "1  Thomas/T173/T173_2018_03_16_bank1_600s/spikeso...                  None   \n",
       "2  Thomas/T170/T170_2018_03_19/spikesort_2020_09_...                  None   \n",
       "3  Thomas/T173/T173_2018_03_19_bank0_600s/spikeso...                  None   \n",
       "4  Thomas/T170/T170_2018_04_05/spikesort_2020_09_...                  None   \n",
       "\n",
       "  task_copy_id_pos_path slurm_id_sorting           query_key  \n",
       "0                  None             None  {'sessid': 585444}  \n",
       "1                  None             None  {'sessid': 585488}  \n",
       "2                  None             None  {'sessid': 586335}  \n",
       "3                  None             None  {'sessid': 586376}  \n",
       "4                  None             None  {'sessid': 590577}  "
      ]
     },
     "execution_count": 17,
     "metadata": {},
     "output_type": "execute_result"
    }
   ],
   "source": [
    "session_start_df = df_sessions.loc[df_sessions['status_pipeline'] == 0, :]\n",
    "session_start_df = session_start_df.reset_index(drop=True)\n",
    "session_start_df"
   ]
  },
  {
   "cell_type": "code",
   "execution_count": null,
   "metadata": {},
   "outputs": [],
   "source": []
  },
  {
   "cell_type": "code",
   "execution_count": 20,
   "metadata": {},
   "outputs": [
    {
     "name": "stdout",
     "output_type": "stream",
     "text": [
      "['globus', 'transfer', '6ce834d6-ff8a-11e6-bad1-22000b9a448b:/jukebox/archive/brody/RATTER/PhysData/Raw/Ahmed/SpikeGadgets', 'a9df83d2-42f0-11e6-80cf-22000b1701d1:/tigress/alvaros/ephys_raw/Ahmed/SpikeGadgets', '--recursive', '--format', 'json']\n",
      "{'sessid': 585444, 'task_copy_id_pre_path': 'fc167e0e-3277-11ec-9e4f-3df4ed83d858'}\n",
      "{'sessid': 585444, 'status_pipeline': 1}\n"
     ]
    }
   ],
   "source": [
    "#session_start_df.shape[0]\n",
    "for i in range(1):\n",
    "    #raw_rel_path = session_start_df.loc[i, 'acquisition_raw_rel_path']\n",
    "    raw_rel_path = 'Ahmed/SpikeGadgets'\n",
    "    source_ep = pni_ep_id    +':'+ pni_ephys_root_data_dir   + raw_rel_path\n",
    "    dest_ep   = tiger_ep_dir +':'+ tiger_ephys_root_data_dir + raw_rel_path\n",
    "    globus_command = [\"globus\", \"transfer\", source_ep, dest_ep, '--recursive', '--format', 'json']\n",
    "    print(globus_command)\n",
    "    s = subprocess.run(globus_command, capture_output=True)\n",
    "    transfer_request = json.loads(s.stdout.decode('UTF-8'))\n",
    "    if transfer_request['code'] == 'Accepted':\n",
    "        task_id = transfer_request['task_id']\n",
    "        dict_query = session_start_df.loc[i, 'query_key']\n",
    "        dict_update_task_id = dict_query.copy()\n",
    "        dict_update_task_id['task_copy_id_pre_path'] = task_id\n",
    "        dict_update_status = dict_query.copy()\n",
    "        dict_update_status['status_pipeline'] = 1\n",
    "        print(dict_update_task_id)\n",
    "        print(dict_update_status)\n",
    "        acquisition.AcquisitionSessionsTestAutoPipeline.update1(dict_update_task_id)\n",
    "        acquisition.AcquisitionSessionsTestAutoPipeline.update1(dict_update_status)\n",
    "        \n",
    "    "
   ]
  },
  {
   "cell_type": "code",
   "execution_count": 22,
   "metadata": {},
   "outputs": [
    {
     "data": {
      "text/html": [
       "<div>\n",
       "<style scoped>\n",
       "    .dataframe tbody tr th:only-of-type {\n",
       "        vertical-align: middle;\n",
       "    }\n",
       "\n",
       "    .dataframe tbody tr th {\n",
       "        vertical-align: top;\n",
       "    }\n",
       "\n",
       "    .dataframe thead th {\n",
       "        text-align: right;\n",
       "    }\n",
       "</style>\n",
       "<table border=\"1\" class=\"dataframe\">\n",
       "  <thead>\n",
       "    <tr style=\"text-align: right;\">\n",
       "      <th></th>\n",
       "      <th>sessid</th>\n",
       "      <th>status_pipeline</th>\n",
       "      <th>session_rat</th>\n",
       "      <th>session_userid</th>\n",
       "      <th>session_rigid</th>\n",
       "      <th>acquisition_type</th>\n",
       "      <th>acquisition_raw_rel_path</th>\n",
       "      <th>acquisition_post_rel_path</th>\n",
       "      <th>task_copy_id_pre_path</th>\n",
       "      <th>task_copy_id_pos_path</th>\n",
       "      <th>slurm_id_sorting</th>\n",
       "      <th>query_key</th>\n",
       "    </tr>\n",
       "  </thead>\n",
       "  <tbody>\n",
       "    <tr>\n",
       "      <th>0</th>\n",
       "      <td>585444</td>\n",
       "      <td>1</td>\n",
       "      <td>T170</td>\n",
       "      <td>zhihaol</td>\n",
       "      <td>202</td>\n",
       "      <td>ephys</td>\n",
       "      <td>Thomas/T170/T170_2018_03_16</td>\n",
       "      <td>Thomas/T170/T170_2018_03_16_600s/spikesort_202...</td>\n",
       "      <td>fc167e0e-3277-11ec-9e4f-3df4ed83d858</td>\n",
       "      <td>None</td>\n",
       "      <td>None</td>\n",
       "      <td>{'sessid': 585444}</td>\n",
       "    </tr>\n",
       "  </tbody>\n",
       "</table>\n",
       "</div>"
      ],
      "text/plain": [
       "   sessid  status_pipeline session_rat session_userid  session_rigid  \\\n",
       "0  585444                1        T170        zhihaol            202   \n",
       "\n",
       "  acquisition_type     acquisition_raw_rel_path  \\\n",
       "0            ephys  Thomas/T170/T170_2018_03_16   \n",
       "\n",
       "                           acquisition_post_rel_path  \\\n",
       "0  Thomas/T170/T170_2018_03_16_600s/spikesort_202...   \n",
       "\n",
       "                  task_copy_id_pre_path task_copy_id_pos_path  \\\n",
       "0  fc167e0e-3277-11ec-9e4f-3df4ed83d858                  None   \n",
       "\n",
       "  slurm_id_sorting           query_key  \n",
       "0             None  {'sessid': 585444}  "
      ]
     },
     "execution_count": 22,
     "metadata": {},
     "output_type": "execute_result"
    }
   ],
   "source": [
    "session_stat_1 = df_sessions.loc[df_sessions['status_pipeline'] == 1, :]\n",
    "session_stat_1 = session_stat_1.reset_index(drop=True)\n",
    "session_stat_1"
   ]
  },
  {
   "cell_type": "code",
   "execution_count": 29,
   "metadata": {},
   "outputs": [
    {
     "name": "stdout",
     "output_type": "stream",
     "text": [
      "['globus', 'task', 'show', 'fc167e0e-3277-11ec-9e4f-3df4ed83d858', '--format', 'json']\n"
     ]
    },
    {
     "data": {
      "text/plain": [
       "{'bytes_checksummed': 0,\n",
       " 'bytes_transferred': 0,\n",
       " 'canceled_by_admin': None,\n",
       " 'canceled_by_admin_message': None,\n",
       " 'command': 'API 0.10',\n",
       " 'completion_time': '2021-10-21T14:05:48+00:00',\n",
       " 'deadline': '2021-10-22T14:05:46+00:00',\n",
       " 'delete_destination_extra': False,\n",
       " 'destination_endpoint': 'princeton#tigress-dtn',\n",
       " 'destination_endpoint_display_name': 'Princeton TIGRESS',\n",
       " 'destination_endpoint_id': 'a9df83d2-42f0-11e6-80cf-22000b1701d1',\n",
       " 'directories': 1,\n",
       " 'effective_bytes_per_second': 0,\n",
       " 'encrypt_data': True,\n",
       " 'fail_on_quota_errors': False,\n",
       " 'fatal_error': None,\n",
       " 'faults': 0,\n",
       " 'files': 0,\n",
       " 'files_skipped': 0,\n",
       " 'files_transferred': 0,\n",
       " 'filter_rules': None,\n",
       " 'history_deleted': False,\n",
       " 'is_ok': None,\n",
       " 'is_paused': False,\n",
       " 'label': None,\n",
       " 'nice_status': None,\n",
       " 'nice_status_details': None,\n",
       " 'nice_status_expires_in': None,\n",
       " 'nice_status_short_description': None,\n",
       " 'owner_id': 'a05c014a-be74-4701-9db3-abbb57b57f8c',\n",
       " 'preserve_timestamp': False,\n",
       " 'recursive_symlinks': 'ignore',\n",
       " 'request_time': '2021-10-21T14:05:46+00:00',\n",
       " 'skip_source_errors': False,\n",
       " 'source_endpoint': 'princeton#pni-dtn',\n",
       " 'source_endpoint_display_name': 'Princeton Neuroscience Institute DTN',\n",
       " 'source_endpoint_id': '6ce834d6-ff8a-11e6-bad1-22000b9a448b',\n",
       " 'status': 'SUCCEEDED',\n",
       " 'subtasks_canceled': 0,\n",
       " 'subtasks_expired': 0,\n",
       " 'subtasks_failed': 0,\n",
       " 'subtasks_pending': 0,\n",
       " 'subtasks_retrying': 0,\n",
       " 'subtasks_skipped_errors': 0,\n",
       " 'subtasks_succeeded': 2,\n",
       " 'subtasks_total': 2,\n",
       " 'symlinks': 0,\n",
       " 'sync_level': None,\n",
       " 'task_id': 'fc167e0e-3277-11ec-9e4f-3df4ed83d858',\n",
       " 'type': 'TRANSFER',\n",
       " 'username': 'u_uboacsv6ordqdhntvo5vpnl7rq',\n",
       " 'verify_checksum': True}"
      ]
     },
     "execution_count": 29,
     "metadata": {},
     "output_type": "execute_result"
    }
   ],
   "source": [
    "#session_start_df.shape[0]\n",
    "for i in range(1):\n",
    "    \n",
    "    id_task = session_stat_1.loc[i, 'task_copy_id_pre_path']\n",
    "    raw_rel_path = 'Ahmed/SpikeGadgets'\n",
    "    source_ep = pni_ep_id    +':'+ pni_ephys_root_data_dir   + raw_rel_path\n",
    "    dest_ep   = tiger_ep_dir +':'+ tiger_ephys_root_data_dir + raw_rel_path\n",
    "    globus_command = [\"globus\", \"task\", \"show\", str(id_task), '--format', 'json']\n",
    "    print(globus_command)\n",
    "    s = subprocess.run(globus_command, capture_output=True)\n",
    "    transfer_request = json.loads(s.stdout.decode('UTF-8'))\n",
    "    if transfer_request['status'] == 'SUCCEEDED':\n",
    "        dict_query = session_start_df.loc[i, 'query_key']\n",
    "        dict_update_status = dict_query.copy()\n",
    "        dict_update_status['status_pipeline'] = 2\n",
    "        acquisition.AcquisitionSessionsTestAutoPipeline.update1(dict_update_status)\n",
    "        \n",
    "request_dir"
   ]
  },
  {
   "cell_type": "code",
   "execution_count": 30,
   "metadata": {},
   "outputs": [
    {
     "data": {
      "text/html": [
       "<div>\n",
       "<style scoped>\n",
       "    .dataframe tbody tr th:only-of-type {\n",
       "        vertical-align: middle;\n",
       "    }\n",
       "\n",
       "    .dataframe tbody tr th {\n",
       "        vertical-align: top;\n",
       "    }\n",
       "\n",
       "    .dataframe thead th {\n",
       "        text-align: right;\n",
       "    }\n",
       "</style>\n",
       "<table border=\"1\" class=\"dataframe\">\n",
       "  <thead>\n",
       "    <tr style=\"text-align: right;\">\n",
       "      <th></th>\n",
       "      <th>sessid</th>\n",
       "      <th>status_pipeline</th>\n",
       "      <th>session_rat</th>\n",
       "      <th>session_userid</th>\n",
       "      <th>session_rigid</th>\n",
       "      <th>acquisition_type</th>\n",
       "      <th>acquisition_raw_rel_path</th>\n",
       "      <th>acquisition_post_rel_path</th>\n",
       "      <th>task_copy_id_pre_path</th>\n",
       "      <th>task_copy_id_pos_path</th>\n",
       "      <th>slurm_id_sorting</th>\n",
       "    </tr>\n",
       "  </thead>\n",
       "  <tbody>\n",
       "    <tr>\n",
       "      <th>0</th>\n",
       "      <td>585444</td>\n",
       "      <td>2</td>\n",
       "      <td>T170</td>\n",
       "      <td>zhihaol</td>\n",
       "      <td>202</td>\n",
       "      <td>ephys</td>\n",
       "      <td>Thomas/T170/T170_2018_03_16</td>\n",
       "      <td>Thomas/T170/T170_2018_03_16_600s/spikesort_202...</td>\n",
       "      <td>fc167e0e-3277-11ec-9e4f-3df4ed83d858</td>\n",
       "      <td>None</td>\n",
       "      <td>None</td>\n",
       "    </tr>\n",
       "    <tr>\n",
       "      <th>1</th>\n",
       "      <td>585488</td>\n",
       "      <td>0</td>\n",
       "      <td>T173</td>\n",
       "      <td>zhihaol</td>\n",
       "      <td>202</td>\n",
       "      <td>ephys</td>\n",
       "      <td>Thomas/T173/T173_bank1_2018_03_16</td>\n",
       "      <td>Thomas/T173/T173_2018_03_16_bank1_600s/spikeso...</td>\n",
       "      <td>None</td>\n",
       "      <td>None</td>\n",
       "      <td>None</td>\n",
       "    </tr>\n",
       "    <tr>\n",
       "      <th>2</th>\n",
       "      <td>586335</td>\n",
       "      <td>0</td>\n",
       "      <td>T170</td>\n",
       "      <td>zhihaol</td>\n",
       "      <td>202</td>\n",
       "      <td>ephys</td>\n",
       "      <td>Thomas/T170/T170_2018_03_19</td>\n",
       "      <td>Thomas/T170/T170_2018_03_19/spikesort_2020_09_...</td>\n",
       "      <td>None</td>\n",
       "      <td>None</td>\n",
       "      <td>None</td>\n",
       "    </tr>\n",
       "    <tr>\n",
       "      <th>3</th>\n",
       "      <td>586376</td>\n",
       "      <td>0</td>\n",
       "      <td>T173</td>\n",
       "      <td>zhihaol</td>\n",
       "      <td>202</td>\n",
       "      <td>ephys</td>\n",
       "      <td>Thomas/T173/T173_bank0_2018_03_19</td>\n",
       "      <td>Thomas/T173/T173_2018_03_19_bank0_600s/spikeso...</td>\n",
       "      <td>None</td>\n",
       "      <td>None</td>\n",
       "      <td>None</td>\n",
       "    </tr>\n",
       "    <tr>\n",
       "      <th>4</th>\n",
       "      <td>590577</td>\n",
       "      <td>0</td>\n",
       "      <td>T170</td>\n",
       "      <td>zhihaol</td>\n",
       "      <td>202</td>\n",
       "      <td>ephys</td>\n",
       "      <td>Thomas/T170/T170_2018_04_05</td>\n",
       "      <td>Thomas/T170/T170_2018_04_05/spikesort_2020_09_...</td>\n",
       "      <td>None</td>\n",
       "      <td>None</td>\n",
       "      <td>None</td>\n",
       "    </tr>\n",
       "  </tbody>\n",
       "</table>\n",
       "</div>"
      ],
      "text/plain": [
       "   sessid  status_pipeline session_rat session_userid  session_rigid  \\\n",
       "0  585444                2        T170        zhihaol            202   \n",
       "1  585488                0        T173        zhihaol            202   \n",
       "2  586335                0        T170        zhihaol            202   \n",
       "3  586376                0        T173        zhihaol            202   \n",
       "4  590577                0        T170        zhihaol            202   \n",
       "\n",
       "  acquisition_type           acquisition_raw_rel_path  \\\n",
       "0            ephys        Thomas/T170/T170_2018_03_16   \n",
       "1            ephys  Thomas/T173/T173_bank1_2018_03_16   \n",
       "2            ephys        Thomas/T170/T170_2018_03_19   \n",
       "3            ephys  Thomas/T173/T173_bank0_2018_03_19   \n",
       "4            ephys        Thomas/T170/T170_2018_04_05   \n",
       "\n",
       "                           acquisition_post_rel_path  \\\n",
       "0  Thomas/T170/T170_2018_03_16_600s/spikesort_202...   \n",
       "1  Thomas/T173/T173_2018_03_16_bank1_600s/spikeso...   \n",
       "2  Thomas/T170/T170_2018_03_19/spikesort_2020_09_...   \n",
       "3  Thomas/T173/T173_2018_03_19_bank0_600s/spikeso...   \n",
       "4  Thomas/T170/T170_2018_04_05/spikesort_2020_09_...   \n",
       "\n",
       "                  task_copy_id_pre_path task_copy_id_pos_path slurm_id_sorting  \n",
       "0  fc167e0e-3277-11ec-9e4f-3df4ed83d858                  None             None  \n",
       "1                                  None                  None             None  \n",
       "2                                  None                  None             None  \n",
       "3                                  None                  None             None  \n",
       "4                                  None                  None             None  "
      ]
     },
     "execution_count": 30,
     "metadata": {},
     "output_type": "execute_result"
    }
   ],
   "source": [
    "sessions_active = acquisition.AcquisitionSessionsTestAutoPipeline & 'status_pipeline < 7 and status_pipeline >= 0'\n",
    "df_sessions = pd.DataFrame(sessions_active.fetch(as_dict=True))\n",
    "df_sessions"
   ]
  },
  {
   "cell_type": "code",
   "execution_count": null,
   "metadata": {},
   "outputs": [],
   "source": [
    "meso = json.loads(meesage)\n",
    "meso"
   ]
  },
  {
   "cell_type": "code",
   "execution_count": null,
   "metadata": {},
   "outputs": [],
   "source": [
    "s.stdout.decode('UTF-8')"
   ]
  },
  {
   "cell_type": "code",
   "execution_count": null,
   "metadata": {},
   "outputs": [],
   "source": [
    "so ='Message: The transfer has been accepted and a task has been created and queued for execution\\nTask ID: 48e1405e-31f4-11ec-95e6-853490a236f9\\n'\n",
    "so"
   ]
  },
  {
   "cell_type": "code",
   "execution_count": null,
   "metadata": {},
   "outputs": [],
   "source": [
    "s.stderr"
   ]
  },
  {
   "cell_type": "code",
   "execution_count": null,
   "metadata": {},
   "outputs": [],
   "source": []
  }
 ],
 "metadata": {
  "interpreter": {
   "hash": "ad2050938946b9745fdc6507c7561603613194cae6ce583d2036ae212150e70f"
  },
  "kernelspec": {
   "display_name": "Python 3 (ipykernel)",
   "language": "python",
   "name": "python3"
  },
  "language_info": {
   "codemirror_mode": {
    "name": "ipython",
    "version": 3
   },
   "file_extension": ".py",
   "mimetype": "text/x-python",
   "name": "python",
   "nbconvert_exporter": "python",
   "pygments_lexer": "ipython3",
   "version": "3.7.11"
  }
 },
 "nbformat": 4,
 "nbformat_minor": 4
}
