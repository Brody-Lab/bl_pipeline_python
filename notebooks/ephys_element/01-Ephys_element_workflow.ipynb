{
 "cells": [
  {
   "cell_type": "markdown",
   "source": [
    "# Run ephys element workflow"
   ],
   "metadata": {}
  },
  {
   "cell_type": "markdown",
   "source": [
    "This notebook walks you through the steps to run the ephys workflow.  \n",
    "The workflow requires neuropixels meta file and kilosort output data. To configure the paths properly, refer to [00-Set_up_the_configuration_file](./00-Set_up_the_configuration_file.ipynb)"
   ],
   "metadata": {}
  },
  {
   "cell_type": "markdown",
   "source": [
    "To load the local configuration, we will change the directory to the package root."
   ],
   "metadata": {}
  },
  {
   "cell_type": "code",
   "execution_count": 1,
   "source": [
    "from scripts.conf_file_finding import try_find_conf_file\r\n",
    "try_find_conf_file()"
   ],
   "outputs": [
    {
     "output_type": "stream",
     "name": "stdout",
     "text": [
      "Local configuration file found !!, no need to run the configuration (unless configuration has changed)\n"
     ]
    }
   ],
   "metadata": {}
  },
  {
   "cell_type": "markdown",
   "source": [
    "\n",
    "Let's start by importing the relevant modules."
   ],
   "metadata": {}
  },
  {
   "cell_type": "code",
   "execution_count": 2,
   "source": [
    "import datajoint as dj\r\n",
    "from bl_pipeline import lab, subject, acquisition\r\n",
    "from bl_pipeline.ephys_element import ephys_element, probe_element, get_session_cluster_rel_directory"
   ],
   "outputs": [
    {
     "output_type": "stream",
     "name": "stdout",
     "text": [
      "Connecting alvaros@datajoint01.pni.princeton.edu:3306\n"
     ]
    }
   ],
   "metadata": {}
  },
  {
   "cell_type": "markdown",
   "source": [
    "# Pipeline structure"
   ],
   "metadata": {}
  },
  {
   "cell_type": "markdown",
   "source": [
    "### + dj.Diagram is a useful command to visualize the workflow structure and table dependencies.\n",
    "### + Two element modules have been installed into `bl_pipeline`: `probe_element` and `ephys_element`"
   ],
   "metadata": {
    "lines_to_next_cell": 0,
    "title": "`dj.Diagram` enables checking pipeline structure and table dependencies."
   }
  },
  {
   "cell_type": "code",
   "execution_count": 3,
   "source": [
    "dj.Diagram(subject.Rats) + dj.Diagram(acquisition.Sessions) + dj.Diagram(probe_element) + dj.Diagram(ephys_element)"
   ],
   "outputs": [
    {
     "output_type": "execute_result",
     "data": {
      "text/plain": [
       "<datajoint.diagram.Diagram at 0x22009814888>"
      ],
      "image/svg+xml": "<svg height=\"737pt\" viewBox=\"0.00 0.00 1566.91 737.00\" width=\"1567pt\" xmlns=\"http://www.w3.org/2000/svg\" xmlns:xlink=\"http://www.w3.org/1999/xlink\">\n<g class=\"graph\" id=\"graph0\" transform=\"scale(1 1) rotate(0) translate(4 733)\">\n<polygon fill=\"white\" points=\"-4,4 -4,-733 1562.91,-733 1562.91,4 -4,4\" stroke=\"transparent\"/>\n<!-- `bl_new_ephys_element`.`_cluster_quality_metrics` -->\n<g class=\"node\" id=\"node1\">\n<title>`bl_new_ephys_element`.`_cluster_quality_metrics`</title>\n<ellipse cx=\"1352.5\" cy=\"-72.5\" fill=\"#00007f\" fill-opacity=\"0.250980\" rx=\"176\" ry=\"17.5\" stroke=\"#00007f\" stroke-opacity=\"0.250980\"/>\n<text fill=\"#00007f\" fill-opacity=\"0.627451\" font-family=\"arial\" font-size=\"12.00\" text-anchor=\"middle\" x=\"1352.5\" y=\"-69.4\">`bl_new_ephys_element`.`_cluster_quality_metrics`</text>\n</g>\n<!-- `bl_new_ephys_element`.`_waveform` -->\n<g class=\"node\" id=\"node2\">\n<title>`bl_new_ephys_element`.`_waveform`</title>\n<ellipse cx=\"1024.5\" cy=\"-72.5\" fill=\"#00007f\" fill-opacity=\"0.250980\" rx=\"133.5\" ry=\"17.5\" stroke=\"#00007f\" stroke-opacity=\"0.250980\"/>\n<text fill=\"#00007f\" fill-opacity=\"0.627451\" font-family=\"arial\" font-size=\"12.00\" text-anchor=\"middle\" x=\"1024.5\" y=\"-69.4\">`bl_new_ephys_element`.`_waveform`</text>\n</g>\n<!-- `bl_new_ephys_element`.`_waveform__electrode` -->\n<g class=\"node\" id=\"node3\">\n<title>`bl_new_ephys_element`.`_waveform__electrode`</title>\n<polygon fill=\"transparent\" points=\"1404.5,-19 1176.5,-19 1176.5,0 1404.5,0 1404.5,-19\" stroke=\"transparent\"/>\n<text font-family=\"arial\" font-size=\"10.00\" text-anchor=\"middle\" x=\"1290.5\" y=\"-7\">`bl_new_ephys_element`.`_waveform__electrode`</text>\n</g>\n<!-- `bl_new_ephys_element`.`_waveform`&#45;&gt;`bl_new_ephys_element`.`_waveform__electrode` -->\n<g class=\"edge\" id=\"edge1\">\n<title>`bl_new_ephys_element`.`_waveform`-&gt;`bl_new_ephys_element`.`_waveform__electrode`</title>\n<path d=\"M1087.54,-57.04C1139.16,-45.21 1210.44,-28.86 1253.34,-19.02\" fill=\"none\" stroke=\"#000000\" stroke-opacity=\"0.250980\" stroke-width=\"0.75\"/>\n</g>\n<!-- subject.Rats -->\n<g class=\"node\" id=\"node4\">\n<title>subject.Rats</title>\n<g id=\"a_node4\"><a xlink:title=\"ratname              \r\n------------------------------\r\n→ lab.Contacts\r\nrats_old_id=null     \r\nfree=0               \r\ncomments=null        \r\nvendor=&quot;Taconic&quot;     \r\nwaterperday=30.0     \r\nrecovering=0         \r\ndeliverydate=null    \r\nextant=0             \r\ncagemate=null        \r\nforce_free_water=0   \r\ndate_sac=null        \r\nforce_dep_water=0    \r\nlarid=null           \r\nisrat=1              \r\n\">\n<polygon fill=\"#00ff00\" fill-opacity=\"0.188235\" points=\"383.5,-658 303.5,-658 303.5,-623 383.5,-623 383.5,-658\" stroke=\"#00ff00\" stroke-opacity=\"0.188235\"/>\n<text fill=\"darkgreen\" font-family=\"arial\" font-size=\"12.00\" text-anchor=\"start\" text-decoration=\"underline\" x=\"311.5\" y=\"-638.4\">subject.Rats</text>\n</a>\n</g>\n</g>\n<!-- ephys_element.ProbeInsertion -->\n<g class=\"node\" id=\"node10\">\n<title>ephys_element.ProbeInsertion</title>\n<g id=\"a_node10\"><a xlink:title=\"→ subject.Rats\r\ninsertion_number     \r\n------------------------------\r\n→ probe_element.Probe\r\ninsertion_datetime=null \r\n\">\n<polygon fill=\"#00ff00\" fill-opacity=\"0.188235\" points=\"430.5,-587 256.5,-587 256.5,-552 430.5,-552 430.5,-587\" stroke=\"#00ff00\" stroke-opacity=\"0.188235\"/>\n<text fill=\"darkgreen\" font-family=\"arial\" font-size=\"12.00\" text-anchor=\"start\" text-decoration=\"underline\" x=\"264.5\" y=\"-567.4\">ephys_element.ProbeInsertion</text>\n</a>\n</g>\n</g>\n<!-- subject.Rats&#45;&gt;ephys_element.ProbeInsertion -->\n<g class=\"edge\" id=\"edge2\">\n<title>subject.Rats-&gt;ephys_element.ProbeInsertion</title>\n<path d=\"M343.5,-622.8C343.5,-611.95 343.5,-597.87 343.5,-587.05\" fill=\"none\" stroke=\"#000000\" stroke-opacity=\"0.250980\" stroke-width=\"0.75\"/>\n</g>\n<!-- probe_element.ProbeType.Electrode -->\n<g class=\"node\" id=\"node5\">\n<title>probe_element.ProbeType.Electrode</title>\n<g id=\"a_node5\"><a xlink:title=\"→ probe_element.ProbeType\r\nelectrode            \r\n------------------------------\r\nshank                \r\nshank_col            \r\nshank_row            \r\nx_coord=null         \r\ny_coord=null         \r\n\">\n<polygon fill=\"transparent\" points=\"1068.5,-650 894.5,-650 894.5,-631 1068.5,-631 1068.5,-650\" stroke=\"transparent\"/>\n<text font-family=\"arial\" font-size=\"10.00\" text-anchor=\"start\" text-decoration=\"underline\" x=\"902.5\" y=\"-639\">probe_element.ProbeType.Electrode</text>\n</a>\n</g>\n</g>\n<!-- probe_element.ElectrodeConfig.Electrode -->\n<g class=\"node\" id=\"node8\">\n<title>probe_element.ElectrodeConfig.Electrode</title>\n<g id=\"a_node8\"><a xlink:title=\"→ probe_element.ElectrodeConfig\r\n→ probe_element.ProbeType.Electrode\r\n\">\n<polygon fill=\"transparent\" points=\"990.5,-437 794.5,-437 794.5,-418 990.5,-418 990.5,-437\" stroke=\"transparent\"/>\n<text font-family=\"arial\" font-size=\"10.00\" text-anchor=\"middle\" x=\"892.5\" y=\"-425\">probe_element.ElectrodeConfig.Electrode</text>\n</a>\n</g>\n</g>\n<!-- probe_element.ProbeType.Electrode&#45;&gt;probe_element.ElectrodeConfig.Electrode -->\n<g class=\"edge\" id=\"edge3\">\n<title>probe_element.ProbeType.Electrode-&gt;probe_element.ElectrodeConfig.Electrode</title>\n<path d=\"M980.5,-630.81C978.45,-614.79 973.09,-579.74 962.5,-552 944.92,-505.95 912.08,-456.48 898.56,-437.03\" fill=\"none\" stroke=\"#000000\" stroke-opacity=\"0.250980\" stroke-width=\"0.75\"/>\n</g>\n<!-- probe_element.ProbeType -->\n<g class=\"node\" id=\"node6\">\n<title>probe_element.ProbeType</title>\n<g id=\"a_node6\"><a xlink:title=\"probe_type           \r\n\">\n<polygon fill=\"#000000\" fill-opacity=\"0.125490\" points=\"1046.5,-729 916.5,-729 916.5,-694 1046.5,-694 1046.5,-729\" stroke=\"transparent\"/>\n<text font-family=\"arial\" font-size=\"10.00\" text-anchor=\"start\" text-decoration=\"underline\" x=\"924.5\" y=\"-710\">probe_element.ProbeType</text>\n</a>\n</g>\n</g>\n<!-- probe_element.ProbeType&#45;&gt;probe_element.ProbeType.Electrode -->\n<g class=\"edge\" id=\"edge4\">\n<title>probe_element.ProbeType-&gt;probe_element.ProbeType.Electrode</title>\n<path d=\"M981.5,-693.8C981.5,-680.08 981.5,-661.19 981.5,-650.27\" fill=\"none\" stroke=\"#000000\" stroke-opacity=\"0.250980\" stroke-width=\"0.75\"/>\n</g>\n<!-- probe_element.Probe -->\n<g class=\"node\" id=\"node7\">\n<title>probe_element.Probe</title>\n<g id=\"a_node7\"><a xlink:title=\"probe                \r\n------------------------------\r\n→ probe_element.ProbeType\r\nprobe_comment=&quot;&quot;     \r\n\">\n<polygon fill=\"#000000\" fill-opacity=\"0.125490\" points=\"675,-658 566,-658 566,-623 675,-623 675,-658\" stroke=\"transparent\"/>\n<text font-family=\"arial\" font-size=\"10.00\" text-anchor=\"start\" text-decoration=\"underline\" x=\"574\" y=\"-639\">probe_element.Probe</text>\n</a>\n</g>\n</g>\n<!-- probe_element.ProbeType&#45;&gt;probe_element.Probe -->\n<g class=\"edge\" id=\"edge5\">\n<title>probe_element.ProbeType-&gt;probe_element.Probe</title>\n<path d=\"M916.13,-698C847.14,-684.82 739.66,-664.28 675.07,-651.93\" fill=\"none\" stroke=\"#000000\" stroke-dasharray=\"5,2\" stroke-opacity=\"0.250980\" stroke-width=\"0.75\"/>\n</g>\n<!-- probe_element.ElectrodeConfig -->\n<g class=\"node\" id=\"node9\">\n<title>probe_element.ElectrodeConfig</title>\n<g id=\"a_node9\"><a xlink:title=\"electrode_config_hash \r\n------------------------------\r\n→ probe_element.ProbeType\r\nelectrode_config_name \r\n\">\n<polygon fill=\"#000000\" fill-opacity=\"0.125490\" points=\"953.5,-587 801.5,-587 801.5,-552 953.5,-552 953.5,-587\" stroke=\"transparent\"/>\n<text font-family=\"arial\" font-size=\"10.00\" text-anchor=\"start\" text-decoration=\"underline\" x=\"809.5\" y=\"-568\">probe_element.ElectrodeConfig</text>\n</a>\n</g>\n</g>\n<!-- probe_element.ProbeType&#45;&gt;probe_element.ElectrodeConfig -->\n<g class=\"edge\" id=\"edge6\">\n<title>probe_element.ProbeType-&gt;probe_element.ElectrodeConfig</title>\n<path d=\"M930.62,-693.95C913.53,-685.82 896.13,-674.2 885.5,-658 871.52,-636.7 872.38,-605.96 874.66,-587.15\" fill=\"none\" stroke=\"#000000\" stroke-dasharray=\"5,2\" stroke-opacity=\"0.250980\" stroke-width=\"0.75\"/>\n</g>\n<!-- probe_element.Probe&#45;&gt;ephys_element.ProbeInsertion -->\n<g class=\"edge\" id=\"edge7\">\n<title>probe_element.Probe-&gt;ephys_element.ProbeInsertion</title>\n<path d=\"M565.77,-625.87C521,-614.71 457.5,-598.9 409.84,-587.02\" fill=\"none\" stroke=\"#000000\" stroke-dasharray=\"5,2\" stroke-opacity=\"0.250980\" stroke-width=\"0.75\"/>\n</g>\n<!-- probe_element.ElectrodeConfig.Electrode&#45;&gt;`bl_new_ephys_element`.`_waveform__electrode` -->\n<g class=\"edge\" id=\"edge8\">\n<title>probe_element.ElectrodeConfig.Electrode-&gt;`bl_new_ephys_element`.`_waveform__electrode`</title>\n<path d=\"M990.83,-425.94C1175.67,-422.22 1556.5,-400.7 1556.5,-286.5 1556.5,-286.5 1556.5,-286.5 1556.5,-142.5 1556.5,-102.7 1566.14,-82.63 1537.5,-55 1518.1,-36.28 1459.74,-25.26 1404.62,-18.87\" fill=\"none\" stroke=\"#000000\" stroke-opacity=\"0.250980\" stroke-width=\"0.75\"/>\n</g>\n<!-- ephys_element.WaveformSet.Waveform -->\n<g class=\"node\" id=\"node14\">\n<title>ephys_element.WaveformSet.Waveform</title>\n<g id=\"a_node14\"><a xlink:title=\"→ ephys_element.WaveformSet\r\n→ ephys_element.CuratedClustering.Unit\r\n→ probe_element.ElectrodeConfig.Electrode\r\n------------------------------\r\nwaveform_mean        \r\nwaveforms=null       \r\n\">\n<polygon fill=\"transparent\" points=\"642,-82 453,-82 453,-63 642,-63 642,-82\" stroke=\"transparent\"/>\n<text font-family=\"arial\" font-size=\"10.00\" text-anchor=\"middle\" x=\"547.5\" y=\"-70\">ephys_element.WaveformSet.Waveform</text>\n</a>\n</g>\n</g>\n<!-- probe_element.ElectrodeConfig.Electrode&#45;&gt;ephys_element.WaveformSet.Waveform -->\n<g class=\"edge\" id=\"edge9\">\n<title>probe_element.ElectrodeConfig.Electrode-&gt;ephys_element.WaveformSet.Waveform</title>\n<path d=\"M889.47,-417.88C872.91,-370.88 793.08,-146.97 768.5,-126 755.17,-114.63 653.81,-93.74 593.08,-82.03\" fill=\"none\" stroke=\"#000000\" stroke-opacity=\"0.250980\" stroke-width=\"0.75\"/>\n</g>\n<!-- ephys_element.LFP.Electrode -->\n<g class=\"node\" id=\"node17\">\n<title>ephys_element.LFP.Electrode</title>\n<g id=\"a_node17\"><a xlink:title=\"→ ephys_element.LFP\r\n→ probe_element.ElectrodeConfig.Electrode\r\n------------------------------\r\nlfp                  \r\n\">\n<polygon fill=\"transparent\" points=\"774.5,-366 626.5,-366 626.5,-347 774.5,-347 774.5,-366\" stroke=\"transparent\"/>\n<text font-family=\"arial\" font-size=\"10.00\" text-anchor=\"middle\" x=\"700.5\" y=\"-354\">ephys_element.LFP.Electrode</text>\n</a>\n</g>\n</g>\n<!-- probe_element.ElectrodeConfig.Electrode&#45;&gt;ephys_element.LFP.Electrode -->\n<g class=\"edge\" id=\"edge10\">\n<title>probe_element.ElectrodeConfig.Electrode-&gt;ephys_element.LFP.Electrode</title>\n<path d=\"M868.57,-417.9C831.68,-404.64 761.32,-379.36 724.43,-366.1\" fill=\"none\" stroke=\"#000000\" stroke-opacity=\"0.250980\" stroke-width=\"0.75\"/>\n</g>\n<!-- ephys_element.CuratedClustering.Unit -->\n<g class=\"node\" id=\"node21\">\n<title>ephys_element.CuratedClustering.Unit</title>\n<g id=\"a_node21\"><a xlink:title=\"→ ephys_element.CuratedClustering\r\nunit                 \r\n------------------------------\r\n→ probe_element.ElectrodeConfig.Electrode\r\n→ ephys_element.ClusterQualityLabel\r\nspike_count          \r\nspike_times          \r\nspike_sites          \r\nspike_depths         \r\n\">\n<polygon fill=\"transparent\" points=\"1010,-153 827,-153 827,-134 1010,-134 1010,-153\" stroke=\"transparent\"/>\n<text font-family=\"arial\" font-size=\"10.00\" text-anchor=\"start\" text-decoration=\"underline\" x=\"835\" y=\"-142\">ephys_element.CuratedClustering.Unit</text>\n</a>\n</g>\n</g>\n<!-- probe_element.ElectrodeConfig.Electrode&#45;&gt;ephys_element.CuratedClustering.Unit -->\n<g class=\"edge\" id=\"edge11\">\n<title>probe_element.ElectrodeConfig.Electrode-&gt;ephys_element.CuratedClustering.Unit</title>\n<path d=\"M900.33,-417.64C922.81,-391.54 987.37,-311.74 1009.5,-232 1013.66,-217.01 1017.28,-210.47 1009.5,-197 996.55,-174.57 969.96,-160.87 948.86,-153.12\" fill=\"none\" stroke=\"#000000\" stroke-dasharray=\"5,2\" stroke-opacity=\"0.250980\" stroke-width=\"0.75\"/>\n</g>\n<!-- probe_element.ElectrodeConfig&#45;&gt;probe_element.ElectrodeConfig.Electrode -->\n<g class=\"edge\" id=\"edge12\">\n<title>probe_element.ElectrodeConfig-&gt;probe_element.ElectrodeConfig.Electrode</title>\n<path d=\"M879.28,-551.89C882.49,-521.9 889.15,-459.74 891.59,-437.04\" fill=\"none\" stroke=\"#000000\" stroke-opacity=\"0.250980\" stroke-width=\"0.75\"/>\n</g>\n<!-- ephys_element.EphysRecording -->\n<g class=\"node\" id=\"node20\">\n<title>ephys_element.EphysRecording</title>\n<g id=\"a_node20\"><a xlink:title=\"→ acquisition.Sessions\r\n→ ephys_element.ProbeInsertion\r\n------------------------------\r\n→ probe_element.ElectrodeConfig\r\n→ ephys_element.AcquisitionSoftware\r\nsampling_rate        \r\n\">\n<ellipse cx=\"511.5\" cy=\"-498.5\" fill=\"#00007f\" fill-opacity=\"0.250980\" rx=\"115.75\" ry=\"17.5\" stroke=\"#00007f\" stroke-opacity=\"0.250980\"/>\n<text fill=\"#00007f\" fill-opacity=\"0.627451\" font-family=\"arial\" font-size=\"12.00\" text-anchor=\"middle\" x=\"511.5\" y=\"-495.4\">ephys_element.EphysRecording</text>\n</a>\n</g>\n</g>\n<!-- probe_element.ElectrodeConfig&#45;&gt;ephys_element.EphysRecording -->\n<g class=\"edge\" id=\"edge13\">\n<title>probe_element.ElectrodeConfig-&gt;ephys_element.EphysRecording</title>\n<path d=\"M801.22,-554.12C736.27,-541.88 643.77,-524.44 580.88,-512.58\" fill=\"none\" stroke=\"#000000\" stroke-dasharray=\"5,2\" stroke-opacity=\"0.250980\" stroke-width=\"0.75\"/>\n</g>\n<!-- ephys_element.InsertionLocation -->\n<g class=\"node\" id=\"node11\">\n<title>ephys_element.InsertionLocation</title>\n<g id=\"a_node11\"><a xlink:title=\"→ ephys_element.ProbeInsertion\r\n------------------------------\r\n→ `bl_new_lab`.`#skull_reference`\r\nap_location          \r\nml_location          \r\ndepth                \r\ntheta=null           \r\nphi=null             \r\nbeta=null            \r\n\">\n<polygon fill=\"#00ff00\" fill-opacity=\"0.188235\" points=\"378,-516 191,-516 191,-481 378,-481 378,-516\" stroke=\"#00ff00\" stroke-opacity=\"0.188235\"/>\n<text fill=\"darkgreen\" font-family=\"arial\" font-size=\"12.00\" text-anchor=\"middle\" x=\"284.5\" y=\"-495.4\">ephys_element.InsertionLocation</text>\n</a>\n</g>\n</g>\n<!-- ephys_element.ProbeInsertion&#45;&gt;ephys_element.InsertionLocation -->\n<g class=\"edge\" id=\"edge14\">\n<title>ephys_element.ProbeInsertion-&gt;ephys_element.InsertionLocation</title>\n<path d=\"M329.22,-551.8C319.94,-540.95 307.9,-526.87 298.65,-516.05\" fill=\"none\" stroke=\"#000000\" stroke-opacity=\"0.250980\" stroke-width=\"2\"/>\n</g>\n<!-- ephys_element.ProbeInsertion&#45;&gt;ephys_element.EphysRecording -->\n<g class=\"edge\" id=\"edge15\">\n<title>ephys_element.ProbeInsertion-&gt;ephys_element.EphysRecording</title>\n<path d=\"M383.74,-551.97C411.02,-540.77 446.84,-526.06 473.61,-515.06\" fill=\"none\" stroke=\"#000000\" stroke-opacity=\"0.250980\" stroke-width=\"0.75\"/>\n</g>\n<!-- ephys_element.Curation -->\n<g class=\"node\" id=\"node12\">\n<title>ephys_element.Curation</title>\n<g id=\"a_node12\"><a xlink:title=\"→ ephys_element.Clustering\r\ncuration_id          \r\n------------------------------\r\ncuration_time        \r\ncuration_output_dir  \r\nquality_control      \r\nmanual_curation      \r\ncuration_note=&quot;&quot;     \r\n\">\n<polygon fill=\"#00ff00\" fill-opacity=\"0.188235\" points=\"656,-303 513,-303 513,-268 656,-268 656,-303\" stroke=\"#00ff00\" stroke-opacity=\"0.188235\"/>\n<text fill=\"darkgreen\" font-family=\"arial\" font-size=\"12.00\" text-anchor=\"start\" text-decoration=\"underline\" x=\"521\" y=\"-283.4\">ephys_element.Curation</text>\n</a>\n</g>\n</g>\n<!-- ephys_element.CuratedClustering -->\n<g class=\"node\" id=\"node22\">\n<title>ephys_element.CuratedClustering</title>\n<g id=\"a_node22\"><a xlink:title=\"→ ephys_element.Curation\r\n\">\n<ellipse cx=\"653.5\" cy=\"-214.5\" fill=\"#00007f\" fill-opacity=\"0.250980\" rx=\"120.75\" ry=\"17.5\" stroke=\"#00007f\" stroke-opacity=\"0.250980\"/>\n<text fill=\"#00007f\" fill-opacity=\"0.627451\" font-family=\"arial\" font-size=\"12.00\" text-anchor=\"middle\" x=\"653.5\" y=\"-211.4\">ephys_element.CuratedClustering</text>\n</a>\n</g>\n</g>\n<!-- ephys_element.Curation&#45;&gt;ephys_element.CuratedClustering -->\n<g class=\"edge\" id=\"edge16\">\n<title>ephys_element.Curation-&gt;ephys_element.CuratedClustering</title>\n<path d=\"M601.2,-267.8C612.05,-256.95 626.13,-242.87 636.95,-232.05\" fill=\"none\" stroke=\"#000000\" stroke-opacity=\"0.250980\" stroke-width=\"2\"/>\n</g>\n<!-- ephys_element.ClusteringTask -->\n<g class=\"node\" id=\"node13\">\n<title>ephys_element.ClusteringTask</title>\n<g id=\"a_node13\"><a xlink:title=\"→ ephys_element.EphysRecording\r\n→ ephys_element.ClusteringParamSet\r\n------------------------------\r\nclustering_output_dir \r\ntask_mode=&quot;load&quot;     \r\n\">\n<polygon fill=\"#00ff00\" fill-opacity=\"0.188235\" points=\"385.5,-445 209.5,-445 209.5,-410 385.5,-410 385.5,-445\" stroke=\"#00ff00\" stroke-opacity=\"0.188235\"/>\n<text fill=\"darkgreen\" font-family=\"arial\" font-size=\"12.00\" text-anchor=\"middle\" x=\"297.5\" y=\"-424.4\">ephys_element.ClusteringTask</text>\n</a>\n</g>\n</g>\n<!-- ephys_element.Clustering -->\n<g class=\"node\" id=\"node23\">\n<title>ephys_element.Clustering</title>\n<g id=\"a_node23\"><a xlink:title=\"→ ephys_element.ClusteringTask\r\n------------------------------\r\nclustering_time      \r\n\">\n<ellipse cx=\"406.5\" cy=\"-356.5\" fill=\"#00007f\" fill-opacity=\"0.250980\" rx=\"94.25\" ry=\"17.5\" stroke=\"#00007f\" stroke-opacity=\"0.250980\"/>\n<text fill=\"#00007f\" fill-opacity=\"0.627451\" font-family=\"arial\" font-size=\"12.00\" text-anchor=\"middle\" x=\"406.5\" y=\"-353.4\">ephys_element.Clustering</text>\n</a>\n</g>\n</g>\n<!-- ephys_element.ClusteringTask&#45;&gt;ephys_element.Clustering -->\n<g class=\"edge\" id=\"edge17\">\n<title>ephys_element.ClusteringTask-&gt;ephys_element.Clustering</title>\n<path d=\"M323.61,-409.97C341.12,-398.89 364.05,-384.37 381.36,-373.42\" fill=\"none\" stroke=\"#000000\" stroke-opacity=\"0.250980\" stroke-width=\"2\"/>\n</g>\n<!-- ephys_element.WaveformSet.PeakWaveform -->\n<g class=\"node\" id=\"node15\">\n<title>ephys_element.WaveformSet.PeakWaveform</title>\n<g id=\"a_node15\"><a xlink:title=\"→ ephys_element.WaveformSet\r\n→ ephys_element.CuratedClustering.Unit\r\n------------------------------\r\npeak_electrode_waveform \r\n\">\n<polygon fill=\"transparent\" points=\"872.5,-82 660.5,-82 660.5,-63 872.5,-63 872.5,-82\" stroke=\"transparent\"/>\n<text font-family=\"arial\" font-size=\"10.00\" text-anchor=\"middle\" x=\"766.5\" y=\"-70\">ephys_element.WaveformSet.PeakWaveform</text>\n</a>\n</g>\n</g>\n<!-- ephys_element.WaveformSet -->\n<g class=\"node\" id=\"node16\">\n<title>ephys_element.WaveformSet</title>\n<g id=\"a_node16\"><a xlink:title=\"→ ephys_element.CuratedClustering\r\n\">\n<ellipse cx=\"653.5\" cy=\"-143.5\" fill=\"#00007f\" fill-opacity=\"0.250980\" rx=\"106\" ry=\"17.5\" stroke=\"#00007f\" stroke-opacity=\"0.250980\"/>\n<text fill=\"#00007f\" fill-opacity=\"0.627451\" font-family=\"arial\" font-size=\"12.00\" text-anchor=\"middle\" x=\"653.5\" y=\"-140.4\">ephys_element.WaveformSet</text>\n</a>\n</g>\n</g>\n<!-- ephys_element.WaveformSet&#45;&gt;ephys_element.WaveformSet.Waveform -->\n<g class=\"edge\" id=\"edge18\">\n<title>ephys_element.WaveformSet-&gt;ephys_element.WaveformSet.Waveform</title>\n<path d=\"M628.65,-126.32C607.35,-112.46 577.52,-93.04 560.59,-82.02\" fill=\"none\" stroke=\"#000000\" stroke-opacity=\"0.250980\" stroke-width=\"0.75\"/>\n</g>\n<!-- ephys_element.WaveformSet&#45;&gt;ephys_element.WaveformSet.PeakWaveform -->\n<g class=\"edge\" id=\"edge19\">\n<title>ephys_element.WaveformSet-&gt;ephys_element.WaveformSet.PeakWaveform</title>\n<path d=\"M679.71,-126.5C702.4,-112.64 734.34,-93.14 752.47,-82.06\" fill=\"none\" stroke=\"#000000\" stroke-opacity=\"0.250980\" stroke-width=\"0.75\"/>\n</g>\n<!-- ephys_element.LFP -->\n<g class=\"node\" id=\"node18\">\n<title>ephys_element.LFP</title>\n<g id=\"a_node18\"><a xlink:title=\"→ ephys_element.EphysRecording\r\n------------------------------\r\nlfp_sampling_rate    \r\nlfp_time_stamps      \r\nlfp_mean             \r\n\">\n<ellipse cx=\"700.5\" cy=\"-427.5\" fill=\"#00007f\" fill-opacity=\"0.250980\" rx=\"75.75\" ry=\"17.5\" stroke=\"#00007f\" stroke-opacity=\"0.250980\"/>\n<text fill=\"#00007f\" fill-opacity=\"0.627451\" font-family=\"arial\" font-size=\"12.00\" text-anchor=\"middle\" x=\"700.5\" y=\"-424.4\">ephys_element.LFP</text>\n</a>\n</g>\n</g>\n<!-- ephys_element.LFP&#45;&gt;ephys_element.LFP.Electrode -->\n<g class=\"edge\" id=\"edge20\">\n<title>ephys_element.LFP-&gt;ephys_element.LFP.Electrode</title>\n<path d=\"M700.5,-409.8C700.5,-396.08 700.5,-377.19 700.5,-366.27\" fill=\"none\" stroke=\"#000000\" stroke-opacity=\"0.250980\" stroke-width=\"0.75\"/>\n</g>\n<!-- ephys_element.EphysRecording.EphysFile -->\n<g class=\"node\" id=\"node19\">\n<title>ephys_element.EphysRecording.EphysFile</title>\n<g id=\"a_node19\"><a xlink:title=\"→ ephys_element.EphysRecording\r\nfile_path            \r\n\">\n<polygon fill=\"transparent\" points=\"607,-437 404,-437 404,-418 607,-418 607,-437\" stroke=\"transparent\"/>\n<text font-family=\"arial\" font-size=\"10.00\" text-anchor=\"start\" text-decoration=\"underline\" x=\"412\" y=\"-426\">ephys_element.EphysRecording.EphysFile</text>\n</a>\n</g>\n</g>\n<!-- ephys_element.EphysRecording&#45;&gt;ephys_element.ClusteringTask -->\n<g class=\"edge\" id=\"edge21\">\n<title>ephys_element.EphysRecording-&gt;ephys_element.ClusteringTask</title>\n<path d=\"M464.8,-482.44C430.61,-471.42 384.23,-456.46 348.97,-445.1\" fill=\"none\" stroke=\"#000000\" stroke-opacity=\"0.250980\" stroke-width=\"0.75\"/>\n</g>\n<!-- ephys_element.EphysRecording&#45;&gt;ephys_element.LFP -->\n<g class=\"edge\" id=\"edge22\">\n<title>ephys_element.EphysRecording-&gt;ephys_element.LFP</title>\n<path d=\"M553.45,-482.19C585.85,-470.36 630.35,-454.11 661.89,-442.6\" fill=\"none\" stroke=\"#000000\" stroke-opacity=\"0.250980\" stroke-width=\"2\"/>\n</g>\n<!-- ephys_element.EphysRecording&#45;&gt;ephys_element.EphysRecording.EphysFile -->\n<g class=\"edge\" id=\"edge23\">\n<title>ephys_element.EphysRecording-&gt;ephys_element.EphysRecording.EphysFile</title>\n<path d=\"M510.05,-480.8C508.85,-467.08 507.21,-448.19 506.26,-437.27\" fill=\"none\" stroke=\"#000000\" stroke-opacity=\"0.250980\" stroke-width=\"0.75\"/>\n</g>\n<!-- ephys_element.CuratedClustering.Unit&#45;&gt;`bl_new_ephys_element`.`_cluster_quality_metrics` -->\n<g class=\"edge\" id=\"edge24\">\n<title>ephys_element.CuratedClustering.Unit-&gt;`bl_new_ephys_element`.`_cluster_quality_metrics`</title>\n<path d=\"M972.15,-133.97C1044.95,-122.4 1175.97,-101.57 1263.59,-87.64\" fill=\"none\" stroke=\"#000000\" stroke-opacity=\"0.250980\" stroke-width=\"2\"/>\n</g>\n<!-- ephys_element.CuratedClustering.Unit&#45;&gt;`bl_new_ephys_element`.`_waveform` -->\n<g class=\"edge\" id=\"edge25\">\n<title>ephys_element.CuratedClustering.Unit-&gt;`bl_new_ephys_element`.`_waveform`</title>\n<path d=\"M931.92,-133.76C948.86,-122.74 978.32,-103.56 999.46,-89.8\" fill=\"none\" stroke=\"#000000\" stroke-opacity=\"0.250980\" stroke-width=\"2\"/>\n</g>\n<!-- ephys_element.CuratedClustering.Unit&#45;&gt;ephys_element.WaveformSet.Waveform -->\n<g class=\"edge\" id=\"edge26\">\n<title>ephys_element.CuratedClustering.Unit-&gt;ephys_element.WaveformSet.Waveform</title>\n<path d=\"M872.64,-133.97C801.29,-120.7 664.54,-95.27 593.26,-82.01\" fill=\"none\" stroke=\"#000000\" stroke-opacity=\"0.250980\" stroke-width=\"0.75\"/>\n</g>\n<!-- ephys_element.CuratedClustering.Unit&#45;&gt;ephys_element.WaveformSet.PeakWaveform -->\n<g class=\"edge\" id=\"edge27\">\n<title>ephys_element.CuratedClustering.Unit-&gt;ephys_element.WaveformSet.PeakWaveform</title>\n<path d=\"M899.56,-133.9C870.43,-120.68 814.95,-95.5 785.68,-82.21\" fill=\"none\" stroke=\"#000000\" stroke-opacity=\"0.250980\" stroke-width=\"2\"/>\n</g>\n<!-- ephys_element.CuratedClustering&#45;&gt;ephys_element.WaveformSet -->\n<g class=\"edge\" id=\"edge28\">\n<title>ephys_element.CuratedClustering-&gt;ephys_element.WaveformSet</title>\n<path d=\"M653.5,-196.8C653.5,-185.95 653.5,-171.87 653.5,-161.05\" fill=\"none\" stroke=\"#000000\" stroke-opacity=\"0.250980\" stroke-width=\"2\"/>\n</g>\n<!-- ephys_element.CuratedClustering&#45;&gt;ephys_element.CuratedClustering.Unit -->\n<g class=\"edge\" id=\"edge29\">\n<title>ephys_element.CuratedClustering-&gt;ephys_element.CuratedClustering.Unit</title>\n<path d=\"M709.38,-198.95C762.83,-185.03 841.63,-164.52 885.66,-153.05\" fill=\"none\" stroke=\"#000000\" stroke-opacity=\"0.250980\" stroke-width=\"0.75\"/>\n</g>\n<!-- ephys_element.Clustering&#45;&gt;ephys_element.Curation -->\n<g class=\"edge\" id=\"edge30\">\n<title>ephys_element.Clustering-&gt;ephys_element.Curation</title>\n<path d=\"M445.12,-340.53C473.65,-329.47 512.47,-314.42 541.9,-303.01\" fill=\"none\" stroke=\"#000000\" stroke-opacity=\"0.250980\" stroke-width=\"0.75\"/>\n</g>\n<!-- ephys_element.ClusteringParamSet -->\n<g class=\"node\" id=\"node24\">\n<title>ephys_element.ClusteringParamSet</title>\n<g id=\"a_node24\"><a xlink:title=\"paramset_idx         \r\n------------------------------\r\n→ ephys_element.ClusteringMethod\r\nparamset_desc        \r\nparam_set_hash       \r\nparams               \r\nUNIQUE INDEX (param_set_hash)\r\n\">\n<polygon fill=\"#000000\" fill-opacity=\"0.125490\" points=\"173,-516 0,-516 0,-481 173,-481 173,-516\" stroke=\"transparent\"/>\n<text font-family=\"arial\" font-size=\"10.00\" text-anchor=\"start\" text-decoration=\"underline\" x=\"8\" y=\"-497\">ephys_element.ClusteringParamSet</text>\n</a>\n</g>\n</g>\n<!-- ephys_element.ClusteringParamSet&#45;&gt;ephys_element.ClusteringTask -->\n<g class=\"edge\" id=\"edge31\">\n<title>ephys_element.ClusteringParamSet-&gt;ephys_element.ClusteringTask</title>\n<path d=\"M137.04,-480.97C170.32,-470.09 213.73,-455.89 247.01,-445.01\" fill=\"none\" stroke=\"#000000\" stroke-opacity=\"0.250980\" stroke-width=\"0.75\"/>\n</g>\n<!-- ephys_element.ClusteringMethod -->\n<g class=\"node\" id=\"node25\">\n<title>ephys_element.ClusteringMethod</title>\n<g id=\"a_node25\"><a xlink:title=\"clustering_method    \r\n------------------------------\r\nclustering_method_desc \r\n\">\n<polygon fill=\"#000000\" fill-opacity=\"0.125490\" points=\"167,-587 6,-587 6,-552 167,-552 167,-587\" stroke=\"transparent\"/>\n<text font-family=\"arial\" font-size=\"10.00\" text-anchor=\"start\" text-decoration=\"underline\" x=\"14\" y=\"-568\">ephys_element.ClusteringMethod</text>\n</a>\n</g>\n</g>\n<!-- ephys_element.ClusteringMethod&#45;&gt;ephys_element.ClusteringParamSet -->\n<g class=\"edge\" id=\"edge32\">\n<title>ephys_element.ClusteringMethod-&gt;ephys_element.ClusteringParamSet</title>\n<path d=\"M86.5,-551.8C86.5,-540.95 86.5,-526.87 86.5,-516.05\" fill=\"none\" stroke=\"#000000\" stroke-dasharray=\"5,2\" stroke-opacity=\"0.250980\" stroke-width=\"0.75\"/>\n</g>\n<!-- ephys_element.ClusterQualityLabel -->\n<g class=\"node\" id=\"node26\">\n<title>ephys_element.ClusterQualityLabel</title>\n<g id=\"a_node26\"><a xlink:title=\"cluster_quality_label \r\n------------------------------\r\ncluster_quality_description \r\n\">\n<polygon fill=\"#000000\" fill-opacity=\"0.125490\" points=\"1000.5,-232 830.5,-232 830.5,-197 1000.5,-197 1000.5,-232\" stroke=\"transparent\"/>\n<text font-family=\"arial\" font-size=\"10.00\" text-anchor=\"start\" text-decoration=\"underline\" x=\"838.5\" y=\"-213\">ephys_element.ClusterQualityLabel</text>\n</a>\n</g>\n</g>\n<!-- ephys_element.ClusterQualityLabel&#45;&gt;ephys_element.CuratedClustering.Unit -->\n<g class=\"edge\" id=\"edge33\">\n<title>ephys_element.ClusterQualityLabel-&gt;ephys_element.CuratedClustering.Unit</title>\n<path d=\"M916.23,-196.8C916.82,-183.08 917.64,-164.19 918.12,-153.27\" fill=\"none\" stroke=\"#000000\" stroke-dasharray=\"5,2\" stroke-opacity=\"0.250980\" stroke-width=\"0.75\"/>\n</g>\n<!-- ephys_element.AcquisitionSoftware -->\n<g class=\"node\" id=\"node27\">\n<title>ephys_element.AcquisitionSoftware</title>\n<g id=\"a_node27\"><a xlink:title=\"acq_software         \r\n\">\n<polygon fill=\"#000000\" fill-opacity=\"0.125490\" points=\"763,-587 592,-587 592,-552 763,-552 763,-587\" stroke=\"transparent\"/>\n<text font-family=\"arial\" font-size=\"10.00\" text-anchor=\"start\" text-decoration=\"underline\" x=\"600\" y=\"-568\">ephys_element.AcquisitionSoftware</text>\n</a>\n</g>\n</g>\n<!-- ephys_element.AcquisitionSoftware&#45;&gt;ephys_element.EphysRecording -->\n<g class=\"edge\" id=\"edge34\">\n<title>ephys_element.AcquisitionSoftware-&gt;ephys_element.EphysRecording</title>\n<path d=\"M637.74,-551.97C610.79,-540.77 575.39,-526.06 548.94,-515.06\" fill=\"none\" stroke=\"#000000\" stroke-dasharray=\"5,2\" stroke-opacity=\"0.250980\" stroke-width=\"0.75\"/>\n</g>\n<!-- acquisition.Sessions -->\n<g class=\"node\" id=\"node28\">\n<title>acquisition.Sessions</title>\n<g id=\"a_node28\"><a xlink:title=\"→ acquisition.SessStarted\r\n------------------------------\r\nsession_rat          \r\nsession_userid       \r\nsession_rigid        \r\nsession_date=&quot;1000-01-01&quot; \r\nsession_starttime=&quot;00\r\nsession_endtime=&quot;00\r\nprotocol=&quot;&quot;          \r\npeh=null             \r\nn_done_trials=0      \r\nsession_comments=null \r\nsettings_file=&quot;&quot;     \r\nsettings_path=&quot;&quot;     \r\ndata_file=&quot;&quot;         \r\ndata_path=&quot;&quot;         \r\nvideo_file=&quot;&quot;        \r\nvideo_path=&quot;&quot;        \r\ntotal_correct=null   \r\nright_correct=null   \r\nleft_correct=null    \r\npercent_violations=null \r\nprotocol_data=null   \r\nleft_pokes=null      \r\ncenter_pokes=null    \r\nright_pokes=null     \r\nip_addr=null         \r\nfoodpuck=0           \r\n\">\n<polygon fill=\"#00ff00\" fill-opacity=\"0.188235\" points=\"574,-587 449,-587 449,-552 574,-552 574,-587\" stroke=\"#00ff00\" stroke-opacity=\"0.188235\"/>\n<text fill=\"darkgreen\" font-family=\"arial\" font-size=\"12.00\" text-anchor=\"middle\" x=\"511.5\" y=\"-566.4\">acquisition.Sessions</text>\n</a>\n</g>\n</g>\n<!-- acquisition.Sessions&#45;&gt;ephys_element.EphysRecording -->\n<g class=\"edge\" id=\"edge35\">\n<title>acquisition.Sessions-&gt;ephys_element.EphysRecording</title>\n<path d=\"M511.5,-551.8C511.5,-540.95 511.5,-526.87 511.5,-516.05\" fill=\"none\" stroke=\"#000000\" stroke-opacity=\"0.250980\" stroke-width=\"0.75\"/>\n</g>\n</g>\n</svg>"
     },
     "metadata": {},
     "execution_count": 3
    }
   ],
   "metadata": {
    "title": "Two DataJoint elements `probe_element` and `ephys_element` have been installed into `bl_pipeline`"
   }
  },
  {
   "cell_type": "markdown",
   "source": [
    "## Ephys element starts with table `ProbeInsertion`, as a child table of `subject.Rats`"
   ],
   "metadata": {
    "lines_to_next_cell": 0,
    "title": "For chornic probe insertions, `ephys_element.ProbeInsertion` directly depends on `subject.Rats`"
   }
  },
  {
   "cell_type": "code",
   "execution_count": 4,
   "source": [
    "dj.Diagram(subject.Rats) + dj.Diagram(acquisition.Sessions) + dj.Diagram(probe_element.Probe) + \\\r\n",
    "(dj.Diagram(ephys_element.ProbeInsertion) + 1)"
   ],
   "outputs": [
    {
     "output_type": "execute_result",
     "data": {
      "text/plain": [
       "<datajoint.diagram.Diagram at 0x220096fed88>"
      ],
      "image/svg+xml": "<svg height=\"185pt\" viewBox=\"0.00 0.00 444.12 185.00\" width=\"444pt\" xmlns=\"http://www.w3.org/2000/svg\" xmlns:xlink=\"http://www.w3.org/1999/xlink\">\n<g class=\"graph\" id=\"graph0\" transform=\"scale(1 1) rotate(0) translate(4 181)\">\n<polygon fill=\"white\" points=\"-4,4 -4,-181 440.12,-181 440.12,4 -4,4\" stroke=\"transparent\"/>\n<!-- ephys_element.EphysRecording -->\n<g class=\"node\" id=\"node1\">\n<title>ephys_element.EphysRecording</title>\n<g id=\"a_node1\"><a xlink:title=\"→ acquisition.Sessions\r\n→ ephys_element.ProbeInsertion\r\n------------------------------\r\n→ probe_element.ElectrodeConfig\r\n→ ephys_element.AcquisitionSoftware\r\nsampling_rate        \r\n\">\n<ellipse cx=\"115.62\" cy=\"-17.5\" fill=\"#00007f\" fill-opacity=\"0.250980\" rx=\"115.75\" ry=\"17.5\" stroke=\"#00007f\" stroke-opacity=\"0.250980\"/>\n<text fill=\"#00007f\" fill-opacity=\"0.627451\" font-family=\"arial\" font-size=\"12.00\" text-anchor=\"middle\" x=\"115.62\" y=\"-14.4\">ephys_element.EphysRecording</text>\n</a>\n</g>\n</g>\n<!-- ephys_element.ProbeInsertion -->\n<g class=\"node\" id=\"node2\">\n<title>ephys_element.ProbeInsertion</title>\n<g id=\"a_node2\"><a xlink:title=\"→ subject.Rats\r\ninsertion_number     \r\n------------------------------\r\n→ probe_element.Probe\r\ninsertion_datetime=null \r\n\">\n<polygon fill=\"#00ff00\" fill-opacity=\"0.188235\" points=\"399.62,-106 225.62,-106 225.62,-71 399.62,-71 399.62,-106\" stroke=\"#00ff00\" stroke-opacity=\"0.188235\"/>\n<text fill=\"darkgreen\" font-family=\"arial\" font-size=\"12.00\" text-anchor=\"start\" text-decoration=\"underline\" x=\"233.62\" y=\"-86.4\">ephys_element.ProbeInsertion</text>\n</a>\n</g>\n</g>\n<!-- ephys_element.ProbeInsertion&#45;&gt;ephys_element.EphysRecording -->\n<g class=\"edge\" id=\"edge1\">\n<title>ephys_element.ProbeInsertion-&gt;ephys_element.EphysRecording</title>\n<path d=\"M265.44,-70.97C233.22,-59.69 190.85,-44.85 159.39,-33.83\" fill=\"none\" stroke=\"#000000\" stroke-opacity=\"0.250980\" stroke-width=\"0.75\"/>\n</g>\n<!-- ephys_element.InsertionLocation -->\n<g class=\"node\" id=\"node5\">\n<title>ephys_element.InsertionLocation</title>\n<g id=\"a_node5\"><a xlink:title=\"→ ephys_element.ProbeInsertion\r\n------------------------------\r\n→ `bl_new_lab`.`#skull_reference`\r\nap_location          \r\nml_location          \r\ndepth                \r\ntheta=null           \r\nphi=null             \r\nbeta=null            \r\n\">\n<polygon fill=\"#00ff00\" fill-opacity=\"0.188235\" points=\"436.12,-35 249.12,-35 249.12,0 436.12,0 436.12,-35\" stroke=\"#00ff00\" stroke-opacity=\"0.188235\"/>\n<text fill=\"darkgreen\" font-family=\"arial\" font-size=\"12.00\" text-anchor=\"middle\" x=\"342.62\" y=\"-14.4\">ephys_element.InsertionLocation</text>\n</a>\n</g>\n</g>\n<!-- ephys_element.ProbeInsertion&#45;&gt;ephys_element.InsertionLocation -->\n<g class=\"edge\" id=\"edge2\">\n<title>ephys_element.ProbeInsertion-&gt;ephys_element.InsertionLocation</title>\n<path d=\"M319.89,-70.8C324.6,-59.95 330.73,-45.87 335.43,-35.05\" fill=\"none\" stroke=\"#000000\" stroke-opacity=\"0.250980\" stroke-width=\"2\"/>\n</g>\n<!-- probe_element.Probe -->\n<g class=\"node\" id=\"node3\">\n<title>probe_element.Probe</title>\n<g id=\"a_node3\"><a xlink:title=\"probe                \r\n------------------------------\r\n→ probe_element.ProbeType\r\nprobe_comment=&quot;&quot;     \r\n\">\n<polygon fill=\"#000000\" fill-opacity=\"0.125490\" points=\"311.12,-177 202.12,-177 202.12,-142 311.12,-142 311.12,-177\" stroke=\"transparent\"/>\n<text font-family=\"arial\" font-size=\"10.00\" text-anchor=\"start\" text-decoration=\"underline\" x=\"210.12\" y=\"-158\">probe_element.Probe</text>\n</a>\n</g>\n</g>\n<!-- probe_element.Probe&#45;&gt;ephys_element.ProbeInsertion -->\n<g class=\"edge\" id=\"edge3\">\n<title>probe_element.Probe-&gt;ephys_element.ProbeInsertion</title>\n<path d=\"M270.18,-141.8C278.99,-130.95 290.41,-116.87 299.19,-106.05\" fill=\"none\" stroke=\"#000000\" stroke-dasharray=\"5,2\" stroke-opacity=\"0.250980\" stroke-width=\"0.75\"/>\n</g>\n<!-- acquisition.Sessions -->\n<g class=\"node\" id=\"node4\">\n<title>acquisition.Sessions</title>\n<g id=\"a_node4\"><a xlink:title=\"→ acquisition.SessStarted\r\n------------------------------\r\nsession_rat          \r\nsession_userid       \r\nsession_rigid        \r\nsession_date=&quot;1000-01-01&quot; \r\nsession_starttime=&quot;00\r\nsession_endtime=&quot;00\r\nprotocol=&quot;&quot;          \r\npeh=null             \r\nn_done_trials=0      \r\nsession_comments=null \r\nsettings_file=&quot;&quot;     \r\nsettings_path=&quot;&quot;     \r\ndata_file=&quot;&quot;         \r\ndata_path=&quot;&quot;         \r\nvideo_file=&quot;&quot;        \r\nvideo_path=&quot;&quot;        \r\ntotal_correct=null   \r\nright_correct=null   \r\nleft_correct=null    \r\npercent_violations=null \r\nprotocol_data=null   \r\nleft_pokes=null      \r\ncenter_pokes=null    \r\nright_pokes=null     \r\nip_addr=null         \r\nfoodpuck=0           \r\n\">\n<polygon fill=\"#00ff00\" fill-opacity=\"0.188235\" points=\"178.12,-106 53.12,-106 53.12,-71 178.12,-71 178.12,-106\" stroke=\"#00ff00\" stroke-opacity=\"0.188235\"/>\n<text fill=\"darkgreen\" font-family=\"arial\" font-size=\"12.00\" text-anchor=\"middle\" x=\"115.62\" y=\"-85.4\">acquisition.Sessions</text>\n</a>\n</g>\n</g>\n<!-- acquisition.Sessions&#45;&gt;ephys_element.EphysRecording -->\n<g class=\"edge\" id=\"edge4\">\n<title>acquisition.Sessions-&gt;ephys_element.EphysRecording</title>\n<path d=\"M115.62,-70.8C115.62,-59.95 115.62,-45.87 115.62,-35.05\" fill=\"none\" stroke=\"#000000\" stroke-opacity=\"0.250980\" stroke-width=\"0.75\"/>\n</g>\n<!-- subject.Rats -->\n<g class=\"node\" id=\"node6\">\n<title>subject.Rats</title>\n<g id=\"a_node6\"><a xlink:title=\"ratname              \r\n------------------------------\r\n→ lab.Contacts\r\nrats_old_id=null     \r\nfree=0               \r\ncomments=null        \r\nvendor=&quot;Taconic&quot;     \r\nwaterperday=30.0     \r\nrecovering=0         \r\ndeliverydate=null    \r\nextant=0             \r\ncagemate=null        \r\nforce_free_water=0   \r\ndate_sac=null        \r\nforce_dep_water=0    \r\nlarid=null           \r\nisrat=1              \r\n\">\n<polygon fill=\"#00ff00\" fill-opacity=\"0.188235\" points=\"409.62,-177 329.62,-177 329.62,-142 409.62,-142 409.62,-177\" stroke=\"#00ff00\" stroke-opacity=\"0.188235\"/>\n<text fill=\"darkgreen\" font-family=\"arial\" font-size=\"12.00\" text-anchor=\"start\" text-decoration=\"underline\" x=\"337.62\" y=\"-157.4\">subject.Rats</text>\n</a>\n</g>\n</g>\n<!-- subject.Rats&#45;&gt;ephys_element.ProbeInsertion -->\n<g class=\"edge\" id=\"edge5\">\n<title>subject.Rats-&gt;ephys_element.ProbeInsertion</title>\n<path d=\"M355.83,-141.8C346.87,-130.95 335.23,-116.87 326.3,-106.05\" fill=\"none\" stroke=\"#000000\" stroke-opacity=\"0.250980\" stroke-width=\"0.75\"/>\n</g>\n</g>\n</svg>"
     },
     "metadata": {},
     "execution_count": 4
    }
   ],
   "metadata": {
    "lines_to_next_cell": 0,
    "title": "Each entry in the table `acquisition.Sessions` describes an experimental session within a particular date."
   }
  },
  {
   "cell_type": "code",
   "execution_count": 5,
   "source": [
    "\r\n",
    "# As an example, we will work on the following session throughout the notebook:"
   ],
   "outputs": [],
   "metadata": {
    "title": "Each entry in `ephys_element.EphysRecording` is for a particular probe insertion and a session."
   }
  },
  {
   "cell_type": "code",
   "execution_count": 6,
   "source": [
    "session_key = (acquisition.Sessions & 'session_rat=\"A230\"' & 'session_date=\"2019-08-26\"').fetch1('KEY')\r\n",
    "session_info  = (acquisition.Sessions & 'session_rat=\"A230\"' & 'session_date=\"2019-08-26\"').fetch1()\r\n",
    "session_key"
   ],
   "outputs": [
    {
     "output_type": "execute_result",
     "data": {
      "text/plain": [
       "{'sessid': 725723}"
      ]
     },
     "metadata": {},
     "execution_count": 6
    }
   ],
   "metadata": {
    "lines_to_next_cell": 0,
    "title": "For each combination of `acquisition.Sessions` and `ephys_element.ProbeInsertion`, there is a `ephys_element.EphysRecording`"
   }
  },
  {
   "cell_type": "markdown",
   "source": [
    "## Ingest Probe and ProbeInsertion by ephys_element_ingest"
   ],
   "metadata": {}
  },
  {
   "cell_type": "code",
   "execution_count": 7,
   "source": [
    "dj.Diagram(probe_element.Probe) + acquisition.Sessions + ephys_element.EphysRecording"
   ],
   "outputs": [
    {
     "output_type": "execute_result",
     "data": {
      "text/plain": [
       "<datajoint.diagram.Diagram at 0x22009e2e708>"
      ],
      "image/svg+xml": "<svg height=\"185pt\" viewBox=\"0.00 0.00 325.50 185.00\" width=\"326pt\" xmlns=\"http://www.w3.org/2000/svg\" xmlns:xlink=\"http://www.w3.org/1999/xlink\">\n<g class=\"graph\" id=\"graph0\" transform=\"scale(1 1) rotate(0) translate(4 181)\">\n<polygon fill=\"white\" points=\"-4,4 -4,-181 321.5,-181 321.5,4 -4,4\" stroke=\"transparent\"/>\n<!-- ephys_element.EphysRecording -->\n<g class=\"node\" id=\"node1\">\n<title>ephys_element.EphysRecording</title>\n<g id=\"a_node1\"><a xlink:title=\"→ acquisition.Sessions\r\n→ ephys_element.ProbeInsertion\r\n------------------------------\r\n→ probe_element.ElectrodeConfig\r\n→ ephys_element.AcquisitionSoftware\r\nsampling_rate        \r\n\">\n<ellipse cx=\"171\" cy=\"-17.5\" fill=\"#00007f\" fill-opacity=\"0.250980\" rx=\"115.75\" ry=\"17.5\" stroke=\"#00007f\" stroke-opacity=\"0.250980\"/>\n<text fill=\"#00007f\" fill-opacity=\"0.627451\" font-family=\"arial\" font-size=\"12.00\" text-anchor=\"middle\" x=\"171\" y=\"-14.4\">ephys_element.EphysRecording</text>\n</a>\n</g>\n</g>\n<!-- probe_element.Probe -->\n<g class=\"node\" id=\"node2\">\n<title>probe_element.Probe</title>\n<g id=\"a_node2\"><a xlink:title=\"probe                \r\n------------------------------\r\n→ probe_element.ProbeType\r\nprobe_comment=&quot;&quot;     \r\n\">\n<polygon fill=\"#000000\" fill-opacity=\"0.125490\" points=\"141.5,-177 32.5,-177 32.5,-142 141.5,-142 141.5,-177\" stroke=\"transparent\"/>\n<text font-family=\"arial\" font-size=\"10.00\" text-anchor=\"start\" text-decoration=\"underline\" x=\"40.5\" y=\"-158\">probe_element.Probe</text>\n</a>\n</g>\n</g>\n<!-- ephys_element.ProbeInsertion -->\n<g class=\"node\" id=\"node3\">\n<title>ephys_element.ProbeInsertion</title>\n<g id=\"a_node3\"><a xlink:title=\"→ subject.Rats\r\ninsertion_number     \r\n------------------------------\r\n→ probe_element.Probe\r\ninsertion_datetime=null \r\n\">\n<polygon fill=\"#00ff00\" fill-opacity=\"0.188235\" points=\"174,-106 0,-106 0,-71 174,-71 174,-106\" stroke=\"#00ff00\" stroke-opacity=\"0.188235\"/>\n<text fill=\"darkgreen\" font-family=\"arial\" font-size=\"12.00\" text-anchor=\"middle\" x=\"87\" y=\"-85.4\">ephys_element.ProbeInsertion</text>\n</a>\n</g>\n</g>\n<!-- probe_element.Probe&#45;&gt;ephys_element.ProbeInsertion -->\n<g class=\"edge\" id=\"edge1\">\n<title>probe_element.Probe-&gt;ephys_element.ProbeInsertion</title>\n<path d=\"M87,-141.8C87,-130.95 87,-116.87 87,-106.05\" fill=\"none\" stroke=\"#000000\" stroke-dasharray=\"5,2\" stroke-opacity=\"0.250980\" stroke-width=\"0.75\"/>\n</g>\n<!-- ephys_element.ProbeInsertion&#45;&gt;ephys_element.EphysRecording -->\n<g class=\"edge\" id=\"edge2\">\n<title>ephys_element.ProbeInsertion-&gt;ephys_element.EphysRecording</title>\n<path d=\"M107.33,-70.8C120.64,-59.87 137.94,-45.66 151.14,-34.81\" fill=\"none\" stroke=\"#000000\" stroke-opacity=\"0.250980\" stroke-width=\"0.75\"/>\n</g>\n<!-- acquisition.Sessions -->\n<g class=\"node\" id=\"node4\">\n<title>acquisition.Sessions</title>\n<g id=\"a_node4\"><a xlink:title=\"→ acquisition.SessStarted\r\n------------------------------\r\nsession_rat          \r\nsession_userid       \r\nsession_rigid        \r\nsession_date=&quot;1000-01-01&quot; \r\nsession_starttime=&quot;00\r\nsession_endtime=&quot;00\r\nprotocol=&quot;&quot;          \r\npeh=null             \r\nn_done_trials=0      \r\nsession_comments=null \r\nsettings_file=&quot;&quot;     \r\nsettings_path=&quot;&quot;     \r\ndata_file=&quot;&quot;         \r\ndata_path=&quot;&quot;         \r\nvideo_file=&quot;&quot;        \r\nvideo_path=&quot;&quot;        \r\ntotal_correct=null   \r\nright_correct=null   \r\nleft_correct=null    \r\npercent_violations=null \r\nprotocol_data=null   \r\nleft_pokes=null      \r\ncenter_pokes=null    \r\nright_pokes=null     \r\nip_addr=null         \r\nfoodpuck=0           \r\n\">\n<polygon fill=\"#00ff00\" fill-opacity=\"0.188235\" points=\"317.5,-106 192.5,-106 192.5,-71 317.5,-71 317.5,-106\" stroke=\"#00ff00\" stroke-opacity=\"0.188235\"/>\n<text fill=\"darkgreen\" font-family=\"arial\" font-size=\"12.00\" text-anchor=\"middle\" x=\"255\" y=\"-85.4\">acquisition.Sessions</text>\n</a>\n</g>\n</g>\n<!-- acquisition.Sessions&#45;&gt;ephys_element.EphysRecording -->\n<g class=\"edge\" id=\"edge3\">\n<title>acquisition.Sessions-&gt;ephys_element.EphysRecording</title>\n<path d=\"M234.67,-70.8C221.36,-59.87 204.06,-45.66 190.86,-34.81\" fill=\"none\" stroke=\"#000000\" stroke-opacity=\"0.250980\" stroke-width=\"0.75\"/>\n</g>\n</g>\n</svg>"
     },
     "metadata": {},
     "execution_count": 7
    }
   ],
   "metadata": {}
  },
  {
   "cell_type": "markdown",
   "source": [
    "A module `ephys_element_ingest` was provided to process a ephys session based on the neuropixel meta file: ingest entries into tables `Probe` and `ProbeInsertion`"
   ],
   "metadata": {}
  },
  {
   "cell_type": "code",
   "execution_count": 8,
   "source": [
    "from bl_pipeline.ingest import ephys_element_ingest\r\n",
    "ephys_element_ingest.process_session(session_key)"
   ],
   "outputs": [],
   "metadata": {}
  },
  {
   "cell_type": "markdown",
   "source": [
    "As a result, there will contents in the following tables:"
   ],
   "metadata": {}
  },
  {
   "cell_type": "code",
   "execution_count": 9,
   "source": [
    "probe_element.Probe() & session_key"
   ],
   "outputs": [
    {
     "output_type": "execute_result",
     "data": {
      "text/plain": [
       "*probe         probe_type     probe_comment \n",
       "+------------+ +------------+ +------------+\n",
       "18005106831    neuropixels 1.               \n",
       "18194819132    neuropixels 1.               \n",
       "18194819321    neuropixels 1.               \n",
       " (Total: 3)"
      ],
      "text/html": [
       "\n",
       "    \n",
       "    <style type=\"text/css\">\n",
       "        .Relation{\n",
       "            border-collapse:collapse;\n",
       "        }\n",
       "        .Relation th{\n",
       "            background: #A0A0A0; color: #ffffff; padding:4px; border:#f0e0e0 1px solid;\n",
       "            font-weight: normal; font-family: monospace; font-size: 100%;\n",
       "        }\n",
       "        .Relation td{\n",
       "            padding:4px; border:#f0e0e0 1px solid; font-size:100%;\n",
       "        }\n",
       "        .Relation tr:nth-child(odd){\n",
       "            background: #ffffff;\n",
       "        }\n",
       "        .Relation tr:nth-child(even){\n",
       "            background: #f3f1ff;\n",
       "        }\n",
       "        /* Tooltip container */\n",
       "        .djtooltip {\n",
       "        }\n",
       "        /* Tooltip text */\n",
       "        .djtooltip .djtooltiptext {\n",
       "            visibility: hidden;\n",
       "            width: 120px;\n",
       "            background-color: black;\n",
       "            color: #fff;\n",
       "            text-align: center;\n",
       "            padding: 5px 0;\n",
       "            border-radius: 6px;\n",
       "            /* Position the tooltip text - see examples below! */\n",
       "            position: absolute;\n",
       "            z-index: 1;\n",
       "        }\n",
       "        #primary {\n",
       "            font-weight: bold;\n",
       "            color: black;\n",
       "        }\n",
       "        #nonprimary {\n",
       "            font-weight: normal;\n",
       "            color: white;\n",
       "        }\n",
       "\n",
       "        /* Show the tooltip text when you mouse over the tooltip container */\n",
       "        .djtooltip:hover .djtooltiptext {\n",
       "            visibility: visible;\n",
       "        }\n",
       "    </style>\n",
       "    \n",
       "    <b>represent a physical probe</b>\n",
       "        <div style=\"max-height:1000px;max-width:1500px;overflow:auto;\">\n",
       "        <table border=\"1\" class=\"Relation\">\n",
       "            <thead> <tr style=\"text-align: right;\"> <th> <div class=\"djtooltip\">\n",
       "                            <p id=\"primary\">probe</p>\n",
       "                            <span class=\"djtooltiptext\">unique identifier for this model of probe (e.g. part number)</span>\n",
       "                        </div></th><th><div class=\"djtooltip\">\n",
       "                            <p id=\"nonprimary\">probe_type</p>\n",
       "                            <span class=\"djtooltiptext\">e.g. neuropixels_1.0</span>\n",
       "                        </div></th><th><div class=\"djtooltip\">\n",
       "                            <p id=\"nonprimary\">probe_comment</p>\n",
       "                            <span class=\"djtooltiptext\"></span>\n",
       "                        </div> </th> </tr> </thead>\n",
       "            <tbody> <tr> <td>18005106831</td>\n",
       "<td>neuropixels 1.0 - 3B</td>\n",
       "<td></td></tr><tr><td>18194819132</td>\n",
       "<td>neuropixels 1.0 - 3B</td>\n",
       "<td></td></tr><tr><td>18194819321</td>\n",
       "<td>neuropixels 1.0 - 3B</td>\n",
       "<td></td> </tr> </tbody>\n",
       "        </table>\n",
       "        \n",
       "        <p>Total: 3</p></div>\n",
       "        "
      ]
     },
     "metadata": {},
     "execution_count": 9
    }
   ],
   "metadata": {}
  },
  {
   "cell_type": "code",
   "execution_count": 10,
   "source": [
    "ephys_element.ProbeInsertion()"
   ],
   "outputs": [
    {
     "output_type": "execute_result",
     "data": {
      "text/plain": [
       "*ratname    *insertion_num probe          insertion_date\n",
       "+---------+ +------------+ +------------+ +------------+\n",
       "A230        0              18005106831    None          \n",
       "A249        0              18194819132    None          \n",
       "A256        0              18194819321    None          \n",
       " (Total: 3)"
      ],
      "text/html": [
       "\n",
       "    \n",
       "    <style type=\"text/css\">\n",
       "        .Relation{\n",
       "            border-collapse:collapse;\n",
       "        }\n",
       "        .Relation th{\n",
       "            background: #A0A0A0; color: #ffffff; padding:4px; border:#f0e0e0 1px solid;\n",
       "            font-weight: normal; font-family: monospace; font-size: 100%;\n",
       "        }\n",
       "        .Relation td{\n",
       "            padding:4px; border:#f0e0e0 1px solid; font-size:100%;\n",
       "        }\n",
       "        .Relation tr:nth-child(odd){\n",
       "            background: #ffffff;\n",
       "        }\n",
       "        .Relation tr:nth-child(even){\n",
       "            background: #f3f1ff;\n",
       "        }\n",
       "        /* Tooltip container */\n",
       "        .djtooltip {\n",
       "        }\n",
       "        /* Tooltip text */\n",
       "        .djtooltip .djtooltiptext {\n",
       "            visibility: hidden;\n",
       "            width: 120px;\n",
       "            background-color: black;\n",
       "            color: #fff;\n",
       "            text-align: center;\n",
       "            padding: 5px 0;\n",
       "            border-radius: 6px;\n",
       "            /* Position the tooltip text - see examples below! */\n",
       "            position: absolute;\n",
       "            z-index: 1;\n",
       "        }\n",
       "        #primary {\n",
       "            font-weight: bold;\n",
       "            color: black;\n",
       "        }\n",
       "        #nonprimary {\n",
       "            font-weight: normal;\n",
       "            color: white;\n",
       "        }\n",
       "\n",
       "        /* Show the tooltip text when you mouse over the tooltip container */\n",
       "        .djtooltip:hover .djtooltiptext {\n",
       "            visibility: visible;\n",
       "        }\n",
       "    </style>\n",
       "    \n",
       "    <b></b>\n",
       "        <div style=\"max-height:1000px;max-width:1500px;overflow:auto;\">\n",
       "        <table border=\"1\" class=\"Relation\">\n",
       "            <thead> <tr style=\"text-align: right;\"> <th> <div class=\"djtooltip\">\n",
       "                            <p id=\"primary\">ratname</p>\n",
       "                            <span class=\"djtooltiptext\">Unique rat name, 1 letter 3 numbers</span>\n",
       "                        </div></th><th><div class=\"djtooltip\">\n",
       "                            <p id=\"primary\">insertion_number</p>\n",
       "                            <span class=\"djtooltiptext\"></span>\n",
       "                        </div></th><th><div class=\"djtooltip\">\n",
       "                            <p id=\"nonprimary\">probe</p>\n",
       "                            <span class=\"djtooltiptext\">unique identifier for this model of probe (e.g. part number)</span>\n",
       "                        </div></th><th><div class=\"djtooltip\">\n",
       "                            <p id=\"nonprimary\">insertion_datetime</p>\n",
       "                            <span class=\"djtooltiptext\"></span>\n",
       "                        </div> </th> </tr> </thead>\n",
       "            <tbody> <tr> <td>A230</td>\n",
       "<td>0</td>\n",
       "<td>18005106831</td>\n",
       "<td>None</td></tr><tr><td>A249</td>\n",
       "<td>0</td>\n",
       "<td>18194819132</td>\n",
       "<td>None</td></tr><tr><td>A256</td>\n",
       "<td>0</td>\n",
       "<td>18194819321</td>\n",
       "<td>None</td> </tr> </tbody>\n",
       "        </table>\n",
       "        \n",
       "        <p>Total: 3</p></div>\n",
       "        "
      ]
     },
     "metadata": {},
     "execution_count": 10
    }
   ],
   "metadata": {}
  },
  {
   "cell_type": "code",
   "execution_count": 11,
   "source": [
    "ephys_element.EphysRecording() & session_key"
   ],
   "outputs": [
    {
     "output_type": "execute_result",
     "data": {
      "text/plain": [
       "*sessid    *ratname    *insertion_num electrode_conf acq_software   sampling_rate \n",
       "+--------+ +---------+ +------------+ +------------+ +------------+ +------------+\n",
       "725723     A230        0              6f6d8149-1603- SpikeGLX       30000.5       \n",
       " (Total: 1)"
      ],
      "text/html": [
       "\n",
       "    \n",
       "    <style type=\"text/css\">\n",
       "        .Relation{\n",
       "            border-collapse:collapse;\n",
       "        }\n",
       "        .Relation th{\n",
       "            background: #A0A0A0; color: #ffffff; padding:4px; border:#f0e0e0 1px solid;\n",
       "            font-weight: normal; font-family: monospace; font-size: 100%;\n",
       "        }\n",
       "        .Relation td{\n",
       "            padding:4px; border:#f0e0e0 1px solid; font-size:100%;\n",
       "        }\n",
       "        .Relation tr:nth-child(odd){\n",
       "            background: #ffffff;\n",
       "        }\n",
       "        .Relation tr:nth-child(even){\n",
       "            background: #f3f1ff;\n",
       "        }\n",
       "        /* Tooltip container */\n",
       "        .djtooltip {\n",
       "        }\n",
       "        /* Tooltip text */\n",
       "        .djtooltip .djtooltiptext {\n",
       "            visibility: hidden;\n",
       "            width: 120px;\n",
       "            background-color: black;\n",
       "            color: #fff;\n",
       "            text-align: center;\n",
       "            padding: 5px 0;\n",
       "            border-radius: 6px;\n",
       "            /* Position the tooltip text - see examples below! */\n",
       "            position: absolute;\n",
       "            z-index: 1;\n",
       "        }\n",
       "        #primary {\n",
       "            font-weight: bold;\n",
       "            color: black;\n",
       "        }\n",
       "        #nonprimary {\n",
       "            font-weight: normal;\n",
       "            color: white;\n",
       "        }\n",
       "\n",
       "        /* Show the tooltip text when you mouse over the tooltip container */\n",
       "        .djtooltip:hover .djtooltiptext {\n",
       "            visibility: visible;\n",
       "        }\n",
       "    </style>\n",
       "    \n",
       "    <b></b>\n",
       "        <div style=\"max-height:1000px;max-width:1500px;overflow:auto;\">\n",
       "        <table border=\"1\" class=\"Relation\">\n",
       "            <thead> <tr style=\"text-align: right;\"> <th> <div class=\"djtooltip\">\n",
       "                            <p id=\"primary\">sessid</p>\n",
       "                            <span class=\"djtooltiptext\">Unique number assigned to each training session</span>\n",
       "                        </div></th><th><div class=\"djtooltip\">\n",
       "                            <p id=\"primary\">ratname</p>\n",
       "                            <span class=\"djtooltiptext\">Unique rat name, 1 letter 3 numbers</span>\n",
       "                        </div></th><th><div class=\"djtooltip\">\n",
       "                            <p id=\"primary\">insertion_number</p>\n",
       "                            <span class=\"djtooltiptext\"></span>\n",
       "                        </div></th><th><div class=\"djtooltip\">\n",
       "                            <p id=\"nonprimary\">electrode_config_hash</p>\n",
       "                            <span class=\"djtooltiptext\"></span>\n",
       "                        </div></th><th><div class=\"djtooltip\">\n",
       "                            <p id=\"nonprimary\">acq_software</p>\n",
       "                            <span class=\"djtooltiptext\"></span>\n",
       "                        </div></th><th><div class=\"djtooltip\">\n",
       "                            <p id=\"nonprimary\">sampling_rate</p>\n",
       "                            <span class=\"djtooltiptext\">(Hz)</span>\n",
       "                        </div> </th> </tr> </thead>\n",
       "            <tbody> <tr> <td>725723</td>\n",
       "<td>A230</td>\n",
       "<td>0</td>\n",
       "<td>6f6d8149-1603-9d2c-f884-0fdf995ec8b3</td>\n",
       "<td>SpikeGLX</td>\n",
       "<td>30000.5</td> </tr> </tbody>\n",
       "        </table>\n",
       "        \n",
       "        <p>Total: 1</p></div>\n",
       "        "
      ]
     },
     "metadata": {},
     "execution_count": 11
    }
   ],
   "metadata": {}
  },
  {
   "cell_type": "markdown",
   "source": [
    "## Populate EphysRecording"
   ],
   "metadata": {}
  },
  {
   "cell_type": "code",
   "execution_count": 12,
   "source": [
    "dj.Diagram(acquisition.Sessions) + (dj.Diagram(probe_element.ElectrodeConfig) + 1) + \\\n",
    "ephys_element.EphysRecording + ephys_element.EphysRecording.EphysFile"
   ],
   "outputs": [
    {
     "output_type": "execute_result",
     "data": {
      "text/plain": [
       "<datajoint.diagram.Diagram at 0x22009a0bf08>"
      ],
      "image/svg+xml": "<svg height=\"169pt\" viewBox=\"0.00 0.00 453.62 169.00\" width=\"454pt\" xmlns=\"http://www.w3.org/2000/svg\" xmlns:xlink=\"http://www.w3.org/1999/xlink\">\n<g class=\"graph\" id=\"graph0\" transform=\"scale(1 1) rotate(0) translate(4 165)\">\n<polygon fill=\"white\" points=\"-4,4 -4,-165 449.62,-165 449.62,4 -4,4\" stroke=\"transparent\"/>\n<!-- ephys_element.EphysRecording -->\n<g class=\"node\" id=\"node1\">\n<title>ephys_element.EphysRecording</title>\n<g id=\"a_node1\"><a xlink:title=\"→ acquisition.Sessions\r\n→ ephys_element.ProbeInsertion\r\n------------------------------\r\n→ probe_element.ElectrodeConfig\r\n→ ephys_element.AcquisitionSoftware\r\nsampling_rate        \r\n\">\n<ellipse cx=\"115.62\" cy=\"-72.5\" fill=\"#00007f\" fill-opacity=\"0.250980\" rx=\"115.75\" ry=\"17.5\" stroke=\"#00007f\" stroke-opacity=\"0.250980\"/>\n<text fill=\"#00007f\" fill-opacity=\"0.627451\" font-family=\"arial\" font-size=\"12.00\" text-anchor=\"middle\" x=\"115.62\" y=\"-69.4\">ephys_element.EphysRecording</text>\n</a>\n</g>\n</g>\n<!-- ephys_element.EphysRecording.EphysFile -->\n<g class=\"node\" id=\"node2\">\n<title>ephys_element.EphysRecording.EphysFile</title>\n<g id=\"a_node2\"><a xlink:title=\"→ ephys_element.EphysRecording\r\nfile_path            \r\n\">\n<polygon fill=\"transparent\" points=\"217.12,-19 14.12,-19 14.12,0 217.12,0 217.12,-19\" stroke=\"transparent\"/>\n<text font-family=\"arial\" font-size=\"10.00\" text-anchor=\"start\" text-decoration=\"underline\" x=\"22.12\" y=\"-8\">ephys_element.EphysRecording.EphysFile</text>\n</a>\n</g>\n</g>\n<!-- ephys_element.EphysRecording&#45;&gt;ephys_element.EphysRecording.EphysFile -->\n<g class=\"edge\" id=\"edge1\">\n<title>ephys_element.EphysRecording-&gt;ephys_element.EphysRecording.EphysFile</title>\n<path d=\"M115.62,-54.83C115.62,-43.26 115.62,-28.32 115.62,-19.08\" fill=\"none\" stroke=\"#000000\" stroke-opacity=\"0.250980\" stroke-width=\"0.75\"/>\n</g>\n<!-- acquisition.Sessions -->\n<g class=\"node\" id=\"node3\">\n<title>acquisition.Sessions</title>\n<g id=\"a_node3\"><a xlink:title=\"→ acquisition.SessStarted\r\n------------------------------\r\nsession_rat          \r\nsession_userid       \r\nsession_rigid        \r\nsession_date=&quot;1000-01-01&quot; \r\nsession_starttime=&quot;00\r\nsession_endtime=&quot;00\r\nprotocol=&quot;&quot;          \r\npeh=null             \r\nn_done_trials=0      \r\nsession_comments=null \r\nsettings_file=&quot;&quot;     \r\nsettings_path=&quot;&quot;     \r\ndata_file=&quot;&quot;         \r\ndata_path=&quot;&quot;         \r\nvideo_file=&quot;&quot;        \r\nvideo_path=&quot;&quot;        \r\ntotal_correct=null   \r\nright_correct=null   \r\nleft_correct=null    \r\npercent_violations=null \r\nprotocol_data=null   \r\nleft_pokes=null      \r\ncenter_pokes=null    \r\nright_pokes=null     \r\nip_addr=null         \r\nfoodpuck=0           \r\n\">\n<polygon fill=\"#00ff00\" fill-opacity=\"0.188235\" points=\"178.12,-161 53.12,-161 53.12,-126 178.12,-126 178.12,-161\" stroke=\"#00ff00\" stroke-opacity=\"0.188235\"/>\n<text fill=\"darkgreen\" font-family=\"arial\" font-size=\"12.00\" text-anchor=\"middle\" x=\"115.62\" y=\"-140.4\">acquisition.Sessions</text>\n</a>\n</g>\n</g>\n<!-- acquisition.Sessions&#45;&gt;ephys_element.EphysRecording -->\n<g class=\"edge\" id=\"edge2\">\n<title>acquisition.Sessions-&gt;ephys_element.EphysRecording</title>\n<path d=\"M115.62,-125.8C115.62,-114.95 115.62,-100.87 115.62,-90.05\" fill=\"none\" stroke=\"#000000\" stroke-opacity=\"0.250980\" stroke-width=\"0.75\"/>\n</g>\n<!-- probe_element.ElectrodeConfig.Electrode -->\n<g class=\"node\" id=\"node4\">\n<title>probe_element.ElectrodeConfig.Electrode</title>\n<g id=\"a_node4\"><a xlink:title=\"→ probe_element.ElectrodeConfig\r\n→ probe_element.ProbeType.Electrode\r\n\">\n<polygon fill=\"transparent\" points=\"445.62,-82 249.62,-82 249.62,-63 445.62,-63 445.62,-82\" stroke=\"transparent\"/>\n<text font-family=\"arial\" font-size=\"10.00\" text-anchor=\"middle\" x=\"347.62\" y=\"-70\">probe_element.ElectrodeConfig.Electrode</text>\n</a>\n</g>\n</g>\n<!-- probe_element.ElectrodeConfig -->\n<g class=\"node\" id=\"node5\">\n<title>probe_element.ElectrodeConfig</title>\n<g id=\"a_node5\"><a xlink:title=\"electrode_config_hash \r\n------------------------------\r\n→ probe_element.ProbeType\r\nelectrode_config_name \r\n\">\n<polygon fill=\"#000000\" fill-opacity=\"0.125490\" points=\"423.62,-161 271.62,-161 271.62,-126 423.62,-126 423.62,-161\" stroke=\"transparent\"/>\n<text font-family=\"arial\" font-size=\"10.00\" text-anchor=\"start\" text-decoration=\"underline\" x=\"279.62\" y=\"-142\">probe_element.ElectrodeConfig</text>\n</a>\n</g>\n</g>\n<!-- probe_element.ElectrodeConfig&#45;&gt;ephys_element.EphysRecording -->\n<g class=\"edge\" id=\"edge3\">\n<title>probe_element.ElectrodeConfig-&gt;ephys_element.EphysRecording</title>\n<path d=\"M292.06,-125.97C253.58,-114.53 202.8,-99.43 165.61,-88.36\" fill=\"none\" stroke=\"#000000\" stroke-dasharray=\"5,2\" stroke-opacity=\"0.250980\" stroke-width=\"0.75\"/>\n</g>\n<!-- probe_element.ElectrodeConfig&#45;&gt;probe_element.ElectrodeConfig.Electrode -->\n<g class=\"edge\" id=\"edge4\">\n<title>probe_element.ElectrodeConfig-&gt;probe_element.ElectrodeConfig.Electrode</title>\n<path d=\"M347.62,-125.8C347.62,-112.08 347.62,-93.19 347.62,-82.27\" fill=\"none\" stroke=\"#000000\" stroke-opacity=\"0.250980\" stroke-width=\"0.75\"/>\n</g>\n</g>\n</svg>"
     },
     "metadata": {},
     "execution_count": 12
    }
   ],
   "metadata": {}
  },
  {
   "cell_type": "code",
   "execution_count": 13,
   "source": [
    "# first argument restricts the populate to a particular subset.\n",
    "print(session_key)\n",
    "ephys_element.EphysRecording.populate(session_key, display_progress=True)"
   ],
   "outputs": [
    {
     "output_type": "stream",
     "name": "stdout",
     "text": [
      "{'sessid': 725723}\n"
     ]
    },
    {
     "output_type": "stream",
     "name": "stderr",
     "text": [
      "EphysRecording:   0%|          | 0/2 [00:00<?, ?it/s]\n"
     ]
    },
    {
     "output_type": "error",
     "ename": "FileNotFoundError",
     "evalue": "No SpikeGLX data found for probe insertion: {'sessid': 725723, 'ratname': 'A249', 'insertion_number': 0}",
     "traceback": [
      "\u001b[1;31m---------------------------------------------------------------------------\u001b[0m",
      "\u001b[1;31mFileNotFoundError\u001b[0m                         Traceback (most recent call last)",
      "\u001b[1;32m~\\AppData\\Local\\Temp/ipykernel_7376/3745543470.py\u001b[0m in \u001b[0;36m<module>\u001b[1;34m\u001b[0m\n\u001b[0;32m      1\u001b[0m \u001b[1;31m# first argument restricts the populate to a particular subset.\u001b[0m\u001b[1;33m\u001b[0m\u001b[1;33m\u001b[0m\u001b[1;33m\u001b[0m\u001b[0m\n\u001b[0;32m      2\u001b[0m \u001b[0mprint\u001b[0m\u001b[1;33m(\u001b[0m\u001b[0msession_key\u001b[0m\u001b[1;33m)\u001b[0m\u001b[1;33m\u001b[0m\u001b[1;33m\u001b[0m\u001b[0m\n\u001b[1;32m----> 3\u001b[1;33m \u001b[0mephys_element\u001b[0m\u001b[1;33m.\u001b[0m\u001b[0mEphysRecording\u001b[0m\u001b[1;33m.\u001b[0m\u001b[0mpopulate\u001b[0m\u001b[1;33m(\u001b[0m\u001b[0msession_key\u001b[0m\u001b[1;33m,\u001b[0m \u001b[0mdisplay_progress\u001b[0m\u001b[1;33m=\u001b[0m\u001b[1;32mTrue\u001b[0m\u001b[1;33m)\u001b[0m\u001b[1;33m\u001b[0m\u001b[1;33m\u001b[0m\u001b[0m\n\u001b[0m",
      "\u001b[1;32mc:\\users\\stephan\\anaconda3\\envs\\brody_ephys_elements_two\\lib\\site-packages\\datajoint\\autopopulate.py\u001b[0m in \u001b[0;36mpopulate\u001b[1;34m(self, suppress_errors, return_exception_objects, reserve_jobs, order, limit, max_calls, display_progress, *restrictions)\u001b[0m\n\u001b[0;32m    151\u001b[0m                     \u001b[0mself\u001b[0m\u001b[1;33m.\u001b[0m\u001b[0m__class__\u001b[0m\u001b[1;33m.\u001b[0m\u001b[0m_allow_insert\u001b[0m \u001b[1;33m=\u001b[0m \u001b[1;32mTrue\u001b[0m\u001b[1;33m\u001b[0m\u001b[1;33m\u001b[0m\u001b[0m\n\u001b[0;32m    152\u001b[0m                     \u001b[1;32mtry\u001b[0m\u001b[1;33m:\u001b[0m\u001b[1;33m\u001b[0m\u001b[1;33m\u001b[0m\u001b[0m\n\u001b[1;32m--> 153\u001b[1;33m                         \u001b[0mmake\u001b[0m\u001b[1;33m(\u001b[0m\u001b[0mdict\u001b[0m\u001b[1;33m(\u001b[0m\u001b[0mkey\u001b[0m\u001b[1;33m)\u001b[0m\u001b[1;33m)\u001b[0m\u001b[1;33m\u001b[0m\u001b[1;33m\u001b[0m\u001b[0m\n\u001b[0m\u001b[0;32m    154\u001b[0m                     \u001b[1;32mexcept\u001b[0m \u001b[1;33m(\u001b[0m\u001b[0mKeyboardInterrupt\u001b[0m\u001b[1;33m,\u001b[0m \u001b[0mSystemExit\u001b[0m\u001b[1;33m,\u001b[0m \u001b[0mException\u001b[0m\u001b[1;33m)\u001b[0m \u001b[1;32mas\u001b[0m \u001b[0merror\u001b[0m\u001b[1;33m:\u001b[0m\u001b[1;33m\u001b[0m\u001b[1;33m\u001b[0m\u001b[0m\n\u001b[0;32m    155\u001b[0m                         \u001b[1;32mtry\u001b[0m\u001b[1;33m:\u001b[0m\u001b[1;33m\u001b[0m\u001b[1;33m\u001b[0m\u001b[0m\n",
      "\u001b[1;32mc:\\users\\stephan\\anaconda3\\envs\\brody_ephys_elements_two\\lib\\site-packages\\element_array_ephys\\ephys.py\u001b[0m in \u001b[0;36mmake\u001b[1;34m(self, key)\u001b[0m\n\u001b[0;32m    169\u001b[0m             \u001b[1;32melse\u001b[0m\u001b[1;33m:\u001b[0m\u001b[1;33m\u001b[0m\u001b[1;33m\u001b[0m\u001b[0m\n\u001b[0;32m    170\u001b[0m                 raise FileNotFoundError(\n\u001b[1;32m--> 171\u001b[1;33m                     'No SpikeGLX data found for probe insertion: {}'.format(key))\n\u001b[0m\u001b[0;32m    172\u001b[0m \u001b[1;33m\u001b[0m\u001b[0m\n\u001b[0;32m    173\u001b[0m             \u001b[1;32mif\u001b[0m \u001b[0mre\u001b[0m\u001b[1;33m.\u001b[0m\u001b[0msearch\u001b[0m\u001b[1;33m(\u001b[0m\u001b[1;34m'(1.0|2.0)'\u001b[0m\u001b[1;33m,\u001b[0m \u001b[0mspikeglx_meta\u001b[0m\u001b[1;33m.\u001b[0m\u001b[0mprobe_model\u001b[0m\u001b[1;33m)\u001b[0m\u001b[1;33m:\u001b[0m\u001b[1;33m\u001b[0m\u001b[1;33m\u001b[0m\u001b[0m\n",
      "\u001b[1;31mFileNotFoundError\u001b[0m: No SpikeGLX data found for probe insertion: {'sessid': 725723, 'ratname': 'A249', 'insertion_number': 0}"
     ]
    }
   ],
   "metadata": {}
  },
  {
   "cell_type": "markdown",
   "source": [
    "Populate EphysRecording extracts the following information from .ap.meta file from SpikeGLX:\n",
    "\n",
    "1. **probe_element.EelectrodeConfig**: this procedure detects new ElectrodeConfig, i.e. which 384 electrodes out of the total 960 on the probe were used in this ephys session, and save the results into the table `probe_element.EelectrodeConfig`. Each entry in table `ephys_element.EphysRecording` specifies which ElectrodeConfig is used in a particular ephys session. "
   ],
   "metadata": {}
  },
  {
   "cell_type": "markdown",
   "source": [
    "For this ephys session we just populated, Electrodes 0-383 was used."
   ],
   "metadata": {}
  },
  {
   "cell_type": "code",
   "execution_count": 14,
   "source": [
    "probe_element.ElectrodeConfig()"
   ],
   "outputs": [
    {
     "output_type": "execute_result",
     "data": {
      "text/plain": [
       "*electrode_con probe_type     electrode_conf\n",
       "+------------+ +------------+ +------------+\n",
       "6f6d8149-1603- neuropixels 1. 0-383         \n",
       " (Total: 1)"
      ],
      "text/html": [
       "\n",
       "    \n",
       "    <style type=\"text/css\">\n",
       "        .Relation{\n",
       "            border-collapse:collapse;\n",
       "        }\n",
       "        .Relation th{\n",
       "            background: #A0A0A0; color: #ffffff; padding:4px; border:#f0e0e0 1px solid;\n",
       "            font-weight: normal; font-family: monospace; font-size: 100%;\n",
       "        }\n",
       "        .Relation td{\n",
       "            padding:4px; border:#f0e0e0 1px solid; font-size:100%;\n",
       "        }\n",
       "        .Relation tr:nth-child(odd){\n",
       "            background: #ffffff;\n",
       "        }\n",
       "        .Relation tr:nth-child(even){\n",
       "            background: #f3f1ff;\n",
       "        }\n",
       "        /* Tooltip container */\n",
       "        .djtooltip {\n",
       "        }\n",
       "        /* Tooltip text */\n",
       "        .djtooltip .djtooltiptext {\n",
       "            visibility: hidden;\n",
       "            width: 120px;\n",
       "            background-color: black;\n",
       "            color: #fff;\n",
       "            text-align: center;\n",
       "            padding: 5px 0;\n",
       "            border-radius: 6px;\n",
       "            /* Position the tooltip text - see examples below! */\n",
       "            position: absolute;\n",
       "            z-index: 1;\n",
       "        }\n",
       "        #primary {\n",
       "            font-weight: bold;\n",
       "            color: black;\n",
       "        }\n",
       "        #nonprimary {\n",
       "            font-weight: normal;\n",
       "            color: white;\n",
       "        }\n",
       "\n",
       "        /* Show the tooltip text when you mouse over the tooltip container */\n",
       "        .djtooltip:hover .djtooltiptext {\n",
       "            visibility: visible;\n",
       "        }\n",
       "    </style>\n",
       "    \n",
       "    <b></b>\n",
       "        <div style=\"max-height:1000px;max-width:1500px;overflow:auto;\">\n",
       "        <table border=\"1\" class=\"Relation\">\n",
       "            <thead> <tr style=\"text-align: right;\"> <th> <div class=\"djtooltip\">\n",
       "                            <p id=\"primary\">electrode_config_hash</p>\n",
       "                            <span class=\"djtooltiptext\"></span>\n",
       "                        </div></th><th><div class=\"djtooltip\">\n",
       "                            <p id=\"nonprimary\">probe_type</p>\n",
       "                            <span class=\"djtooltiptext\">e.g. neuropixels_1.0</span>\n",
       "                        </div></th><th><div class=\"djtooltip\">\n",
       "                            <p id=\"nonprimary\">electrode_config_name</p>\n",
       "                            <span class=\"djtooltiptext\">user friendly name</span>\n",
       "                        </div> </th> </tr> </thead>\n",
       "            <tbody> <tr> <td>6f6d8149-1603-9d2c-f884-0fdf995ec8b3</td>\n",
       "<td>neuropixels 1.0 - 3B</td>\n",
       "<td>0-383</td> </tr> </tbody>\n",
       "        </table>\n",
       "        \n",
       "        <p>Total: 1</p></div>\n",
       "        "
      ]
     },
     "metadata": {},
     "execution_count": 14
    }
   ],
   "metadata": {}
  },
  {
   "cell_type": "code",
   "execution_count": 15,
   "source": [
    "probe_element.ElectrodeConfig.Electrode()"
   ],
   "outputs": [
    {
     "output_type": "execute_result",
     "data": {
      "text/plain": [
       "*electrode_con *probe_type    *electrode   \n",
       "+------------+ +------------+ +-----------+\n",
       "6f6d8149-1603- neuropixels 1. 0            \n",
       "6f6d8149-1603- neuropixels 1. 1            \n",
       "6f6d8149-1603- neuropixels 1. 2            \n",
       "6f6d8149-1603- neuropixels 1. 3            \n",
       "6f6d8149-1603- neuropixels 1. 4            \n",
       "6f6d8149-1603- neuropixels 1. 5            \n",
       "6f6d8149-1603- neuropixels 1. 6            \n",
       "6f6d8149-1603- neuropixels 1. 7            \n",
       "6f6d8149-1603- neuropixels 1. 8            \n",
       "6f6d8149-1603- neuropixels 1. 9            \n",
       "6f6d8149-1603- neuropixels 1. 10           \n",
       "6f6d8149-1603- neuropixels 1. 11           \n",
       "   ...\n",
       " (Total: 384)"
      ],
      "text/html": [
       "\n",
       "    \n",
       "    <style type=\"text/css\">\n",
       "        .Relation{\n",
       "            border-collapse:collapse;\n",
       "        }\n",
       "        .Relation th{\n",
       "            background: #A0A0A0; color: #ffffff; padding:4px; border:#f0e0e0 1px solid;\n",
       "            font-weight: normal; font-family: monospace; font-size: 100%;\n",
       "        }\n",
       "        .Relation td{\n",
       "            padding:4px; border:#f0e0e0 1px solid; font-size:100%;\n",
       "        }\n",
       "        .Relation tr:nth-child(odd){\n",
       "            background: #ffffff;\n",
       "        }\n",
       "        .Relation tr:nth-child(even){\n",
       "            background: #f3f1ff;\n",
       "        }\n",
       "        /* Tooltip container */\n",
       "        .djtooltip {\n",
       "        }\n",
       "        /* Tooltip text */\n",
       "        .djtooltip .djtooltiptext {\n",
       "            visibility: hidden;\n",
       "            width: 120px;\n",
       "            background-color: black;\n",
       "            color: #fff;\n",
       "            text-align: center;\n",
       "            padding: 5px 0;\n",
       "            border-radius: 6px;\n",
       "            /* Position the tooltip text - see examples below! */\n",
       "            position: absolute;\n",
       "            z-index: 1;\n",
       "        }\n",
       "        #primary {\n",
       "            font-weight: bold;\n",
       "            color: black;\n",
       "        }\n",
       "        #nonprimary {\n",
       "            font-weight: normal;\n",
       "            color: white;\n",
       "        }\n",
       "\n",
       "        /* Show the tooltip text when you mouse over the tooltip container */\n",
       "        .djtooltip:hover .djtooltiptext {\n",
       "            visibility: visible;\n",
       "        }\n",
       "    </style>\n",
       "    \n",
       "    <b>Electrodes selected for recording</b>\n",
       "        <div style=\"max-height:1000px;max-width:1500px;overflow:auto;\">\n",
       "        <table border=\"1\" class=\"Relation\">\n",
       "            <thead> <tr style=\"text-align: right;\"> <th> <div class=\"djtooltip\">\n",
       "                            <p id=\"primary\">electrode_config_hash</p>\n",
       "                            <span class=\"djtooltiptext\"></span>\n",
       "                        </div></th><th><div class=\"djtooltip\">\n",
       "                            <p id=\"primary\">probe_type</p>\n",
       "                            <span class=\"djtooltiptext\">e.g. neuropixels_1.0</span>\n",
       "                        </div></th><th><div class=\"djtooltip\">\n",
       "                            <p id=\"primary\">electrode</p>\n",
       "                            <span class=\"djtooltiptext\">electrode index, starts at 0</span>\n",
       "                        </div> </th> </tr> </thead>\n",
       "            <tbody> <tr> <td>6f6d8149-1603-9d2c-f884-0fdf995ec8b3</td>\n",
       "<td>neuropixels 1.0 - 3B</td>\n",
       "<td>0</td></tr><tr><td>6f6d8149-1603-9d2c-f884-0fdf995ec8b3</td>\n",
       "<td>neuropixels 1.0 - 3B</td>\n",
       "<td>1</td></tr><tr><td>6f6d8149-1603-9d2c-f884-0fdf995ec8b3</td>\n",
       "<td>neuropixels 1.0 - 3B</td>\n",
       "<td>2</td></tr><tr><td>6f6d8149-1603-9d2c-f884-0fdf995ec8b3</td>\n",
       "<td>neuropixels 1.0 - 3B</td>\n",
       "<td>3</td></tr><tr><td>6f6d8149-1603-9d2c-f884-0fdf995ec8b3</td>\n",
       "<td>neuropixels 1.0 - 3B</td>\n",
       "<td>4</td></tr><tr><td>6f6d8149-1603-9d2c-f884-0fdf995ec8b3</td>\n",
       "<td>neuropixels 1.0 - 3B</td>\n",
       "<td>5</td></tr><tr><td>6f6d8149-1603-9d2c-f884-0fdf995ec8b3</td>\n",
       "<td>neuropixels 1.0 - 3B</td>\n",
       "<td>6</td></tr><tr><td>6f6d8149-1603-9d2c-f884-0fdf995ec8b3</td>\n",
       "<td>neuropixels 1.0 - 3B</td>\n",
       "<td>7</td></tr><tr><td>6f6d8149-1603-9d2c-f884-0fdf995ec8b3</td>\n",
       "<td>neuropixels 1.0 - 3B</td>\n",
       "<td>8</td></tr><tr><td>6f6d8149-1603-9d2c-f884-0fdf995ec8b3</td>\n",
       "<td>neuropixels 1.0 - 3B</td>\n",
       "<td>9</td></tr><tr><td>6f6d8149-1603-9d2c-f884-0fdf995ec8b3</td>\n",
       "<td>neuropixels 1.0 - 3B</td>\n",
       "<td>10</td></tr><tr><td>6f6d8149-1603-9d2c-f884-0fdf995ec8b3</td>\n",
       "<td>neuropixels 1.0 - 3B</td>\n",
       "<td>11</td> </tr> </tbody>\n",
       "        </table>\n",
       "        <p>...</p>\n",
       "        <p>Total: 384</p></div>\n",
       "        "
      ]
     },
     "metadata": {},
     "execution_count": 15
    }
   ],
   "metadata": {}
  },
  {
   "cell_type": "markdown",
   "source": [
    "2. **ephys_element.EphysRecording**: note here that it refers to a particular electrode_config identified with a hash."
   ],
   "metadata": {}
  },
  {
   "cell_type": "code",
   "execution_count": 16,
   "source": [
    "ephys_element.EphysRecording()"
   ],
   "outputs": [
    {
     "output_type": "execute_result",
     "data": {
      "text/plain": [
       "*sessid    *ratname    *insertion_num electrode_conf acq_software   sampling_rate \n",
       "+--------+ +---------+ +------------+ +------------+ +------------+ +------------+\n",
       "724159     A230        0              6f6d8149-1603- SpikeGLX       30000.5       \n",
       "725723     A230        0              6f6d8149-1603- SpikeGLX       30000.5       \n",
       "787269     A249        0              6f6d8149-1603- SpikeGLX       30000.2       \n",
       "787674     A256        0              6f6d8149-1603- SpikeGLX       30000.2       \n",
       " (Total: 4)"
      ],
      "text/html": [
       "\n",
       "    \n",
       "    <style type=\"text/css\">\n",
       "        .Relation{\n",
       "            border-collapse:collapse;\n",
       "        }\n",
       "        .Relation th{\n",
       "            background: #A0A0A0; color: #ffffff; padding:4px; border:#f0e0e0 1px solid;\n",
       "            font-weight: normal; font-family: monospace; font-size: 100%;\n",
       "        }\n",
       "        .Relation td{\n",
       "            padding:4px; border:#f0e0e0 1px solid; font-size:100%;\n",
       "        }\n",
       "        .Relation tr:nth-child(odd){\n",
       "            background: #ffffff;\n",
       "        }\n",
       "        .Relation tr:nth-child(even){\n",
       "            background: #f3f1ff;\n",
       "        }\n",
       "        /* Tooltip container */\n",
       "        .djtooltip {\n",
       "        }\n",
       "        /* Tooltip text */\n",
       "        .djtooltip .djtooltiptext {\n",
       "            visibility: hidden;\n",
       "            width: 120px;\n",
       "            background-color: black;\n",
       "            color: #fff;\n",
       "            text-align: center;\n",
       "            padding: 5px 0;\n",
       "            border-radius: 6px;\n",
       "            /* Position the tooltip text - see examples below! */\n",
       "            position: absolute;\n",
       "            z-index: 1;\n",
       "        }\n",
       "        #primary {\n",
       "            font-weight: bold;\n",
       "            color: black;\n",
       "        }\n",
       "        #nonprimary {\n",
       "            font-weight: normal;\n",
       "            color: white;\n",
       "        }\n",
       "\n",
       "        /* Show the tooltip text when you mouse over the tooltip container */\n",
       "        .djtooltip:hover .djtooltiptext {\n",
       "            visibility: visible;\n",
       "        }\n",
       "    </style>\n",
       "    \n",
       "    <b></b>\n",
       "        <div style=\"max-height:1000px;max-width:1500px;overflow:auto;\">\n",
       "        <table border=\"1\" class=\"Relation\">\n",
       "            <thead> <tr style=\"text-align: right;\"> <th> <div class=\"djtooltip\">\n",
       "                            <p id=\"primary\">sessid</p>\n",
       "                            <span class=\"djtooltiptext\">Unique number assigned to each training session</span>\n",
       "                        </div></th><th><div class=\"djtooltip\">\n",
       "                            <p id=\"primary\">ratname</p>\n",
       "                            <span class=\"djtooltiptext\">Unique rat name, 1 letter 3 numbers</span>\n",
       "                        </div></th><th><div class=\"djtooltip\">\n",
       "                            <p id=\"primary\">insertion_number</p>\n",
       "                            <span class=\"djtooltiptext\"></span>\n",
       "                        </div></th><th><div class=\"djtooltip\">\n",
       "                            <p id=\"nonprimary\">electrode_config_hash</p>\n",
       "                            <span class=\"djtooltiptext\"></span>\n",
       "                        </div></th><th><div class=\"djtooltip\">\n",
       "                            <p id=\"nonprimary\">acq_software</p>\n",
       "                            <span class=\"djtooltiptext\"></span>\n",
       "                        </div></th><th><div class=\"djtooltip\">\n",
       "                            <p id=\"nonprimary\">sampling_rate</p>\n",
       "                            <span class=\"djtooltiptext\">(Hz)</span>\n",
       "                        </div> </th> </tr> </thead>\n",
       "            <tbody> <tr> <td>724159</td>\n",
       "<td>A230</td>\n",
       "<td>0</td>\n",
       "<td>6f6d8149-1603-9d2c-f884-0fdf995ec8b3</td>\n",
       "<td>SpikeGLX</td>\n",
       "<td>30000.5</td></tr><tr><td>725723</td>\n",
       "<td>A230</td>\n",
       "<td>0</td>\n",
       "<td>6f6d8149-1603-9d2c-f884-0fdf995ec8b3</td>\n",
       "<td>SpikeGLX</td>\n",
       "<td>30000.5</td></tr><tr><td>787269</td>\n",
       "<td>A249</td>\n",
       "<td>0</td>\n",
       "<td>6f6d8149-1603-9d2c-f884-0fdf995ec8b3</td>\n",
       "<td>SpikeGLX</td>\n",
       "<td>30000.2</td></tr><tr><td>787674</td>\n",
       "<td>A256</td>\n",
       "<td>0</td>\n",
       "<td>6f6d8149-1603-9d2c-f884-0fdf995ec8b3</td>\n",
       "<td>SpikeGLX</td>\n",
       "<td>30000.2</td> </tr> </tbody>\n",
       "        </table>\n",
       "        \n",
       "        <p>Total: 4</p></div>\n",
       "        "
      ]
     },
     "metadata": {},
     "execution_count": 16
    }
   ],
   "metadata": {}
  },
  {
   "cell_type": "markdown",
   "source": [
    "3. **ephys_element.EphysRecording.EphysFile**"
   ],
   "metadata": {}
  },
  {
   "cell_type": "code",
   "execution_count": 17,
   "source": [
    "ephys_element.EphysRecording.EphysFile() & session_key"
   ],
   "outputs": [
    {
     "output_type": "execute_result",
     "data": {
      "text/plain": [
       "*sessid    *ratname    *insertion_num *file_path    \n",
       "+--------+ +---------+ +------------+ +------------+\n",
       "725723     A230        0              Adrian/A230/A2\n",
       " (Total: 1)"
      ],
      "text/html": [
       "\n",
       "    \n",
       "    <style type=\"text/css\">\n",
       "        .Relation{\n",
       "            border-collapse:collapse;\n",
       "        }\n",
       "        .Relation th{\n",
       "            background: #A0A0A0; color: #ffffff; padding:4px; border:#f0e0e0 1px solid;\n",
       "            font-weight: normal; font-family: monospace; font-size: 100%;\n",
       "        }\n",
       "        .Relation td{\n",
       "            padding:4px; border:#f0e0e0 1px solid; font-size:100%;\n",
       "        }\n",
       "        .Relation tr:nth-child(odd){\n",
       "            background: #ffffff;\n",
       "        }\n",
       "        .Relation tr:nth-child(even){\n",
       "            background: #f3f1ff;\n",
       "        }\n",
       "        /* Tooltip container */\n",
       "        .djtooltip {\n",
       "        }\n",
       "        /* Tooltip text */\n",
       "        .djtooltip .djtooltiptext {\n",
       "            visibility: hidden;\n",
       "            width: 120px;\n",
       "            background-color: black;\n",
       "            color: #fff;\n",
       "            text-align: center;\n",
       "            padding: 5px 0;\n",
       "            border-radius: 6px;\n",
       "            /* Position the tooltip text - see examples below! */\n",
       "            position: absolute;\n",
       "            z-index: 1;\n",
       "        }\n",
       "        #primary {\n",
       "            font-weight: bold;\n",
       "            color: black;\n",
       "        }\n",
       "        #nonprimary {\n",
       "            font-weight: normal;\n",
       "            color: white;\n",
       "        }\n",
       "\n",
       "        /* Show the tooltip text when you mouse over the tooltip container */\n",
       "        .djtooltip:hover .djtooltiptext {\n",
       "            visibility: visible;\n",
       "        }\n",
       "    </style>\n",
       "    \n",
       "    <b></b>\n",
       "        <div style=\"max-height:1000px;max-width:1500px;overflow:auto;\">\n",
       "        <table border=\"1\" class=\"Relation\">\n",
       "            <thead> <tr style=\"text-align: right;\"> <th> <div class=\"djtooltip\">\n",
       "                            <p id=\"primary\">sessid</p>\n",
       "                            <span class=\"djtooltiptext\">Unique number assigned to each training session</span>\n",
       "                        </div></th><th><div class=\"djtooltip\">\n",
       "                            <p id=\"primary\">ratname</p>\n",
       "                            <span class=\"djtooltiptext\">Unique rat name, 1 letter 3 numbers</span>\n",
       "                        </div></th><th><div class=\"djtooltip\">\n",
       "                            <p id=\"primary\">insertion_number</p>\n",
       "                            <span class=\"djtooltiptext\"></span>\n",
       "                        </div></th><th><div class=\"djtooltip\">\n",
       "                            <p id=\"primary\">file_path</p>\n",
       "                            <span class=\"djtooltiptext\">filepath relative to root data directory</span>\n",
       "                        </div> </th> </tr> </thead>\n",
       "            <tbody> <tr> <td>725723</td>\n",
       "<td>A230</td>\n",
       "<td>0</td>\n",
       "<td>Adrian/A230/A230_2019-08-26_g0/A230_2019-08-26_g0_imec0/A230_2019-08-26_g0_t0.imec0.ap.meta</td> </tr> </tbody>\n",
       "        </table>\n",
       "        \n",
       "        <p>Total: 1</p></div>\n",
       "        "
      ]
     },
     "metadata": {},
     "execution_count": 17
    }
   ],
   "metadata": {}
  },
  {
   "cell_type": "markdown",
   "source": [
    "## Create ClusteringTask and run/validate Clustering"
   ],
   "metadata": {}
  },
  {
   "cell_type": "code",
   "execution_count": 18,
   "source": [
    "dj.Diagram(ephys_element.EphysRecording) + ephys_element.ClusteringParamSet + ephys_element.ClusteringTask + \\\n",
    "ephys_element.Clustering"
   ],
   "outputs": [
    {
     "output_type": "execute_result",
     "data": {
      "text/plain": [
       "<datajoint.diagram.Diagram at 0x22009ebc748>"
      ],
      "image/svg+xml": "<svg height=\"185pt\" viewBox=\"0.00 0.00 430.12 185.00\" width=\"430pt\" xmlns=\"http://www.w3.org/2000/svg\" xmlns:xlink=\"http://www.w3.org/1999/xlink\">\n<g class=\"graph\" id=\"graph0\" transform=\"scale(1 1) rotate(0) translate(4 181)\">\n<polygon fill=\"white\" points=\"-4,4 -4,-181 426.12,-181 426.12,4 -4,4\" stroke=\"transparent\"/>\n<!-- ephys_element.EphysRecording -->\n<g class=\"node\" id=\"node1\">\n<title>ephys_element.EphysRecording</title>\n<g id=\"a_node1\"><a xlink:title=\"→ acquisition.Sessions\r\n→ ephys_element.ProbeInsertion\r\n------------------------------\r\n→ probe_element.ElectrodeConfig\r\n→ ephys_element.AcquisitionSoftware\r\nsampling_rate        \r\n\">\n<ellipse cx=\"115.62\" cy=\"-159.5\" fill=\"#00007f\" fill-opacity=\"0.250980\" rx=\"115.75\" ry=\"17.5\" stroke=\"#00007f\" stroke-opacity=\"0.250980\"/>\n<text fill=\"#00007f\" fill-opacity=\"0.627451\" font-family=\"arial\" font-size=\"12.00\" text-anchor=\"middle\" x=\"115.62\" y=\"-156.4\">ephys_element.EphysRecording</text>\n</a>\n</g>\n</g>\n<!-- ephys_element.ClusteringTask -->\n<g class=\"node\" id=\"node2\">\n<title>ephys_element.ClusteringTask</title>\n<g id=\"a_node2\"><a xlink:title=\"→ ephys_element.EphysRecording\r\n→ ephys_element.ClusteringParamSet\r\n------------------------------\r\nclustering_output_dir \r\ntask_mode=&quot;load&quot;     \r\n\">\n<polygon fill=\"#00ff00\" fill-opacity=\"0.188235\" points=\"313.62,-106 137.62,-106 137.62,-71 313.62,-71 313.62,-106\" stroke=\"#00ff00\" stroke-opacity=\"0.188235\"/>\n<text fill=\"darkgreen\" font-family=\"arial\" font-size=\"12.00\" text-anchor=\"middle\" x=\"225.62\" y=\"-85.4\">ephys_element.ClusteringTask</text>\n</a>\n</g>\n</g>\n<!-- ephys_element.EphysRecording&#45;&gt;ephys_element.ClusteringTask -->\n<g class=\"edge\" id=\"edge1\">\n<title>ephys_element.EphysRecording-&gt;ephys_element.ClusteringTask</title>\n<path d=\"M141.42,-142.32C158.81,-131.41 181.71,-117.05 199.23,-106.06\" fill=\"none\" stroke=\"#000000\" stroke-opacity=\"0.250980\" stroke-width=\"0.75\"/>\n</g>\n<!-- ephys_element.Clustering -->\n<g class=\"node\" id=\"node4\">\n<title>ephys_element.Clustering</title>\n<g id=\"a_node4\"><a xlink:title=\"→ ephys_element.ClusteringTask\r\n------------------------------\r\nclustering_time      \r\n\">\n<ellipse cx=\"225.62\" cy=\"-17.5\" fill=\"#00007f\" fill-opacity=\"0.250980\" rx=\"94.25\" ry=\"17.5\" stroke=\"#00007f\" stroke-opacity=\"0.250980\"/>\n<text fill=\"#00007f\" fill-opacity=\"0.627451\" font-family=\"arial\" font-size=\"12.00\" text-anchor=\"middle\" x=\"225.62\" y=\"-14.4\">ephys_element.Clustering</text>\n</a>\n</g>\n</g>\n<!-- ephys_element.ClusteringTask&#45;&gt;ephys_element.Clustering -->\n<g class=\"edge\" id=\"edge2\">\n<title>ephys_element.ClusteringTask-&gt;ephys_element.Clustering</title>\n<path d=\"M225.62,-70.8C225.62,-59.95 225.62,-45.87 225.62,-35.05\" fill=\"none\" stroke=\"#000000\" stroke-opacity=\"0.250980\" stroke-width=\"2\"/>\n</g>\n<!-- ephys_element.ClusteringParamSet -->\n<g class=\"node\" id=\"node3\">\n<title>ephys_element.ClusteringParamSet</title>\n<g id=\"a_node3\"><a xlink:title=\"paramset_idx         \r\n------------------------------\r\n→ ephys_element.ClusteringMethod\r\nparamset_desc        \r\nparam_set_hash       \r\nparams               \r\nUNIQUE INDEX (param_set_hash)\r\n\">\n<polygon fill=\"#000000\" fill-opacity=\"0.125490\" points=\"422.12,-177 249.12,-177 249.12,-142 422.12,-142 422.12,-177\" stroke=\"transparent\"/>\n<text font-family=\"arial\" font-size=\"10.00\" text-anchor=\"start\" text-decoration=\"underline\" x=\"257.12\" y=\"-158\">ephys_element.ClusteringParamSet</text>\n</a>\n</g>\n</g>\n<!-- ephys_element.ClusteringParamSet&#45;&gt;ephys_element.ClusteringTask -->\n<g class=\"edge\" id=\"edge3\">\n<title>ephys_element.ClusteringParamSet-&gt;ephys_element.ClusteringTask</title>\n<path d=\"M309.28,-141.97C291.99,-131.13 269.46,-117 252.14,-106.13\" fill=\"none\" stroke=\"#000000\" stroke-opacity=\"0.250980\" stroke-width=\"0.75\"/>\n</g>\n</g>\n</svg>"
     },
     "metadata": {},
     "execution_count": 18
    }
   ],
   "metadata": {}
  },
  {
   "cell_type": "markdown",
   "source": [
    "The next major table in the ephys pipeline is the `ClusteringTask`.\n",
    "\n",
    "+ In the future release of ephys elements, we will aim to trigger Clustering within the workflow, and register an entry in `ClusteringTask` is a manual step to let the pipeline know that there is a Clustering Task to be processed.\n",
    "\n",
    "+ Currently, we have not supported the processing of Kilosort2 within the workflow. `ClusteringTask` is a place holder\n",
    "indicating a Kilosort2 clustering task is finished and the clustering results are ready for processing. \n",
    "\n",
    "+ The `ClusteringTask` table depends on the table `ClusteringParamSet`, which are the parameters of the clustering task and needed to be inserted first. "
   ],
   "metadata": {}
  },
  {
   "cell_type": "markdown",
   "source": [
    "A method of the class `ClusteringParamSet` called `insert_new_params` helps on the insertion of params_set"
   ],
   "metadata": {}
  },
  {
   "cell_type": "code",
   "execution_count": 19,
   "source": [
    "# insert clustering task manually\n",
    "params_ks = {\n",
    "    \"fs\": 30000,\n",
    "    \"fshigh\": 150,\n",
    "    \"minfr_goodchannels\": 0.1,\n",
    "    \"Th\": [10, 4],\n",
    "    \"lam\": 10,\n",
    "    \"AUCsplit\": 0.9,\n",
    "    \"minFR\": 0.02,\n",
    "    \"momentum\": [20, 400],\n",
    "    \"sigmaMask\": 30,\n",
    "    \"ThPr\": 8,\n",
    "    \"spkTh\": -6,\n",
    "    \"reorder\": 1,\n",
    "    \"nskip\": 25,\n",
    "    \"GPU\": 1,\n",
    "    \"Nfilt\": 1024,\n",
    "    \"nfilt_factor\": 4,\n",
    "    \"ntbuff\": 64,\n",
    "    \"whiteningRange\": 32,\n",
    "    \"nSkipCov\": 25,\n",
    "    \"scaleproc\": 200,\n",
    "    \"nPCs\": 3,\n",
    "    \"useRAM\": 0\n",
    "}\n",
    "ephys_element.ClusteringParamSet.insert_new_params(\n",
    "    'kilosort2', 0, 'Spike sorting using Kilosort2', params_ks)\n",
    "ephys_element.ClusteringParamSet()"
   ],
   "outputs": [
    {
     "output_type": "execute_result",
     "data": {
      "text/plain": [
       "*paramset_idx  clustering_met paramset_desc  param_set_hash params    \n",
       "+------------+ +------------+ +------------+ +------------+ +--------+\n",
       "0              kilosort2      Spike sorting  83f93e90-d8e0- =BLOB=    \n",
       " (Total: 1)"
      ],
      "text/html": [
       "\n",
       "    \n",
       "    <style type=\"text/css\">\n",
       "        .Relation{\n",
       "            border-collapse:collapse;\n",
       "        }\n",
       "        .Relation th{\n",
       "            background: #A0A0A0; color: #ffffff; padding:4px; border:#f0e0e0 1px solid;\n",
       "            font-weight: normal; font-family: monospace; font-size: 100%;\n",
       "        }\n",
       "        .Relation td{\n",
       "            padding:4px; border:#f0e0e0 1px solid; font-size:100%;\n",
       "        }\n",
       "        .Relation tr:nth-child(odd){\n",
       "            background: #ffffff;\n",
       "        }\n",
       "        .Relation tr:nth-child(even){\n",
       "            background: #f3f1ff;\n",
       "        }\n",
       "        /* Tooltip container */\n",
       "        .djtooltip {\n",
       "        }\n",
       "        /* Tooltip text */\n",
       "        .djtooltip .djtooltiptext {\n",
       "            visibility: hidden;\n",
       "            width: 120px;\n",
       "            background-color: black;\n",
       "            color: #fff;\n",
       "            text-align: center;\n",
       "            padding: 5px 0;\n",
       "            border-radius: 6px;\n",
       "            /* Position the tooltip text - see examples below! */\n",
       "            position: absolute;\n",
       "            z-index: 1;\n",
       "        }\n",
       "        #primary {\n",
       "            font-weight: bold;\n",
       "            color: black;\n",
       "        }\n",
       "        #nonprimary {\n",
       "            font-weight: normal;\n",
       "            color: white;\n",
       "        }\n",
       "\n",
       "        /* Show the tooltip text when you mouse over the tooltip container */\n",
       "        .djtooltip:hover .djtooltiptext {\n",
       "            visibility: visible;\n",
       "        }\n",
       "    </style>\n",
       "    \n",
       "    <b></b>\n",
       "        <div style=\"max-height:1000px;max-width:1500px;overflow:auto;\">\n",
       "        <table border=\"1\" class=\"Relation\">\n",
       "            <thead> <tr style=\"text-align: right;\"> <th> <div class=\"djtooltip\">\n",
       "                            <p id=\"primary\">paramset_idx</p>\n",
       "                            <span class=\"djtooltiptext\"></span>\n",
       "                        </div></th><th><div class=\"djtooltip\">\n",
       "                            <p id=\"nonprimary\">clustering_method</p>\n",
       "                            <span class=\"djtooltiptext\"></span>\n",
       "                        </div></th><th><div class=\"djtooltip\">\n",
       "                            <p id=\"nonprimary\">paramset_desc</p>\n",
       "                            <span class=\"djtooltiptext\"></span>\n",
       "                        </div></th><th><div class=\"djtooltip\">\n",
       "                            <p id=\"nonprimary\">param_set_hash</p>\n",
       "                            <span class=\"djtooltiptext\"></span>\n",
       "                        </div></th><th><div class=\"djtooltip\">\n",
       "                            <p id=\"nonprimary\">params</p>\n",
       "                            <span class=\"djtooltiptext\">dictionary of all applicable parameters</span>\n",
       "                        </div> </th> </tr> </thead>\n",
       "            <tbody> <tr> <td>0</td>\n",
       "<td>kilosort2</td>\n",
       "<td>Spike sorting using Kilosort2</td>\n",
       "<td>83f93e90-d8e0-1dca-5b2c-f65e2b0b3c61</td>\n",
       "<td>=BLOB=</td> </tr> </tbody>\n",
       "        </table>\n",
       "        \n",
       "        <p>Total: 1</p></div>\n",
       "        "
      ]
     },
     "metadata": {},
     "execution_count": 19
    }
   ],
   "metadata": {}
  },
  {
   "cell_type": "code",
   "execution_count": 20,
   "source": [
    "ephys_element.ClusteringTask()"
   ],
   "outputs": [
    {
     "output_type": "execute_result",
     "data": {
      "text/plain": [
       "*sessid    *ratname    *insertion_num *paramset_idx  clustering_out task_mode    \n",
       "+--------+ +---------+ +------------+ +------------+ +------------+ +-----------+\n",
       "725723     A230        0              0              Adrian/A230/20 load         \n",
       "787269     A249        0              0              NP_sorted/Adri load         \n",
       "787674     A256        0              0              NP_sorted/Adri load         \n",
       " (Total: 3)"
      ],
      "text/html": [
       "\n",
       "    \n",
       "    <style type=\"text/css\">\n",
       "        .Relation{\n",
       "            border-collapse:collapse;\n",
       "        }\n",
       "        .Relation th{\n",
       "            background: #A0A0A0; color: #ffffff; padding:4px; border:#f0e0e0 1px solid;\n",
       "            font-weight: normal; font-family: monospace; font-size: 100%;\n",
       "        }\n",
       "        .Relation td{\n",
       "            padding:4px; border:#f0e0e0 1px solid; font-size:100%;\n",
       "        }\n",
       "        .Relation tr:nth-child(odd){\n",
       "            background: #ffffff;\n",
       "        }\n",
       "        .Relation tr:nth-child(even){\n",
       "            background: #f3f1ff;\n",
       "        }\n",
       "        /* Tooltip container */\n",
       "        .djtooltip {\n",
       "        }\n",
       "        /* Tooltip text */\n",
       "        .djtooltip .djtooltiptext {\n",
       "            visibility: hidden;\n",
       "            width: 120px;\n",
       "            background-color: black;\n",
       "            color: #fff;\n",
       "            text-align: center;\n",
       "            padding: 5px 0;\n",
       "            border-radius: 6px;\n",
       "            /* Position the tooltip text - see examples below! */\n",
       "            position: absolute;\n",
       "            z-index: 1;\n",
       "        }\n",
       "        #primary {\n",
       "            font-weight: bold;\n",
       "            color: black;\n",
       "        }\n",
       "        #nonprimary {\n",
       "            font-weight: normal;\n",
       "            color: white;\n",
       "        }\n",
       "\n",
       "        /* Show the tooltip text when you mouse over the tooltip container */\n",
       "        .djtooltip:hover .djtooltiptext {\n",
       "            visibility: visible;\n",
       "        }\n",
       "    </style>\n",
       "    \n",
       "    <b></b>\n",
       "        <div style=\"max-height:1000px;max-width:1500px;overflow:auto;\">\n",
       "        <table border=\"1\" class=\"Relation\">\n",
       "            <thead> <tr style=\"text-align: right;\"> <th> <div class=\"djtooltip\">\n",
       "                            <p id=\"primary\">sessid</p>\n",
       "                            <span class=\"djtooltiptext\">Unique number assigned to each training session</span>\n",
       "                        </div></th><th><div class=\"djtooltip\">\n",
       "                            <p id=\"primary\">ratname</p>\n",
       "                            <span class=\"djtooltiptext\">Unique rat name, 1 letter 3 numbers</span>\n",
       "                        </div></th><th><div class=\"djtooltip\">\n",
       "                            <p id=\"primary\">insertion_number</p>\n",
       "                            <span class=\"djtooltiptext\"></span>\n",
       "                        </div></th><th><div class=\"djtooltip\">\n",
       "                            <p id=\"primary\">paramset_idx</p>\n",
       "                            <span class=\"djtooltiptext\"></span>\n",
       "                        </div></th><th><div class=\"djtooltip\">\n",
       "                            <p id=\"nonprimary\">clustering_output_dir</p>\n",
       "                            <span class=\"djtooltiptext\">clustering output directory relative to root data directory</span>\n",
       "                        </div></th><th><div class=\"djtooltip\">\n",
       "                            <p id=\"nonprimary\">task_mode</p>\n",
       "                            <span class=\"djtooltiptext\">'load': load computed analysis results, 'trigger': trigger computation</span>\n",
       "                        </div> </th> </tr> </thead>\n",
       "            <tbody> <tr> <td>725723</td>\n",
       "<td>A230</td>\n",
       "<td>0</td>\n",
       "<td>0</td>\n",
       "<td>Adrian/A230/2019-08-26</td>\n",
       "<td>load</td></tr><tr><td>787269</td>\n",
       "<td>A249</td>\n",
       "<td>0</td>\n",
       "<td>0</td>\n",
       "<td>NP_sorted/Adrian/A249/A249_2020_09_25/A249_2020_09_25_g0/spikesort_2020_11_18_09_57_50_ks2jrc</td>\n",
       "<td>load</td></tr><tr><td>787674</td>\n",
       "<td>A256</td>\n",
       "<td>0</td>\n",
       "<td>0</td>\n",
       "<td>NP_sorted/Adrian/A256/A256_2020_09_28/A256_2020_09_28_g0/spikesort_2020_11_23_09_09_42_ks2jrc</td>\n",
       "<td>load</td> </tr> </tbody>\n",
       "        </table>\n",
       "        \n",
       "        <p>Total: 3</p></div>\n",
       "        "
      ]
     },
     "metadata": {},
     "execution_count": 20
    }
   ],
   "metadata": {}
  },
  {
   "cell_type": "markdown",
   "source": [
    "We are then able to insert an entry into the `ClusteringTask` table. One important field of the table is `clustering_output_dir`, which specifies the Kilosort2 output directory for the later processing.  \n",
    "**Note**: this output dir is a relative path to be combined with `clustering_root_directory` in the config file."
   ],
   "metadata": {}
  },
  {
   "cell_type": "code",
   "execution_count": 21,
   "source": [
    "clust_dir = get_session_cluster_rel_directory(session_key)\n",
    "ephys_element.ClusteringTask.insert1(\n",
    "    dict(session_key, ratname=session_info['session_rat'], insertion_number=0, paramset_idx=0, clustering_output_dir=clust_dir), skip_duplicates=True)"
   ],
   "outputs": [],
   "metadata": {}
  },
  {
   "cell_type": "code",
   "execution_count": 22,
   "source": [
    "ephys_element.ClusteringTask() & session_key"
   ],
   "outputs": [
    {
     "output_type": "execute_result",
     "data": {
      "text/plain": [
       "*sessid    *ratname    *insertion_num *paramset_idx  clustering_out task_mode    \n",
       "+--------+ +---------+ +------------+ +------------+ +------------+ +-----------+\n",
       "725723     A230        0              0              Adrian/A230/20 load         \n",
       " (Total: 1)"
      ],
      "text/html": [
       "\n",
       "    \n",
       "    <style type=\"text/css\">\n",
       "        .Relation{\n",
       "            border-collapse:collapse;\n",
       "        }\n",
       "        .Relation th{\n",
       "            background: #A0A0A0; color: #ffffff; padding:4px; border:#f0e0e0 1px solid;\n",
       "            font-weight: normal; font-family: monospace; font-size: 100%;\n",
       "        }\n",
       "        .Relation td{\n",
       "            padding:4px; border:#f0e0e0 1px solid; font-size:100%;\n",
       "        }\n",
       "        .Relation tr:nth-child(odd){\n",
       "            background: #ffffff;\n",
       "        }\n",
       "        .Relation tr:nth-child(even){\n",
       "            background: #f3f1ff;\n",
       "        }\n",
       "        /* Tooltip container */\n",
       "        .djtooltip {\n",
       "        }\n",
       "        /* Tooltip text */\n",
       "        .djtooltip .djtooltiptext {\n",
       "            visibility: hidden;\n",
       "            width: 120px;\n",
       "            background-color: black;\n",
       "            color: #fff;\n",
       "            text-align: center;\n",
       "            padding: 5px 0;\n",
       "            border-radius: 6px;\n",
       "            /* Position the tooltip text - see examples below! */\n",
       "            position: absolute;\n",
       "            z-index: 1;\n",
       "        }\n",
       "        #primary {\n",
       "            font-weight: bold;\n",
       "            color: black;\n",
       "        }\n",
       "        #nonprimary {\n",
       "            font-weight: normal;\n",
       "            color: white;\n",
       "        }\n",
       "\n",
       "        /* Show the tooltip text when you mouse over the tooltip container */\n",
       "        .djtooltip:hover .djtooltiptext {\n",
       "            visibility: visible;\n",
       "        }\n",
       "    </style>\n",
       "    \n",
       "    <b></b>\n",
       "        <div style=\"max-height:1000px;max-width:1500px;overflow:auto;\">\n",
       "        <table border=\"1\" class=\"Relation\">\n",
       "            <thead> <tr style=\"text-align: right;\"> <th> <div class=\"djtooltip\">\n",
       "                            <p id=\"primary\">sessid</p>\n",
       "                            <span class=\"djtooltiptext\">Unique number assigned to each training session</span>\n",
       "                        </div></th><th><div class=\"djtooltip\">\n",
       "                            <p id=\"primary\">ratname</p>\n",
       "                            <span class=\"djtooltiptext\">Unique rat name, 1 letter 3 numbers</span>\n",
       "                        </div></th><th><div class=\"djtooltip\">\n",
       "                            <p id=\"primary\">insertion_number</p>\n",
       "                            <span class=\"djtooltiptext\"></span>\n",
       "                        </div></th><th><div class=\"djtooltip\">\n",
       "                            <p id=\"primary\">paramset_idx</p>\n",
       "                            <span class=\"djtooltiptext\"></span>\n",
       "                        </div></th><th><div class=\"djtooltip\">\n",
       "                            <p id=\"nonprimary\">clustering_output_dir</p>\n",
       "                            <span class=\"djtooltiptext\">clustering output directory relative to root data directory</span>\n",
       "                        </div></th><th><div class=\"djtooltip\">\n",
       "                            <p id=\"nonprimary\">task_mode</p>\n",
       "                            <span class=\"djtooltiptext\">'load': load computed analysis results, 'trigger': trigger computation</span>\n",
       "                        </div> </th> </tr> </thead>\n",
       "            <tbody> <tr> <td>725723</td>\n",
       "<td>A230</td>\n",
       "<td>0</td>\n",
       "<td>0</td>\n",
       "<td>Adrian/A230/2019-08-26</td>\n",
       "<td>load</td> </tr> </tbody>\n",
       "        </table>\n",
       "        \n",
       "        <p>Total: 1</p></div>\n",
       "        "
      ]
     },
     "metadata": {},
     "execution_count": 22
    }
   ],
   "metadata": {}
  },
  {
   "cell_type": "markdown",
   "source": [
    "We are then able to populate the clustering results. The `Clustering` table now validates the Kilosort2 outcomes before ingesting the spike sorted results. In the future release of elements-ephys, this table will be used to trigger Kilosort2. A record in the `Clustering` indicates that Kilosort2 job is done successfully and the results are ready to be processed."
   ],
   "metadata": {}
  },
  {
   "cell_type": "code",
   "execution_count": 23,
   "source": [
    "ephys_element.Clustering.populate(session_key, display_progress=True)"
   ],
   "outputs": [
    {
     "output_type": "stream",
     "name": "stderr",
     "text": [
      "Clustering:   0%|          | 0/1 [00:00<?, ?it/s]\n"
     ]
    },
    {
     "output_type": "error",
     "ename": "FileNotFoundError",
     "evalue": "No valid full-path found (from [WindowsPath('//apps02.pni.princeton.edu/archive-labdata/brody/RATTER/PhysData/Raw')]) for Adrian\\A230\\2019-08-26",
     "traceback": [
      "\u001b[1;31m---------------------------------------------------------------------------\u001b[0m",
      "\u001b[1;31mFileNotFoundError\u001b[0m                         Traceback (most recent call last)",
      "\u001b[1;32m~\\AppData\\Local\\Temp/ipykernel_7376/473540791.py\u001b[0m in \u001b[0;36m<module>\u001b[1;34m\u001b[0m\n\u001b[1;32m----> 1\u001b[1;33m \u001b[0mephys_element\u001b[0m\u001b[1;33m.\u001b[0m\u001b[0mClustering\u001b[0m\u001b[1;33m.\u001b[0m\u001b[0mpopulate\u001b[0m\u001b[1;33m(\u001b[0m\u001b[0msession_key\u001b[0m\u001b[1;33m,\u001b[0m \u001b[0mdisplay_progress\u001b[0m\u001b[1;33m=\u001b[0m\u001b[1;32mTrue\u001b[0m\u001b[1;33m)\u001b[0m\u001b[1;33m\u001b[0m\u001b[1;33m\u001b[0m\u001b[0m\n\u001b[0m",
      "\u001b[1;32mc:\\users\\stephan\\anaconda3\\envs\\brody_ephys_elements_two\\lib\\site-packages\\datajoint\\autopopulate.py\u001b[0m in \u001b[0;36mpopulate\u001b[1;34m(self, suppress_errors, return_exception_objects, reserve_jobs, order, limit, max_calls, display_progress, *restrictions)\u001b[0m\n\u001b[0;32m    151\u001b[0m                     \u001b[0mself\u001b[0m\u001b[1;33m.\u001b[0m\u001b[0m__class__\u001b[0m\u001b[1;33m.\u001b[0m\u001b[0m_allow_insert\u001b[0m \u001b[1;33m=\u001b[0m \u001b[1;32mTrue\u001b[0m\u001b[1;33m\u001b[0m\u001b[1;33m\u001b[0m\u001b[0m\n\u001b[0;32m    152\u001b[0m                     \u001b[1;32mtry\u001b[0m\u001b[1;33m:\u001b[0m\u001b[1;33m\u001b[0m\u001b[1;33m\u001b[0m\u001b[0m\n\u001b[1;32m--> 153\u001b[1;33m                         \u001b[0mmake\u001b[0m\u001b[1;33m(\u001b[0m\u001b[0mdict\u001b[0m\u001b[1;33m(\u001b[0m\u001b[0mkey\u001b[0m\u001b[1;33m)\u001b[0m\u001b[1;33m)\u001b[0m\u001b[1;33m\u001b[0m\u001b[1;33m\u001b[0m\u001b[0m\n\u001b[0m\u001b[0;32m    154\u001b[0m                     \u001b[1;32mexcept\u001b[0m \u001b[1;33m(\u001b[0m\u001b[0mKeyboardInterrupt\u001b[0m\u001b[1;33m,\u001b[0m \u001b[0mSystemExit\u001b[0m\u001b[1;33m,\u001b[0m \u001b[0mException\u001b[0m\u001b[1;33m)\u001b[0m \u001b[1;32mas\u001b[0m \u001b[0merror\u001b[0m\u001b[1;33m:\u001b[0m\u001b[1;33m\u001b[0m\u001b[1;33m\u001b[0m\u001b[0m\n\u001b[0;32m    155\u001b[0m                         \u001b[1;32mtry\u001b[0m\u001b[1;33m:\u001b[0m\u001b[1;33m\u001b[0m\u001b[1;33m\u001b[0m\u001b[0m\n",
      "\u001b[1;32mc:\\users\\stephan\\anaconda3\\envs\\brody_ephys_elements_two\\lib\\site-packages\\element_array_ephys\\ephys.py\u001b[0m in \u001b[0;36mmake\u001b[1;34m(self, key)\u001b[0m\n\u001b[0;32m    426\u001b[0m         task_mode, output_dir = (ClusteringTask & key).fetch1(\n\u001b[0;32m    427\u001b[0m             'task_mode', 'clustering_output_dir')\n\u001b[1;32m--> 428\u001b[1;33m         \u001b[0mkilosort_dir\u001b[0m \u001b[1;33m=\u001b[0m \u001b[0mfind_full_path\u001b[0m\u001b[1;33m(\u001b[0m\u001b[0mget_ephys_root_data_dir\u001b[0m\u001b[1;33m(\u001b[0m\u001b[1;33m)\u001b[0m\u001b[1;33m,\u001b[0m \u001b[0moutput_dir\u001b[0m\u001b[1;33m)\u001b[0m\u001b[1;33m\u001b[0m\u001b[1;33m\u001b[0m\u001b[0m\n\u001b[0m\u001b[0;32m    429\u001b[0m \u001b[1;33m\u001b[0m\u001b[0m\n\u001b[0;32m    430\u001b[0m         \u001b[1;32mif\u001b[0m \u001b[0mtask_mode\u001b[0m \u001b[1;33m==\u001b[0m \u001b[1;34m'load'\u001b[0m\u001b[1;33m:\u001b[0m\u001b[1;33m\u001b[0m\u001b[1;33m\u001b[0m\u001b[0m\n",
      "\u001b[1;32mc:\\users\\stephan\\anaconda3\\envs\\brody_ephys_elements_two\\lib\\site-packages\\element_array_ephys\\__init__.py\u001b[0m in \u001b[0;36mfind_full_path\u001b[1;34m(root_directories, relative_path)\u001b[0m\n\u001b[0;32m     28\u001b[0m \u001b[1;33m\u001b[0m\u001b[0m\n\u001b[0;32m     29\u001b[0m     raise FileNotFoundError('No valid full-path found (from {})'\n\u001b[1;32m---> 30\u001b[1;33m                             ' for {}'.format(root_directories, relative_path))\n\u001b[0m\u001b[0;32m     31\u001b[0m \u001b[1;33m\u001b[0m\u001b[0m\n\u001b[0;32m     32\u001b[0m \u001b[1;33m\u001b[0m\u001b[0m\n",
      "\u001b[1;31mFileNotFoundError\u001b[0m: No valid full-path found (from [WindowsPath('//apps02.pni.princeton.edu/archive-labdata/brody/RATTER/PhysData/Raw')]) for Adrian\\A230\\2019-08-26"
     ]
    }
   ],
   "metadata": {}
  },
  {
   "cell_type": "code",
   "execution_count": 14,
   "source": [
    "ephys_element.Clustering() & session_key"
   ],
   "outputs": [
    {
     "output_type": "execute_result",
     "data": {
      "text/plain": [
       "*sessid    *ratname    *insertion_num *paramset_idx  clustering_tim\n",
       "+--------+ +---------+ +------------+ +------------+ +------------+\n",
       "\n",
       " (Total: 0)"
      ],
      "text/html": [
       "\n",
       "    \n",
       "    <style type=\"text/css\">\n",
       "        .Relation{\n",
       "            border-collapse:collapse;\n",
       "        }\n",
       "        .Relation th{\n",
       "            background: #A0A0A0; color: #ffffff; padding:4px; border:#f0e0e0 1px solid;\n",
       "            font-weight: normal; font-family: monospace; font-size: 100%;\n",
       "        }\n",
       "        .Relation td{\n",
       "            padding:4px; border:#f0e0e0 1px solid; font-size:100%;\n",
       "        }\n",
       "        .Relation tr:nth-child(odd){\n",
       "            background: #ffffff;\n",
       "        }\n",
       "        .Relation tr:nth-child(even){\n",
       "            background: #f3f1ff;\n",
       "        }\n",
       "        /* Tooltip container */\n",
       "        .djtooltip {\n",
       "        }\n",
       "        /* Tooltip text */\n",
       "        .djtooltip .djtooltiptext {\n",
       "            visibility: hidden;\n",
       "            width: 120px;\n",
       "            background-color: black;\n",
       "            color: #fff;\n",
       "            text-align: center;\n",
       "            padding: 5px 0;\n",
       "            border-radius: 6px;\n",
       "            /* Position the tooltip text - see examples below! */\n",
       "            position: absolute;\n",
       "            z-index: 1;\n",
       "        }\n",
       "        #primary {\n",
       "            font-weight: bold;\n",
       "            color: black;\n",
       "        }\n",
       "        #nonprimary {\n",
       "            font-weight: normal;\n",
       "            color: white;\n",
       "        }\n",
       "\n",
       "        /* Show the tooltip text when you mouse over the tooltip container */\n",
       "        .djtooltip:hover .djtooltiptext {\n",
       "            visibility: visible;\n",
       "        }\n",
       "    </style>\n",
       "    \n",
       "    <b></b>\n",
       "        <div style=\"max-height:1000px;max-width:1500px;overflow:auto;\">\n",
       "        <table border=\"1\" class=\"Relation\">\n",
       "            <thead> <tr style=\"text-align: right;\"> <th> <div class=\"djtooltip\">\n",
       "                            <p id=\"primary\">sessid</p>\n",
       "                            <span class=\"djtooltiptext\">Unique number assigned to each training session</span>\n",
       "                        </div></th><th><div class=\"djtooltip\">\n",
       "                            <p id=\"primary\">ratname</p>\n",
       "                            <span class=\"djtooltiptext\">Unique rat name, 1 letter 3 numbers</span>\n",
       "                        </div></th><th><div class=\"djtooltip\">\n",
       "                            <p id=\"primary\">insertion_number</p>\n",
       "                            <span class=\"djtooltiptext\"></span>\n",
       "                        </div></th><th><div class=\"djtooltip\">\n",
       "                            <p id=\"primary\">paramset_idx</p>\n",
       "                            <span class=\"djtooltiptext\"></span>\n",
       "                        </div></th><th><div class=\"djtooltip\">\n",
       "                            <p id=\"nonprimary\">clustering_time</p>\n",
       "                            <span class=\"djtooltiptext\">time of generation of this set of clustering results</span>\n",
       "                        </div> </th> </tr> </thead>\n",
       "            <tbody> <tr>  </tr> </tbody>\n",
       "        </table>\n",
       "        \n",
       "        <p>Total: 0</p></div>\n",
       "        "
      ]
     },
     "metadata": {},
     "execution_count": 14
    }
   ],
   "metadata": {}
  },
  {
   "cell_type": "markdown",
   "source": [
    "## Import clustering results and manually curated results"
   ],
   "metadata": {}
  },
  {
   "cell_type": "markdown",
   "source": [
    "We are now ready to ingest the clustering results (spike times etc.) into the database. These clustering results are either directly from Kilosort2 or with manual curation. Both ways share the same format of files. In the element, there is a `Curation` table that saves this information."
   ],
   "metadata": {}
  },
  {
   "cell_type": "code",
   "execution_count": null,
   "source": [
    "dj.Diagram(ephys_element.ClusteringTask) + ephys_element.Clustering + ephys_element.Curation + \\\n",
    "ephys_element.CuratedClustering + ephys_element.CuratedClustering.Unit"
   ],
   "outputs": [],
   "metadata": {}
  },
  {
   "cell_type": "code",
   "execution_count": null,
   "source": [
    "#"
   ],
   "outputs": [],
   "metadata": {
    "lines_to_next_cell": 0,
    "title": "If a manual curation was implemented, an entry needs to be manually inserted into the table `Curation`, which specifies the directory to the curated results in `curation_output_dir`."
   }
  },
  {
   "cell_type": "code",
   "execution_count": null,
   "source": [
    "\n",
    "key = (ephys_element.ClusteringTask & session_key).fetch1('KEY')\n",
    "ephys_element.Curation().create1_from_clustering_task(key)\n",
    "ephys_element.Curation() & session_key\n",
    "\n",
    "# Then we could populate table `CuratedClustering`, ingesting either the output of Kilosort2 or the curated results.\n",
    "\n",
    "ephys_element.CuratedClustering.populate(session_key, display_progress=True)\n",
    "\n",
    "# The part table `CuratedClustering.Unit` contains the spike sorted units\n",
    "\n",
    "ephys_element.CuratedClustering.Unit()\n",
    "\n",
    "# ## Populate LFP and spike waveform\n",
    "\n",
    "# There are two additional tables in the ephys_element that is able to get automatically processed:"
   ],
   "outputs": [],
   "metadata": {
    "lines_to_next_cell": 0,
    "title": "If we would like to process the Kilosort2 outcome directly, an entry is also needed in `Curation`. A method `create1_from_clustering_task` was provided to help this insertion. It copies the `clustering_output_dir` in `ClusteringTask` to the field `curation_output_dir` in the table `Curation` with a new `curation_id`."
   }
  },
  {
   "cell_type": "code",
   "execution_count": null,
   "source": [
    "\n",
    "dj.Diagram(ephys_element.EphysRecording) + ephys_element.LFP + ephys_element.LFP.Electrode\n",
    "\n",
    "ephys_element.LFP.populate(session_key, display_progress=True)\n",
    "ephys_element.LFP & session_key\n",
    "\n",
    "ephys_element.LFP.Electrode & session_key\n",
    "\n",
    "dj.Diagram(ephys_element.CuratedClustering.Unit) + ephys_element.Waveform"
   ],
   "outputs": [],
   "metadata": {
    "title": "LFP and LFP.Electrode: By populating LFP, LFP of every other 9 electrode on the probe will be saved into table `ephys_element.LFP.Electrode` and an average LFP saved into table `ephys_element.LFP`"
   }
  },
  {
   "cell_type": "code",
   "execution_count": null,
   "source": [],
   "outputs": [],
   "metadata": {
    "lines_to_next_cell": 2,
    "title": "Waveform: `Waveform` table computes the average spike waveform of the channel with peak amplites. It takes a while to populate depending on the size of the data."
   }
  },
  {
   "cell_type": "code",
   "execution_count": null,
   "source": [
    "ephys_element.Waveform.populate(session_key, display_progress=True)"
   ],
   "outputs": [],
   "metadata": {
    "title": "The `probe_element.EelectrodeConfig` table conains the configuration information of the electrodes used, i.e. which 384 electrodes out of the total 960 on the probe were used in this ephys session, while the table `ephys_element.EphysRecording` specify which ElectrodeConfig is used in a particular ephys session."
   }
  },
  {
   "cell_type": "code",
   "execution_count": null,
   "source": [
    "ephys_element.LFP.Electrode & session_key"
   ],
   "outputs": [],
   "metadata": {}
  }
 ],
 "metadata": {
  "interpreter": {
   "hash": "69b99f51e057dae8bf7af0dfb3c6eb1984d102baaea9585d96e379423a8ef19c"
  },
  "jupytext": {
   "encoding": "# -*- coding: utf-8 -*-",
   "formats": "ipynb,py:light"
  },
  "kernelspec": {
   "name": "python3",
   "display_name": "Python 3.7.10 64-bit ('brody_ephys_elements': conda)"
  },
  "language_info": {
   "codemirror_mode": {
    "name": "ipython",
    "version": 3
   },
   "file_extension": ".py",
   "mimetype": "text/x-python",
   "name": "python",
   "nbconvert_exporter": "python",
   "pygments_lexer": "ipython3",
   "version": "3.7.10"
  }
 },
 "nbformat": 4,
 "nbformat_minor": 4
}