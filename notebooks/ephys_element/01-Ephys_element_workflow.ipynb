{
 "cells": [
  {
   "cell_type": "markdown",
   "metadata": {},
   "source": [
    "# Run ephys element workflow"
   ]
  },
  {
   "cell_type": "markdown",
   "metadata": {},
   "source": [
    "This notebook walks you through the steps to run the ephys workflow.  \n",
    "The workflow requires neuropixels meta file and kilosort output data. To configure the paths properly, refer to [00-Set_up_the_configuration_file](./00-Set_up_the_configuration_file.ipynb)"
   ]
  },
  {
   "cell_type": "markdown",
   "metadata": {},
   "source": [
    "To load the local configuration, we will change the directory to the package root."
   ]
  },
  {
   "cell_type": "code",
   "execution_count": 1,
   "metadata": {},
   "outputs": [
    {
     "name": "stdout",
     "output_type": "stream",
     "text": [
      "Local configuration file found !!, no need to run the configuration (unless configuration has changed)\n"
     ]
    }
   ],
   "source": [
    "from scripts.conf_file_finding import try_find_conf_file\n",
    "try_find_conf_file()"
   ]
  },
  {
   "cell_type": "markdown",
   "metadata": {},
   "source": [
    "\n",
    "Let's start by importing the relevant modules."
   ]
  },
  {
   "cell_type": "code",
   "execution_count": 2,
   "metadata": {},
   "outputs": [
    {
     "name": "stdout",
     "output_type": "stream",
     "text": [
      "Connecting alvaros@datajoint01.pni.princeton.edu:3306\n"
     ]
    }
   ],
   "source": [
    "import datajoint as dj\n",
    "from bl_pipeline import lab, subject, acquisition\n",
    "from bl_pipeline.ephys_element import ephys_element, probe_element, get_session_cluster_directory"
   ]
  },
  {
   "cell_type": "markdown",
   "metadata": {},
   "source": [
    "# Pipeline structure"
   ]
  },
  {
   "cell_type": "markdown",
   "metadata": {
    "lines_to_next_cell": 0,
    "title": "`dj.Diagram` enables checking pipeline structure and table dependencies."
   },
   "source": [
    "+ dj.Diagram is a useful command to visualize the workflow structure and table dependencies.\n",
    "+ Two element modules have been installed into `bl_pipeline`: `probe_element` and `ephys_element`"
   ]
  },
  {
   "cell_type": "code",
   "execution_count": null,
   "metadata": {
    "title": "Two DataJoint elements `probe_element` and `ephys_element` have been installed into `bl_pipeline`"
   },
   "outputs": [],
   "source": [
    "dj.Diagram(subject.Rats) + dj.Diagram(acquisition.Sessions) + dj.Diagram(probe_element) + dj.Diagram(ephys_element)"
   ]
  },
  {
   "cell_type": "markdown",
   "metadata": {
    "lines_to_next_cell": 0,
    "title": "For chornic probe insertions, `ephys_element.ProbeInsertion` directly depends on `subject.Rats`"
   },
   "source": [
    "## Ephys element starts with table `ProbeInsertion`, as a child table of `subject.Rats`"
   ]
  },
  {
   "cell_type": "code",
   "execution_count": null,
   "metadata": {
    "lines_to_next_cell": 0,
    "title": "Each entry in the table `acquisition.Sessions` describes an experimental session within a particular date."
   },
   "outputs": [],
   "source": [
    "dj.Diagram(subject.Rats) + dj.Diagram(acquisition.Sessions) + dj.Diagram(probe_element.Probe) + \\\n",
    "(dj.Diagram(ephys_element.ProbeInsertion) + 1)"
   ]
  },
  {
   "cell_type": "markdown",
   "metadata": {},
   "source": [
    "+ In this experiment with chronic probe insertions, the table `ephys_element.ProbeInsertion` directly depends on `subject.Rats`\n",
    "+ Each entry in `acquisition.Sessions` represents an experimental session on a particular date.\n",
    "+ Each entry in `ephys_element.EphysRecording` is for a particular probe insertion and a session."
   ]
  },
  {
   "cell_type": "markdown",
   "metadata": {},
   "source": [
    "As an example, we will work on the following session throughout the notebook:"
   ]
  },
  {
   "cell_type": "code",
   "execution_count": 3,
   "metadata": {
    "lines_to_next_cell": 0,
    "title": "For each combination of `acquisition.Sessions` and `ephys_element.ProbeInsertion`, there is a `ephys_element.EphysRecording`"
   },
   "outputs": [],
   "source": [
    "session_key = (acquisition.Sessions & 'session_rat=\"A230\"' & 'session_date=\"2019-08-26\"').fetch1('KEY')\n",
    "session_info  = (acquisition.Sessions & 'session_rat=\"A230\"' & 'session_date=\"2019-08-26\"').fetch1()\n",
    "#session_info"
   ]
  },
  {
   "cell_type": "markdown",
   "metadata": {},
   "source": [
    "## Ingest Probe and ProbeInsertion by ephys_element_ingest"
   ]
  },
  {
   "cell_type": "code",
   "execution_count": 33,
   "metadata": {},
   "outputs": [
    {
     "data": {
      "image/svg+xml": [
       "<svg height=\"185pt\" viewBox=\"0.00 0.00 325.50 185.00\" width=\"326pt\" xmlns=\"http://www.w3.org/2000/svg\" xmlns:xlink=\"http://www.w3.org/1999/xlink\">\n",
       "<g class=\"graph\" id=\"graph0\" transform=\"scale(1 1) rotate(0) translate(4 181)\">\n",
       "<polygon fill=\"white\" points=\"-4,4 -4,-181 321.5,-181 321.5,4 -4,4\" stroke=\"transparent\"/>\n",
       "<!-- probe_element.Probe -->\n",
       "<g class=\"node\" id=\"node1\">\n",
       "<title>probe_element.Probe</title>\n",
       "<g id=\"a_node1\"><a xlink:title=\"probe                \r",
       "------------------------------\r",
       "→ probe_element.ProbeType\r",
       "probe_comment=&quot;&quot;     \r",
       "\">\n",
       "<polygon fill=\"#000000\" fill-opacity=\"0.125490\" points=\"141.5,-177 32.5,-177 32.5,-142 141.5,-142 141.5,-177\" stroke=\"transparent\"/>\n",
       "<text font-family=\"arial\" font-size=\"10.00\" text-anchor=\"start\" text-decoration=\"underline\" x=\"40.5\" y=\"-158\">probe_element.Probe</text>\n",
       "</a>\n",
       "</g>\n",
       "</g>\n",
       "<!-- ephys_element.ProbeInsertion -->\n",
       "<g class=\"node\" id=\"node4\">\n",
       "<title>ephys_element.ProbeInsertion</title>\n",
       "<g id=\"a_node4\"><a xlink:title=\"→ subject.Rats\r",
       "insertion_number     \r",
       "------------------------------\r",
       "→ probe_element.Probe\r",
       "insertion_datetime=null \r",
       "\">\n",
       "<polygon fill=\"#00ff00\" fill-opacity=\"0.188235\" points=\"174,-106 0,-106 0,-71 174,-71 174,-106\" stroke=\"#00ff00\" stroke-opacity=\"0.188235\"/>\n",
       "<text fill=\"darkgreen\" font-family=\"arial\" font-size=\"12.00\" text-anchor=\"middle\" x=\"87\" y=\"-85.4\">ephys_element.ProbeInsertion</text>\n",
       "</a>\n",
       "</g>\n",
       "</g>\n",
       "<!-- probe_element.Probe&#45;&gt;ephys_element.ProbeInsertion -->\n",
       "<g class=\"edge\" id=\"edge1\">\n",
       "<title>probe_element.Probe-&gt;ephys_element.ProbeInsertion</title>\n",
       "<path d=\"M87,-141.8C87,-130.95 87,-116.87 87,-106.05\" fill=\"none\" stroke=\"#000000\" stroke-dasharray=\"5,2\" stroke-opacity=\"0.250980\" stroke-width=\"0.75\"/>\n",
       "</g>\n",
       "<!-- ephys_element.EphysRecording -->\n",
       "<g class=\"node\" id=\"node2\">\n",
       "<title>ephys_element.EphysRecording</title>\n",
       "<g id=\"a_node2\"><a xlink:title=\"→ acquisition.Sessions\r",
       "→ ephys_element.ProbeInsertion\r",
       "------------------------------\r",
       "→ probe_element.ElectrodeConfig\r",
       "→ ephys_element.AcquisitionSoftware\r",
       "sampling_rate        \r",
       "\">\n",
       "<ellipse cx=\"171\" cy=\"-17.5\" fill=\"#00007f\" fill-opacity=\"0.250980\" rx=\"115.75\" ry=\"17.5\" stroke=\"#00007f\" stroke-opacity=\"0.250980\"/>\n",
       "<text fill=\"#00007f\" fill-opacity=\"0.627451\" font-family=\"arial\" font-size=\"12.00\" text-anchor=\"middle\" x=\"171\" y=\"-14.4\">ephys_element.EphysRecording</text>\n",
       "</a>\n",
       "</g>\n",
       "</g>\n",
       "<!-- acquisition.Sessions -->\n",
       "<g class=\"node\" id=\"node3\">\n",
       "<title>acquisition.Sessions</title>\n",
       "<g id=\"a_node3\"><a xlink:title=\"→ acquisition.SessStarted\r",
       "------------------------------\r",
       "session_rat          \r",
       "session_userid       \r",
       "session_rigid        \r",
       "session_date=&quot;1000-01-01&quot; \r",
       "session_starttime=&quot;00\r",
       "session_endtime=&quot;00\r",
       "protocol=&quot;&quot;          \r",
       "peh=null             \r",
       "n_done_trials=0      \r",
       "session_comments=null \r",
       "settings_file=&quot;&quot;     \r",
       "settings_path=&quot;&quot;     \r",
       "data_file=&quot;&quot;         \r",
       "data_path=&quot;&quot;         \r",
       "video_file=&quot;&quot;        \r",
       "video_path=&quot;&quot;        \r",
       "total_correct=null   \r",
       "right_correct=null   \r",
       "left_correct=null    \r",
       "percent_violations=null \r",
       "protocol_data=null   \r",
       "left_pokes=null      \r",
       "center_pokes=null    \r",
       "right_pokes=null     \r",
       "ip_addr=null         \r",
       "foodpuck=0           \r",
       "\">\n",
       "<polygon fill=\"#00ff00\" fill-opacity=\"0.188235\" points=\"317.5,-106 192.5,-106 192.5,-71 317.5,-71 317.5,-106\" stroke=\"#00ff00\" stroke-opacity=\"0.188235\"/>\n",
       "<text fill=\"darkgreen\" font-family=\"arial\" font-size=\"12.00\" text-anchor=\"middle\" x=\"255\" y=\"-85.4\">acquisition.Sessions</text>\n",
       "</a>\n",
       "</g>\n",
       "</g>\n",
       "<!-- acquisition.Sessions&#45;&gt;ephys_element.EphysRecording -->\n",
       "<g class=\"edge\" id=\"edge2\">\n",
       "<title>acquisition.Sessions-&gt;ephys_element.EphysRecording</title>\n",
       "<path d=\"M234.67,-70.8C221.36,-59.87 204.06,-45.66 190.86,-34.81\" fill=\"none\" stroke=\"#000000\" stroke-opacity=\"0.250980\" stroke-width=\"0.75\"/>\n",
       "</g>\n",
       "<!-- ephys_element.ProbeInsertion&#45;&gt;ephys_element.EphysRecording -->\n",
       "<g class=\"edge\" id=\"edge3\">\n",
       "<title>ephys_element.ProbeInsertion-&gt;ephys_element.EphysRecording</title>\n",
       "<path d=\"M107.33,-70.8C120.64,-59.87 137.94,-45.66 151.14,-34.81\" fill=\"none\" stroke=\"#000000\" stroke-opacity=\"0.250980\" stroke-width=\"0.75\"/>\n",
       "</g>\n",
       "</g>\n",
       "</svg>"
      ],
      "text/plain": [
       "<datajoint.diagram.Diagram at 0x224193e93c8>"
      ]
     },
     "execution_count": 33,
     "metadata": {},
     "output_type": "execute_result"
    }
   ],
   "source": [
    "dj.Diagram(probe_element.Probe) + acquisition.Sessions + ephys_element.EphysRecording"
   ]
  },
  {
   "cell_type": "markdown",
   "metadata": {},
   "source": [
    "A module `ephys_element_ingest` was provided to process a ephys session based on the neuropixel meta file: ingest entries into tables `Probe` and `ProbeInsertion`"
   ]
  },
  {
   "cell_type": "code",
   "execution_count": 5,
   "metadata": {},
   "outputs": [
    {
     "name": "stdout",
     "output_type": "stream",
     "text": [
      "meta_filepath for spikeglx \\\\apps02.pni.princeton.edu\\archive-labdata\\brody\\RATTER\\PhysData\\Raw\\Adrian\\A230\\A230_2019-08-26_g0\\A230_2019-08-26_g0_imec0\\A230_2019-08-26_g0_t0.imec0.ap.meta\n",
      "Probe key found in file {'probe_type': 'neuropixels 1.0 - 3B', 'probe': 18005106831}\n",
      "probe number found in file 0\n",
      "probe_list []\n",
      "probe_insert_list [{'ratname': 'A230', 'probe': 18005106831, 'insertion_number': 0}]\n"
     ]
    }
   ],
   "source": [
    "from bl_pipeline.ingest import ephys_element_ingest\n",
    "ephys_element_ingest.process_session(session_key)"
   ]
  },
  {
   "cell_type": "markdown",
   "metadata": {},
   "source": [
    "As a result, there will contents in the following tables:"
   ]
  },
  {
   "cell_type": "code",
   "execution_count": 35,
   "metadata": {},
   "outputs": [
    {
     "data": {
      "text/html": [
       "\n",
       "    \n",
       "    <style type=\"text/css\">\n",
       "        .Relation{\n",
       "            border-collapse:collapse;\n",
       "        }\n",
       "        .Relation th{\n",
       "            background: #A0A0A0; color: #ffffff; padding:4px; border:#f0e0e0 1px solid;\n",
       "            font-weight: normal; font-family: monospace; font-size: 100%;\n",
       "        }\n",
       "        .Relation td{\n",
       "            padding:4px; border:#f0e0e0 1px solid; font-size:100%;\n",
       "        }\n",
       "        .Relation tr:nth-child(odd){\n",
       "            background: #ffffff;\n",
       "        }\n",
       "        .Relation tr:nth-child(even){\n",
       "            background: #f3f1ff;\n",
       "        }\n",
       "        /* Tooltip container */\n",
       "        .djtooltip {\n",
       "        }\n",
       "        /* Tooltip text */\n",
       "        .djtooltip .djtooltiptext {\n",
       "            visibility: hidden;\n",
       "            width: 120px;\n",
       "            background-color: black;\n",
       "            color: #fff;\n",
       "            text-align: center;\n",
       "            padding: 5px 0;\n",
       "            border-radius: 6px;\n",
       "            /* Position the tooltip text - see examples below! */\n",
       "            position: absolute;\n",
       "            z-index: 1;\n",
       "        }\n",
       "        #primary {\n",
       "            font-weight: bold;\n",
       "            color: black;\n",
       "        }\n",
       "        #nonprimary {\n",
       "            font-weight: normal;\n",
       "            color: white;\n",
       "        }\n",
       "\n",
       "        /* Show the tooltip text when you mouse over the tooltip container */\n",
       "        .djtooltip:hover .djtooltiptext {\n",
       "            visibility: visible;\n",
       "        }\n",
       "    </style>\n",
       "    \n",
       "    <b>represent a physical probe</b>\n",
       "        <div style=\"max-height:1000px;max-width:1500px;overflow:auto;\">\n",
       "        <table border=\"1\" class=\"Relation\">\n",
       "            <thead> <tr style=\"text-align: right;\"> <th> <div class=\"djtooltip\">\n",
       "                            <p id=\"primary\">probe</p>\n",
       "                            <span class=\"djtooltiptext\">unique identifier for this model of probe (e.g. part number)</span>\n",
       "                        </div></th><th><div class=\"djtooltip\">\n",
       "                            <p id=\"nonprimary\">probe_type</p>\n",
       "                            <span class=\"djtooltiptext\">e.g. neuropixels_1.0</span>\n",
       "                        </div></th><th><div class=\"djtooltip\">\n",
       "                            <p id=\"nonprimary\">probe_comment</p>\n",
       "                            <span class=\"djtooltiptext\"></span>\n",
       "                        </div> </th> </tr> </thead>\n",
       "            <tbody> <tr> <td>18005106831</td>\n",
       "<td>neuropixels 1.0 - 3B</td>\n",
       "<td></td></tr><tr><td>18194819132</td>\n",
       "<td>neuropixels 1.0 - 3B</td>\n",
       "<td></td></tr><tr><td>18194819321</td>\n",
       "<td>neuropixels 1.0 - 3B</td>\n",
       "<td></td> </tr> </tbody>\n",
       "        </table>\n",
       "        \n",
       "        <p>Total: 3</p></div>\n",
       "        "
      ],
      "text/plain": [
       "*probe         probe_type     probe_comment \n",
       "+------------+ +------------+ +------------+\n",
       "18005106831    neuropixels 1.               \n",
       "18194819132    neuropixels 1.               \n",
       "18194819321    neuropixels 1.               \n",
       " (Total: 3)"
      ]
     },
     "execution_count": 35,
     "metadata": {},
     "output_type": "execute_result"
    }
   ],
   "source": [
    "probe_element.Probe() & session_key"
   ]
  },
  {
   "cell_type": "code",
   "execution_count": 36,
   "metadata": {},
   "outputs": [
    {
     "data": {
      "text/html": [
       "\n",
       "    \n",
       "    <style type=\"text/css\">\n",
       "        .Relation{\n",
       "            border-collapse:collapse;\n",
       "        }\n",
       "        .Relation th{\n",
       "            background: #A0A0A0; color: #ffffff; padding:4px; border:#f0e0e0 1px solid;\n",
       "            font-weight: normal; font-family: monospace; font-size: 100%;\n",
       "        }\n",
       "        .Relation td{\n",
       "            padding:4px; border:#f0e0e0 1px solid; font-size:100%;\n",
       "        }\n",
       "        .Relation tr:nth-child(odd){\n",
       "            background: #ffffff;\n",
       "        }\n",
       "        .Relation tr:nth-child(even){\n",
       "            background: #f3f1ff;\n",
       "        }\n",
       "        /* Tooltip container */\n",
       "        .djtooltip {\n",
       "        }\n",
       "        /* Tooltip text */\n",
       "        .djtooltip .djtooltiptext {\n",
       "            visibility: hidden;\n",
       "            width: 120px;\n",
       "            background-color: black;\n",
       "            color: #fff;\n",
       "            text-align: center;\n",
       "            padding: 5px 0;\n",
       "            border-radius: 6px;\n",
       "            /* Position the tooltip text - see examples below! */\n",
       "            position: absolute;\n",
       "            z-index: 1;\n",
       "        }\n",
       "        #primary {\n",
       "            font-weight: bold;\n",
       "            color: black;\n",
       "        }\n",
       "        #nonprimary {\n",
       "            font-weight: normal;\n",
       "            color: white;\n",
       "        }\n",
       "\n",
       "        /* Show the tooltip text when you mouse over the tooltip container */\n",
       "        .djtooltip:hover .djtooltiptext {\n",
       "            visibility: visible;\n",
       "        }\n",
       "    </style>\n",
       "    \n",
       "    <b></b>\n",
       "        <div style=\"max-height:1000px;max-width:1500px;overflow:auto;\">\n",
       "        <table border=\"1\" class=\"Relation\">\n",
       "            <thead> <tr style=\"text-align: right;\"> <th> <div class=\"djtooltip\">\n",
       "                            <p id=\"primary\">ratname</p>\n",
       "                            <span class=\"djtooltiptext\">Unique rat name, 1 letter 3 numbers</span>\n",
       "                        </div></th><th><div class=\"djtooltip\">\n",
       "                            <p id=\"primary\">insertion_number</p>\n",
       "                            <span class=\"djtooltiptext\"></span>\n",
       "                        </div></th><th><div class=\"djtooltip\">\n",
       "                            <p id=\"nonprimary\">probe</p>\n",
       "                            <span class=\"djtooltiptext\">unique identifier for this model of probe (e.g. part number)</span>\n",
       "                        </div></th><th><div class=\"djtooltip\">\n",
       "                            <p id=\"nonprimary\">insertion_datetime</p>\n",
       "                            <span class=\"djtooltiptext\"></span>\n",
       "                        </div> </th> </tr> </thead>\n",
       "            <tbody> <tr> <td>A230</td>\n",
       "<td>0</td>\n",
       "<td>18005106831</td>\n",
       "<td>None</td></tr><tr><td>A249</td>\n",
       "<td>0</td>\n",
       "<td>18194819132</td>\n",
       "<td>None</td></tr><tr><td>A256</td>\n",
       "<td>0</td>\n",
       "<td>18194819321</td>\n",
       "<td>None</td> </tr> </tbody>\n",
       "        </table>\n",
       "        \n",
       "        <p>Total: 3</p></div>\n",
       "        "
      ],
      "text/plain": [
       "*ratname    *insertion_num probe          insertion_date\n",
       "+---------+ +------------+ +------------+ +------------+\n",
       "A230        0              18005106831    None          \n",
       "A249        0              18194819132    None          \n",
       "A256        0              18194819321    None          \n",
       " (Total: 3)"
      ]
     },
     "execution_count": 36,
     "metadata": {},
     "output_type": "execute_result"
    }
   ],
   "source": [
    "\n",
    "ephys_element.ProbeInsertion()"
   ]
  },
  {
   "cell_type": "code",
   "execution_count": 37,
   "metadata": {},
   "outputs": [
    {
     "data": {
      "text/html": [
       "\n",
       "    \n",
       "    <style type=\"text/css\">\n",
       "        .Relation{\n",
       "            border-collapse:collapse;\n",
       "        }\n",
       "        .Relation th{\n",
       "            background: #A0A0A0; color: #ffffff; padding:4px; border:#f0e0e0 1px solid;\n",
       "            font-weight: normal; font-family: monospace; font-size: 100%;\n",
       "        }\n",
       "        .Relation td{\n",
       "            padding:4px; border:#f0e0e0 1px solid; font-size:100%;\n",
       "        }\n",
       "        .Relation tr:nth-child(odd){\n",
       "            background: #ffffff;\n",
       "        }\n",
       "        .Relation tr:nth-child(even){\n",
       "            background: #f3f1ff;\n",
       "        }\n",
       "        /* Tooltip container */\n",
       "        .djtooltip {\n",
       "        }\n",
       "        /* Tooltip text */\n",
       "        .djtooltip .djtooltiptext {\n",
       "            visibility: hidden;\n",
       "            width: 120px;\n",
       "            background-color: black;\n",
       "            color: #fff;\n",
       "            text-align: center;\n",
       "            padding: 5px 0;\n",
       "            border-radius: 6px;\n",
       "            /* Position the tooltip text - see examples below! */\n",
       "            position: absolute;\n",
       "            z-index: 1;\n",
       "        }\n",
       "        #primary {\n",
       "            font-weight: bold;\n",
       "            color: black;\n",
       "        }\n",
       "        #nonprimary {\n",
       "            font-weight: normal;\n",
       "            color: white;\n",
       "        }\n",
       "\n",
       "        /* Show the tooltip text when you mouse over the tooltip container */\n",
       "        .djtooltip:hover .djtooltiptext {\n",
       "            visibility: visible;\n",
       "        }\n",
       "    </style>\n",
       "    \n",
       "    <b></b>\n",
       "        <div style=\"max-height:1000px;max-width:1500px;overflow:auto;\">\n",
       "        <table border=\"1\" class=\"Relation\">\n",
       "            <thead> <tr style=\"text-align: right;\"> <th> <div class=\"djtooltip\">\n",
       "                            <p id=\"primary\">sessid</p>\n",
       "                            <span class=\"djtooltiptext\">Unique number assigned to each training session</span>\n",
       "                        </div></th><th><div class=\"djtooltip\">\n",
       "                            <p id=\"primary\">ratname</p>\n",
       "                            <span class=\"djtooltiptext\">Unique rat name, 1 letter 3 numbers</span>\n",
       "                        </div></th><th><div class=\"djtooltip\">\n",
       "                            <p id=\"primary\">insertion_number</p>\n",
       "                            <span class=\"djtooltiptext\"></span>\n",
       "                        </div></th><th><div class=\"djtooltip\">\n",
       "                            <p id=\"nonprimary\">electrode_config_hash</p>\n",
       "                            <span class=\"djtooltiptext\"></span>\n",
       "                        </div></th><th><div class=\"djtooltip\">\n",
       "                            <p id=\"nonprimary\">acq_software</p>\n",
       "                            <span class=\"djtooltiptext\"></span>\n",
       "                        </div></th><th><div class=\"djtooltip\">\n",
       "                            <p id=\"nonprimary\">sampling_rate</p>\n",
       "                            <span class=\"djtooltiptext\">(Hz)</span>\n",
       "                        </div> </th> </tr> </thead>\n",
       "            <tbody> <tr>  </tr> </tbody>\n",
       "        </table>\n",
       "        \n",
       "        <p>Total: 0</p></div>\n",
       "        "
      ],
      "text/plain": [
       "*sessid    *ratname    *insertion_num electrode_conf acq_software   sampling_rate \n",
       "+--------+ +---------+ +------------+ +------------+ +------------+ +------------+\n",
       "\n",
       " (Total: 0)"
      ]
     },
     "execution_count": 37,
     "metadata": {},
     "output_type": "execute_result"
    }
   ],
   "source": [
    "ephys_element.EphysRecording() & session_key"
   ]
  },
  {
   "cell_type": "markdown",
   "metadata": {},
   "source": [
    "## Populate EphysRecording"
   ]
  },
  {
   "cell_type": "code",
   "execution_count": 38,
   "metadata": {},
   "outputs": [
    {
     "data": {
      "image/svg+xml": [
       "<svg height=\"169pt\" viewBox=\"0.00 0.00 453.62 169.00\" width=\"454pt\" xmlns=\"http://www.w3.org/2000/svg\" xmlns:xlink=\"http://www.w3.org/1999/xlink\">\n",
       "<g class=\"graph\" id=\"graph0\" transform=\"scale(1 1) rotate(0) translate(4 165)\">\n",
       "<polygon fill=\"white\" points=\"-4,4 -4,-165 449.62,-165 449.62,4 -4,4\" stroke=\"transparent\"/>\n",
       "<!-- probe_element.ElectrodeConfig -->\n",
       "<g class=\"node\" id=\"node1\">\n",
       "<title>probe_element.ElectrodeConfig</title>\n",
       "<g id=\"a_node1\"><a xlink:title=\"electrode_config_hash \r",
       "------------------------------\r",
       "→ probe_element.ProbeType\r",
       "electrode_config_name \r",
       "\">\n",
       "<polygon fill=\"#000000\" fill-opacity=\"0.125490\" points=\"423.62,-161 271.62,-161 271.62,-126 423.62,-126 423.62,-161\" stroke=\"transparent\"/>\n",
       "<text font-family=\"arial\" font-size=\"10.00\" text-anchor=\"start\" text-decoration=\"underline\" x=\"279.62\" y=\"-142\">probe_element.ElectrodeConfig</text>\n",
       "</a>\n",
       "</g>\n",
       "</g>\n",
       "<!-- ephys_element.EphysRecording -->\n",
       "<g class=\"node\" id=\"node4\">\n",
       "<title>ephys_element.EphysRecording</title>\n",
       "<g id=\"a_node4\"><a xlink:title=\"→ acquisition.Sessions\r",
       "→ ephys_element.ProbeInsertion\r",
       "------------------------------\r",
       "→ probe_element.ElectrodeConfig\r",
       "→ ephys_element.AcquisitionSoftware\r",
       "sampling_rate        \r",
       "\">\n",
       "<ellipse cx=\"115.62\" cy=\"-72.5\" fill=\"#00007f\" fill-opacity=\"0.250980\" rx=\"115.75\" ry=\"17.5\" stroke=\"#00007f\" stroke-opacity=\"0.250980\"/>\n",
       "<text fill=\"#00007f\" fill-opacity=\"0.627451\" font-family=\"arial\" font-size=\"12.00\" text-anchor=\"middle\" x=\"115.62\" y=\"-69.4\">ephys_element.EphysRecording</text>\n",
       "</a>\n",
       "</g>\n",
       "</g>\n",
       "<!-- probe_element.ElectrodeConfig&#45;&gt;ephys_element.EphysRecording -->\n",
       "<g class=\"edge\" id=\"edge1\">\n",
       "<title>probe_element.ElectrodeConfig-&gt;ephys_element.EphysRecording</title>\n",
       "<path d=\"M292.06,-125.97C253.58,-114.53 202.8,-99.43 165.61,-88.36\" fill=\"none\" stroke=\"#000000\" stroke-dasharray=\"5,2\" stroke-opacity=\"0.250980\" stroke-width=\"0.75\"/>\n",
       "</g>\n",
       "<!-- probe_element.ElectrodeConfig.Electrode -->\n",
       "<g class=\"node\" id=\"node5\">\n",
       "<title>probe_element.ElectrodeConfig.Electrode</title>\n",
       "<g id=\"a_node5\"><a xlink:title=\"→ probe_element.ElectrodeConfig\r",
       "→ probe_element.ProbeType.Electrode\r",
       "\">\n",
       "<polygon fill=\"transparent\" points=\"445.62,-82 249.62,-82 249.62,-63 445.62,-63 445.62,-82\" stroke=\"transparent\"/>\n",
       "<text font-family=\"arial\" font-size=\"10.00\" text-anchor=\"middle\" x=\"347.62\" y=\"-70\">probe_element.ElectrodeConfig.Electrode</text>\n",
       "</a>\n",
       "</g>\n",
       "</g>\n",
       "<!-- probe_element.ElectrodeConfig&#45;&gt;probe_element.ElectrodeConfig.Electrode -->\n",
       "<g class=\"edge\" id=\"edge2\">\n",
       "<title>probe_element.ElectrodeConfig-&gt;probe_element.ElectrodeConfig.Electrode</title>\n",
       "<path d=\"M347.62,-125.8C347.62,-112.08 347.62,-93.19 347.62,-82.27\" fill=\"none\" stroke=\"#000000\" stroke-opacity=\"0.250980\" stroke-width=\"0.75\"/>\n",
       "</g>\n",
       "<!-- acquisition.Sessions -->\n",
       "<g class=\"node\" id=\"node2\">\n",
       "<title>acquisition.Sessions</title>\n",
       "<g id=\"a_node2\"><a xlink:title=\"→ acquisition.SessStarted\r",
       "------------------------------\r",
       "session_rat          \r",
       "session_userid       \r",
       "session_rigid        \r",
       "session_date=&quot;1000-01-01&quot; \r",
       "session_starttime=&quot;00\r",
       "session_endtime=&quot;00\r",
       "protocol=&quot;&quot;          \r",
       "peh=null             \r",
       "n_done_trials=0      \r",
       "session_comments=null \r",
       "settings_file=&quot;&quot;     \r",
       "settings_path=&quot;&quot;     \r",
       "data_file=&quot;&quot;         \r",
       "data_path=&quot;&quot;         \r",
       "video_file=&quot;&quot;        \r",
       "video_path=&quot;&quot;        \r",
       "total_correct=null   \r",
       "right_correct=null   \r",
       "left_correct=null    \r",
       "percent_violations=null \r",
       "protocol_data=null   \r",
       "left_pokes=null      \r",
       "center_pokes=null    \r",
       "right_pokes=null     \r",
       "ip_addr=null         \r",
       "foodpuck=0           \r",
       "\">\n",
       "<polygon fill=\"#00ff00\" fill-opacity=\"0.188235\" points=\"178.12,-161 53.12,-161 53.12,-126 178.12,-126 178.12,-161\" stroke=\"#00ff00\" stroke-opacity=\"0.188235\"/>\n",
       "<text fill=\"darkgreen\" font-family=\"arial\" font-size=\"12.00\" text-anchor=\"middle\" x=\"115.62\" y=\"-140.4\">acquisition.Sessions</text>\n",
       "</a>\n",
       "</g>\n",
       "</g>\n",
       "<!-- acquisition.Sessions&#45;&gt;ephys_element.EphysRecording -->\n",
       "<g class=\"edge\" id=\"edge3\">\n",
       "<title>acquisition.Sessions-&gt;ephys_element.EphysRecording</title>\n",
       "<path d=\"M115.62,-125.8C115.62,-114.95 115.62,-100.87 115.62,-90.05\" fill=\"none\" stroke=\"#000000\" stroke-opacity=\"0.250980\" stroke-width=\"0.75\"/>\n",
       "</g>\n",
       "<!-- ephys_element.EphysRecording.EphysFile -->\n",
       "<g class=\"node\" id=\"node3\">\n",
       "<title>ephys_element.EphysRecording.EphysFile</title>\n",
       "<g id=\"a_node3\"><a xlink:title=\"→ ephys_element.EphysRecording\r",
       "file_path            \r",
       "\">\n",
       "<polygon fill=\"transparent\" points=\"217.12,-19 14.12,-19 14.12,0 217.12,0 217.12,-19\" stroke=\"transparent\"/>\n",
       "<text font-family=\"arial\" font-size=\"10.00\" text-anchor=\"start\" text-decoration=\"underline\" x=\"22.12\" y=\"-8\">ephys_element.EphysRecording.EphysFile</text>\n",
       "</a>\n",
       "</g>\n",
       "</g>\n",
       "<!-- ephys_element.EphysRecording&#45;&gt;ephys_element.EphysRecording.EphysFile -->\n",
       "<g class=\"edge\" id=\"edge4\">\n",
       "<title>ephys_element.EphysRecording-&gt;ephys_element.EphysRecording.EphysFile</title>\n",
       "<path d=\"M115.62,-54.83C115.62,-43.26 115.62,-28.32 115.62,-19.08\" fill=\"none\" stroke=\"#000000\" stroke-opacity=\"0.250980\" stroke-width=\"0.75\"/>\n",
       "</g>\n",
       "</g>\n",
       "</svg>"
      ],
      "text/plain": [
       "<datajoint.diagram.Diagram at 0x22418b5d488>"
      ]
     },
     "execution_count": 38,
     "metadata": {},
     "output_type": "execute_result"
    }
   ],
   "source": [
    "dj.Diagram(acquisition.Sessions) + (dj.Diagram(probe_element.ElectrodeConfig) + 1) + \\\n",
    "ephys_element.EphysRecording + ephys_element.EphysRecording.EphysFile"
   ]
  },
  {
   "cell_type": "code",
   "execution_count": 4,
   "metadata": {},
   "outputs": [
    {
     "name": "stdout",
     "output_type": "stream",
     "text": [
      "{'sessid': 725723}\n"
     ]
    },
    {
     "name": "stderr",
     "output_type": "stream",
     "text": [
      "EphysRecording:   0%|          | 0/2 [00:00<?, ?it/s]"
     ]
    },
    {
     "name": "stdout",
     "output_type": "stream",
     "text": [
      "\\\\apps02.pni.princeton.edu\\archive-labdata\\brody\\RATTER\\PhysData\\Raw\\Adrian\\A230\\A230_2019-08-26_g0\n",
      "\\\\apps02.pni.princeton.edu\\archive-labdata\\brody\\RATTER\\PhysData\\Raw\\Adrian\\A230\\A230_2019-08-26_g0\\A230_2019-08-26_g0_imec0\\A230_2019-08-26_g0_t0.imec0.ap.meta\n",
      "<element_array_ephys.readers.spikeglx.SpikeGLXMeta object at 0x0000018BDD0C7408>\n"
     ]
    },
    {
     "name": "stderr",
     "output_type": "stream",
     "text": [
      "\n"
     ]
    },
    {
     "ename": "FileNotFoundError",
     "evalue": "No SpikeGLX data found for probe insertion: {'sessid': 725723, 'ratname': 'A249', 'insertion_number': 0}",
     "output_type": "error",
     "traceback": [
      "\u001b[1;31m---------------------------------------------------------------------------\u001b[0m",
      "\u001b[1;31mFileNotFoundError\u001b[0m                         Traceback (most recent call last)",
      "\u001b[1;32m~\\AppData\\Local\\Temp/ipykernel_15324/2100304569.py\u001b[0m in \u001b[0;36m<module>\u001b[1;34m\u001b[0m\n\u001b[0;32m      1\u001b[0m \u001b[1;31m# first argument restricts the populate to a particular subset.\u001b[0m\u001b[1;33m\u001b[0m\u001b[1;33m\u001b[0m\u001b[1;33m\u001b[0m\u001b[0m\n\u001b[0;32m      2\u001b[0m \u001b[0mprint\u001b[0m\u001b[1;33m(\u001b[0m\u001b[0msession_key\u001b[0m\u001b[1;33m)\u001b[0m\u001b[1;33m\u001b[0m\u001b[1;33m\u001b[0m\u001b[0m\n\u001b[1;32m----> 3\u001b[1;33m \u001b[0mephys_element\u001b[0m\u001b[1;33m.\u001b[0m\u001b[0mEphysRecording\u001b[0m\u001b[1;33m.\u001b[0m\u001b[0mpopulate\u001b[0m\u001b[1;33m(\u001b[0m\u001b[0msession_key\u001b[0m\u001b[1;33m,\u001b[0m \u001b[0mdisplay_progress\u001b[0m\u001b[1;33m=\u001b[0m\u001b[1;32mTrue\u001b[0m\u001b[1;33m)\u001b[0m\u001b[1;33m\u001b[0m\u001b[1;33m\u001b[0m\u001b[0m\n\u001b[0m",
      "\u001b[1;32m~\\anaconda3\\envs\\brody_ephys_elements\\lib\\site-packages\\datajoint\\autopopulate.py\u001b[0m in \u001b[0;36mpopulate\u001b[1;34m(self, suppress_errors, return_exception_objects, reserve_jobs, order, limit, max_calls, display_progress, *restrictions)\u001b[0m\n\u001b[0;32m    151\u001b[0m                     \u001b[0mself\u001b[0m\u001b[1;33m.\u001b[0m\u001b[0m__class__\u001b[0m\u001b[1;33m.\u001b[0m\u001b[0m_allow_insert\u001b[0m \u001b[1;33m=\u001b[0m \u001b[1;32mTrue\u001b[0m\u001b[1;33m\u001b[0m\u001b[1;33m\u001b[0m\u001b[0m\n\u001b[0;32m    152\u001b[0m                     \u001b[1;32mtry\u001b[0m\u001b[1;33m:\u001b[0m\u001b[1;33m\u001b[0m\u001b[1;33m\u001b[0m\u001b[0m\n\u001b[1;32m--> 153\u001b[1;33m                         \u001b[0mmake\u001b[0m\u001b[1;33m(\u001b[0m\u001b[0mdict\u001b[0m\u001b[1;33m(\u001b[0m\u001b[0mkey\u001b[0m\u001b[1;33m)\u001b[0m\u001b[1;33m)\u001b[0m\u001b[1;33m\u001b[0m\u001b[1;33m\u001b[0m\u001b[0m\n\u001b[0m\u001b[0;32m    154\u001b[0m                     \u001b[1;32mexcept\u001b[0m \u001b[1;33m(\u001b[0m\u001b[0mKeyboardInterrupt\u001b[0m\u001b[1;33m,\u001b[0m \u001b[0mSystemExit\u001b[0m\u001b[1;33m,\u001b[0m \u001b[0mException\u001b[0m\u001b[1;33m)\u001b[0m \u001b[1;32mas\u001b[0m \u001b[0merror\u001b[0m\u001b[1;33m:\u001b[0m\u001b[1;33m\u001b[0m\u001b[1;33m\u001b[0m\u001b[0m\n\u001b[0;32m    155\u001b[0m                         \u001b[1;32mtry\u001b[0m\u001b[1;33m:\u001b[0m\u001b[1;33m\u001b[0m\u001b[1;33m\u001b[0m\u001b[0m\n",
      "\u001b[1;32m~\\anaconda3\\envs\\brody_ephys_elements\\lib\\site-packages\\element_array_ephys\\ephys.py\u001b[0m in \u001b[0;36mmake\u001b[1;34m(self, key)\u001b[0m\n\u001b[0;32m    169\u001b[0m             \u001b[1;32melse\u001b[0m\u001b[1;33m:\u001b[0m\u001b[1;33m\u001b[0m\u001b[1;33m\u001b[0m\u001b[0m\n\u001b[0;32m    170\u001b[0m                 raise FileNotFoundError(\n\u001b[1;32m--> 171\u001b[1;33m                     'No SpikeGLX data found for probe insertion: {}'.format(key))\n\u001b[0m\u001b[0;32m    172\u001b[0m \u001b[1;33m\u001b[0m\u001b[0m\n\u001b[0;32m    173\u001b[0m             \u001b[1;32mif\u001b[0m \u001b[0mre\u001b[0m\u001b[1;33m.\u001b[0m\u001b[0msearch\u001b[0m\u001b[1;33m(\u001b[0m\u001b[1;34m'(1.0|2.0)'\u001b[0m\u001b[1;33m,\u001b[0m \u001b[0mspikeglx_meta\u001b[0m\u001b[1;33m.\u001b[0m\u001b[0mprobe_model\u001b[0m\u001b[1;33m)\u001b[0m\u001b[1;33m:\u001b[0m\u001b[1;33m\u001b[0m\u001b[1;33m\u001b[0m\u001b[0m\n",
      "\u001b[1;31mFileNotFoundError\u001b[0m: No SpikeGLX data found for probe insertion: {'sessid': 725723, 'ratname': 'A249', 'insertion_number': 0}"
     ]
    }
   ],
   "source": [
    "# first argument restricts the populate to a particular subset.\n",
    "print(session_key)\n",
    "ephys_element.EphysRecording.populate(session_key, display_progress=True)"
   ]
  },
  {
   "cell_type": "markdown",
   "metadata": {},
   "source": [
    "Populate EphysRecording extracts the following information from .ap.meta file from SpikeGLX:\n",
    "\n",
    "1. **probe_element.EelectrodeConfig**: this procedure detects new ElectrodeConfig, i.e. which 384 electrodes out of the total 960 on the probe were used in this ephys session, and save the results into the table `probe_element.EelectrodeConfig`. Each entry in table `ephys_element.EphysRecording` specifies which ElectrodeConfig is used in a particular ephys session. "
   ]
  },
  {
   "cell_type": "markdown",
   "metadata": {},
   "source": [
    "For this ephys session we just populated, Electrodes 0-383 was used."
   ]
  },
  {
   "cell_type": "code",
   "execution_count": 21,
   "metadata": {},
   "outputs": [
    {
     "data": {
      "text/html": [
       "\n",
       "    \n",
       "    <style type=\"text/css\">\n",
       "        .Relation{\n",
       "            border-collapse:collapse;\n",
       "        }\n",
       "        .Relation th{\n",
       "            background: #A0A0A0; color: #ffffff; padding:4px; border:#f0e0e0 1px solid;\n",
       "            font-weight: normal; font-family: monospace; font-size: 100%;\n",
       "        }\n",
       "        .Relation td{\n",
       "            padding:4px; border:#f0e0e0 1px solid; font-size:100%;\n",
       "        }\n",
       "        .Relation tr:nth-child(odd){\n",
       "            background: #ffffff;\n",
       "        }\n",
       "        .Relation tr:nth-child(even){\n",
       "            background: #f3f1ff;\n",
       "        }\n",
       "        /* Tooltip container */\n",
       "        .djtooltip {\n",
       "        }\n",
       "        /* Tooltip text */\n",
       "        .djtooltip .djtooltiptext {\n",
       "            visibility: hidden;\n",
       "            width: 120px;\n",
       "            background-color: black;\n",
       "            color: #fff;\n",
       "            text-align: center;\n",
       "            padding: 5px 0;\n",
       "            border-radius: 6px;\n",
       "            /* Position the tooltip text - see examples below! */\n",
       "            position: absolute;\n",
       "            z-index: 1;\n",
       "        }\n",
       "        #primary {\n",
       "            font-weight: bold;\n",
       "            color: black;\n",
       "        }\n",
       "        #nonprimary {\n",
       "            font-weight: normal;\n",
       "            color: white;\n",
       "        }\n",
       "\n",
       "        /* Show the tooltip text when you mouse over the tooltip container */\n",
       "        .djtooltip:hover .djtooltiptext {\n",
       "            visibility: visible;\n",
       "        }\n",
       "    </style>\n",
       "    \n",
       "    <b></b>\n",
       "        <div style=\"max-height:1000px;max-width:1500px;overflow:auto;\">\n",
       "        <table border=\"1\" class=\"Relation\">\n",
       "            <thead> <tr style=\"text-align: right;\"> <th> <div class=\"djtooltip\">\n",
       "                            <p id=\"primary\">electrode_config_hash</p>\n",
       "                            <span class=\"djtooltiptext\"></span>\n",
       "                        </div></th><th><div class=\"djtooltip\">\n",
       "                            <p id=\"nonprimary\">probe_type</p>\n",
       "                            <span class=\"djtooltiptext\">e.g. neuropixels_1.0</span>\n",
       "                        </div></th><th><div class=\"djtooltip\">\n",
       "                            <p id=\"nonprimary\">electrode_config_name</p>\n",
       "                            <span class=\"djtooltiptext\">user friendly name</span>\n",
       "                        </div> </th> </tr> </thead>\n",
       "            <tbody> <tr> <td>6f6d8149-1603-9d2c-f884-0fdf995ec8b3</td>\n",
       "<td>neuropixels 1.0 - 3B</td>\n",
       "<td>0-383</td> </tr> </tbody>\n",
       "        </table>\n",
       "        \n",
       "        <p>Total: 1</p></div>\n",
       "        "
      ],
      "text/plain": [
       "*electrode_con probe_type     electrode_conf\n",
       "+------------+ +------------+ +------------+\n",
       "6f6d8149-1603- neuropixels 1. 0-383         \n",
       " (Total: 1)"
      ]
     },
     "execution_count": 21,
     "metadata": {},
     "output_type": "execute_result"
    }
   ],
   "source": [
    "probe_element.ElectrodeConfig()"
   ]
  },
  {
   "cell_type": "code",
   "execution_count": 22,
   "metadata": {},
   "outputs": [
    {
     "data": {
      "text/html": [
       "\n",
       "    \n",
       "    <style type=\"text/css\">\n",
       "        .Relation{\n",
       "            border-collapse:collapse;\n",
       "        }\n",
       "        .Relation th{\n",
       "            background: #A0A0A0; color: #ffffff; padding:4px; border:#f0e0e0 1px solid;\n",
       "            font-weight: normal; font-family: monospace; font-size: 100%;\n",
       "        }\n",
       "        .Relation td{\n",
       "            padding:4px; border:#f0e0e0 1px solid; font-size:100%;\n",
       "        }\n",
       "        .Relation tr:nth-child(odd){\n",
       "            background: #ffffff;\n",
       "        }\n",
       "        .Relation tr:nth-child(even){\n",
       "            background: #f3f1ff;\n",
       "        }\n",
       "        /* Tooltip container */\n",
       "        .djtooltip {\n",
       "        }\n",
       "        /* Tooltip text */\n",
       "        .djtooltip .djtooltiptext {\n",
       "            visibility: hidden;\n",
       "            width: 120px;\n",
       "            background-color: black;\n",
       "            color: #fff;\n",
       "            text-align: center;\n",
       "            padding: 5px 0;\n",
       "            border-radius: 6px;\n",
       "            /* Position the tooltip text - see examples below! */\n",
       "            position: absolute;\n",
       "            z-index: 1;\n",
       "        }\n",
       "        #primary {\n",
       "            font-weight: bold;\n",
       "            color: black;\n",
       "        }\n",
       "        #nonprimary {\n",
       "            font-weight: normal;\n",
       "            color: white;\n",
       "        }\n",
       "\n",
       "        /* Show the tooltip text when you mouse over the tooltip container */\n",
       "        .djtooltip:hover .djtooltiptext {\n",
       "            visibility: visible;\n",
       "        }\n",
       "    </style>\n",
       "    \n",
       "    <b>Electrodes selected for recording</b>\n",
       "        <div style=\"max-height:1000px;max-width:1500px;overflow:auto;\">\n",
       "        <table border=\"1\" class=\"Relation\">\n",
       "            <thead> <tr style=\"text-align: right;\"> <th> <div class=\"djtooltip\">\n",
       "                            <p id=\"primary\">electrode_config_hash</p>\n",
       "                            <span class=\"djtooltiptext\"></span>\n",
       "                        </div></th><th><div class=\"djtooltip\">\n",
       "                            <p id=\"primary\">probe_type</p>\n",
       "                            <span class=\"djtooltiptext\">e.g. neuropixels_1.0</span>\n",
       "                        </div></th><th><div class=\"djtooltip\">\n",
       "                            <p id=\"primary\">electrode</p>\n",
       "                            <span class=\"djtooltiptext\">electrode index, starts at 0</span>\n",
       "                        </div> </th> </tr> </thead>\n",
       "            <tbody> <tr> <td>6f6d8149-1603-9d2c-f884-0fdf995ec8b3</td>\n",
       "<td>neuropixels 1.0 - 3B</td>\n",
       "<td>0</td></tr><tr><td>6f6d8149-1603-9d2c-f884-0fdf995ec8b3</td>\n",
       "<td>neuropixels 1.0 - 3B</td>\n",
       "<td>1</td></tr><tr><td>6f6d8149-1603-9d2c-f884-0fdf995ec8b3</td>\n",
       "<td>neuropixels 1.0 - 3B</td>\n",
       "<td>2</td></tr><tr><td>6f6d8149-1603-9d2c-f884-0fdf995ec8b3</td>\n",
       "<td>neuropixels 1.0 - 3B</td>\n",
       "<td>3</td></tr><tr><td>6f6d8149-1603-9d2c-f884-0fdf995ec8b3</td>\n",
       "<td>neuropixels 1.0 - 3B</td>\n",
       "<td>4</td></tr><tr><td>6f6d8149-1603-9d2c-f884-0fdf995ec8b3</td>\n",
       "<td>neuropixels 1.0 - 3B</td>\n",
       "<td>5</td></tr><tr><td>6f6d8149-1603-9d2c-f884-0fdf995ec8b3</td>\n",
       "<td>neuropixels 1.0 - 3B</td>\n",
       "<td>6</td></tr><tr><td>6f6d8149-1603-9d2c-f884-0fdf995ec8b3</td>\n",
       "<td>neuropixels 1.0 - 3B</td>\n",
       "<td>7</td></tr><tr><td>6f6d8149-1603-9d2c-f884-0fdf995ec8b3</td>\n",
       "<td>neuropixels 1.0 - 3B</td>\n",
       "<td>8</td></tr><tr><td>6f6d8149-1603-9d2c-f884-0fdf995ec8b3</td>\n",
       "<td>neuropixels 1.0 - 3B</td>\n",
       "<td>9</td></tr><tr><td>6f6d8149-1603-9d2c-f884-0fdf995ec8b3</td>\n",
       "<td>neuropixels 1.0 - 3B</td>\n",
       "<td>10</td></tr><tr><td>6f6d8149-1603-9d2c-f884-0fdf995ec8b3</td>\n",
       "<td>neuropixels 1.0 - 3B</td>\n",
       "<td>11</td> </tr> </tbody>\n",
       "        </table>\n",
       "        <p>...</p>\n",
       "        <p>Total: 384</p></div>\n",
       "        "
      ],
      "text/plain": [
       "*electrode_con *probe_type    *electrode   \n",
       "+------------+ +------------+ +-----------+\n",
       "6f6d8149-1603- neuropixels 1. 0            \n",
       "6f6d8149-1603- neuropixels 1. 1            \n",
       "6f6d8149-1603- neuropixels 1. 2            \n",
       "6f6d8149-1603- neuropixels 1. 3            \n",
       "6f6d8149-1603- neuropixels 1. 4            \n",
       "6f6d8149-1603- neuropixels 1. 5            \n",
       "6f6d8149-1603- neuropixels 1. 6            \n",
       "6f6d8149-1603- neuropixels 1. 7            \n",
       "6f6d8149-1603- neuropixels 1. 8            \n",
       "6f6d8149-1603- neuropixels 1. 9            \n",
       "6f6d8149-1603- neuropixels 1. 10           \n",
       "6f6d8149-1603- neuropixels 1. 11           \n",
       "   ...\n",
       " (Total: 384)"
      ]
     },
     "execution_count": 22,
     "metadata": {},
     "output_type": "execute_result"
    }
   ],
   "source": [
    "probe_element.ElectrodeConfig.Electrode()"
   ]
  },
  {
   "cell_type": "markdown",
   "metadata": {},
   "source": [
    "2. **ephys_element.EphysRecording**: note here that it refers to a particular electrode_config identified with a hash."
   ]
  },
  {
   "cell_type": "code",
   "execution_count": 28,
   "metadata": {},
   "outputs": [
    {
     "data": {
      "text/html": [
       "\n",
       "    \n",
       "    <style type=\"text/css\">\n",
       "        .Relation{\n",
       "            border-collapse:collapse;\n",
       "        }\n",
       "        .Relation th{\n",
       "            background: #A0A0A0; color: #ffffff; padding:4px; border:#f0e0e0 1px solid;\n",
       "            font-weight: normal; font-family: monospace; font-size: 100%;\n",
       "        }\n",
       "        .Relation td{\n",
       "            padding:4px; border:#f0e0e0 1px solid; font-size:100%;\n",
       "        }\n",
       "        .Relation tr:nth-child(odd){\n",
       "            background: #ffffff;\n",
       "        }\n",
       "        .Relation tr:nth-child(even){\n",
       "            background: #f3f1ff;\n",
       "        }\n",
       "        /* Tooltip container */\n",
       "        .djtooltip {\n",
       "        }\n",
       "        /* Tooltip text */\n",
       "        .djtooltip .djtooltiptext {\n",
       "            visibility: hidden;\n",
       "            width: 120px;\n",
       "            background-color: black;\n",
       "            color: #fff;\n",
       "            text-align: center;\n",
       "            padding: 5px 0;\n",
       "            border-radius: 6px;\n",
       "            /* Position the tooltip text - see examples below! */\n",
       "            position: absolute;\n",
       "            z-index: 1;\n",
       "        }\n",
       "        #primary {\n",
       "            font-weight: bold;\n",
       "            color: black;\n",
       "        }\n",
       "        #nonprimary {\n",
       "            font-weight: normal;\n",
       "            color: white;\n",
       "        }\n",
       "\n",
       "        /* Show the tooltip text when you mouse over the tooltip container */\n",
       "        .djtooltip:hover .djtooltiptext {\n",
       "            visibility: visible;\n",
       "        }\n",
       "    </style>\n",
       "    \n",
       "    <b></b>\n",
       "        <div style=\"max-height:1000px;max-width:1500px;overflow:auto;\">\n",
       "        <table border=\"1\" class=\"Relation\">\n",
       "            <thead> <tr style=\"text-align: right;\"> <th> <div class=\"djtooltip\">\n",
       "                            <p id=\"primary\">sessid</p>\n",
       "                            <span class=\"djtooltiptext\">Unique number assigned to each training session</span>\n",
       "                        </div></th><th><div class=\"djtooltip\">\n",
       "                            <p id=\"primary\">ratname</p>\n",
       "                            <span class=\"djtooltiptext\">Unique rat name, 1 letter 3 numbers</span>\n",
       "                        </div></th><th><div class=\"djtooltip\">\n",
       "                            <p id=\"primary\">insertion_number</p>\n",
       "                            <span class=\"djtooltiptext\"></span>\n",
       "                        </div></th><th><div class=\"djtooltip\">\n",
       "                            <p id=\"nonprimary\">electrode_config_hash</p>\n",
       "                            <span class=\"djtooltiptext\"></span>\n",
       "                        </div></th><th><div class=\"djtooltip\">\n",
       "                            <p id=\"nonprimary\">acq_software</p>\n",
       "                            <span class=\"djtooltiptext\"></span>\n",
       "                        </div></th><th><div class=\"djtooltip\">\n",
       "                            <p id=\"nonprimary\">sampling_rate</p>\n",
       "                            <span class=\"djtooltiptext\">(Hz)</span>\n",
       "                        </div> </th> </tr> </thead>\n",
       "            <tbody> <tr> <td>724159</td>\n",
       "<td>A230</td>\n",
       "<td>0</td>\n",
       "<td>6f6d8149-1603-9d2c-f884-0fdf995ec8b3</td>\n",
       "<td>SpikeGLX</td>\n",
       "<td>30000.5</td> </tr> </tbody>\n",
       "        </table>\n",
       "        \n",
       "        <p>Total: 1</p></div>\n",
       "        "
      ],
      "text/plain": [
       "*sessid    *ratname    *insertion_num electrode_conf acq_software   sampling_rate \n",
       "+--------+ +---------+ +------------+ +------------+ +------------+ +------------+\n",
       "724159     A230        0              6f6d8149-1603- SpikeGLX       30000.5       \n",
       " (Total: 1)"
      ]
     },
     "execution_count": 28,
     "metadata": {},
     "output_type": "execute_result"
    }
   ],
   "source": [
    "ephys_element.EphysRecording() & session_key"
   ]
  },
  {
   "cell_type": "markdown",
   "metadata": {},
   "source": [
    "3. **ephys_element.EphysRecording.EphysFile**"
   ]
  },
  {
   "cell_type": "code",
   "execution_count": 29,
   "metadata": {},
   "outputs": [
    {
     "data": {
      "text/html": [
       "\n",
       "    \n",
       "    <style type=\"text/css\">\n",
       "        .Relation{\n",
       "            border-collapse:collapse;\n",
       "        }\n",
       "        .Relation th{\n",
       "            background: #A0A0A0; color: #ffffff; padding:4px; border:#f0e0e0 1px solid;\n",
       "            font-weight: normal; font-family: monospace; font-size: 100%;\n",
       "        }\n",
       "        .Relation td{\n",
       "            padding:4px; border:#f0e0e0 1px solid; font-size:100%;\n",
       "        }\n",
       "        .Relation tr:nth-child(odd){\n",
       "            background: #ffffff;\n",
       "        }\n",
       "        .Relation tr:nth-child(even){\n",
       "            background: #f3f1ff;\n",
       "        }\n",
       "        /* Tooltip container */\n",
       "        .djtooltip {\n",
       "        }\n",
       "        /* Tooltip text */\n",
       "        .djtooltip .djtooltiptext {\n",
       "            visibility: hidden;\n",
       "            width: 120px;\n",
       "            background-color: black;\n",
       "            color: #fff;\n",
       "            text-align: center;\n",
       "            padding: 5px 0;\n",
       "            border-radius: 6px;\n",
       "            /* Position the tooltip text - see examples below! */\n",
       "            position: absolute;\n",
       "            z-index: 1;\n",
       "        }\n",
       "        #primary {\n",
       "            font-weight: bold;\n",
       "            color: black;\n",
       "        }\n",
       "        #nonprimary {\n",
       "            font-weight: normal;\n",
       "            color: white;\n",
       "        }\n",
       "\n",
       "        /* Show the tooltip text when you mouse over the tooltip container */\n",
       "        .djtooltip:hover .djtooltiptext {\n",
       "            visibility: visible;\n",
       "        }\n",
       "    </style>\n",
       "    \n",
       "    <b></b>\n",
       "        <div style=\"max-height:1000px;max-width:1500px;overflow:auto;\">\n",
       "        <table border=\"1\" class=\"Relation\">\n",
       "            <thead> <tr style=\"text-align: right;\"> <th> <div class=\"djtooltip\">\n",
       "                            <p id=\"primary\">sessid</p>\n",
       "                            <span class=\"djtooltiptext\">Unique number assigned to each training session</span>\n",
       "                        </div></th><th><div class=\"djtooltip\">\n",
       "                            <p id=\"primary\">ratname</p>\n",
       "                            <span class=\"djtooltiptext\">Unique rat name, 1 letter 3 numbers</span>\n",
       "                        </div></th><th><div class=\"djtooltip\">\n",
       "                            <p id=\"primary\">insertion_number</p>\n",
       "                            <span class=\"djtooltiptext\"></span>\n",
       "                        </div></th><th><div class=\"djtooltip\">\n",
       "                            <p id=\"primary\">file_path</p>\n",
       "                            <span class=\"djtooltiptext\">filepath relative to root data directory</span>\n",
       "                        </div> </th> </tr> </thead>\n",
       "            <tbody> <tr> <td>724159</td>\n",
       "<td>A230</td>\n",
       "<td>0</td>\n",
       "<td>Adrian/A230/A230_2019-08-21_g0/A230_2019-08-21_g0_imec0/A230_2019-08-21_g0_t0.imec0.ap.meta</td> </tr> </tbody>\n",
       "        </table>\n",
       "        \n",
       "        <p>Total: 1</p></div>\n",
       "        "
      ],
      "text/plain": [
       "*sessid    *ratname    *insertion_num *file_path    \n",
       "+--------+ +---------+ +------------+ +------------+\n",
       "724159     A230        0              Adrian/A230/A2\n",
       " (Total: 1)"
      ]
     },
     "execution_count": 29,
     "metadata": {},
     "output_type": "execute_result"
    }
   ],
   "source": [
    "ephys_element.EphysRecording.EphysFile() & session_key"
   ]
  },
  {
   "cell_type": "markdown",
   "metadata": {},
   "source": [
    "## Create ClusteringTask and run/validate Clustering"
   ]
  },
  {
   "cell_type": "code",
   "execution_count": 30,
   "metadata": {},
   "outputs": [
    {
     "data": {
      "image/svg+xml": [
       "<svg height=\"185pt\" viewBox=\"0.00 0.00 430.12 185.00\" width=\"430pt\" xmlns=\"http://www.w3.org/2000/svg\" xmlns:xlink=\"http://www.w3.org/1999/xlink\">\n",
       "<g class=\"graph\" id=\"graph0\" transform=\"scale(1 1) rotate(0) translate(4 181)\">\n",
       "<polygon fill=\"white\" points=\"-4,4 -4,-181 426.12,-181 426.12,4 -4,4\" stroke=\"transparent\"/>\n",
       "<!-- ephys_element.ClusteringParamSet -->\n",
       "<g class=\"node\" id=\"node1\">\n",
       "<title>ephys_element.ClusteringParamSet</title>\n",
       "<g id=\"a_node1\"><a xlink:title=\"paramset_idx         \r",
       "------------------------------\r",
       "→ ephys_element.ClusteringMethod\r",
       "paramset_desc        \r",
       "param_set_hash       \r",
       "params               \r",
       "UNIQUE INDEX (param_set_hash)\r",
       "\">\n",
       "<polygon fill=\"#000000\" fill-opacity=\"0.125490\" points=\"173,-177 0,-177 0,-142 173,-142 173,-177\" stroke=\"transparent\"/>\n",
       "<text font-family=\"arial\" font-size=\"10.00\" text-anchor=\"start\" text-decoration=\"underline\" x=\"8\" y=\"-158\">ephys_element.ClusteringParamSet</text>\n",
       "</a>\n",
       "</g>\n",
       "</g>\n",
       "<!-- ephys_element.ClusteringTask -->\n",
       "<g class=\"node\" id=\"node4\">\n",
       "<title>ephys_element.ClusteringTask</title>\n",
       "<g id=\"a_node4\"><a xlink:title=\"→ ephys_element.EphysRecording\r",
       "→ ephys_element.ClusteringParamSet\r",
       "------------------------------\r",
       "clustering_output_dir \r",
       "task_mode=&quot;load&quot;     \r",
       "\">\n",
       "<polygon fill=\"#00ff00\" fill-opacity=\"0.188235\" points=\"284.5,-106 108.5,-106 108.5,-71 284.5,-71 284.5,-106\" stroke=\"#00ff00\" stroke-opacity=\"0.188235\"/>\n",
       "<text fill=\"darkgreen\" font-family=\"arial\" font-size=\"12.00\" text-anchor=\"middle\" x=\"196.5\" y=\"-85.4\">ephys_element.ClusteringTask</text>\n",
       "</a>\n",
       "</g>\n",
       "</g>\n",
       "<!-- ephys_element.ClusteringParamSet&#45;&gt;ephys_element.ClusteringTask -->\n",
       "<g class=\"edge\" id=\"edge1\">\n",
       "<title>ephys_element.ClusteringParamSet-&gt;ephys_element.ClusteringTask</title>\n",
       "<path d=\"M112.85,-141.97C130.14,-131.13 152.66,-117 169.99,-106.13\" fill=\"none\" stroke=\"#000000\" stroke-opacity=\"0.250980\" stroke-width=\"0.75\"/>\n",
       "</g>\n",
       "<!-- ephys_element.EphysRecording -->\n",
       "<g class=\"node\" id=\"node2\">\n",
       "<title>ephys_element.EphysRecording</title>\n",
       "<g id=\"a_node2\"><a xlink:title=\"→ acquisition.Sessions\r",
       "→ ephys_element.ProbeInsertion\r",
       "------------------------------\r",
       "→ probe_element.ElectrodeConfig\r",
       "→ ephys_element.AcquisitionSoftware\r",
       "sampling_rate        \r",
       "\">\n",
       "<ellipse cx=\"306.5\" cy=\"-159.5\" fill=\"#00007f\" fill-opacity=\"0.250980\" rx=\"115.75\" ry=\"17.5\" stroke=\"#00007f\" stroke-opacity=\"0.250980\"/>\n",
       "<text fill=\"#00007f\" fill-opacity=\"0.627451\" font-family=\"arial\" font-size=\"12.00\" text-anchor=\"middle\" x=\"306.5\" y=\"-156.4\">ephys_element.EphysRecording</text>\n",
       "</a>\n",
       "</g>\n",
       "</g>\n",
       "<!-- ephys_element.EphysRecording&#45;&gt;ephys_element.ClusteringTask -->\n",
       "<g class=\"edge\" id=\"edge2\">\n",
       "<title>ephys_element.EphysRecording-&gt;ephys_element.ClusteringTask</title>\n",
       "<path d=\"M280.71,-142.32C263.31,-131.41 240.42,-117.05 222.89,-106.06\" fill=\"none\" stroke=\"#000000\" stroke-opacity=\"0.250980\" stroke-width=\"0.75\"/>\n",
       "</g>\n",
       "<!-- ephys_element.Clustering -->\n",
       "<g class=\"node\" id=\"node3\">\n",
       "<title>ephys_element.Clustering</title>\n",
       "<g id=\"a_node3\"><a xlink:title=\"→ ephys_element.ClusteringTask\r",
       "------------------------------\r",
       "clustering_time      \r",
       "\">\n",
       "<ellipse cx=\"196.5\" cy=\"-17.5\" fill=\"#00007f\" fill-opacity=\"0.250980\" rx=\"94.25\" ry=\"17.5\" stroke=\"#00007f\" stroke-opacity=\"0.250980\"/>\n",
       "<text fill=\"#00007f\" fill-opacity=\"0.627451\" font-family=\"arial\" font-size=\"12.00\" text-anchor=\"middle\" x=\"196.5\" y=\"-14.4\">ephys_element.Clustering</text>\n",
       "</a>\n",
       "</g>\n",
       "</g>\n",
       "<!-- ephys_element.ClusteringTask&#45;&gt;ephys_element.Clustering -->\n",
       "<g class=\"edge\" id=\"edge3\">\n",
       "<title>ephys_element.ClusteringTask-&gt;ephys_element.Clustering</title>\n",
       "<path d=\"M196.5,-70.8C196.5,-59.95 196.5,-45.87 196.5,-35.05\" fill=\"none\" stroke=\"#000000\" stroke-opacity=\"0.250980\" stroke-width=\"2\"/>\n",
       "</g>\n",
       "</g>\n",
       "</svg>"
      ],
      "text/plain": [
       "<datajoint.diagram.Diagram at 0x224193fd448>"
      ]
     },
     "execution_count": 30,
     "metadata": {},
     "output_type": "execute_result"
    }
   ],
   "source": [
    "dj.Diagram(ephys_element.EphysRecording) + ephys_element.ClusteringParamSet + ephys_element.ClusteringTask + \\\n",
    "ephys_element.Clustering"
   ]
  },
  {
   "cell_type": "markdown",
   "metadata": {},
   "source": [
    "The next major table in the ephys pipeline is the `ClusteringTask`.\n",
    "\n",
    "+ In the future release of ephys elements, we will aim to trigger Clustering within the workflow, and register an entry in `ClusteringTask` is a manual step to let the pipeline know that there is a Clustering Task to be processed.\n",
    "\n",
    "+ Currently, we have not supported the processing of Kilosort2 within the workflow. `ClusteringTask` is a place holder\n",
    "indicating a Kilosort2 clustering task is finished and the clustering results are ready for processing. \n",
    "\n",
    "+ The `ClusteringTask` table depends on the table `ClusteringParamSet`, which are the parameters of the clustering task and needed to be inserted first. "
   ]
  },
  {
   "cell_type": "markdown",
   "metadata": {},
   "source": [
    "A method of the class `ClusteringParamSet` called `insert_new_params` helps on the insertion of params_set"
   ]
  },
  {
   "cell_type": "code",
   "execution_count": 5,
   "metadata": {},
   "outputs": [
    {
     "data": {
      "text/html": [
       "\n",
       "    \n",
       "    <style type=\"text/css\">\n",
       "        .Relation{\n",
       "            border-collapse:collapse;\n",
       "        }\n",
       "        .Relation th{\n",
       "            background: #A0A0A0; color: #ffffff; padding:4px; border:#f0e0e0 1px solid;\n",
       "            font-weight: normal; font-family: monospace; font-size: 100%;\n",
       "        }\n",
       "        .Relation td{\n",
       "            padding:4px; border:#f0e0e0 1px solid; font-size:100%;\n",
       "        }\n",
       "        .Relation tr:nth-child(odd){\n",
       "            background: #ffffff;\n",
       "        }\n",
       "        .Relation tr:nth-child(even){\n",
       "            background: #f3f1ff;\n",
       "        }\n",
       "        /* Tooltip container */\n",
       "        .djtooltip {\n",
       "        }\n",
       "        /* Tooltip text */\n",
       "        .djtooltip .djtooltiptext {\n",
       "            visibility: hidden;\n",
       "            width: 120px;\n",
       "            background-color: black;\n",
       "            color: #fff;\n",
       "            text-align: center;\n",
       "            padding: 5px 0;\n",
       "            border-radius: 6px;\n",
       "            /* Position the tooltip text - see examples below! */\n",
       "            position: absolute;\n",
       "            z-index: 1;\n",
       "        }\n",
       "        #primary {\n",
       "            font-weight: bold;\n",
       "            color: black;\n",
       "        }\n",
       "        #nonprimary {\n",
       "            font-weight: normal;\n",
       "            color: white;\n",
       "        }\n",
       "\n",
       "        /* Show the tooltip text when you mouse over the tooltip container */\n",
       "        .djtooltip:hover .djtooltiptext {\n",
       "            visibility: visible;\n",
       "        }\n",
       "    </style>\n",
       "    \n",
       "    <b></b>\n",
       "        <div style=\"max-height:1000px;max-width:1500px;overflow:auto;\">\n",
       "        <table border=\"1\" class=\"Relation\">\n",
       "            <thead> <tr style=\"text-align: right;\"> <th> <div class=\"djtooltip\">\n",
       "                            <p id=\"primary\">paramset_idx</p>\n",
       "                            <span class=\"djtooltiptext\"></span>\n",
       "                        </div></th><th><div class=\"djtooltip\">\n",
       "                            <p id=\"nonprimary\">clustering_method</p>\n",
       "                            <span class=\"djtooltiptext\"></span>\n",
       "                        </div></th><th><div class=\"djtooltip\">\n",
       "                            <p id=\"nonprimary\">paramset_desc</p>\n",
       "                            <span class=\"djtooltiptext\"></span>\n",
       "                        </div></th><th><div class=\"djtooltip\">\n",
       "                            <p id=\"nonprimary\">param_set_hash</p>\n",
       "                            <span class=\"djtooltiptext\"></span>\n",
       "                        </div></th><th><div class=\"djtooltip\">\n",
       "                            <p id=\"nonprimary\">params</p>\n",
       "                            <span class=\"djtooltiptext\">dictionary of all applicable parameters</span>\n",
       "                        </div> </th> </tr> </thead>\n",
       "            <tbody> <tr> <td>0</td>\n",
       "<td>kilosort2</td>\n",
       "<td>Spike sorting using Kilosort2</td>\n",
       "<td>83f93e90-d8e0-1dca-5b2c-f65e2b0b3c61</td>\n",
       "<td>=BLOB=</td> </tr> </tbody>\n",
       "        </table>\n",
       "        \n",
       "        <p>Total: 1</p></div>\n",
       "        "
      ],
      "text/plain": [
       "*paramset_idx  clustering_met paramset_desc  param_set_hash params    \n",
       "+------------+ +------------+ +------------+ +------------+ +--------+\n",
       "0              kilosort2      Spike sorting  83f93e90-d8e0- =BLOB=    \n",
       " (Total: 1)"
      ]
     },
     "execution_count": 5,
     "metadata": {},
     "output_type": "execute_result"
    }
   ],
   "source": [
    "# insert clustering task manually\n",
    "params_ks = {\n",
    "    \"fs\": 30000,\n",
    "    \"fshigh\": 150,\n",
    "    \"minfr_goodchannels\": 0.1,\n",
    "    \"Th\": [10, 4],\n",
    "    \"lam\": 10,\n",
    "    \"AUCsplit\": 0.9,\n",
    "    \"minFR\": 0.02,\n",
    "    \"momentum\": [20, 400],\n",
    "    \"sigmaMask\": 30,\n",
    "    \"ThPr\": 8,\n",
    "    \"spkTh\": -6,\n",
    "    \"reorder\": 1,\n",
    "    \"nskip\": 25,\n",
    "    \"GPU\": 1,\n",
    "    \"Nfilt\": 1024,\n",
    "    \"nfilt_factor\": 4,\n",
    "    \"ntbuff\": 64,\n",
    "    \"whiteningRange\": 32,\n",
    "    \"nSkipCov\": 25,\n",
    "    \"scaleproc\": 200,\n",
    "    \"nPCs\": 3,\n",
    "    \"useRAM\": 0\n",
    "}\n",
    "ephys_element.ClusteringParamSet.insert_new_params(\n",
    "    'kilosort2', 0, 'Spike sorting using Kilosort2', params_ks)\n",
    "ephys_element.ClusteringParamSet()"
   ]
  },
  {
   "cell_type": "code",
   "execution_count": 11,
   "metadata": {},
   "outputs": [
    {
     "data": {
      "text/html": [
       "\n",
       "    \n",
       "    <style type=\"text/css\">\n",
       "        .Relation{\n",
       "            border-collapse:collapse;\n",
       "        }\n",
       "        .Relation th{\n",
       "            background: #A0A0A0; color: #ffffff; padding:4px; border:#f0e0e0 1px solid;\n",
       "            font-weight: normal; font-family: monospace; font-size: 100%;\n",
       "        }\n",
       "        .Relation td{\n",
       "            padding:4px; border:#f0e0e0 1px solid; font-size:100%;\n",
       "        }\n",
       "        .Relation tr:nth-child(odd){\n",
       "            background: #ffffff;\n",
       "        }\n",
       "        .Relation tr:nth-child(even){\n",
       "            background: #f3f1ff;\n",
       "        }\n",
       "        /* Tooltip container */\n",
       "        .djtooltip {\n",
       "        }\n",
       "        /* Tooltip text */\n",
       "        .djtooltip .djtooltiptext {\n",
       "            visibility: hidden;\n",
       "            width: 120px;\n",
       "            background-color: black;\n",
       "            color: #fff;\n",
       "            text-align: center;\n",
       "            padding: 5px 0;\n",
       "            border-radius: 6px;\n",
       "            /* Position the tooltip text - see examples below! */\n",
       "            position: absolute;\n",
       "            z-index: 1;\n",
       "        }\n",
       "        #primary {\n",
       "            font-weight: bold;\n",
       "            color: black;\n",
       "        }\n",
       "        #nonprimary {\n",
       "            font-weight: normal;\n",
       "            color: white;\n",
       "        }\n",
       "\n",
       "        /* Show the tooltip text when you mouse over the tooltip container */\n",
       "        .djtooltip:hover .djtooltiptext {\n",
       "            visibility: visible;\n",
       "        }\n",
       "    </style>\n",
       "    \n",
       "    <b></b>\n",
       "        <div style=\"max-height:1000px;max-width:1500px;overflow:auto;\">\n",
       "        <table border=\"1\" class=\"Relation\">\n",
       "            <thead> <tr style=\"text-align: right;\"> <th> <div class=\"djtooltip\">\n",
       "                            <p id=\"primary\">sessid</p>\n",
       "                            <span class=\"djtooltiptext\">Unique number assigned to each training session</span>\n",
       "                        </div></th><th><div class=\"djtooltip\">\n",
       "                            <p id=\"primary\">ratname</p>\n",
       "                            <span class=\"djtooltiptext\">Unique rat name, 1 letter 3 numbers</span>\n",
       "                        </div></th><th><div class=\"djtooltip\">\n",
       "                            <p id=\"primary\">insertion_number</p>\n",
       "                            <span class=\"djtooltiptext\"></span>\n",
       "                        </div></th><th><div class=\"djtooltip\">\n",
       "                            <p id=\"primary\">paramset_idx</p>\n",
       "                            <span class=\"djtooltiptext\"></span>\n",
       "                        </div></th><th><div class=\"djtooltip\">\n",
       "                            <p id=\"nonprimary\">clustering_output_dir</p>\n",
       "                            <span class=\"djtooltiptext\">clustering output directory relative to root data directory</span>\n",
       "                        </div></th><th><div class=\"djtooltip\">\n",
       "                            <p id=\"nonprimary\">task_mode</p>\n",
       "                            <span class=\"djtooltiptext\">'load': load computed analysis results, 'trigger': trigger computation</span>\n",
       "                        </div> </th> </tr> </thead>\n",
       "            <tbody> <tr> <td>725723</td>\n",
       "<td>A230</td>\n",
       "<td>0</td>\n",
       "<td>0</td>\n",
       "<td>Adrian/A230/2019-08-26</td>\n",
       "<td>load</td></tr><tr><td>787269</td>\n",
       "<td>A249</td>\n",
       "<td>0</td>\n",
       "<td>0</td>\n",
       "<td>NP_sorted/Adrian/A249/A249_2020_09_25/A249_2020_09_25_g0/spikesort_2020_11_18_09_57_50_ks2jrc</td>\n",
       "<td>load</td></tr><tr><td>787674</td>\n",
       "<td>A256</td>\n",
       "<td>0</td>\n",
       "<td>0</td>\n",
       "<td>NP_sorted/Adrian/A256/A256_2020_09_28/A256_2020_09_28_g0/spikesort_2020_11_23_09_09_42_ks2jrc</td>\n",
       "<td>load</td> </tr> </tbody>\n",
       "        </table>\n",
       "        \n",
       "        <p>Total: 3</p></div>\n",
       "        "
      ],
      "text/plain": [
       "*sessid    *ratname    *insertion_num *paramset_idx  clustering_out task_mode    \n",
       "+--------+ +---------+ +------------+ +------------+ +------------+ +-----------+\n",
       "725723     A230        0              0              Adrian/A230/20 load         \n",
       "787269     A249        0              0              NP_sorted/Adri load         \n",
       "787674     A256        0              0              NP_sorted/Adri load         \n",
       " (Total: 3)"
      ]
     },
     "execution_count": 11,
     "metadata": {},
     "output_type": "execute_result"
    }
   ],
   "source": [
    "ephys_element.ClusteringTask()"
   ]
  },
  {
   "cell_type": "code",
   "execution_count": 9,
   "metadata": {},
   "outputs": [
    {
     "data": {
      "text/plain": [
       "'Adrian/A230/2019-08-26'"
      ]
     },
     "execution_count": 9,
     "metadata": {},
     "output_type": "execute_result"
    }
   ],
   "source": [
    "clust_dir = get_session_cluster_directory(session_key)\n",
    "clust_dir = clust_dir.replace(dj.config['custom']['clustering_root_data_dir'],'')\n",
    "clust_dir"
   ]
  },
  {
   "cell_type": "markdown",
   "metadata": {},
   "source": [
    "We are then able to insert an entry into the `ClusteringTask` table. One important field of the table is `clustering_output_dir`, which specifies the Kilosort2 output directory for the later processing.  \n",
    "**Note**: this output dir is a relative path to be combined with `clustering_root_directory` in the config file."
   ]
  },
  {
   "cell_type": "code",
   "execution_count": 10,
   "metadata": {},
   "outputs": [],
   "source": [
    "clust_dir = get_session_cluster_directory(session_key)\n",
    "clust_dir = clust_dir.replace(dj.config['custom']['clustering_root_data_dir'],'')\n",
    "ephys_element.ClusteringTask.insert1(\n",
    "    dict(session_key, ratname=session_info['session_rat'], insertion_number=0, paramset_idx=0, clustering_output_dir=clust_dir), skip_duplicates=True)"
   ]
  },
  {
   "cell_type": "code",
   "execution_count": 12,
   "metadata": {},
   "outputs": [
    {
     "data": {
      "text/html": [
       "\n",
       "    \n",
       "    <style type=\"text/css\">\n",
       "        .Relation{\n",
       "            border-collapse:collapse;\n",
       "        }\n",
       "        .Relation th{\n",
       "            background: #A0A0A0; color: #ffffff; padding:4px; border:#f0e0e0 1px solid;\n",
       "            font-weight: normal; font-family: monospace; font-size: 100%;\n",
       "        }\n",
       "        .Relation td{\n",
       "            padding:4px; border:#f0e0e0 1px solid; font-size:100%;\n",
       "        }\n",
       "        .Relation tr:nth-child(odd){\n",
       "            background: #ffffff;\n",
       "        }\n",
       "        .Relation tr:nth-child(even){\n",
       "            background: #f3f1ff;\n",
       "        }\n",
       "        /* Tooltip container */\n",
       "        .djtooltip {\n",
       "        }\n",
       "        /* Tooltip text */\n",
       "        .djtooltip .djtooltiptext {\n",
       "            visibility: hidden;\n",
       "            width: 120px;\n",
       "            background-color: black;\n",
       "            color: #fff;\n",
       "            text-align: center;\n",
       "            padding: 5px 0;\n",
       "            border-radius: 6px;\n",
       "            /* Position the tooltip text - see examples below! */\n",
       "            position: absolute;\n",
       "            z-index: 1;\n",
       "        }\n",
       "        #primary {\n",
       "            font-weight: bold;\n",
       "            color: black;\n",
       "        }\n",
       "        #nonprimary {\n",
       "            font-weight: normal;\n",
       "            color: white;\n",
       "        }\n",
       "\n",
       "        /* Show the tooltip text when you mouse over the tooltip container */\n",
       "        .djtooltip:hover .djtooltiptext {\n",
       "            visibility: visible;\n",
       "        }\n",
       "    </style>\n",
       "    \n",
       "    <b></b>\n",
       "        <div style=\"max-height:1000px;max-width:1500px;overflow:auto;\">\n",
       "        <table border=\"1\" class=\"Relation\">\n",
       "            <thead> <tr style=\"text-align: right;\"> <th> <div class=\"djtooltip\">\n",
       "                            <p id=\"primary\">sessid</p>\n",
       "                            <span class=\"djtooltiptext\">Unique number assigned to each training session</span>\n",
       "                        </div></th><th><div class=\"djtooltip\">\n",
       "                            <p id=\"primary\">ratname</p>\n",
       "                            <span class=\"djtooltiptext\">Unique rat name, 1 letter 3 numbers</span>\n",
       "                        </div></th><th><div class=\"djtooltip\">\n",
       "                            <p id=\"primary\">insertion_number</p>\n",
       "                            <span class=\"djtooltiptext\"></span>\n",
       "                        </div></th><th><div class=\"djtooltip\">\n",
       "                            <p id=\"primary\">paramset_idx</p>\n",
       "                            <span class=\"djtooltiptext\"></span>\n",
       "                        </div></th><th><div class=\"djtooltip\">\n",
       "                            <p id=\"nonprimary\">clustering_output_dir</p>\n",
       "                            <span class=\"djtooltiptext\">clustering output directory relative to root data directory</span>\n",
       "                        </div></th><th><div class=\"djtooltip\">\n",
       "                            <p id=\"nonprimary\">task_mode</p>\n",
       "                            <span class=\"djtooltiptext\">'load': load computed analysis results, 'trigger': trigger computation</span>\n",
       "                        </div> </th> </tr> </thead>\n",
       "            <tbody> <tr> <td>725723</td>\n",
       "<td>A230</td>\n",
       "<td>0</td>\n",
       "<td>0</td>\n",
       "<td>Adrian/A230/2019-08-26</td>\n",
       "<td>load</td> </tr> </tbody>\n",
       "        </table>\n",
       "        \n",
       "        <p>Total: 1</p></div>\n",
       "        "
      ],
      "text/plain": [
       "*sessid    *ratname    *insertion_num *paramset_idx  clustering_out task_mode    \n",
       "+--------+ +---------+ +------------+ +------------+ +------------+ +-----------+\n",
       "725723     A230        0              0              Adrian/A230/20 load         \n",
       " (Total: 1)"
      ]
     },
     "execution_count": 12,
     "metadata": {},
     "output_type": "execute_result"
    }
   ],
   "source": [
    "ephys_element.ClusteringTask() & session_key"
   ]
  },
  {
   "cell_type": "markdown",
   "metadata": {},
   "source": [
    "We are then able to populate the clustering results. The `Clustering` table now validates the Kilosort2 outcomes before ingesting the spike sorted results. In the future release of elements-ephys, this table will be used to trigger Kilosort2. A record in the `Clustering` indicates that Kilosort2 job is done successfully and the results are ready to be processed."
   ]
  },
  {
   "cell_type": "code",
   "execution_count": 4,
   "metadata": {},
   "outputs": [
    {
     "name": "stderr",
     "output_type": "stream",
     "text": [
      "Clustering:   0%|          | 0/1 [00:00<?, ?it/s]\n"
     ]
    },
    {
     "ename": "FileNotFoundError",
     "evalue": "No valid full-path found (from [WindowsPath('//apps02.pni.princeton.edu/archive-labdata/brody/RATTER/PhysData/Raw')]) for Adrian\\A230\\2019-08-26",
     "output_type": "error",
     "traceback": [
      "\u001b[1;31m---------------------------------------------------------------------------\u001b[0m",
      "\u001b[1;31mFileNotFoundError\u001b[0m                         Traceback (most recent call last)",
      "\u001b[1;32m~\\AppData\\Local\\Temp/ipykernel_17752/473540791.py\u001b[0m in \u001b[0;36m<module>\u001b[1;34m\u001b[0m\n\u001b[1;32m----> 1\u001b[1;33m \u001b[0mephys_element\u001b[0m\u001b[1;33m.\u001b[0m\u001b[0mClustering\u001b[0m\u001b[1;33m.\u001b[0m\u001b[0mpopulate\u001b[0m\u001b[1;33m(\u001b[0m\u001b[0msession_key\u001b[0m\u001b[1;33m,\u001b[0m \u001b[0mdisplay_progress\u001b[0m\u001b[1;33m=\u001b[0m\u001b[1;32mTrue\u001b[0m\u001b[1;33m)\u001b[0m\u001b[1;33m\u001b[0m\u001b[1;33m\u001b[0m\u001b[0m\n\u001b[0m",
      "\u001b[1;32mc:\\users\\stephan\\anaconda3\\envs\\brody_ephys_elements\\lib\\site-packages\\datajoint\\autopopulate.py\u001b[0m in \u001b[0;36mpopulate\u001b[1;34m(self, suppress_errors, return_exception_objects, reserve_jobs, order, limit, max_calls, display_progress, *restrictions)\u001b[0m\n\u001b[0;32m    151\u001b[0m                     \u001b[0mself\u001b[0m\u001b[1;33m.\u001b[0m\u001b[0m__class__\u001b[0m\u001b[1;33m.\u001b[0m\u001b[0m_allow_insert\u001b[0m \u001b[1;33m=\u001b[0m \u001b[1;32mTrue\u001b[0m\u001b[1;33m\u001b[0m\u001b[1;33m\u001b[0m\u001b[0m\n\u001b[0;32m    152\u001b[0m                     \u001b[1;32mtry\u001b[0m\u001b[1;33m:\u001b[0m\u001b[1;33m\u001b[0m\u001b[1;33m\u001b[0m\u001b[0m\n\u001b[1;32m--> 153\u001b[1;33m                         \u001b[0mmake\u001b[0m\u001b[1;33m(\u001b[0m\u001b[0mdict\u001b[0m\u001b[1;33m(\u001b[0m\u001b[0mkey\u001b[0m\u001b[1;33m)\u001b[0m\u001b[1;33m)\u001b[0m\u001b[1;33m\u001b[0m\u001b[1;33m\u001b[0m\u001b[0m\n\u001b[0m\u001b[0;32m    154\u001b[0m                     \u001b[1;32mexcept\u001b[0m \u001b[1;33m(\u001b[0m\u001b[0mKeyboardInterrupt\u001b[0m\u001b[1;33m,\u001b[0m \u001b[0mSystemExit\u001b[0m\u001b[1;33m,\u001b[0m \u001b[0mException\u001b[0m\u001b[1;33m)\u001b[0m \u001b[1;32mas\u001b[0m \u001b[0merror\u001b[0m\u001b[1;33m:\u001b[0m\u001b[1;33m\u001b[0m\u001b[1;33m\u001b[0m\u001b[0m\n\u001b[0;32m    155\u001b[0m                         \u001b[1;32mtry\u001b[0m\u001b[1;33m:\u001b[0m\u001b[1;33m\u001b[0m\u001b[1;33m\u001b[0m\u001b[0m\n",
      "\u001b[1;32mc:\\users\\stephan\\anaconda3\\envs\\brody_ephys_elements\\lib\\site-packages\\element_array_ephys\\ephys.py\u001b[0m in \u001b[0;36mmake\u001b[1;34m(self, key)\u001b[0m\n\u001b[0;32m    426\u001b[0m         task_mode, output_dir = (ClusteringTask & key).fetch1(\n\u001b[0;32m    427\u001b[0m             'task_mode', 'clustering_output_dir')\n\u001b[1;32m--> 428\u001b[1;33m         \u001b[0mkilosort_dir\u001b[0m \u001b[1;33m=\u001b[0m \u001b[0mfind_full_path\u001b[0m\u001b[1;33m(\u001b[0m\u001b[0mget_ephys_root_data_dir\u001b[0m\u001b[1;33m(\u001b[0m\u001b[1;33m)\u001b[0m\u001b[1;33m,\u001b[0m \u001b[0moutput_dir\u001b[0m\u001b[1;33m)\u001b[0m\u001b[1;33m\u001b[0m\u001b[1;33m\u001b[0m\u001b[0m\n\u001b[0m\u001b[0;32m    429\u001b[0m \u001b[1;33m\u001b[0m\u001b[0m\n\u001b[0;32m    430\u001b[0m         \u001b[1;32mif\u001b[0m \u001b[0mtask_mode\u001b[0m \u001b[1;33m==\u001b[0m \u001b[1;34m'load'\u001b[0m\u001b[1;33m:\u001b[0m\u001b[1;33m\u001b[0m\u001b[1;33m\u001b[0m\u001b[0m\n",
      "\u001b[1;32mc:\\users\\stephan\\anaconda3\\envs\\brody_ephys_elements\\lib\\site-packages\\element_array_ephys\\__init__.py\u001b[0m in \u001b[0;36mfind_full_path\u001b[1;34m(root_directories, relative_path)\u001b[0m\n\u001b[0;32m     28\u001b[0m \u001b[1;33m\u001b[0m\u001b[0m\n\u001b[0;32m     29\u001b[0m     raise FileNotFoundError('No valid full-path found (from {})'\n\u001b[1;32m---> 30\u001b[1;33m                             ' for {}'.format(root_directories, relative_path))\n\u001b[0m\u001b[0;32m     31\u001b[0m \u001b[1;33m\u001b[0m\u001b[0m\n\u001b[0;32m     32\u001b[0m \u001b[1;33m\u001b[0m\u001b[0m\n",
      "\u001b[1;31mFileNotFoundError\u001b[0m: No valid full-path found (from [WindowsPath('//apps02.pni.princeton.edu/archive-labdata/brody/RATTER/PhysData/Raw')]) for Adrian\\A230\\2019-08-26"
     ]
    }
   ],
   "source": [
    "ephys_element.Clustering.populate(session_key, display_progress=True)"
   ]
  },
  {
   "cell_type": "code",
   "execution_count": 14,
   "metadata": {},
   "outputs": [
    {
     "data": {
      "text/html": [
       "\n",
       "    \n",
       "    <style type=\"text/css\">\n",
       "        .Relation{\n",
       "            border-collapse:collapse;\n",
       "        }\n",
       "        .Relation th{\n",
       "            background: #A0A0A0; color: #ffffff; padding:4px; border:#f0e0e0 1px solid;\n",
       "            font-weight: normal; font-family: monospace; font-size: 100%;\n",
       "        }\n",
       "        .Relation td{\n",
       "            padding:4px; border:#f0e0e0 1px solid; font-size:100%;\n",
       "        }\n",
       "        .Relation tr:nth-child(odd){\n",
       "            background: #ffffff;\n",
       "        }\n",
       "        .Relation tr:nth-child(even){\n",
       "            background: #f3f1ff;\n",
       "        }\n",
       "        /* Tooltip container */\n",
       "        .djtooltip {\n",
       "        }\n",
       "        /* Tooltip text */\n",
       "        .djtooltip .djtooltiptext {\n",
       "            visibility: hidden;\n",
       "            width: 120px;\n",
       "            background-color: black;\n",
       "            color: #fff;\n",
       "            text-align: center;\n",
       "            padding: 5px 0;\n",
       "            border-radius: 6px;\n",
       "            /* Position the tooltip text - see examples below! */\n",
       "            position: absolute;\n",
       "            z-index: 1;\n",
       "        }\n",
       "        #primary {\n",
       "            font-weight: bold;\n",
       "            color: black;\n",
       "        }\n",
       "        #nonprimary {\n",
       "            font-weight: normal;\n",
       "            color: white;\n",
       "        }\n",
       "\n",
       "        /* Show the tooltip text when you mouse over the tooltip container */\n",
       "        .djtooltip:hover .djtooltiptext {\n",
       "            visibility: visible;\n",
       "        }\n",
       "    </style>\n",
       "    \n",
       "    <b></b>\n",
       "        <div style=\"max-height:1000px;max-width:1500px;overflow:auto;\">\n",
       "        <table border=\"1\" class=\"Relation\">\n",
       "            <thead> <tr style=\"text-align: right;\"> <th> <div class=\"djtooltip\">\n",
       "                            <p id=\"primary\">sessid</p>\n",
       "                            <span class=\"djtooltiptext\">Unique number assigned to each training session</span>\n",
       "                        </div></th><th><div class=\"djtooltip\">\n",
       "                            <p id=\"primary\">ratname</p>\n",
       "                            <span class=\"djtooltiptext\">Unique rat name, 1 letter 3 numbers</span>\n",
       "                        </div></th><th><div class=\"djtooltip\">\n",
       "                            <p id=\"primary\">insertion_number</p>\n",
       "                            <span class=\"djtooltiptext\"></span>\n",
       "                        </div></th><th><div class=\"djtooltip\">\n",
       "                            <p id=\"primary\">paramset_idx</p>\n",
       "                            <span class=\"djtooltiptext\"></span>\n",
       "                        </div></th><th><div class=\"djtooltip\">\n",
       "                            <p id=\"nonprimary\">clustering_time</p>\n",
       "                            <span class=\"djtooltiptext\">time of generation of this set of clustering results</span>\n",
       "                        </div> </th> </tr> </thead>\n",
       "            <tbody> <tr>  </tr> </tbody>\n",
       "        </table>\n",
       "        \n",
       "        <p>Total: 0</p></div>\n",
       "        "
      ],
      "text/plain": [
       "*sessid    *ratname    *insertion_num *paramset_idx  clustering_tim\n",
       "+--------+ +---------+ +------------+ +------------+ +------------+\n",
       "\n",
       " (Total: 0)"
      ]
     },
     "execution_count": 14,
     "metadata": {},
     "output_type": "execute_result"
    }
   ],
   "source": [
    "ephys_element.Clustering() & session_key"
   ]
  },
  {
   "cell_type": "markdown",
   "metadata": {},
   "source": [
    "## Import clustering results and manually curated results"
   ]
  },
  {
   "cell_type": "markdown",
   "metadata": {},
   "source": [
    "We are now ready to ingest the clustering results (spike times etc.) into the database. These clustering results are either directly from Kilosort2 or with manual curation. Both ways share the same format of files. In the element, there is a `Curation` table that saves this information."
   ]
  },
  {
   "cell_type": "code",
   "execution_count": null,
   "metadata": {},
   "outputs": [],
   "source": [
    "dj.Diagram(ephys_element.ClusteringTask) + ephys_element.Clustering + ephys_element.Curation + \\\n",
    "ephys_element.CuratedClustering + ephys_element.CuratedClustering.Unit"
   ]
  },
  {
   "cell_type": "markdown",
   "metadata": {},
   "source": [
    "+ If a manual curation was implemented, an entry needs to be manually inserted into the table `Curation`, which specifies the directory to the curated results in `curation_output_dir`.\n",
    "\n",
    "+ If we would like to process the Kilosort2 outcome directly, an entry is also needed in `Curation`. A method `create1_from_clustering_task` was provided to help this insertion. It copies the `clustering_output_dir` in `ClusteringTask` to the field `curation_output_dir` in the table `Curation` with a new `curation_id`."
   ]
  },
  {
   "cell_type": "code",
   "execution_count": null,
   "metadata": {},
   "outputs": [],
   "source": [
    "key = (ephys_element.ClusteringTask & session_key).fetch1('KEY')\n",
    "ephys_element.Curation().create1_from_clustering_task(key)\n",
    "ephys_element.Curation() & session_key"
   ]
  },
  {
   "cell_type": "markdown",
   "metadata": {},
   "source": [
    "Then we could populate table `CuratedClustering`, ingesting either the output of Kilosort2 or the curated results."
   ]
  },
  {
   "cell_type": "code",
   "execution_count": null,
   "metadata": {},
   "outputs": [],
   "source": [
    "ephys_element.CuratedClustering.populate(session_key, display_progress=True)"
   ]
  },
  {
   "cell_type": "markdown",
   "metadata": {},
   "source": [
    "The part table `CuratedClustering.Unit` contains the spike sorted units"
   ]
  },
  {
   "cell_type": "code",
   "execution_count": null,
   "metadata": {},
   "outputs": [],
   "source": [
    "ephys_element.CuratedClustering.Unit()"
   ]
  },
  {
   "cell_type": "markdown",
   "metadata": {},
   "source": [
    "## Populate LFP and spike waveform"
   ]
  },
  {
   "cell_type": "markdown",
   "metadata": {},
   "source": [
    "There are two additional tables in the ephys_element that is able to get automatically processed:\n",
    "+ LFP and LFP.Electrode: By populating LFP, LFP of every other 9 electrode on the probe will be saved into table `ephys_element.LFP.Electrode` and an average LFP saved into table `ephys_element.LFP`"
   ]
  },
  {
   "cell_type": "code",
   "execution_count": null,
   "metadata": {},
   "outputs": [],
   "source": [
    "dj.Diagram(ephys_element.EphysRecording) + ephys_element.LFP + ephys_element.LFP.Electrode"
   ]
  },
  {
   "cell_type": "code",
   "execution_count": null,
   "metadata": {},
   "outputs": [],
   "source": [
    "ephys_element.LFP.populate(session_key, display_progress=True)\n",
    "ephys_element.LFP & session_key"
   ]
  },
  {
   "cell_type": "code",
   "execution_count": null,
   "metadata": {},
   "outputs": [],
   "source": [
    "ephys_element.LFP.Electrode & session_key"
   ]
  },
  {
   "cell_type": "code",
   "execution_count": null,
   "metadata": {},
   "outputs": [],
   "source": [
    "dj.Diagram(ephys_element.CuratedClustering.Unit) + ephys_element.Waveform"
   ]
  },
  {
   "cell_type": "markdown",
   "metadata": {},
   "source": [
    "+ Waveform: `Waveform` table computes the average spike waveform of the channel with peak amplites. It takes a while to populate depending on the size of the data."
   ]
  },
  {
   "cell_type": "code",
   "execution_count": null,
   "metadata": {
    "title": "The `probe_element.EelectrodeConfig` table conains the configuration information of the electrodes used, i.e. which 384 electrodes out of the total 960 on the probe were used in this ephys session, while the table `ephys_element.EphysRecording` specify which ElectrodeConfig is used in a particular ephys session."
   },
   "outputs": [],
   "source": [
    "ephys_element.Waveform.populate(session_key, display_progress=True)"
   ]
  },
  {
   "cell_type": "code",
   "execution_count": null,
   "metadata": {},
   "outputs": [],
   "source": [
    "ephys_element.LFP.Electrode & session_key"
   ]
  }
 ],
 "metadata": {
  "interpreter": {
   "hash": "69b99f51e057dae8bf7af0dfb3c6eb1984d102baaea9585d96e379423a8ef19c"
  },
  "jupytext": {
   "encoding": "# -*- coding: utf-8 -*-",
   "formats": "ipynb,py:light"
  },
  "kernelspec": {
   "display_name": "Python 3 (ipykernel)",
   "language": "python",
   "name": "python3"
  },
  "language_info": {
   "codemirror_mode": {
    "name": "ipython",
    "version": 3
   },
   "file_extension": ".py",
   "mimetype": "text/x-python",
   "name": "python",
   "nbconvert_exporter": "python",
   "pygments_lexer": "ipython3",
   "version": "3.7.10"
  }
 },
 "nbformat": 4,
 "nbformat_minor": 4
}
