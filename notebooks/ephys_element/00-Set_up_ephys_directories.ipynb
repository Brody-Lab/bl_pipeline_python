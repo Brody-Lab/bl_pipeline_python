{
 "cells": [
  {
   "cell_type": "markdown",
   "metadata": {},
   "source": [
    "To properly run the ephys pipeline, we need to properly set up the DataJoint configuration. The configuration will be saved in a file called `dj_local_conf.json` on each machine and this notebook walks you through the process."
   ]
  },
  {
   "cell_type": "markdown",
   "metadata": {},
   "source": [
    "# Set up configuration in root directory of this package\n",
    "\n",
    "As a convention, we set the configuration up in the root directory of the package and always starts importing datajoint and pipeline modules from there."
   ]
  },
  {
   "cell_type": "code",
   "execution_count": 1,
   "metadata": {},
   "outputs": [
    {
     "name": "stdout",
     "output_type": "stream",
     "text": [
      "Local configuration file found !!, no need to run the configuration (unless configuration has changed)\n"
     ]
    }
   ],
   "source": [
    "from scripts.conf_file_finding import try_find_conf_file\n",
    "try_find_conf_file()"
   ]
  },
  {
   "cell_type": "code",
   "execution_count": 2,
   "metadata": {},
   "outputs": [],
   "source": [
    "import os\n",
    "import getpass\n",
    "import datajoint as dj"
   ]
  },
  {
   "cell_type": "code",
   "execution_count": 3,
   "metadata": {},
   "outputs": [
    {
     "name": "stdout",
     "output_type": "stream",
     "text": [
      "No ephys root directory set yet, run this notebook for it\n"
     ]
    }
   ],
   "source": [
    "if 'ephys_root_data_dir' in dj.config['custom']:\n",
    "    print('We have already a directory for ephys data, run this if directory has changed')\n",
    "else:\n",
    "    print('No ephys root directory set yet, run this notebook for it')"
   ]
  },
  {
   "cell_type": "code",
   "execution_count": 4,
   "metadata": {},
   "outputs": [
    {
     "name": "stdout",
     "output_type": "stream",
     "text": [
      "Connecting alvaros@datajoint01.pni.princeton.edu:3306\n"
     ]
    },
    {
     "data": {
      "text/plain": [
       "DataJoint connection (connected) alvaros@datajoint01.pni.princeton.edu:3306"
      ]
     },
     "execution_count": 4,
     "metadata": {},
     "output_type": "execute_result"
    }
   ],
   "source": [
    "dj.conn()"
   ]
  },
  {
   "cell_type": "markdown",
   "metadata": {},
   "source": [
    "# Configure the `custom` field in `dj.config` for the Ephys element"
   ]
  },
  {
   "cell_type": "markdown",
   "metadata": {},
   "source": [
    "The ephys pipeline is based on the [DataJoint Array Ephys Element](https://github.com/datajoint/element-ephys). Installation of the element into the bl_pipeline requires the following configurations in the field `custom`:"
   ]
  },
  {
   "cell_type": "markdown",
   "metadata": {},
   "source": [
    "## Root directory for ephys data\n",
    "\n",
    "+ `ephys_root_data_dir` field indicates the root directory for the ephys raw data from SpikeGLX (e.g. `*imec0.ap.bin`, `*imec0.ap.meta`, `*imec0.lf.bin`, `imec0.lf.meta`)\n",
    "+ In the database, every path for the ephys raw data is relative to this root path. The benefit is that the absolute path could be configured for each machine, and when data transfer happens, we just need to change the root directory in the config file.\n",
    "+ This path is specific to each machine, and here is an example of the root directory on a linux machine. In brody lab, the raw ephys data are located in the archive server."
   ]
  },
  {
   "cell_type": "code",
   "execution_count": 5,
   "metadata": {},
   "outputs": [],
   "source": [
    "dj.config['custom']['ephys_root_data_dir'] = [\"//apps02.pni.princeton.edu/archive-labdata/brody/RATTER/PhysData/Raw/\",\n",
    "            \"//cup.pni.princeton.edu/brody/RATTER/PhysData/NP_sorted/\" ]"
   ]
  },
  {
   "cell_type": "markdown",
   "metadata": {},
   "source": [
    "# Save the configuration as a json file"
   ]
  },
  {
   "cell_type": "markdown",
   "metadata": {},
   "source": [
    "With the proper configurations, we could save this as a file, either as a local json file, or a global file."
   ]
  },
  {
   "cell_type": "code",
   "execution_count": 6,
   "metadata": {},
   "outputs": [],
   "source": [
    "dj.config.save_local()"
   ]
  },
  {
   "cell_type": "markdown",
   "metadata": {},
   "source": [
    "Local configuration file is saved as `dj_local_conf.json` in the root directory of this package `bl_pipeline_python`. Next time if you change your directory to `bl_pipeline_python` before importing datajoint and the pipeline packages, the configurations will get properly loaded."
   ]
  },
  {
   "cell_type": "markdown",
   "metadata": {},
   "source": [
    "# Next steps"
   ]
  },
  {
   "cell_type": "markdown",
   "metadata": {},
   "source": [
    "After the configuration, we will be able to review the ephys related schemas and tables structure with [01-Ephys_workflow_structure](01-Ephys_element_workflow.ipynb)."
   ]
  },
  {
   "cell_type": "code",
   "execution_count": null,
   "metadata": {},
   "outputs": [],
   "source": []
  }
 ],
 "metadata": {
  "interpreter": {
   "hash": "69b99f51e057dae8bf7af0dfb3c6eb1984d102baaea9585d96e379423a8ef19c"
  },
  "jupytext": {
   "formats": "ipynb,py:light"
  },
  "kernelspec": {
   "display_name": "Python 3 (ipykernel)",
   "language": "python",
   "name": "python3"
  },
  "language_info": {
   "codemirror_mode": {
    "name": "ipython",
    "version": 3
   },
   "file_extension": ".py",
   "mimetype": "text/x-python",
   "name": "python",
   "nbconvert_exporter": "python",
   "pygments_lexer": "ipython3",
   "version": "3.7.11"
  }
 },
 "nbformat": 4,
 "nbformat_minor": 4
}
