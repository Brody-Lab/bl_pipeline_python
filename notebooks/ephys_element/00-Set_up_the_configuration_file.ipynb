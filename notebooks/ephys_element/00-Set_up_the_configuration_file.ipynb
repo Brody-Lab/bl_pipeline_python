{
 "cells": [
  {
   "cell_type": "markdown",
   "source": [
    "To properly run the ephys pipeline, we need to properly set up the DataJoint configuration. The configuration will be saved in a file called `dj_local_conf.json` on each machine and this notebook walks you through the process."
   ],
   "metadata": {}
  },
  {
   "cell_type": "markdown",
   "source": [
    "# Set up configuration in root directory of this package\n",
    "\n",
    "As a convention, we set the configuration up in the root directory of the package and always starts importing datajoint and pipeline modules from there."
   ],
   "metadata": {}
  },
  {
   "cell_type": "code",
   "execution_count": 2,
   "source": [
    "from scripts.conf_file_finding import try_find_conf_file\r\n",
    "try_find_conf_file()"
   ],
   "outputs": [
    {
     "output_type": "stream",
     "name": "stdout",
     "text": [
      "Local configuration file found !!, no need to run the configuration (unless configuration has changed)\n"
     ]
    }
   ],
   "metadata": {}
  },
  {
   "cell_type": "markdown",
   "source": [
    "# Configure database host address and credentials"
   ],
   "metadata": {}
  },
  {
   "cell_type": "markdown",
   "source": [
    "Now let's set up the host, user and password in the `dj.config` global variable"
   ],
   "metadata": {}
  },
  {
   "cell_type": "code",
   "execution_count": 2,
   "source": [
    "import os\r\n",
    "import getpass\r\n",
    "import datajoint as dj\r\n",
    "dj.config['database.host'] = 'datajoint01.pni.princeton.edu'\r\n",
    "dj.config['database.user'] = 'alvaros'\r\n",
    "dj.config['database.password'] =  getpass.getpass()"
   ],
   "outputs": [],
   "metadata": {}
  },
  {
   "cell_type": "markdown",
   "source": [
    "The password could be set with `dj.config['database.password'] = '{YOUR_PASSWORD}'`, but please be careful not to push your password to github."
   ],
   "metadata": {}
  },
  {
   "cell_type": "markdown",
   "source": [
    "You should be able to connect to the database at this stage."
   ],
   "metadata": {}
  },
  {
   "cell_type": "code",
   "execution_count": 3,
   "source": [
    "dj.conn()"
   ],
   "outputs": [
    {
     "output_type": "stream",
     "name": "stdout",
     "text": [
      "Connecting alvaros@datajoint01.pni.princeton.edu:3306\n"
     ]
    },
    {
     "output_type": "execute_result",
     "data": {
      "text/plain": [
       "DataJoint connection (connected) alvaros@datajoint01.pni.princeton.edu:3306"
      ]
     },
     "metadata": {},
     "execution_count": 3
    }
   ],
   "metadata": {}
  },
  {
   "cell_type": "markdown",
   "source": [
    "# Configure the `costom` field in `dj.config` for the Ephys element"
   ],
   "metadata": {}
  },
  {
   "cell_type": "markdown",
   "source": [
    "The ephys pipeline is based on the [DataJoint Array Ephys Element](https://github.com/datajoint/element-ephys). Installation of the element into the bl_pipeline requires the following configurations in the field `custom`:"
   ],
   "metadata": {}
  },
  {
   "cell_type": "markdown",
   "source": [
    "## Database prefix\n",
    "By setting prefix, every schema created with the ephys elements starts with `bl_new`"
   ],
   "metadata": {}
  },
  {
   "cell_type": "code",
   "execution_count": 4,
   "source": [
    "if 'custom' not in dj.config:\r\n",
    "    dj.config['custom'] = dict()\r\n",
    "dj.config['custom']['database.prefix'] = 'bl_new_'"
   ],
   "outputs": [],
   "metadata": {}
  },
  {
   "cell_type": "markdown",
   "source": [
    "## Root directory for raw ephys data\n",
    "\n",
    "+ `ephys_root_data_dir` field indicates the root directory for the ephys raw data from SpikeGLX (e.g. `*imec0.ap.bin`, `*imec0.ap.meta`, `*imec0.lf.bin`, `imec0.lf.meta`)\n",
    "+ In the database, every path for the ephys raw data is relative to this root path. The benefit is that the absolute path could be configured for each machine, and when data transfer happens, we just need to change the root directory in the config file.\n",
    "+ This path is specific to each machine, and here is an example of the root directory on a linux machine. In brody lab, the raw ephys data are located in the archive server."
   ],
   "metadata": {}
  },
  {
   "cell_type": "code",
   "execution_count": 5,
   "source": [
    "dj.config['custom']['ephys_root_data_dir'] = '//apps02.pni.princeton.edu/archive-labdata/brodY/RATTER/PhysData/Raw/' "
   ],
   "outputs": [],
   "metadata": {}
  },
  {
   "cell_type": "markdown",
   "source": [
    "## Root directory for kilosort 2 processed results\n",
    "\n",
    "+ `clustering_root_data_dir` field indicates the root directory for the ephys raw data from Kilosort2 (e.g. `spikes_clusters.npy`, `spikes_times.npy` etc.)\n",
    "+ In the database, every path for the kilosort output data is relative to this root path. The benefit is that the absolute path could be configured for each machine, and when data transfer happens, we just need to change the root directory in the config file.\n",
    "+ It could be the same or different from `ephys_root_data_dir`\n",
    "+ This path is specific to each machine, and here is an example of the root directory on a linux machine. In brody lab, the raw ephys data are located in the bucket server."
   ],
   "metadata": {}
  },
  {
   "cell_type": "code",
   "execution_count": 6,
   "source": [
    "dj.config['custom']['clustering_root_data_dir'] = '//bucket.pni.princeton.edu/brody/RATTER/PhysData/NP_sorted/'"
   ],
   "outputs": [],
   "metadata": {}
  },
  {
   "cell_type": "markdown",
   "source": [
    "# Save the configuration as a json file"
   ],
   "metadata": {}
  },
  {
   "cell_type": "markdown",
   "source": [
    "With the proper configurations, we could save this as a file, either as a local json file, or a global file."
   ],
   "metadata": {}
  },
  {
   "cell_type": "code",
   "execution_count": 10,
   "source": [
    "dj.config.save_local()"
   ],
   "outputs": [],
   "metadata": {}
  },
  {
   "cell_type": "markdown",
   "source": [
    "Local configuration file is saved as `dj_local_conf.json` in the root directory of this package `bl_pipeline_python`. Next time if you change your directory to `bl_pipeline_python` before importing datajoint and the pipeline packages, the configurations will get properly loaded.\n",
    "\n",
    "If saved globally, there will be a hidden configuration file saved in your root directory. The configuration will be loaded no matter where the directory is."
   ],
   "metadata": {}
  },
  {
   "cell_type": "code",
   "execution_count": null,
   "source": [
    "# dj.config.save_global()"
   ],
   "outputs": [],
   "metadata": {}
  },
  {
   "cell_type": "code",
   "execution_count": 8,
   "source": [
    "dj.config"
   ],
   "outputs": [
    {
     "output_type": "execute_result",
     "data": {
      "text/plain": [
       "{   'connection.charset': '',\n",
       "    'connection.init_function': None,\n",
       "    'custom': {   'clustering_root_data_dir': '//bucket.pni.princeton.edu/brody/RATTER/PhysData/NP_sorted/',\n",
       "                  'database.prefix': 'bl_new_',\n",
       "                  'ephys_root_data_dir': '//apps02.pni.princeton.edu/brody/RATTER/PhysData/Raw/'},\n",
       "    'database.host': 'datajoint01.pni.princeton.edu',\n",
       "    'database.password': 'Reo87ila_princeton2',\n",
       "    'database.port': 3306,\n",
       "    'database.prefix': 'bl_new_',\n",
       "    'database.reconnect': True,\n",
       "    'database.use_tls': None,\n",
       "    'database.user': 'alvaros',\n",
       "    'display.limit': 12,\n",
       "    'display.show_tuple_count': True,\n",
       "    'display.width': 14,\n",
       "    'enable_python_native_blobs': True,\n",
       "    'fetch_format': 'array',\n",
       "    'loglevel': 'INFO',\n",
       "    'safemode': True}"
      ]
     },
     "metadata": {},
     "execution_count": 8
    }
   ],
   "metadata": {}
  },
  {
   "cell_type": "code",
   "execution_count": null,
   "source": [],
   "outputs": [],
   "metadata": {}
  }
 ],
 "metadata": {
  "jupytext": {
   "formats": "ipynb,py:light"
  },
  "kernelspec": {
   "name": "python3",
   "display_name": "Python 3.7.10 64-bit ('brody_ephys_elements': conda)"
  },
  "language_info": {
   "codemirror_mode": {
    "name": "ipython",
    "version": 3
   },
   "file_extension": ".py",
   "mimetype": "text/x-python",
   "name": "python",
   "nbconvert_exporter": "python",
   "pygments_lexer": "ipython3",
   "version": "3.7.10"
  },
  "interpreter": {
   "hash": "69b99f51e057dae8bf7af0dfb3c6eb1984d102baaea9585d96e379423a8ef19c"
  }
 },
 "nbformat": 4,
 "nbformat_minor": 4
}