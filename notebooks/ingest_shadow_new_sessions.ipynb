{
 "cells": [
  {
   "cell_type": "markdown",
   "metadata": {},
   "source": [
    "# Ingest shadow and new acquisition sessions"
   ]
  },
  {
   "cell_type": "code",
   "execution_count": 1,
   "metadata": {},
   "outputs": [
    {
     "name": "stdout",
     "output_type": "stream",
     "text": [
      "Local configuration file found !!, no need to run the configuration (unless configuration has changed)\n"
     ]
    }
   ],
   "source": [
    "from scripts.conf_file_finding import try_find_conf_file\n",
    "try_find_conf_file()"
   ]
  },
  {
   "cell_type": "markdown",
   "metadata": {},
   "source": [
    "## Connection to DB"
   ]
  },
  {
   "cell_type": "code",
   "execution_count": 2,
   "metadata": {},
   "outputs": [
    {
     "name": "stdout",
     "output_type": "stream",
     "text": [
      "Connecting alvaros@datajoint01.pni.princeton.edu:3306\n"
     ]
    }
   ],
   "source": [
    "import utility.display_utility as du\n",
    "import datajoint as dj\n",
    "import pandas as pd\n",
    "import pathlib\n",
    "import glob\n",
    "\n",
    "bdata          = dj.create_virtual_module('bdata', 'bl_bdata')\n",
    "from bl_pipeline.shadow import acquisition as shadow_acquisition\n",
    "new_acquisition = dj.create_virtual_module('new_acquisition', 'bl_new_acquisition')\n",
    "new_lab = dj.create_virtual_module('new_lav', 'bl_new_lab')\n",
    "ratinfo        = dj.create_virtual_module('ratinfo', 'bl_ratinfo')"
   ]
  },
  {
   "cell_type": "markdown",
   "metadata": {},
   "source": [
    "## Ingest bl_shadow_acquisition.sessStarted missing sessions"
   ]
  },
  {
   "cell_type": "code",
   "execution_count": 3,
   "metadata": {},
   "outputs": [
    {
     "name": "stdout",
     "output_type": "stream",
     "text": [
      "Sessions not ingested--> ratname == None\n",
      "{'sessid': 65694, 'sessiondate': datetime.date(2009, 12, 14), 'starttime': datetime.timedelta(seconds=61510), 'was_ended': 1, 'ratname': None, 'hostname': None, 'technotes': None, 'crashed': 0, 'rigid': 0}\n",
      "{'sessid': 65695, 'sessiondate': datetime.date(2009, 12, 14), 'starttime': datetime.timedelta(seconds=61514), 'was_ended': 1, 'ratname': None, 'hostname': None, 'technotes': None, 'crashed': 0, 'rigid': 0}\n",
      "{'sessid': 65698, 'sessiondate': datetime.date(2009, 12, 14), 'starttime': datetime.timedelta(seconds=65773), 'was_ended': 1, 'ratname': None, 'hostname': None, 'technotes': None, 'crashed': 0, 'rigid': 0}\n",
      "{'sessid': 65699, 'sessiondate': datetime.date(2009, 12, 14), 'starttime': datetime.timedelta(seconds=65772), 'was_ended': 1, 'ratname': None, 'hostname': None, 'technotes': None, 'crashed': 0, 'rigid': 0}\n",
      "{'sessid': 65700, 'sessiondate': datetime.date(2009, 12, 14), 'starttime': datetime.timedelta(seconds=65778), 'was_ended': 1, 'ratname': None, 'hostname': None, 'technotes': None, 'crashed': 0, 'rigid': 0}\n",
      "{'sessid': 65701, 'sessiondate': datetime.date(2009, 12, 14), 'starttime': datetime.timedelta(seconds=65896), 'was_ended': 1, 'ratname': None, 'hostname': None, 'technotes': None, 'crashed': 0, 'rigid': 0}\n",
      "{'sessid': 65702, 'sessiondate': datetime.date(2009, 12, 14), 'starttime': datetime.timedelta(seconds=65893), 'was_ended': 1, 'ratname': None, 'hostname': None, 'technotes': None, 'crashed': 0, 'rigid': 0}\n",
      "{'sessid': 65703, 'sessiondate': datetime.date(2009, 12, 14), 'starttime': datetime.timedelta(seconds=66178), 'was_ended': 1, 'ratname': None, 'hostname': None, 'technotes': None, 'crashed': 0, 'rigid': 0}\n",
      "{'sessid': 65704, 'sessiondate': datetime.date(2009, 12, 14), 'starttime': datetime.timedelta(seconds=66178), 'was_ended': 1, 'ratname': None, 'hostname': None, 'technotes': None, 'crashed': 0, 'rigid': 0}\n",
      "{'sessid': 65706, 'sessiondate': datetime.date(2009, 12, 14), 'starttime': datetime.timedelta(seconds=66225), 'was_ended': 1, 'ratname': None, 'hostname': None, 'technotes': None, 'crashed': 0, 'rigid': 0}\n",
      "{'sessid': 65707, 'sessiondate': datetime.date(2009, 12, 14), 'starttime': datetime.timedelta(seconds=66223), 'was_ended': 1, 'ratname': None, 'hostname': None, 'technotes': None, 'crashed': 0, 'rigid': 0}\n",
      "{'sessid': 65708, 'sessiondate': datetime.date(2009, 12, 14), 'starttime': datetime.timedelta(seconds=66285), 'was_ended': 1, 'ratname': None, 'hostname': None, 'technotes': None, 'crashed': 0, 'rigid': 0}\n",
      "{'sessid': 65709, 'sessiondate': datetime.date(2009, 12, 14), 'starttime': datetime.timedelta(seconds=66187), 'was_ended': 1, 'ratname': None, 'hostname': None, 'technotes': None, 'crashed': 0, 'rigid': 0}\n",
      "{'sessid': 65710, 'sessiondate': datetime.date(2009, 12, 14), 'starttime': datetime.timedelta(seconds=66279), 'was_ended': 1, 'ratname': None, 'hostname': None, 'technotes': None, 'crashed': 0, 'rigid': 0}\n",
      "{'sessid': 65711, 'sessiondate': datetime.date(2009, 12, 14), 'starttime': datetime.timedelta(seconds=67370), 'was_ended': 1, 'ratname': None, 'hostname': None, 'technotes': None, 'crashed': 0, 'rigid': 0}\n",
      "{'sessid': 65712, 'sessiondate': datetime.date(2009, 12, 14), 'starttime': datetime.timedelta(seconds=66711), 'was_ended': 1, 'ratname': None, 'hostname': None, 'technotes': None, 'crashed': 0, 'rigid': 0}\n",
      "{'sessid': 65713, 'sessiondate': datetime.date(2009, 12, 14), 'starttime': datetime.timedelta(seconds=66710), 'was_ended': 1, 'ratname': None, 'hostname': None, 'technotes': None, 'crashed': 0, 'rigid': 0}\n",
      "{'sessid': 65714, 'sessiondate': datetime.date(2009, 12, 14), 'starttime': datetime.timedelta(seconds=66703), 'was_ended': 1, 'ratname': None, 'hostname': None, 'technotes': None, 'crashed': 0, 'rigid': 0}\n",
      "{'sessid': 65715, 'sessiondate': datetime.date(2009, 12, 14), 'starttime': datetime.timedelta(seconds=66696), 'was_ended': 1, 'ratname': None, 'hostname': None, 'technotes': None, 'crashed': 0, 'rigid': 0}\n",
      "{'sessid': 65716, 'sessiondate': datetime.date(2009, 12, 14), 'starttime': datetime.timedelta(seconds=66703), 'was_ended': 1, 'ratname': None, 'hostname': None, 'technotes': None, 'crashed': 0, 'rigid': 0}\n",
      "{'sessid': 65717, 'sessiondate': datetime.date(2009, 12, 14), 'starttime': datetime.timedelta(seconds=66683), 'was_ended': 1, 'ratname': None, 'hostname': None, 'technotes': None, 'crashed': 0, 'rigid': 0}\n",
      "{'sessid': 65718, 'sessiondate': datetime.date(2009, 12, 14), 'starttime': datetime.timedelta(seconds=68536), 'was_ended': 1, 'ratname': None, 'hostname': None, 'technotes': None, 'crashed': 0, 'rigid': 0}\n"
     ]
    }
   ],
   "source": [
    "print('Sessions not ingested--> ratname == None')\n",
    "shadow_acquisition.SessStarted.populate()"
   ]
  },
  {
   "cell_type": "code",
   "execution_count": 4,
   "metadata": {},
   "outputs": [
    {
     "name": "stdout",
     "output_type": "stream",
     "text": [
      "no email, or user_id for experimenter  Satan\n",
      "sessid  33239  not ingested\n",
      "no email, or user_id for experimenter  Hessam\n",
      "sessid  172528  not ingested\n",
      "no email, or user_id for experimenter  wJeff\n",
      "sessid  181274  not ingested\n",
      "no email, or user_id for experimenter  wwwAnn\n",
      "sessid  185897  not ingested\n",
      "no email, or user_id for experimenter  Satan\n",
      "sessid  200949  not ingested\n",
      "no email, or user_id for experimenter  experimenter\n",
      "sessid  287226  not ingested\n",
      "no email, or user_id for experimenter  experimenter\n",
      "sessid  287227  not ingested\n",
      "no email, or user_id for experimenter  experimenter\n",
      "sessid  287228  not ingested\n",
      "no email, or user_id for experimenter  experimenter\n",
      "sessid  287229  not ingested\n",
      "no email, or user_id for experimenter  experimenter\n",
      "sessid  287271  not ingested\n",
      "no email, or user_id for experimenter  experimenter\n",
      "sessid  292412  not ingested\n",
      "no email, or user_id for experimenter  experimenter\n",
      "sessid  292637  not ingested\n",
      "no email, or user_id for experimenter  experimenter\n",
      "sessid  293214  not ingested\n",
      "no email, or user_id for experimenter  experimenter\n",
      "sessid  297249  not ingested\n",
      "no email, or user_id for experimenter  experimenter\n",
      "sessid  307251  not ingested\n",
      "no email, or user_id for experimenter  experimenter\n",
      "sessid  360485  not ingested\n",
      "no email, or user_id for experimenter  experimenter\n",
      "sessid  406780  not ingested\n",
      "no email, or user_id for experimenter  experimenter\n",
      "sessid  406966  not ingested\n",
      "no email, or user_id for experimenter  experimenter\n",
      "sessid  407210  not ingested\n",
      "no email, or user_id for experimenter  experimenter\n",
      "sessid  407263  not ingested\n",
      "no email, or user_id for experimenter  experimenter\n",
      "sessid  407339  not ingested\n",
      "no email, or user_id for experimenter  experimenter\n",
      "sessid  407522  not ingested\n",
      "no email, or user_id for experimenter  experimenter\n",
      "sessid  407963  not ingested\n",
      "no email, or user_id for experimenter  experimenter\n",
      "sessid  408312  not ingested\n",
      "no email, or user_id for experimenter  experimenter\n",
      "sessid  408482  not ingested\n",
      "no email, or user_id for experimenter  experimenter\n",
      "sessid  429944  not ingested\n",
      "no email, or user_id for experimenter  experimenter\n",
      "sessid  449738  not ingested\n"
     ]
    }
   ],
   "source": [
    "shadow_acquisition.Sessions.populate()"
   ]
  },
  {
   "cell_type": "markdown",
   "metadata": {},
   "source": [
    "## Ingest bl_new_acquisition.sessStarted missing sessions"
   ]
  },
  {
   "cell_type": "code",
   "execution_count": 4,
   "metadata": {},
   "outputs": [
    {
     "name": "stdout",
     "output_type": "stream",
     "text": [
      "Missing new_acquisition sessStrted: 0\n"
     ]
    }
   ],
   "source": [
    "#Check missing sessions from shadow\n",
    "SessStarted = new_acquisition.SessStarted()\n",
    "all_data = (shadow_acquisition.SessStarted - SessStarted.proj('sessid')).fetch('KEY')\n",
    "num_sessions_missing = len(all_data)\n",
    "print('Missing new_acquisition sessStrted:', num_sessions_missing)\n",
    "for indx, keys in enumerate(all_data):\n",
    "\n",
    "    du.drawProgressBar(indx/num_sessions_missing)\n",
    "    data = (bdata.SessStarted & keys).fetch1()\n",
    "\n",
    "    if data['ratname'] != None:\n",
    "        entry = dict(\n",
    "            sessid                   = data['sessid'],\n",
    "            session_started_rat      = data['ratname'],\n",
    "            session_started_rigid    = data['rigid'],\n",
    "            session_date             = data['sessiondate'],\n",
    "            session_starttime        = data['starttime'],\n",
    "            was_ended                = data['was_ended'],\n",
    "            crashed                  = data['crashed']\n",
    "        )\n",
    "\n",
    "        if data['rigid'] == 0 and data['hostname'] != None:\n",
    "            if 'Rig' in data['hostname']:\n",
    "                    entry.update(session_started_rigid=int(data['hostname'].strip('Rig')))\n",
    "            else:\n",
    "                    entry.update(session_started_rigid=int(float(data['hostname'])))\n",
    "                \n",
    "        SessStarted.insert1(entry, allow_direct_insert=True, skip_duplicates=True)\n",
    "\n",
    "\n"
   ]
  },
  {
   "cell_type": "markdown",
   "metadata": {},
   "source": [
    "## Ingest bl_new_acquisition.sessions missing sessions"
   ]
  },
  {
   "cell_type": "code",
   "execution_count": 5,
   "metadata": {
    "tags": [
     "outputPrepend"
    ]
   },
   "outputs": [
    {
     "name": "stdout",
     "output_type": "stream",
     "text": [
      "Missing new_acquisition sessions: 0\n"
     ]
    }
   ],
   "source": [
    "#Find missing sessions\n",
    "Sessions = new_acquisition.Sessions()\n",
    "all_data = (shadow_acquisition.Sessions * new_acquisition.SessStarted.proj('sessid') - Sessions.proj('sessid')).fetch('KEY')\n",
    "num_sessions_missing = len(all_data)\n",
    "print('Missing new_acquisition sessions:', num_sessions_missing)\n",
    "fields = shadow_acquisition.Sessions.heading.names\n",
    "for indx, key in enumerate(all_data):\n",
    "\n",
    "    du.drawProgressBar(indx/num_sessions_missing)\n",
    "    data = (shadow_acquisition.Sessions & key).fetch(*fields, as_dict=True)[0]\n",
    "    Sessions.insert1(data, allow_direct_insert=True, skip_duplicates=True)\n"
   ]
  },
  {
   "cell_type": "code",
   "execution_count": null,
   "metadata": {},
   "outputs": [],
   "source": []
  }
 ],
 "metadata": {
  "interpreter": {
   "hash": "69b99f51e057dae8bf7af0dfb3c6eb1984d102baaea9585d96e379423a8ef19c"
  },
  "kernelspec": {
   "display_name": "Python 3 (ipykernel)",
   "language": "python",
   "name": "python3"
  },
  "language_info": {
   "codemirror_mode": {
    "name": "ipython",
    "version": 3
   },
   "file_extension": ".py",
   "mimetype": "text/x-python",
   "name": "python",
   "nbconvert_exporter": "python",
   "pygments_lexer": "ipython3",
   "version": "3.7.10"
  }
 },
 "nbformat": 4,
 "nbformat_minor": 2
}
