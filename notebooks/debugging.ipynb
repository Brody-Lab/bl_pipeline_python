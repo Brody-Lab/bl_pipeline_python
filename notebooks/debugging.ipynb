{
 "metadata": {
  "language_info": {
   "codemirror_mode": {
    "name": "ipython",
    "version": 3
   },
   "file_extension": ".py",
   "mimetype": "text/x-python",
   "name": "python",
   "nbconvert_exporter": "python",
   "pygments_lexer": "ipython3",
   "version": "3.7.0-final"
  },
  "orig_nbformat": 2,
  "kernelspec": {
   "name": "python37064bitf2151f2206f144f48c34f05279b5bf80",
   "display_name": "Python 3.7.0 64-bit"
  }
 },
 "nbformat": 4,
 "nbformat_minor": 2,
 "cells": [
  {
   "cell_type": "code",
   "execution_count": 2,
   "metadata": {},
   "outputs": [],
   "source": [
    "from bl_pipeline.process.process import *\n",
    "\n"
   ]
  },
  {
   "cell_type": "code",
   "execution_count": 5,
   "metadata": {},
   "outputs": [],
   "source": [
    "diff = lab_shadow.RigMaintenance - lab.RigMaintenance.proj()"
   ]
  },
  {
   "cell_type": "code",
   "execution_count": 4,
   "metadata": {},
   "outputs": [],
   "source": [
    "ratinfo = dj.create_virtual_module('ratinfo', 'bl_ratinfo')"
   ]
  },
  {
   "cell_type": "code",
   "execution_count": null,
   "metadata": {},
   "outputs": [],
   "source": [
    "copy_table(lab, lab_shadow, 'RigMaintenance')"
   ]
  },
  {
   "cell_type": "code",
   "execution_count": 7,
   "metadata": {},
   "outputs": [
    {
     "output_type": "execute_result",
     "data": {
      "text/plain": [
       "*rigid    ip_addr        mac_addr       rtfsm_ip       hostname       is_linux     video_server   comptype      \n",
       "+-------+ +------------+ +------------+ +------------+ +------------+ +----------+ +------------+ +------------+\n",
       "1         128.112.221.17 0001C027C698   128.112.221.16 brodyrigwt01.p 0            video01        PCWIN64 Micros\n",
       "2         128.112.223.18 0001C027C679   brodyrt13.prin brodyrigwt02.p 0            video01        PCWIN64 Micros\n",
       "3         128.112.223.19 0001C02777FE   brodyrt13.prin brodyrigwt03.p 0            video01        PCWIN64 Micros\n",
       "4         128.112.218.20 0001C02696B8   localhost      brodyrigwt04.p 0                           PCWIN64 Micros\n",
       "6         128.112.223.19 0001C027AA2A   128.112.221.16 brodyrigwt06.p 0            video01        PCWIN64 Micros\n",
       "7         128.112.223.19 0000000000     128.112.218.11 unknown        0            video02        PCWIN64 Micros\n",
       "9         128.112.223.19 0001C027AA7E   128.112.218.11 brodyrigwt09.p 0            video02        PCWIN64 Micros\n",
       "10        128.112.223.19 0001C027C6CC   128.112.218.95 brodyrigwt10.p 0            video02        PCWIN64 Micros\n",
       "11        128.112.223.14 0001C027C71A   128.112.218.95 brodyrigwt11.p 0            video02        PCWIN64 Micros\n",
       "13        128.112.223.19 0001C027C688   brodyrt22.prin brodyrigwt13.p 0            video02        PCWIN64 Micros\n",
       "14        128.112.223.19 0001C027AA6E   brodyrt22.prin brodyrigwt14.p 0            video02        PCWIN64 Micros\n",
       "15        128.112.223.20 0001C027612F   brodyrt22.prin brodyrigwt15.p 0            video03        PCWIN64 Micros\n",
       "   ...\n",
       " (Total: 29)"
      ],
      "text/html": "\n        \n        <style type=\"text/css\">\n            .Relation{\n                border-collapse:collapse;\n            }\n            .Relation th{\n                background: #A0A0A0; color: #ffffff; padding:4px; border:#f0e0e0 1px solid;\n                font-weight: normal; font-family: monospace; font-size: 100%;\n            }\n            .Relation td{\n                padding:4px; border:#f0e0e0 1px solid; font-size:100%;\n            }\n            .Relation tr:nth-child(odd){\n                background: #ffffff;\n            }\n            .Relation tr:nth-child(even){\n                background: #f3f1ff;\n            }\n            /* Tooltip container */\n            .djtooltip {\n            }\n            /* Tooltip text */\n            .djtooltip .djtooltiptext {\n                visibility: hidden;\n                width: 120px;\n                background-color: black;\n                color: #fff;\n                text-align: center;\n                padding: 5px 0;\n                border-radius: 6px;\n                /* Position the tooltip text - see examples below! */\n                position: absolute;\n                z-index: 1;\n            }\n            #primary {\n                font-weight: bold;\n                color: black;\n            }\n\n            #nonprimary {\n                font-weight: normal;\n                color: white;\n            }\n\n            /* Show the tooltip text when you mouse over the tooltip container */\n            .djtooltip:hover .djtooltiptext {\n                visibility: visible;\n            }\n        </style>\n        \n        <b></b>\n            <div style=\"max-height:1000px;max-width:1500px;overflow:auto;\">\n            <table border=\"1\" class=\"Relation\">\n                <thead> <tr style=\"text-align: right;\"> <th> <div class=\"djtooltip\">\n                                <p id=\"primary\">rigid</p>\n                                <span class=\"djtooltiptext\"></span>\n                            </div></th><th><div class=\"djtooltip\">\n                                <p id=\"nonprimary\">ip_addr</p>\n                                <span class=\"djtooltiptext\"></span>\n                            </div></th><th><div class=\"djtooltip\">\n                                <p id=\"nonprimary\">mac_addr</p>\n                                <span class=\"djtooltiptext\"></span>\n                            </div></th><th><div class=\"djtooltip\">\n                                <p id=\"nonprimary\">rtfsm_ip</p>\n                                <span class=\"djtooltiptext\"></span>\n                            </div></th><th><div class=\"djtooltip\">\n                                <p id=\"nonprimary\">hostname</p>\n                                <span class=\"djtooltiptext\"></span>\n                            </div></th><th><div class=\"djtooltip\">\n                                <p id=\"nonprimary\">is_linux</p>\n                                <span class=\"djtooltiptext\"></span>\n                            </div></th><th><div class=\"djtooltip\">\n                                <p id=\"nonprimary\">video_server</p>\n                                <span class=\"djtooltiptext\"></span>\n                            </div></th><th><div class=\"djtooltip\">\n                                <p id=\"nonprimary\">comptype</p>\n                                <span class=\"djtooltiptext\"></span>\n                            </div> </th> </tr> </thead>\n                <tbody> <tr> <td>1</td>\n<td>128.112.221.170</td>\n<td>0001C027C698</td>\n<td>128.112.221.162</td>\n<td>brodyrigwt01.princeton.edu</td>\n<td>0</td>\n<td>video01</td>\n<td>PCWIN64 Microsoft Windows 10 Enterprise</td></tr><tr><td>2</td>\n<td>128.112.223.186</td>\n<td>0001C027C679</td>\n<td>brodyrt13.princ</td>\n<td>brodyrigwt02.princeton.edu</td>\n<td>0</td>\n<td>video01</td>\n<td>PCWIN64 Microsoft Windows 10 Enterprise</td></tr><tr><td>3</td>\n<td>128.112.223.191</td>\n<td>0001C02777FE</td>\n<td>brodyrt13.princ</td>\n<td>brodyrigwt03.princeton.edu</td>\n<td>0</td>\n<td>video01</td>\n<td>PCWIN64 Microsoft Windows 10 Enterprise</td></tr><tr><td>4</td>\n<td>128.112.218.202</td>\n<td>0001C02696B8</td>\n<td>localhost</td>\n<td>brodyrigwt04.princeton.edu</td>\n<td>0</td>\n<td></td>\n<td>PCWIN64 Microsoft Windows 10 Enterprise</td></tr><tr><td>6</td>\n<td>128.112.223.192</td>\n<td>0001C027AA2A</td>\n<td>128.112.221.162</td>\n<td>brodyrigwt06.princeton.edu</td>\n<td>0</td>\n<td>video01</td>\n<td>PCWIN64 Microsoft Windows 10 Enterprise</td></tr><tr><td>7</td>\n<td>128.112.223.193</td>\n<td>0000000000</td>\n<td>128.112.218.111</td>\n<td>unknown</td>\n<td>0</td>\n<td>video02</td>\n<td>PCWIN64 Microsoft Windows 10 Enterprise</td></tr><tr><td>9</td>\n<td>128.112.223.195</td>\n<td>0001C027AA7E</td>\n<td>128.112.218.111</td>\n<td>brodyrigwt09.princeton.edu</td>\n<td>0</td>\n<td>video02</td>\n<td>PCWIN64 Microsoft Windows 10 Enterprise</td></tr><tr><td>10</td>\n<td>128.112.223.196</td>\n<td>0001C027C6CC</td>\n<td>128.112.218.95</td>\n<td>brodyrigwt10.princeton.edu</td>\n<td>0</td>\n<td>video02</td>\n<td>PCWIN64 Microsoft Windows 10 Enterprise</td></tr><tr><td>11</td>\n<td>128.112.223.148</td>\n<td>0001C027C71A</td>\n<td>128.112.218.95</td>\n<td>brodyrigwt11.princeton.edu</td>\n<td>0</td>\n<td>video02</td>\n<td>PCWIN64 Microsoft Windows 10 Enterprise</td></tr><tr><td>13</td>\n<td>128.112.223.198</td>\n<td>0001C027C688</td>\n<td>brodyrt22.princ</td>\n<td>brodyrigwt13.princeton.edu</td>\n<td>0</td>\n<td>video02</td>\n<td>PCWIN64 Microsoft Windows 10 Enterprise</td></tr><tr><td>14</td>\n<td>128.112.223.199</td>\n<td>0001C027AA6E</td>\n<td>brodyrt22.princ</td>\n<td>brodyrigwt14.princeton.edu</td>\n<td>0</td>\n<td>video02</td>\n<td>PCWIN64 Microsoft Windows 10 Enterprise</td></tr><tr><td>15</td>\n<td>128.112.223.200</td>\n<td>0001C027612F</td>\n<td>brodyrt22.princ</td>\n<td>brodyrigwt15.princeton.edu</td>\n<td>0</td>\n<td>video03</td>\n<td>PCWIN64 Microsoft Windows 10 Enterprise</td> </tr> </tbody>\n            </table>\n            <p>...</p>\n            <p>Total: 29</p></div>\n            "
     },
     "metadata": {},
     "execution_count": 7
    }
   ],
   "source": [
    "ratinfo.Riginfo & (dj.U('rigid') & diff)"
   ]
  },
  {
   "cell_type": "code",
   "execution_count": null,
   "metadata": {},
   "outputs": [],
   "source": []
  }
 ]
}