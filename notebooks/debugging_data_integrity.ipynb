{
 "metadata": {
  "language_info": {
   "codemirror_mode": {
    "name": "ipython",
    "version": 3
   },
   "file_extension": ".py",
   "mimetype": "text/x-python",
   "name": "python",
   "nbconvert_exporter": "python",
   "pygments_lexer": "ipython3",
   "version": "3.7.9-final"
  },
  "orig_nbformat": 2,
  "kernelspec": {
   "name": "python37964bitdatatransferconda5c077898a6de4ec897906699631f4335",
   "display_name": "Python 3.7.9 64-bit ('datatransfer': conda)",
   "language": "python"
  }
 },
 "nbformat": 4,
 "nbformat_minor": 2,
 "cells": [
  {
   "source": [
    "# Differences between source, shadow, and new tables\n",
    "## (e.g. data integrity issue/foreign key missing errors)"
   ],
   "cell_type": "markdown",
   "metadata": {}
  },
  {
   "cell_type": "code",
   "execution_count": 1,
   "metadata": {},
   "outputs": [
    {
     "output_type": "stream",
     "name": "stdout",
     "text": [
      "Connecting kg7524@datajoint01.pni.princeton.edu:3306\n"
     ]
    }
   ],
   "source": [
    "import datajoint as dj\n",
    "\n",
    "ratinfo        = dj.create_virtual_module('ratinfo', 'bl_ratinfo')\n",
    "bdata          = dj.create_virtual_module('bdata', 'bl_bdata')\n",
    "\n",
    "shadow_lab     = dj.create_virtual_module('shadow_lab', 'bl_shadow_lab')\n",
    "shadow_subject = dj.create_virtual_module('shadow_subject', 'bl_shadow_subject')\n",
    "shadow_action  = dj.create_virtual_module('shadow_action', 'bl_shadow_action')\n",
    "\n",
    "new_lab        = dj.create_virtual_module('new_lab', 'bl_new_lab')\n",
    "new_subject    = dj.create_virtual_module('new_subject', 'bl_new_subject')\n",
    "new_action     = dj.create_virtual_module('new_action', 'bl_new_action')"
   ]
  },
  {
   "source": [
    "---\n",
    "## subject.Rats: source table - shadow table"
   ],
   "cell_type": "markdown",
   "metadata": {}
  },
  {
   "cell_type": "code",
   "execution_count": 211,
   "metadata": {},
   "outputs": [
    {
     "output_type": "execute_result",
     "data": {
      "text/plain": [
       "*rats_old_id  \n",
       "+------------+\n",
       "349           \n",
       "361           \n",
       "379           \n",
       "152           \n",
       "153           \n",
       "1043          \n",
       "1700          \n",
       "184           \n",
       "185           \n",
       "1658          \n",
       " (Total: 10)"
      ],
      "text/html": "\n        \n        <style type=\"text/css\">\n            .Relation{\n                border-collapse:collapse;\n            }\n            .Relation th{\n                background: #A0A0A0; color: #ffffff; padding:4px; border:#f0e0e0 1px solid;\n                font-weight: normal; font-family: monospace; font-size: 100%;\n            }\n            .Relation td{\n                padding:4px; border:#f0e0e0 1px solid; font-size:100%;\n            }\n            .Relation tr:nth-child(odd){\n                background: #ffffff;\n            }\n            .Relation tr:nth-child(even){\n                background: #f3f1ff;\n            }\n            /* Tooltip container */\n            .djtooltip {\n            }\n            /* Tooltip text */\n            .djtooltip .djtooltiptext {\n                visibility: hidden;\n                width: 120px;\n                background-color: black;\n                color: #fff;\n                text-align: center;\n                padding: 5px 0;\n                border-radius: 6px;\n                /* Position the tooltip text - see examples below! */\n                position: absolute;\n                z-index: 1;\n            }\n            #primary {\n                font-weight: bold;\n                color: black;\n            }\n\n            #nonprimary {\n                font-weight: normal;\n                color: white;\n            }\n\n            /* Show the tooltip text when you mouse over the tooltip container */\n            .djtooltip:hover .djtooltiptext {\n                visibility: visible;\n            }\n        </style>\n        \n        \n            <div style=\"max-height:1000px;max-width:1500px;overflow:auto;\">\n            <table border=\"1\" class=\"Relation\">\n                <thead> <tr style=\"text-align: right;\"> <th> <div class=\"djtooltip\">\n                                <p id=\"primary\">rats_old_id</p>\n                                <span class=\"djtooltiptext\"></span>\n                            </div> </th> </tr> </thead>\n                <tbody> <tr> <td>349</td></tr><tr><td>361</td></tr><tr><td>379</td></tr><tr><td>152</td></tr><tr><td>153</td></tr><tr><td>1043</td></tr><tr><td>1700</td></tr><tr><td>184</td></tr><tr><td>185</td></tr><tr><td>1658</td> </tr> </tbody>\n            </table>\n            \n            <p>Total: 10</p></div>\n            "
     },
     "metadata": {},
     "execution_count": 211
    }
   ],
   "source": [
    "ratinfo.Rats.proj(rats_old_id='internalID') - shadow_subject.Rats"
   ]
  },
  {
   "cell_type": "code",
   "execution_count": 213,
   "metadata": {},
   "outputs": [
    {
     "output_type": "stream",
     "name": "stdout",
     "text": [
      "\nThe following ratinfo.Rats `experimenters` are not in ratinfo.Contacts, except `Alex` who has two entries in ratinfo.Contacts.\n\nNumber of entries: 10\n\nList of experimenters: {'', 'AnimalFacility', 'Elyssa', 'Alex', 'experimenter', 'Jovanna/Min'}\n"
     ]
    }
   ],
   "source": [
    "print('\\nThe following ratinfo.Rats `experimenters` are not in ratinfo.Contacts, except `Alex` who has two entries in ratinfo.Contacts.')\n",
    "\n",
    "rats_missing_experimenter = (ratinfo.Rats.proj('experimenter') - shadow_subject.Rats.proj(internalID='rats_old_id')).fetch('experimenter')\n",
    "\n",
    "print('\\nNumber of entries:', len(rats_missing_experimenter))\n",
    "\n",
    "print('\\nList of experimenters:', set(rats_missing_experimenter))"
   ]
  },
  {
   "source": [
    "## subject.Rats: shadow table - new table"
   ],
   "cell_type": "markdown",
   "metadata": {}
  },
  {
   "cell_type": "code",
   "execution_count": 214,
   "metadata": {},
   "outputs": [
    {
     "output_type": "execute_result",
     "data": {
      "text/plain": [
       "*rats_old_id  \n",
       "+------------+\n",
       "\n",
       " (Total: 0)"
      ],
      "text/html": "\n        \n        <style type=\"text/css\">\n            .Relation{\n                border-collapse:collapse;\n            }\n            .Relation th{\n                background: #A0A0A0; color: #ffffff; padding:4px; border:#f0e0e0 1px solid;\n                font-weight: normal; font-family: monospace; font-size: 100%;\n            }\n            .Relation td{\n                padding:4px; border:#f0e0e0 1px solid; font-size:100%;\n            }\n            .Relation tr:nth-child(odd){\n                background: #ffffff;\n            }\n            .Relation tr:nth-child(even){\n                background: #f3f1ff;\n            }\n            /* Tooltip container */\n            .djtooltip {\n            }\n            /* Tooltip text */\n            .djtooltip .djtooltiptext {\n                visibility: hidden;\n                width: 120px;\n                background-color: black;\n                color: #fff;\n                text-align: center;\n                padding: 5px 0;\n                border-radius: 6px;\n                /* Position the tooltip text - see examples below! */\n                position: absolute;\n                z-index: 1;\n            }\n            #primary {\n                font-weight: bold;\n                color: black;\n            }\n\n            #nonprimary {\n                font-weight: normal;\n                color: white;\n            }\n\n            /* Show the tooltip text when you mouse over the tooltip container */\n            .djtooltip:hover .djtooltiptext {\n                visibility: visible;\n            }\n        </style>\n        \n        \n            <div style=\"max-height:1000px;max-width:1500px;overflow:auto;\">\n            <table border=\"1\" class=\"Relation\">\n                <thead> <tr style=\"text-align: right;\"> <th> <div class=\"djtooltip\">\n                                <p id=\"primary\">rats_old_id</p>\n                                <span class=\"djtooltiptext\"></span>\n                            </div> </th> </tr> </thead>\n                <tbody> <tr>  </tr> </tbody>\n            </table>\n            \n            <p>Total: 0</p></div>\n            "
     },
     "metadata": {},
     "execution_count": 214
    }
   ],
   "source": [
    "shadow_subject.Rats.proj() - new_subject.Rats"
   ]
  },
  {
   "cell_type": "code",
   "execution_count": 3,
   "metadata": {},
   "outputs": [
    {
     "output_type": "execute_result",
     "data": {
      "text/plain": [
       "*contact    *ratname   \n",
       "+---------+ +---------+\n",
       "\n",
       " (Total: 0)"
      ],
      "text/html": "\n        \n        <style type=\"text/css\">\n            .Relation{\n                border-collapse:collapse;\n            }\n            .Relation th{\n                background: #A0A0A0; color: #ffffff; padding:4px; border:#f0e0e0 1px solid;\n                font-weight: normal; font-family: monospace; font-size: 100%;\n            }\n            .Relation td{\n                padding:4px; border:#f0e0e0 1px solid; font-size:100%;\n            }\n            .Relation tr:nth-child(odd){\n                background: #ffffff;\n            }\n            .Relation tr:nth-child(even){\n                background: #f3f1ff;\n            }\n            /* Tooltip container */\n            .djtooltip {\n            }\n            /* Tooltip text */\n            .djtooltip .djtooltiptext {\n                visibility: hidden;\n                width: 120px;\n                background-color: black;\n                color: #fff;\n                text-align: center;\n                padding: 5px 0;\n                border-radius: 6px;\n                /* Position the tooltip text - see examples below! */\n                position: absolute;\n                z-index: 1;\n            }\n            #primary {\n                font-weight: bold;\n                color: black;\n            }\n\n            #nonprimary {\n                font-weight: normal;\n                color: white;\n            }\n\n            /* Show the tooltip text when you mouse over the tooltip container */\n            .djtooltip:hover .djtooltiptext {\n                visibility: visible;\n            }\n        </style>\n        \n        \n            <div style=\"max-height:1000px;max-width:1500px;overflow:auto;\">\n            <table border=\"1\" class=\"Relation\">\n                <thead> <tr style=\"text-align: right;\"> <th> <div class=\"djtooltip\">\n                                <p id=\"primary\">contact</p>\n                                <span class=\"djtooltiptext\">PUIDs of the lab member(s) responsible for the rat</span>\n                            </div></th><th><div class=\"djtooltip\">\n                                <p id=\"primary\">ratname</p>\n                                <span class=\"djtooltiptext\">Unique rat name, 1 letter 3 numbers</span>\n                            </div> </th> </tr> </thead>\n                <tbody> <tr>  </tr> </tbody>\n            </table>\n            \n            <p>Total: 0</p></div>\n            "
     },
     "metadata": {},
     "execution_count": 3
    }
   ],
   "source": [
    "shadow_subject.Rats.Contact.proj() - new_subject.Rats.Contact"
   ]
  },
  {
   "source": [
    "---\n",
    "## subject.RatHistory: source table - shadow table"
   ],
   "cell_type": "markdown",
   "metadata": {}
  },
  {
   "cell_type": "code",
   "execution_count": 4,
   "metadata": {},
   "outputs": [
    {
     "output_type": "execute_result",
     "data": {
      "text/plain": [
       "*rathistory_ol\n",
       "+------------+\n",
       "6363          \n",
       "6364          \n",
       "6365          \n",
       "6366          \n",
       "5281          \n",
       "862           \n",
       "4929          \n",
       "8816          \n",
       "2139          \n",
       " (Total: 9)"
      ],
      "text/html": "\n        \n        <style type=\"text/css\">\n            .Relation{\n                border-collapse:collapse;\n            }\n            .Relation th{\n                background: #A0A0A0; color: #ffffff; padding:4px; border:#f0e0e0 1px solid;\n                font-weight: normal; font-family: monospace; font-size: 100%;\n            }\n            .Relation td{\n                padding:4px; border:#f0e0e0 1px solid; font-size:100%;\n            }\n            .Relation tr:nth-child(odd){\n                background: #ffffff;\n            }\n            .Relation tr:nth-child(even){\n                background: #f3f1ff;\n            }\n            /* Tooltip container */\n            .djtooltip {\n            }\n            /* Tooltip text */\n            .djtooltip .djtooltiptext {\n                visibility: hidden;\n                width: 120px;\n                background-color: black;\n                color: #fff;\n                text-align: center;\n                padding: 5px 0;\n                border-radius: 6px;\n                /* Position the tooltip text - see examples below! */\n                position: absolute;\n                z-index: 1;\n            }\n            #primary {\n                font-weight: bold;\n                color: black;\n            }\n\n            #nonprimary {\n                font-weight: normal;\n                color: white;\n            }\n\n            /* Show the tooltip text when you mouse over the tooltip container */\n            .djtooltip:hover .djtooltiptext {\n                visibility: visible;\n            }\n        </style>\n        \n        \n            <div style=\"max-height:1000px;max-width:1500px;overflow:auto;\">\n            <table border=\"1\" class=\"Relation\">\n                <thead> <tr style=\"text-align: right;\"> <th> <div class=\"djtooltip\">\n                                <p id=\"primary\">rathistory_old_id</p>\n                                <span class=\"djtooltiptext\"></span>\n                            </div> </th> </tr> </thead>\n                <tbody> <tr> <td>6363</td></tr><tr><td>6364</td></tr><tr><td>6365</td></tr><tr><td>6366</td></tr><tr><td>5281</td></tr><tr><td>862</td></tr><tr><td>4929</td></tr><tr><td>8816</td></tr><tr><td>2139</td> </tr> </tbody>\n            </table>\n            \n            <p>Total: 9</p></div>\n            "
     },
     "metadata": {},
     "execution_count": 4
    }
   ],
   "source": [
    "ratinfo.RatHistory.proj(rathistory_old_id='internalID') - shadow_subject.RatHistory\n"
   ]
  },
  {
   "cell_type": "code",
   "execution_count": 5,
   "metadata": {},
   "outputs": [
    {
     "output_type": "stream",
     "name": "stdout",
     "text": [
      "\nThe following ratinfo.RatHistory `experimenters` are not in ratinfo.Contacts\n\nNumber of entries: 9\n\nList of experimenters: {'B186', 'J226', 'experimenter', 'Ben, Christine'}\n"
     ]
    }
   ],
   "source": [
    "print('\\nThe following ratinfo.RatHistory `experimenters` are not in ratinfo.Contacts')\n",
    "\n",
    "rathistory_missing_experimenter = (ratinfo.RatHistory.proj('experimenter') - shadow_subject.RatHistory.proj(internalID='rathistory_old_id')).fetch('experimenter')\n",
    "\n",
    "print('\\nNumber of entries:', len(rathistory_missing_experimenter))\n",
    "\n",
    "print('\\nList of experimenters:', set(rathistory_missing_experimenter))"
   ]
  },
  {
   "source": [
    "## subject.RatHistory: shadow table - new table"
   ],
   "cell_type": "markdown",
   "metadata": {}
  },
  {
   "cell_type": "code",
   "execution_count": 21,
   "metadata": {},
   "outputs": [
    {
     "output_type": "execute_result",
     "data": {
      "text/plain": [
       "*rathistory_ol\n",
       "+------------+\n",
       "7             \n",
       "8             \n",
       "21            \n",
       "23            \n",
       "148           \n",
       "171           \n",
       "211           \n",
       "512           \n",
       "574           \n",
       "612           \n",
       "614           \n",
       "643           \n",
       "   ...\n",
       " (Total: 1867)"
      ],
      "text/html": "\n        \n        <style type=\"text/css\">\n            .Relation{\n                border-collapse:collapse;\n            }\n            .Relation th{\n                background: #A0A0A0; color: #ffffff; padding:4px; border:#f0e0e0 1px solid;\n                font-weight: normal; font-family: monospace; font-size: 100%;\n            }\n            .Relation td{\n                padding:4px; border:#f0e0e0 1px solid; font-size:100%;\n            }\n            .Relation tr:nth-child(odd){\n                background: #ffffff;\n            }\n            .Relation tr:nth-child(even){\n                background: #f3f1ff;\n            }\n            /* Tooltip container */\n            .djtooltip {\n            }\n            /* Tooltip text */\n            .djtooltip .djtooltiptext {\n                visibility: hidden;\n                width: 120px;\n                background-color: black;\n                color: #fff;\n                text-align: center;\n                padding: 5px 0;\n                border-radius: 6px;\n                /* Position the tooltip text - see examples below! */\n                position: absolute;\n                z-index: 1;\n            }\n            #primary {\n                font-weight: bold;\n                color: black;\n            }\n\n            #nonprimary {\n                font-weight: normal;\n                color: white;\n            }\n\n            /* Show the tooltip text when you mouse over the tooltip container */\n            .djtooltip:hover .djtooltiptext {\n                visibility: visible;\n            }\n        </style>\n        \n        \n            <div style=\"max-height:1000px;max-width:1500px;overflow:auto;\">\n            <table border=\"1\" class=\"Relation\">\n                <thead> <tr style=\"text-align: right;\"> <th> <div class=\"djtooltip\">\n                                <p id=\"primary\">rathistory_old_id</p>\n                                <span class=\"djtooltiptext\"></span>\n                            </div> </th> </tr> </thead>\n                <tbody> <tr> <td>7</td></tr><tr><td>8</td></tr><tr><td>21</td></tr><tr><td>23</td></tr><tr><td>148</td></tr><tr><td>171</td></tr><tr><td>211</td></tr><tr><td>512</td></tr><tr><td>574</td></tr><tr><td>612</td></tr><tr><td>614</td></tr><tr><td>643</td> </tr> </tbody>\n            </table>\n            <p>...</p>\n            <p>Total: 1867</p></div>\n            "
     },
     "metadata": {},
     "execution_count": 21
    }
   ],
   "source": [
    "shadow_subject.RatHistory.proj() - new_subject.RatHistory"
   ]
  },
  {
   "cell_type": "code",
   "execution_count": 44,
   "metadata": {
    "tags": []
   },
   "outputs": [
    {
     "output_type": "stream",
     "name": "stdout",
     "text": [
      "\n",
      "Unique number of `ratname` missing in ratinfo.Rats:  29\n",
      "\n",
      "`ratname` missing in ratinfo.Rats:  {'M084', '266', 'J288', 'F100', 'Z130', '0452', 'F133', 'U001', 'A171', 'J231', 'Z276', '0454', 'F132', 'J289', '0455', '0451', '229', '0450', '261', '0449', '0453', '0447', 'A172', '263', 'H054', 'H053', '0448', '0446', 'F084'}\n",
      "\n",
      "Number of new primary keys (ratname and logtime) with duplicate entries: 1798\n"
     ]
    }
   ],
   "source": [
    "rathistory_new_missing = (shadow_subject.RatHistory & (shadow_subject.RatHistory.proj() - new_subject.RatHistory)).proj('ratname', 'logtime')\n",
    "\n",
    "print('\\nUnique number of `ratname` missing in ratinfo.Rats: ', len(set((rathistory_new_missing - (dj.U('ratname') & ratinfo.Rats)).fetch('ratname'))))\n",
    "\n",
    "print('\\n`ratname` missing in ratinfo.Rats: ', set((rathistory_new_missing - (dj.U('ratname') & ratinfo.Rats)).fetch('ratname')))\n",
    "\n",
    "count=0\n",
    "for i in rathistory_new_missing:\n",
    "    if len(shadow_subject.RatHistory & {'ratname':i['ratname'], 'logtime':i['logtime']})>1:\n",
    "        count+=1\n",
    "\n",
    "print('\\nNumber of new primary keys (ratname and logtime) with duplicate entries:', count)"
   ]
  },
  {
   "cell_type": "code",
   "execution_count": 45,
   "metadata": {},
   "outputs": [
    {
     "output_type": "execute_result",
     "data": {
      "text/plain": [
       "*contact    *ratname   \n",
       "+---------+ +---------+\n",
       "            H125       \n",
       "            M102       \n",
       "            T232       \n",
       "aakrami     229        \n",
       "aakrami     A141       \n",
       "aakrami     A142       \n",
       "aakrami     B099       \n",
       "aakrami     B198       \n",
       "aakrami     B199       \n",
       "aakrami     B200       \n",
       "aakrami     C191       \n",
       "aakrami     C192       \n",
       "   ...\n",
       " (Total: 2887)"
      ],
      "text/html": "\n        \n        <style type=\"text/css\">\n            .Relation{\n                border-collapse:collapse;\n            }\n            .Relation th{\n                background: #A0A0A0; color: #ffffff; padding:4px; border:#f0e0e0 1px solid;\n                font-weight: normal; font-family: monospace; font-size: 100%;\n            }\n            .Relation td{\n                padding:4px; border:#f0e0e0 1px solid; font-size:100%;\n            }\n            .Relation tr:nth-child(odd){\n                background: #ffffff;\n            }\n            .Relation tr:nth-child(even){\n                background: #f3f1ff;\n            }\n            /* Tooltip container */\n            .djtooltip {\n            }\n            /* Tooltip text */\n            .djtooltip .djtooltiptext {\n                visibility: hidden;\n                width: 120px;\n                background-color: black;\n                color: #fff;\n                text-align: center;\n                padding: 5px 0;\n                border-radius: 6px;\n                /* Position the tooltip text - see examples below! */\n                position: absolute;\n                z-index: 1;\n            }\n            #primary {\n                font-weight: bold;\n                color: black;\n            }\n\n            #nonprimary {\n                font-weight: normal;\n                color: white;\n            }\n\n            /* Show the tooltip text when you mouse over the tooltip container */\n            .djtooltip:hover .djtooltiptext {\n                visibility: visible;\n            }\n        </style>\n        \n        \n            <div style=\"max-height:1000px;max-width:1500px;overflow:auto;\">\n            <table border=\"1\" class=\"Relation\">\n                <thead> <tr style=\"text-align: right;\"> <th> <div class=\"djtooltip\">\n                                <p id=\"primary\">contact</p>\n                                <span class=\"djtooltiptext\">PUIDs of the lab member(s) responsible for the rat</span>\n                            </div></th><th><div class=\"djtooltip\">\n                                <p id=\"primary\">ratname</p>\n                                <span class=\"djtooltiptext\">Unique rat name, 1 letter 3 numbers</span>\n                            </div> </th> </tr> </thead>\n                <tbody> <tr> <td></td>\n<td>H125</td></tr><tr><td></td>\n<td>M102</td></tr><tr><td></td>\n<td>T232</td></tr><tr><td>aakrami</td>\n<td>229</td></tr><tr><td>aakrami</td>\n<td>A141</td></tr><tr><td>aakrami</td>\n<td>A142</td></tr><tr><td>aakrami</td>\n<td>B099</td></tr><tr><td>aakrami</td>\n<td>B198</td></tr><tr><td>aakrami</td>\n<td>B199</td></tr><tr><td>aakrami</td>\n<td>B200</td></tr><tr><td>aakrami</td>\n<td>C191</td></tr><tr><td>aakrami</td>\n<td>C192</td> </tr> </tbody>\n            </table>\n            <p>...</p>\n            <p>Total: 2887</p></div>\n            "
     },
     "metadata": {},
     "execution_count": 45
    }
   ],
   "source": [
    "shadow_subject.RatHistory.Contact.proj() - new_subject.RatHistory.Contact"
   ]
  },
  {
   "cell_type": "code",
   "execution_count": null,
   "metadata": {},
   "outputs": [],
   "source": [
    "# Should the primary key be changed to contact & ratname?"
   ]
  },
  {
   "source": [
    "---\n",
    "## lab.Contacts: source table - shadow table"
   ],
   "cell_type": "markdown",
   "metadata": {}
  },
  {
   "cell_type": "code",
   "execution_count": 18,
   "metadata": {},
   "outputs": [
    {
     "output_type": "execute_result",
     "data": {
      "text/plain": [
       "*contacts_old_\n",
       "+------------+\n",
       "53            \n",
       "59            \n",
       "97            \n",
       " (Total: 3)"
      ],
      "text/html": "\n        \n        <style type=\"text/css\">\n            .Relation{\n                border-collapse:collapse;\n            }\n            .Relation th{\n                background: #A0A0A0; color: #ffffff; padding:4px; border:#f0e0e0 1px solid;\n                font-weight: normal; font-family: monospace; font-size: 100%;\n            }\n            .Relation td{\n                padding:4px; border:#f0e0e0 1px solid; font-size:100%;\n            }\n            .Relation tr:nth-child(odd){\n                background: #ffffff;\n            }\n            .Relation tr:nth-child(even){\n                background: #f3f1ff;\n            }\n            /* Tooltip container */\n            .djtooltip {\n            }\n            /* Tooltip text */\n            .djtooltip .djtooltiptext {\n                visibility: hidden;\n                width: 120px;\n                background-color: black;\n                color: #fff;\n                text-align: center;\n                padding: 5px 0;\n                border-radius: 6px;\n                /* Position the tooltip text - see examples below! */\n                position: absolute;\n                z-index: 1;\n            }\n            #primary {\n                font-weight: bold;\n                color: black;\n            }\n\n            #nonprimary {\n                font-weight: normal;\n                color: white;\n            }\n\n            /* Show the tooltip text when you mouse over the tooltip container */\n            .djtooltip:hover .djtooltiptext {\n                visibility: visible;\n            }\n        </style>\n        \n        \n            <div style=\"max-height:1000px;max-width:1500px;overflow:auto;\">\n            <table border=\"1\" class=\"Relation\">\n                <thead> <tr style=\"text-align: right;\"> <th> <div class=\"djtooltip\">\n                                <p id=\"primary\">contacts_old_id</p>\n                                <span class=\"djtooltiptext\"></span>\n                            </div> </th> </tr> </thead>\n                <tbody> <tr> <td>53</td></tr><tr><td>59</td></tr><tr><td>97</td> </tr> </tbody>\n            </table>\n            \n            <p>Total: 3</p></div>\n            "
     },
     "metadata": {},
     "execution_count": 18
    }
   ],
   "source": [
    "ratinfo.Contacts.proj(contacts_old_id='contactid') - shadow_lab.Contacts\n"
   ]
  },
  {
   "source": [
    "Issue addressed.  Duplicate emails for contactid = 59 and 94; 53 and 71; 12 and 97"
   ],
   "cell_type": "markdown",
   "metadata": {}
  },
  {
   "source": [
    "## lab.Contacts: shadow table - new table"
   ],
   "cell_type": "markdown",
   "metadata": {}
  },
  {
   "cell_type": "code",
   "execution_count": 19,
   "metadata": {},
   "outputs": [
    {
     "output_type": "execute_result",
     "data": {
      "text/plain": [
       "*contacts_old_\n",
       "+------------+\n",
       "\n",
       " (Total: 0)"
      ],
      "text/html": "\n        \n        <style type=\"text/css\">\n            .Relation{\n                border-collapse:collapse;\n            }\n            .Relation th{\n                background: #A0A0A0; color: #ffffff; padding:4px; border:#f0e0e0 1px solid;\n                font-weight: normal; font-family: monospace; font-size: 100%;\n            }\n            .Relation td{\n                padding:4px; border:#f0e0e0 1px solid; font-size:100%;\n            }\n            .Relation tr:nth-child(odd){\n                background: #ffffff;\n            }\n            .Relation tr:nth-child(even){\n                background: #f3f1ff;\n            }\n            /* Tooltip container */\n            .djtooltip {\n            }\n            /* Tooltip text */\n            .djtooltip .djtooltiptext {\n                visibility: hidden;\n                width: 120px;\n                background-color: black;\n                color: #fff;\n                text-align: center;\n                padding: 5px 0;\n                border-radius: 6px;\n                /* Position the tooltip text - see examples below! */\n                position: absolute;\n                z-index: 1;\n            }\n            #primary {\n                font-weight: bold;\n                color: black;\n            }\n\n            #nonprimary {\n                font-weight: normal;\n                color: white;\n            }\n\n            /* Show the tooltip text when you mouse over the tooltip container */\n            .djtooltip:hover .djtooltiptext {\n                visibility: visible;\n            }\n        </style>\n        \n        \n            <div style=\"max-height:1000px;max-width:1500px;overflow:auto;\">\n            <table border=\"1\" class=\"Relation\">\n                <thead> <tr style=\"text-align: right;\"> <th> <div class=\"djtooltip\">\n                                <p id=\"primary\">contacts_old_id</p>\n                                <span class=\"djtooltiptext\"></span>\n                            </div> </th> </tr> </thead>\n                <tbody> <tr>  </tr> </tbody>\n            </table>\n            \n            <p>Total: 0</p></div>\n            "
     },
     "metadata": {},
     "execution_count": 19
    }
   ],
   "source": [
    "shadow_lab.Contacts.proj() - new_lab.Contacts\n"
   ]
  },
  {
   "source": [
    "---\n",
    "## lab.RigMaintenance: source table - shadow table\n"
   ],
   "cell_type": "markdown",
   "metadata": {}
  },
  {
   "cell_type": "code",
   "execution_count": 23,
   "metadata": {},
   "outputs": [
    {
     "output_type": "execute_result",
     "data": {
      "text/plain": [
       "*rig_maintenan\n",
       "+------------+\n",
       "\n",
       " (Total: 0)"
      ],
      "text/html": "\n        \n        <style type=\"text/css\">\n            .Relation{\n                border-collapse:collapse;\n            }\n            .Relation th{\n                background: #A0A0A0; color: #ffffff; padding:4px; border:#f0e0e0 1px solid;\n                font-weight: normal; font-family: monospace; font-size: 100%;\n            }\n            .Relation td{\n                padding:4px; border:#f0e0e0 1px solid; font-size:100%;\n            }\n            .Relation tr:nth-child(odd){\n                background: #ffffff;\n            }\n            .Relation tr:nth-child(even){\n                background: #f3f1ff;\n            }\n            /* Tooltip container */\n            .djtooltip {\n            }\n            /* Tooltip text */\n            .djtooltip .djtooltiptext {\n                visibility: hidden;\n                width: 120px;\n                background-color: black;\n                color: #fff;\n                text-align: center;\n                padding: 5px 0;\n                border-radius: 6px;\n                /* Position the tooltip text - see examples below! */\n                position: absolute;\n                z-index: 1;\n            }\n            #primary {\n                font-weight: bold;\n                color: black;\n            }\n\n            #nonprimary {\n                font-weight: normal;\n                color: white;\n            }\n\n            /* Show the tooltip text when you mouse over the tooltip container */\n            .djtooltip:hover .djtooltiptext {\n                visibility: visible;\n            }\n        </style>\n        \n        \n            <div style=\"max-height:1000px;max-width:1500px;overflow:auto;\">\n            <table border=\"1\" class=\"Relation\">\n                <thead> <tr style=\"text-align: right;\"> <th> <div class=\"djtooltip\">\n                                <p id=\"primary\">rig_maintenance_id</p>\n                                <span class=\"djtooltiptext\"></span>\n                            </div> </th> </tr> </thead>\n                <tbody> <tr>  </tr> </tbody>\n            </table>\n            \n            <p>Total: 0</p></div>\n            "
     },
     "metadata": {},
     "execution_count": 23
    }
   ],
   "source": [
    "ratinfo.RigMaintenance.proj(rig_maintenance_id='maintenance_id') - shadow_lab.RigMaintenance"
   ]
  },
  {
   "source": [
    "## lab.RigMaintenance: shadow table - new table\n"
   ],
   "cell_type": "markdown",
   "metadata": {}
  },
  {
   "cell_type": "code",
   "execution_count": 21,
   "metadata": {},
   "outputs": [
    {
     "output_type": "execute_result",
     "data": {
      "text/plain": [
       "*rig_maintenan\n",
       "+------------+\n",
       "733           \n",
       "734           \n",
       "774           \n",
       "808           \n",
       "810           \n",
       "811           \n",
       "829           \n",
       "831           \n",
       "832           \n",
       "837           \n",
       "1006          \n",
       "1007          \n",
       "   ...\n",
       " (Total: 197)"
      ],
      "text/html": "\n        \n        <style type=\"text/css\">\n            .Relation{\n                border-collapse:collapse;\n            }\n            .Relation th{\n                background: #A0A0A0; color: #ffffff; padding:4px; border:#f0e0e0 1px solid;\n                font-weight: normal; font-family: monospace; font-size: 100%;\n            }\n            .Relation td{\n                padding:4px; border:#f0e0e0 1px solid; font-size:100%;\n            }\n            .Relation tr:nth-child(odd){\n                background: #ffffff;\n            }\n            .Relation tr:nth-child(even){\n                background: #f3f1ff;\n            }\n            /* Tooltip container */\n            .djtooltip {\n            }\n            /* Tooltip text */\n            .djtooltip .djtooltiptext {\n                visibility: hidden;\n                width: 120px;\n                background-color: black;\n                color: #fff;\n                text-align: center;\n                padding: 5px 0;\n                border-radius: 6px;\n                /* Position the tooltip text - see examples below! */\n                position: absolute;\n                z-index: 1;\n            }\n            #primary {\n                font-weight: bold;\n                color: black;\n            }\n\n            #nonprimary {\n                font-weight: normal;\n                color: white;\n            }\n\n            /* Show the tooltip text when you mouse over the tooltip container */\n            .djtooltip:hover .djtooltiptext {\n                visibility: visible;\n            }\n        </style>\n        \n        \n            <div style=\"max-height:1000px;max-width:1500px;overflow:auto;\">\n            <table border=\"1\" class=\"Relation\">\n                <thead> <tr style=\"text-align: right;\"> <th> <div class=\"djtooltip\">\n                                <p id=\"primary\">rig_maintenance_id</p>\n                                <span class=\"djtooltiptext\"></span>\n                            </div> </th> </tr> </thead>\n                <tbody> <tr> <td>733</td></tr><tr><td>734</td></tr><tr><td>774</td></tr><tr><td>808</td></tr><tr><td>810</td></tr><tr><td>811</td></tr><tr><td>829</td></tr><tr><td>831</td></tr><tr><td>832</td></tr><tr><td>837</td></tr><tr><td>1006</td></tr><tr><td>1007</td> </tr> </tbody>\n            </table>\n            <p>...</p>\n            <p>Total: 197</p></div>\n            "
     },
     "metadata": {},
     "execution_count": 21
    }
   ],
   "source": [
    "shadow_lab.RigMaintenance.proj() - new_lab.RigMaintenance"
   ]
  },
  {
   "cell_type": "code",
   "execution_count": 82,
   "metadata": {},
   "outputs": [
    {
     "output_type": "stream",
     "name": "stdout",
     "text": [
      "\nNumber of entries in ratinfo.RigMaintenance: 197\n\nNumber of missing rigids in ratinfo.Riginfo: 31\n\nMissing rigids in ratinfo.Riginfo: {303, 305, 306, 307, 308, 309, 310, 311, 312, 313, 314, 315, 316, 317, 318, 319, 320, 321, 322, 323, 325, 326, 327, 328, 329, 330, 331, 332, 333, 335, 336}\n"
     ]
    }
   ],
   "source": [
    "rigmaintenance_missing = (ratinfo.RigMaintenance & (shadow_lab.RigMaintenance.proj(maintenance_id='rig_maintenance_id') - new_lab.RigMaintenance.proj(maintenance_id='rig_maintenance_id'))).fetch('rigid')\n",
    "\n",
    "print('\\nNumber of entries in ratinfo.RigMaintenance:', rigmaintenance_missing.shape[0])\n",
    "\n",
    "print('\\nNumber of missing rigids in ratinfo.Riginfo:', len(set(rigmaintenance_missing)))\n",
    "\n",
    "print('\\nMissing rigids in ratinfo.Riginfo:', set(rigmaintenance_missing))"
   ]
  },
  {
   "source": [
    "---\n",
    "## lab.Rigflush: source table - shadow table"
   ],
   "cell_type": "markdown",
   "metadata": {}
  },
  {
   "cell_type": "code",
   "execution_count": 25,
   "metadata": {},
   "outputs": [
    {
     "output_type": "execute_result",
     "data": {
      "text/plain": [
       "*rigflush_old_\n",
       "+------------+\n",
       "\n",
       " (Total: 0)"
      ],
      "text/html": "\n        \n        <style type=\"text/css\">\n            .Relation{\n                border-collapse:collapse;\n            }\n            .Relation th{\n                background: #A0A0A0; color: #ffffff; padding:4px; border:#f0e0e0 1px solid;\n                font-weight: normal; font-family: monospace; font-size: 100%;\n            }\n            .Relation td{\n                padding:4px; border:#f0e0e0 1px solid; font-size:100%;\n            }\n            .Relation tr:nth-child(odd){\n                background: #ffffff;\n            }\n            .Relation tr:nth-child(even){\n                background: #f3f1ff;\n            }\n            /* Tooltip container */\n            .djtooltip {\n            }\n            /* Tooltip text */\n            .djtooltip .djtooltiptext {\n                visibility: hidden;\n                width: 120px;\n                background-color: black;\n                color: #fff;\n                text-align: center;\n                padding: 5px 0;\n                border-radius: 6px;\n                /* Position the tooltip text - see examples below! */\n                position: absolute;\n                z-index: 1;\n            }\n            #primary {\n                font-weight: bold;\n                color: black;\n            }\n\n            #nonprimary {\n                font-weight: normal;\n                color: white;\n            }\n\n            /* Show the tooltip text when you mouse over the tooltip container */\n            .djtooltip:hover .djtooltiptext {\n                visibility: visible;\n            }\n        </style>\n        \n        \n            <div style=\"max-height:1000px;max-width:1500px;overflow:auto;\">\n            <table border=\"1\" class=\"Relation\">\n                <thead> <tr style=\"text-align: right;\"> <th> <div class=\"djtooltip\">\n                                <p id=\"primary\">rigflush_old_id</p>\n                                <span class=\"djtooltiptext\"></span>\n                            </div> </th> </tr> </thead>\n                <tbody> <tr>  </tr> </tbody>\n            </table>\n            \n            <p>Total: 0</p></div>\n            "
     },
     "metadata": {},
     "execution_count": 25
    }
   ],
   "source": [
    "ratinfo.Rigflush.proj(rigflush_old_id='id') - shadow_lab.Rigflush"
   ]
  },
  {
   "source": [
    "## lab.Rigflush: shadow table - new table"
   ],
   "cell_type": "markdown",
   "metadata": {}
  },
  {
   "cell_type": "code",
   "execution_count": 26,
   "metadata": {},
   "outputs": [
    {
     "output_type": "execute_result",
     "data": {
      "text/plain": [
       "*rigflush_old_\n",
       "+------------+\n",
       "\n",
       " (Total: 0)"
      ],
      "text/html": "\n        \n        <style type=\"text/css\">\n            .Relation{\n                border-collapse:collapse;\n            }\n            .Relation th{\n                background: #A0A0A0; color: #ffffff; padding:4px; border:#f0e0e0 1px solid;\n                font-weight: normal; font-family: monospace; font-size: 100%;\n            }\n            .Relation td{\n                padding:4px; border:#f0e0e0 1px solid; font-size:100%;\n            }\n            .Relation tr:nth-child(odd){\n                background: #ffffff;\n            }\n            .Relation tr:nth-child(even){\n                background: #f3f1ff;\n            }\n            /* Tooltip container */\n            .djtooltip {\n            }\n            /* Tooltip text */\n            .djtooltip .djtooltiptext {\n                visibility: hidden;\n                width: 120px;\n                background-color: black;\n                color: #fff;\n                text-align: center;\n                padding: 5px 0;\n                border-radius: 6px;\n                /* Position the tooltip text - see examples below! */\n                position: absolute;\n                z-index: 1;\n            }\n            #primary {\n                font-weight: bold;\n                color: black;\n            }\n\n            #nonprimary {\n                font-weight: normal;\n                color: white;\n            }\n\n            /* Show the tooltip text when you mouse over the tooltip container */\n            .djtooltip:hover .djtooltiptext {\n                visibility: visible;\n            }\n        </style>\n        \n        \n            <div style=\"max-height:1000px;max-width:1500px;overflow:auto;\">\n            <table border=\"1\" class=\"Relation\">\n                <thead> <tr style=\"text-align: right;\"> <th> <div class=\"djtooltip\">\n                                <p id=\"primary\">rigflush_old_id</p>\n                                <span class=\"djtooltiptext\"></span>\n                            </div> </th> </tr> </thead>\n                <tbody> <tr>  </tr> </tbody>\n            </table>\n            \n            <p>Total: 0</p></div>\n            "
     },
     "metadata": {},
     "execution_count": 26
    }
   ],
   "source": [
    "shadow_lab.Rigflush.proj() - new_lab.Rigflush"
   ]
  },
  {
   "source": [
    "---\n",
    "## lab.Rigfood: source table - shadow table"
   ],
   "cell_type": "markdown",
   "metadata": {}
  },
  {
   "cell_type": "code",
   "execution_count": 86,
   "metadata": {},
   "outputs": [
    {
     "output_type": "execute_result",
     "data": {
      "text/plain": [
       "*rigfood_id   \n",
       "+------------+\n",
       "\n",
       " (Total: 0)"
      ],
      "text/html": "\n        \n        <style type=\"text/css\">\n            .Relation{\n                border-collapse:collapse;\n            }\n            .Relation th{\n                background: #A0A0A0; color: #ffffff; padding:4px; border:#f0e0e0 1px solid;\n                font-weight: normal; font-family: monospace; font-size: 100%;\n            }\n            .Relation td{\n                padding:4px; border:#f0e0e0 1px solid; font-size:100%;\n            }\n            .Relation tr:nth-child(odd){\n                background: #ffffff;\n            }\n            .Relation tr:nth-child(even){\n                background: #f3f1ff;\n            }\n            /* Tooltip container */\n            .djtooltip {\n            }\n            /* Tooltip text */\n            .djtooltip .djtooltiptext {\n                visibility: hidden;\n                width: 120px;\n                background-color: black;\n                color: #fff;\n                text-align: center;\n                padding: 5px 0;\n                border-radius: 6px;\n                /* Position the tooltip text - see examples below! */\n                position: absolute;\n                z-index: 1;\n            }\n            #primary {\n                font-weight: bold;\n                color: black;\n            }\n\n            #nonprimary {\n                font-weight: normal;\n                color: white;\n            }\n\n            /* Show the tooltip text when you mouse over the tooltip container */\n            .djtooltip:hover .djtooltiptext {\n                visibility: visible;\n            }\n        </style>\n        \n        \n            <div style=\"max-height:1000px;max-width:1500px;overflow:auto;\">\n            <table border=\"1\" class=\"Relation\">\n                <thead> <tr style=\"text-align: right;\"> <th> <div class=\"djtooltip\">\n                                <p id=\"primary\">rigfood_id</p>\n                                <span class=\"djtooltiptext\"></span>\n                            </div> </th> </tr> </thead>\n                <tbody> <tr>  </tr> </tbody>\n            </table>\n            \n            <p>Total: 0</p></div>\n            "
     },
     "metadata": {},
     "execution_count": 86
    }
   ],
   "source": [
    "ratinfo.Rigfood.proj(rigfood_id='rigfoodid') - shadow_lab.Rigfood"
   ]
  },
  {
   "source": [
    "## lab.Rigfood: shadow table - new table"
   ],
   "cell_type": "markdown",
   "metadata": {}
  },
  {
   "cell_type": "code",
   "execution_count": 87,
   "metadata": {},
   "outputs": [
    {
     "output_type": "execute_result",
     "data": {
      "text/plain": [
       "*rigfood_id   \n",
       "+------------+\n",
       "6155          \n",
       "6156          \n",
       "6157          \n",
       "6158          \n",
       "6159          \n",
       "6160          \n",
       "6161          \n",
       "6162          \n",
       "6163          \n",
       "6164          \n",
       "6165          \n",
       "6166          \n",
       "   ...\n",
       " (Total: 41)"
      ],
      "text/html": "\n        \n        <style type=\"text/css\">\n            .Relation{\n                border-collapse:collapse;\n            }\n            .Relation th{\n                background: #A0A0A0; color: #ffffff; padding:4px; border:#f0e0e0 1px solid;\n                font-weight: normal; font-family: monospace; font-size: 100%;\n            }\n            .Relation td{\n                padding:4px; border:#f0e0e0 1px solid; font-size:100%;\n            }\n            .Relation tr:nth-child(odd){\n                background: #ffffff;\n            }\n            .Relation tr:nth-child(even){\n                background: #f3f1ff;\n            }\n            /* Tooltip container */\n            .djtooltip {\n            }\n            /* Tooltip text */\n            .djtooltip .djtooltiptext {\n                visibility: hidden;\n                width: 120px;\n                background-color: black;\n                color: #fff;\n                text-align: center;\n                padding: 5px 0;\n                border-radius: 6px;\n                /* Position the tooltip text - see examples below! */\n                position: absolute;\n                z-index: 1;\n            }\n            #primary {\n                font-weight: bold;\n                color: black;\n            }\n\n            #nonprimary {\n                font-weight: normal;\n                color: white;\n            }\n\n            /* Show the tooltip text when you mouse over the tooltip container */\n            .djtooltip:hover .djtooltiptext {\n                visibility: visible;\n            }\n        </style>\n        \n        \n            <div style=\"max-height:1000px;max-width:1500px;overflow:auto;\">\n            <table border=\"1\" class=\"Relation\">\n                <thead> <tr style=\"text-align: right;\"> <th> <div class=\"djtooltip\">\n                                <p id=\"primary\">rigfood_id</p>\n                                <span class=\"djtooltiptext\"></span>\n                            </div> </th> </tr> </thead>\n                <tbody> <tr> <td>6155</td></tr><tr><td>6156</td></tr><tr><td>6157</td></tr><tr><td>6158</td></tr><tr><td>6159</td></tr><tr><td>6160</td></tr><tr><td>6161</td></tr><tr><td>6162</td></tr><tr><td>6163</td></tr><tr><td>6164</td></tr><tr><td>6165</td></tr><tr><td>6166</td> </tr> </tbody>\n            </table>\n            <p>...</p>\n            <p>Total: 41</p></div>\n            "
     },
     "metadata": {},
     "execution_count": 87
    }
   ],
   "source": [
    "shadow_lab.Rigfood.proj() - new_lab.Rigfood"
   ]
  },
  {
   "cell_type": "code",
   "execution_count": 84,
   "metadata": {},
   "outputs": [
    {
     "output_type": "stream",
     "name": "stdout",
     "text": [
      "\nNumber of entries in lab.Rigfood: 41\n\nNumber of missing `rigids` in ratinfo.Riginfo: 1\n\nMissing `rigids` in ratinfo.Riginfo: {255}\n"
     ]
    }
   ],
   "source": [
    "rigfood_missing = (ratinfo.Rigfood & (shadow_lab.Rigfood.proj(rigfoodid='rigfood_id') - new_lab.Rigfood.proj(rigfoodid='rigfood_id'))).fetch('rigid')\n",
    "\n",
    "print('\\nNumber of entries in lab.Rigfood:', rigfood_missing.shape[0])\n",
    "\n",
    "print('\\nNumber of missing `rigids` in ratinfo.Riginfo:', len(set(rigfood_missing)))\n",
    "\n",
    "print('\\nMissing `rigids` in ratinfo.Riginfo:', set(rigfood_missing))"
   ]
  },
  {
   "source": [
    "---\n",
    "## lab.Riginfo: source table - shadow table"
   ],
   "cell_type": "markdown",
   "metadata": {}
  },
  {
   "cell_type": "code",
   "execution_count": 31,
   "metadata": {},
   "outputs": [
    {
     "output_type": "execute_result",
     "data": {
      "text/plain": [
       "*rigid   \n",
       "+-------+\n",
       "\n",
       " (Total: 0)"
      ],
      "text/html": "\n        \n        <style type=\"text/css\">\n            .Relation{\n                border-collapse:collapse;\n            }\n            .Relation th{\n                background: #A0A0A0; color: #ffffff; padding:4px; border:#f0e0e0 1px solid;\n                font-weight: normal; font-family: monospace; font-size: 100%;\n            }\n            .Relation td{\n                padding:4px; border:#f0e0e0 1px solid; font-size:100%;\n            }\n            .Relation tr:nth-child(odd){\n                background: #ffffff;\n            }\n            .Relation tr:nth-child(even){\n                background: #f3f1ff;\n            }\n            /* Tooltip container */\n            .djtooltip {\n            }\n            /* Tooltip text */\n            .djtooltip .djtooltiptext {\n                visibility: hidden;\n                width: 120px;\n                background-color: black;\n                color: #fff;\n                text-align: center;\n                padding: 5px 0;\n                border-radius: 6px;\n                /* Position the tooltip text - see examples below! */\n                position: absolute;\n                z-index: 1;\n            }\n            #primary {\n                font-weight: bold;\n                color: black;\n            }\n\n            #nonprimary {\n                font-weight: normal;\n                color: white;\n            }\n\n            /* Show the tooltip text when you mouse over the tooltip container */\n            .djtooltip:hover .djtooltiptext {\n                visibility: visible;\n            }\n        </style>\n        \n        \n            <div style=\"max-height:1000px;max-width:1500px;overflow:auto;\">\n            <table border=\"1\" class=\"Relation\">\n                <thead> <tr style=\"text-align: right;\"> <th> <div class=\"djtooltip\">\n                                <p id=\"primary\">rigid</p>\n                                <span class=\"djtooltiptext\"></span>\n                            </div> </th> </tr> </thead>\n                <tbody> <tr>  </tr> </tbody>\n            </table>\n            \n            <p>Total: 0</p></div>\n            "
     },
     "metadata": {},
     "execution_count": 31
    }
   ],
   "source": [
    "ratinfo.Riginfo.proj() - shadow_lab.Riginfo"
   ]
  },
  {
   "source": [
    "## lab.Riginfo: shadow table - new table"
   ],
   "cell_type": "markdown",
   "metadata": {}
  },
  {
   "cell_type": "code",
   "execution_count": 85,
   "metadata": {},
   "outputs": [
    {
     "output_type": "execute_result",
     "data": {
      "text/plain": [
       "*rigid   \n",
       "+-------+\n",
       "\n",
       " (Total: 0)"
      ],
      "text/html": "\n        \n        <style type=\"text/css\">\n            .Relation{\n                border-collapse:collapse;\n            }\n            .Relation th{\n                background: #A0A0A0; color: #ffffff; padding:4px; border:#f0e0e0 1px solid;\n                font-weight: normal; font-family: monospace; font-size: 100%;\n            }\n            .Relation td{\n                padding:4px; border:#f0e0e0 1px solid; font-size:100%;\n            }\n            .Relation tr:nth-child(odd){\n                background: #ffffff;\n            }\n            .Relation tr:nth-child(even){\n                background: #f3f1ff;\n            }\n            /* Tooltip container */\n            .djtooltip {\n            }\n            /* Tooltip text */\n            .djtooltip .djtooltiptext {\n                visibility: hidden;\n                width: 120px;\n                background-color: black;\n                color: #fff;\n                text-align: center;\n                padding: 5px 0;\n                border-radius: 6px;\n                /* Position the tooltip text - see examples below! */\n                position: absolute;\n                z-index: 1;\n            }\n            #primary {\n                font-weight: bold;\n                color: black;\n            }\n\n            #nonprimary {\n                font-weight: normal;\n                color: white;\n            }\n\n            /* Show the tooltip text when you mouse over the tooltip container */\n            .djtooltip:hover .djtooltiptext {\n                visibility: visible;\n            }\n        </style>\n        \n        \n            <div style=\"max-height:1000px;max-width:1500px;overflow:auto;\">\n            <table border=\"1\" class=\"Relation\">\n                <thead> <tr style=\"text-align: right;\"> <th> <div class=\"djtooltip\">\n                                <p id=\"primary\">rigid</p>\n                                <span class=\"djtooltiptext\"></span>\n                            </div> </th> </tr> </thead>\n                <tbody> <tr>  </tr> </tbody>\n            </table>\n            \n            <p>Total: 0</p></div>\n            "
     },
     "metadata": {},
     "execution_count": 85
    }
   ],
   "source": [
    "shadow_lab.Riginfo.proj() - new_lab.Riginfo"
   ]
  },
  {
   "source": [
    "---\n",
    "## lab.TrainingRoom: source table - shadow table\n"
   ],
   "cell_type": "markdown",
   "metadata": {}
  },
  {
   "cell_type": "code",
   "execution_count": 34,
   "metadata": {},
   "outputs": [
    {
     "output_type": "execute_result",
     "data": {
      "text/plain": [
       "*tower   \n",
       "+-------+\n",
       "\n",
       " (Total: 0)"
      ],
      "text/html": "\n        \n        <style type=\"text/css\">\n            .Relation{\n                border-collapse:collapse;\n            }\n            .Relation th{\n                background: #A0A0A0; color: #ffffff; padding:4px; border:#f0e0e0 1px solid;\n                font-weight: normal; font-family: monospace; font-size: 100%;\n            }\n            .Relation td{\n                padding:4px; border:#f0e0e0 1px solid; font-size:100%;\n            }\n            .Relation tr:nth-child(odd){\n                background: #ffffff;\n            }\n            .Relation tr:nth-child(even){\n                background: #f3f1ff;\n            }\n            /* Tooltip container */\n            .djtooltip {\n            }\n            /* Tooltip text */\n            .djtooltip .djtooltiptext {\n                visibility: hidden;\n                width: 120px;\n                background-color: black;\n                color: #fff;\n                text-align: center;\n                padding: 5px 0;\n                border-radius: 6px;\n                /* Position the tooltip text - see examples below! */\n                position: absolute;\n                z-index: 1;\n            }\n            #primary {\n                font-weight: bold;\n                color: black;\n            }\n\n            #nonprimary {\n                font-weight: normal;\n                color: white;\n            }\n\n            /* Show the tooltip text when you mouse over the tooltip container */\n            .djtooltip:hover .djtooltiptext {\n                visibility: visible;\n            }\n        </style>\n        \n        \n            <div style=\"max-height:1000px;max-width:1500px;overflow:auto;\">\n            <table border=\"1\" class=\"Relation\">\n                <thead> <tr style=\"text-align: right;\"> <th> <div class=\"djtooltip\">\n                                <p id=\"primary\">tower</p>\n                                <span class=\"djtooltiptext\"></span>\n                            </div> </th> </tr> </thead>\n                <tbody> <tr>  </tr> </tbody>\n            </table>\n            \n            <p>Total: 0</p></div>\n            "
     },
     "metadata": {},
     "execution_count": 34
    }
   ],
   "source": [
    "ratinfo.TrainingRoom.proj() - shadow_lab.TrainingRoom"
   ]
  },
  {
   "source": [
    "## lab.TrainingRoom: shadow table - new table"
   ],
   "cell_type": "markdown",
   "metadata": {}
  },
  {
   "cell_type": "code",
   "execution_count": 35,
   "metadata": {},
   "outputs": [
    {
     "output_type": "execute_result",
     "data": {
      "text/plain": [
       "*tower   \n",
       "+-------+\n",
       "\n",
       " (Total: 0)"
      ],
      "text/html": "\n        \n        <style type=\"text/css\">\n            .Relation{\n                border-collapse:collapse;\n            }\n            .Relation th{\n                background: #A0A0A0; color: #ffffff; padding:4px; border:#f0e0e0 1px solid;\n                font-weight: normal; font-family: monospace; font-size: 100%;\n            }\n            .Relation td{\n                padding:4px; border:#f0e0e0 1px solid; font-size:100%;\n            }\n            .Relation tr:nth-child(odd){\n                background: #ffffff;\n            }\n            .Relation tr:nth-child(even){\n                background: #f3f1ff;\n            }\n            /* Tooltip container */\n            .djtooltip {\n            }\n            /* Tooltip text */\n            .djtooltip .djtooltiptext {\n                visibility: hidden;\n                width: 120px;\n                background-color: black;\n                color: #fff;\n                text-align: center;\n                padding: 5px 0;\n                border-radius: 6px;\n                /* Position the tooltip text - see examples below! */\n                position: absolute;\n                z-index: 1;\n            }\n            #primary {\n                font-weight: bold;\n                color: black;\n            }\n\n            #nonprimary {\n                font-weight: normal;\n                color: white;\n            }\n\n            /* Show the tooltip text when you mouse over the tooltip container */\n            .djtooltip:hover .djtooltiptext {\n                visibility: visible;\n            }\n        </style>\n        \n        \n            <div style=\"max-height:1000px;max-width:1500px;overflow:auto;\">\n            <table border=\"1\" class=\"Relation\">\n                <thead> <tr style=\"text-align: right;\"> <th> <div class=\"djtooltip\">\n                                <p id=\"primary\">tower</p>\n                                <span class=\"djtooltiptext\"></span>\n                            </div> </th> </tr> </thead>\n                <tbody> <tr>  </tr> </tbody>\n            </table>\n            \n            <p>Total: 0</p></div>\n            "
     },
     "metadata": {},
     "execution_count": 35
    }
   ],
   "source": [
    "shadow_lab.TrainingRoom.proj() - new_lab.TrainingRoom"
   ]
  },
  {
   "source": [
    "---\n",
    "## action.CalibrationInfoTbl: source table - shadow table"
   ],
   "cell_type": "markdown",
   "metadata": {}
  },
  {
   "cell_type": "code",
   "execution_count": 36,
   "metadata": {},
   "outputs": [
    {
     "output_type": "execute_result",
     "data": {
      "text/plain": [
       "*calibration_i\n",
       "+------------+\n",
       "52913         \n",
       "52914         \n",
       "52915         \n",
       "52916         \n",
       "52919         \n",
       "52920         \n",
       "52921         \n",
       "52922         \n",
       "53095         \n",
       "76687         \n",
       " (Total: 10)"
      ],
      "text/html": "\n        \n        <style type=\"text/css\">\n            .Relation{\n                border-collapse:collapse;\n            }\n            .Relation th{\n                background: #A0A0A0; color: #ffffff; padding:4px; border:#f0e0e0 1px solid;\n                font-weight: normal; font-family: monospace; font-size: 100%;\n            }\n            .Relation td{\n                padding:4px; border:#f0e0e0 1px solid; font-size:100%;\n            }\n            .Relation tr:nth-child(odd){\n                background: #ffffff;\n            }\n            .Relation tr:nth-child(even){\n                background: #f3f1ff;\n            }\n            /* Tooltip container */\n            .djtooltip {\n            }\n            /* Tooltip text */\n            .djtooltip .djtooltiptext {\n                visibility: hidden;\n                width: 120px;\n                background-color: black;\n                color: #fff;\n                text-align: center;\n                padding: 5px 0;\n                border-radius: 6px;\n                /* Position the tooltip text - see examples below! */\n                position: absolute;\n                z-index: 1;\n            }\n            #primary {\n                font-weight: bold;\n                color: black;\n            }\n\n            #nonprimary {\n                font-weight: normal;\n                color: white;\n            }\n\n            /* Show the tooltip text when you mouse over the tooltip container */\n            .djtooltip:hover .djtooltiptext {\n                visibility: visible;\n            }\n        </style>\n        \n        \n            <div style=\"max-height:1000px;max-width:1500px;overflow:auto;\">\n            <table border=\"1\" class=\"Relation\">\n                <thead> <tr style=\"text-align: right;\"> <th> <div class=\"djtooltip\">\n                                <p id=\"primary\">calibration_info_tbl_id</p>\n                                <span class=\"djtooltiptext\"></span>\n                            </div> </th> </tr> </thead>\n                <tbody> <tr> <td>52913</td></tr><tr><td>52914</td></tr><tr><td>52915</td></tr><tr><td>52916</td></tr><tr><td>52919</td></tr><tr><td>52920</td></tr><tr><td>52921</td></tr><tr><td>52922</td></tr><tr><td>53095</td></tr><tr><td>76687</td> </tr> </tbody>\n            </table>\n            \n            <p>Total: 10</p></div>\n            "
     },
     "metadata": {},
     "execution_count": 36
    }
   ],
   "source": [
    "bdata.CalibrationInfoTbl.proj(calibration_info_tbl_id='calibrationid') - shadow_action.CalibrationInfoTbl"
   ]
  },
  {
   "cell_type": "code",
   "execution_count": 165,
   "metadata": {},
   "outputs": [
    {
     "output_type": "stream",
     "name": "stdout",
     "text": [
      "\nIncorrect dateval:\n rig_id     initials     dateval        valve          timeval     dispense     isvalid     *calibrationid target     validity    \n+--------+ +----------+ +------------+ +------------+ +---------+ +----------+ +---------+ +------------+ +--------+ +----------+\n401        ED           0000-00-00 00: left1water     0.15        2.32         0           76687          HIGH                   \n (Total: 1)\n\n\nIncorrect rig_id:\n rig_id     initials     dateval        valve          timeval     dispense     isvalid     *calibrationid target     validity    \n+--------+ +----------+ +------------+ +------------+ +---------+ +----------+ +---------+ +------------+ +--------+ +----------+\n\u0001          RE           2011-09-10 12: left1water     0.12        21.0         1           52913          LOW        PERM        \n\u0001          RE           2011-09-10 12: right1water    0.15        21.0         1           52914          LOW        PERM        \n\u0001          RE           2011-09-10 12: left1water     0.12        26.67        1           52915          HIGH       PERM        \n\u0001          RE           2011-09-10 12: right1water    0.15        26.67        1           52916          HIGH       PERM        \n\u0001          ED           2011-09-10 15: left1water     0.12        20.0         1           52919          LOW        PERM        \n\u0001          ED           2011-09-10 15: right1water    0.15        20.0         1           52920          LOW        PERM        \n\u0001          ED           2011-09-10 15: left1water     0.12        26.67        1           52921          HIGH       PERM        \n\u0001          ED           2011-09-10 15: right1water    0.15        26.67        1           52922          HIGH       PERM        \nNaN        CB           2011-09-15 12: right1water    0.15        20.0         1           53095          LOW        PERM        \n (Total: 9)\n\n"
     ]
    }
   ],
   "source": [
    "calibration_missing = bdata.CalibrationInfoTbl - shadow_action.CalibrationInfoTbl.proj(calibrationid='calibration_info_tbl_id')\n",
    "\n",
    "print('\\nIncorrect dateval:\\n', calibration_missing & 'dateval = \"0000-00-00 00:00:00\"')\n",
    "\n",
    "print('\\nIncorrect rig_id:\\n', calibration_missing & 'dateval != \"0000-00-00 00:00:00\"')"
   ]
  },
  {
   "source": [
    "## action.CalibrationInfoTbl: shadow table - new table\n"
   ],
   "cell_type": "markdown",
   "metadata": {}
  },
  {
   "cell_type": "code",
   "execution_count": 173,
   "metadata": {},
   "outputs": [
    {
     "output_type": "execute_result",
     "data": {
      "text/plain": [
       "*calibration_i\n",
       "+------------+\n",
       "3717          \n",
       "3718          \n",
       "3719          \n",
       "3720          \n",
       "3721          \n",
       "3722          \n",
       "3723          \n",
       "3724          \n",
       "3725          \n",
       "3726          \n",
       "3727          \n",
       "3728          \n",
       "   ...\n",
       " (Total: 42186)"
      ],
      "text/html": "\n        \n        <style type=\"text/css\">\n            .Relation{\n                border-collapse:collapse;\n            }\n            .Relation th{\n                background: #A0A0A0; color: #ffffff; padding:4px; border:#f0e0e0 1px solid;\n                font-weight: normal; font-family: monospace; font-size: 100%;\n            }\n            .Relation td{\n                padding:4px; border:#f0e0e0 1px solid; font-size:100%;\n            }\n            .Relation tr:nth-child(odd){\n                background: #ffffff;\n            }\n            .Relation tr:nth-child(even){\n                background: #f3f1ff;\n            }\n            /* Tooltip container */\n            .djtooltip {\n            }\n            /* Tooltip text */\n            .djtooltip .djtooltiptext {\n                visibility: hidden;\n                width: 120px;\n                background-color: black;\n                color: #fff;\n                text-align: center;\n                padding: 5px 0;\n                border-radius: 6px;\n                /* Position the tooltip text - see examples below! */\n                position: absolute;\n                z-index: 1;\n            }\n            #primary {\n                font-weight: bold;\n                color: black;\n            }\n\n            #nonprimary {\n                font-weight: normal;\n                color: white;\n            }\n\n            /* Show the tooltip text when you mouse over the tooltip container */\n            .djtooltip:hover .djtooltiptext {\n                visibility: visible;\n            }\n        </style>\n        \n        \n            <div style=\"max-height:1000px;max-width:1500px;overflow:auto;\">\n            <table border=\"1\" class=\"Relation\">\n                <thead> <tr style=\"text-align: right;\"> <th> <div class=\"djtooltip\">\n                                <p id=\"primary\">calibration_info_tbl_id</p>\n                                <span class=\"djtooltiptext\"></span>\n                            </div> </th> </tr> </thead>\n                <tbody> <tr> <td>3717</td></tr><tr><td>3718</td></tr><tr><td>3719</td></tr><tr><td>3720</td></tr><tr><td>3721</td></tr><tr><td>3722</td></tr><tr><td>3723</td></tr><tr><td>3724</td></tr><tr><td>3725</td></tr><tr><td>3726</td></tr><tr><td>3727</td></tr><tr><td>3728</td> </tr> </tbody>\n            </table>\n            <p>...</p>\n            <p>Total: 42186</p></div>\n            "
     },
     "metadata": {},
     "execution_count": 173
    }
   ],
   "source": [
    "shadow_action.CalibrationInfoTbl.proj() - new_action.CalibrationInfoTbl"
   ]
  },
  {
   "cell_type": "code",
   "execution_count": 172,
   "metadata": {},
   "outputs": [
    {
     "output_type": "stream",
     "name": "stdout",
     "text": [
      "\nMissing rigid in ratinfo.Riginfo {44, 999}\n"
     ]
    }
   ],
   "source": [
    "calibration_missing_rigid = shadow_action.CalibrationInfoTbl - new_action.CalibrationInfoTbl.proj()\n",
    "\n",
    "print('\\nMissing rigid in ratinfo.Riginfo:', set(calibration_missing_rigid.fetch('rigid')))"
   ]
  },
  {
   "source": [
    "---\n",
    "## action.Mass: source table - shadow table"
   ],
   "cell_type": "markdown",
   "metadata": {}
  },
  {
   "cell_type": "code",
   "execution_count": 39,
   "metadata": {},
   "outputs": [
    {
     "output_type": "execute_result",
     "data": {
      "text/plain": [
       "*mass_id   \n",
       "+---------+\n",
       "722475     \n",
       "270029     \n",
       "176125     \n",
       "27         \n",
       "24         \n",
       "33         \n",
       "32         \n",
       "25         \n",
       "28         \n",
       "26         \n",
       "23         \n",
       "30         \n",
       "   ...\n",
       " (Total: 360066)"
      ],
      "text/html": "\n        \n        <style type=\"text/css\">\n            .Relation{\n                border-collapse:collapse;\n            }\n            .Relation th{\n                background: #A0A0A0; color: #ffffff; padding:4px; border:#f0e0e0 1px solid;\n                font-weight: normal; font-family: monospace; font-size: 100%;\n            }\n            .Relation td{\n                padding:4px; border:#f0e0e0 1px solid; font-size:100%;\n            }\n            .Relation tr:nth-child(odd){\n                background: #ffffff;\n            }\n            .Relation tr:nth-child(even){\n                background: #f3f1ff;\n            }\n            /* Tooltip container */\n            .djtooltip {\n            }\n            /* Tooltip text */\n            .djtooltip .djtooltiptext {\n                visibility: hidden;\n                width: 120px;\n                background-color: black;\n                color: #fff;\n                text-align: center;\n                padding: 5px 0;\n                border-radius: 6px;\n                /* Position the tooltip text - see examples below! */\n                position: absolute;\n                z-index: 1;\n            }\n            #primary {\n                font-weight: bold;\n                color: black;\n            }\n\n            #nonprimary {\n                font-weight: normal;\n                color: white;\n            }\n\n            /* Show the tooltip text when you mouse over the tooltip container */\n            .djtooltip:hover .djtooltiptext {\n                visibility: visible;\n            }\n        </style>\n        \n        \n            <div style=\"max-height:1000px;max-width:1500px;overflow:auto;\">\n            <table border=\"1\" class=\"Relation\">\n                <thead> <tr style=\"text-align: right;\"> <th> <div class=\"djtooltip\">\n                                <p id=\"primary\">mass_id</p>\n                                <span class=\"djtooltiptext\"></span>\n                            </div> </th> </tr> </thead>\n                <tbody> <tr> <td>722475</td></tr><tr><td>270029</td></tr><tr><td>176125</td></tr><tr><td>27</td></tr><tr><td>24</td></tr><tr><td>33</td></tr><tr><td>32</td></tr><tr><td>25</td></tr><tr><td>28</td></tr><tr><td>26</td></tr><tr><td>23</td></tr><tr><td>30</td> </tr> </tbody>\n            </table>\n            <p>...</p>\n            <p>Total: 360066</p></div>\n            "
     },
     "metadata": {},
     "execution_count": 39
    }
   ],
   "source": [
    "ratinfo.Mass.proj(mass_id='weighing') - shadow_action.Mass"
   ]
  },
  {
   "cell_type": "code",
   "execution_count": 121,
   "metadata": {},
   "outputs": [
    {
     "output_type": "stream",
     "name": "stdout",
     "text": [
      "\n",
      "Number of `tech` initials with either zero or multiple entries in ratinfo.Contacts: 358192\n",
      "\n",
      "`tech` initials with either zero or multiple entries in ratinfo.Contacts: {'EJD', 'RL', 'TZL', 'TB', 'AB', 'SB', 'FW', 'TJ', 'TH', 'SS', 'AS', 'JW', 'MP'}\n",
      "\n",
      "Number of entries with `date = 0000-00-00` : 3\n",
      "\n",
      "Number of entries with `timeval = 0:00:00` : 1872\n"
     ]
    }
   ],
   "source": [
    "mass_missing = ratinfo.Mass - shadow_action.Mass.proj(weighing='mass_id')\n",
    "\n",
    "mass_missing_tech = (mass_missing & 'date != \"0000-00-00\"' & 'timeval != \"0:00:00\"').fetch('tech')\n",
    "\n",
    "print('\\nNumber of `tech` initials with either zero or multiple entries in ratinfo.Contacts:', len(mass_missing_tech))\n",
    "\n",
    "print('\\n`tech` initials with either zero or multiple entries in ratinfo.Contacts:', set(mass_missing_tech))\n",
    "\n",
    "print('\\nNumber of entries with `date = 0000-00-00` :', len((mass_missing & 'date = \"0000-00-00\"').proj()))\n",
    "\n",
    "print('\\nNumber of entries with `timeval = 0:00:00` :', len((mass_missing & 'timeval = \"0:00:00\"').proj()))"
   ]
  },
  {
   "source": [
    "## action.Mass: shadow table - new table"
   ],
   "cell_type": "markdown",
   "metadata": {}
  },
  {
   "cell_type": "code",
   "execution_count": 15,
   "metadata": {},
   "outputs": [
    {
     "output_type": "execute_result",
     "data": {
      "text/plain": [
       "*mass_id   \n",
       "+---------+\n",
       "778        \n",
       "864        \n",
       "982        \n",
       "1019       \n",
       "1103       \n",
       "1140       \n",
       "1220       \n",
       "1257       \n",
       "1278       \n",
       "1317       \n",
       "1396       \n",
       "1435       \n",
       "   ...\n",
       " (Total: 936)"
      ],
      "text/html": "\n        \n        <style type=\"text/css\">\n            .Relation{\n                border-collapse:collapse;\n            }\n            .Relation th{\n                background: #A0A0A0; color: #ffffff; padding:4px; border:#f0e0e0 1px solid;\n                font-weight: normal; font-family: monospace; font-size: 100%;\n            }\n            .Relation td{\n                padding:4px; border:#f0e0e0 1px solid; font-size:100%;\n            }\n            .Relation tr:nth-child(odd){\n                background: #ffffff;\n            }\n            .Relation tr:nth-child(even){\n                background: #f3f1ff;\n            }\n            /* Tooltip container */\n            .djtooltip {\n            }\n            /* Tooltip text */\n            .djtooltip .djtooltiptext {\n                visibility: hidden;\n                width: 120px;\n                background-color: black;\n                color: #fff;\n                text-align: center;\n                padding: 5px 0;\n                border-radius: 6px;\n                /* Position the tooltip text - see examples below! */\n                position: absolute;\n                z-index: 1;\n            }\n            #primary {\n                font-weight: bold;\n                color: black;\n            }\n\n            #nonprimary {\n                font-weight: normal;\n                color: white;\n            }\n\n            /* Show the tooltip text when you mouse over the tooltip container */\n            .djtooltip:hover .djtooltiptext {\n                visibility: visible;\n            }\n        </style>\n        \n        \n            <div style=\"max-height:1000px;max-width:1500px;overflow:auto;\">\n            <table border=\"1\" class=\"Relation\">\n                <thead> <tr style=\"text-align: right;\"> <th> <div class=\"djtooltip\">\n                                <p id=\"primary\">mass_id</p>\n                                <span class=\"djtooltiptext\"></span>\n                            </div> </th> </tr> </thead>\n                <tbody> <tr> <td>778</td></tr><tr><td>864</td></tr><tr><td>982</td></tr><tr><td>1019</td></tr><tr><td>1103</td></tr><tr><td>1140</td></tr><tr><td>1220</td></tr><tr><td>1257</td></tr><tr><td>1278</td></tr><tr><td>1317</td></tr><tr><td>1396</td></tr><tr><td>1435</td> </tr> </tbody>\n            </table>\n            <p>...</p>\n            <p>Total: 936</p></div>\n            "
     },
     "metadata": {},
     "execution_count": 15
    }
   ],
   "source": [
    "shadow_action.Mass.proj() - new_action.Mass"
   ]
  },
  {
   "cell_type": "code",
   "execution_count": 19,
   "metadata": {},
   "outputs": [
    {
     "output_type": "stream",
     "name": "stdout",
     "text": [
      "\n",
      "Number of `ratname` missing in bl_new_action.Mass:  27\n",
      "\n",
      "`ratname` present in ratinfo.Rats:  {'T075', 'J090', 'Z004', 'Z089', 'J096', 'Z003', 'J089'}\n",
      "\n",
      "`ratname` missing in ratinfo.Rats:  {'M084', 'E057', 'J288', 'F100', 'U011', 'M021', 'U001', 'A171', 'TANK', 'J289', 'A172', 'H054', 'H053', 'E068', 'E055', 'J148', 'B518', 'F084', 'B11', '   0'}\n",
      "\n",
      "`ratname` present in bl_new_subject.Rats:  []\n"
     ]
    }
   ],
   "source": [
    "mass_new_missing = shadow_action.Mass - new_action.Mass.proj()\n",
    "\n",
    "print('\\nNumber of `ratname` missing in bl_new_action.Mass: ', len(set(mass_new_missing.fetch('ratname'))))\n",
    "\n",
    "print('\\n`ratname` present in ratinfo.Rats: ', set((mass_new_missing & (dj.U('ratname') & ratinfo.Rats)).fetch('ratname')))\n",
    "\n",
    "print('\\n`ratname` missing in ratinfo.Rats: ', set((mass_new_missing - (dj.U('ratname') & ratinfo.Rats)).fetch('ratname')))\n",
    "\n",
    "print('\\n`ratname` present in bl_new_subject.Rats: ', (mass_new_missing & (dj.U('ratname') & new_subject.Rats)).fetch('ratname'))"
   ]
  },
  {
   "source": [
    "---\n",
    "## action.Rigwater: source table - shadow table"
   ],
   "cell_type": "markdown",
   "metadata": {}
  },
  {
   "cell_type": "code",
   "execution_count": 43,
   "metadata": {},
   "outputs": [
    {
     "output_type": "execute_result",
     "data": {
      "text/plain": [
       "*rigwater_id  \n",
       "+------------+\n",
       "1098          \n",
       "1100          \n",
       "1102          \n",
       "1104          \n",
       "1106          \n",
       "1108          \n",
       "1110          \n",
       "1112          \n",
       "1114          \n",
       "1116          \n",
       "1118          \n",
       "1120          \n",
       "   ...\n",
       " (Total: 27)"
      ],
      "text/html": "\n        \n        <style type=\"text/css\">\n            .Relation{\n                border-collapse:collapse;\n            }\n            .Relation th{\n                background: #A0A0A0; color: #ffffff; padding:4px; border:#f0e0e0 1px solid;\n                font-weight: normal; font-family: monospace; font-size: 100%;\n            }\n            .Relation td{\n                padding:4px; border:#f0e0e0 1px solid; font-size:100%;\n            }\n            .Relation tr:nth-child(odd){\n                background: #ffffff;\n            }\n            .Relation tr:nth-child(even){\n                background: #f3f1ff;\n            }\n            /* Tooltip container */\n            .djtooltip {\n            }\n            /* Tooltip text */\n            .djtooltip .djtooltiptext {\n                visibility: hidden;\n                width: 120px;\n                background-color: black;\n                color: #fff;\n                text-align: center;\n                padding: 5px 0;\n                border-radius: 6px;\n                /* Position the tooltip text - see examples below! */\n                position: absolute;\n                z-index: 1;\n            }\n            #primary {\n                font-weight: bold;\n                color: black;\n            }\n\n            #nonprimary {\n                font-weight: normal;\n                color: white;\n            }\n\n            /* Show the tooltip text when you mouse over the tooltip container */\n            .djtooltip:hover .djtooltiptext {\n                visibility: visible;\n            }\n        </style>\n        \n        \n            <div style=\"max-height:1000px;max-width:1500px;overflow:auto;\">\n            <table border=\"1\" class=\"Relation\">\n                <thead> <tr style=\"text-align: right;\"> <th> <div class=\"djtooltip\">\n                                <p id=\"primary\">rigwater_id</p>\n                                <span class=\"djtooltiptext\"></span>\n                            </div> </th> </tr> </thead>\n                <tbody> <tr> <td>1098</td></tr><tr><td>1100</td></tr><tr><td>1102</td></tr><tr><td>1104</td></tr><tr><td>1106</td></tr><tr><td>1108</td></tr><tr><td>1110</td></tr><tr><td>1112</td></tr><tr><td>1114</td></tr><tr><td>1116</td></tr><tr><td>1118</td></tr><tr><td>1120</td> </tr> </tbody>\n            </table>\n            <p>...</p>\n            <p>Total: 27</p></div>\n            "
     },
     "metadata": {},
     "execution_count": 43
    }
   ],
   "source": [
    "ratinfo.Rigwater.proj(rigwater_id='id') - shadow_action.Rigwater\n",
    "\n"
   ]
  },
  {
   "cell_type": "code",
   "execution_count": 101,
   "metadata": {},
   "outputs": [
    {
     "output_type": "stream",
     "name": "stdout",
     "text": [
      "\nNumber of entries in ratinfo.Rigwater:  27\n\nError with date: {'0000-00-00', '2017-05-00', '2017-01-00', '2016-12-00'}\n"
     ]
    }
   ],
   "source": [
    "rigwater_missing_date = ratinfo.Rigwater - shadow_action.Rigwater.proj(id='rigwater_id')\n",
    "\n",
    "print('\\nNumber of entries in ratinfo.Rigwater: ', len(rigwater_missing_date.fetch('dateval')))\n",
    "\n",
    "print('\\nError with date:', set(rigwater_missing_date.fetch('dateval')))"
   ]
  },
  {
   "source": [
    "## action.Rigwater: shadow table - new table"
   ],
   "cell_type": "markdown",
   "metadata": {}
  },
  {
   "cell_type": "code",
   "execution_count": 12,
   "metadata": {},
   "outputs": [
    {
     "output_type": "execute_result",
     "data": {
      "text/plain": [
       "*rigwater_id  \n",
       "+------------+\n",
       "1             \n",
       "2             \n",
       "166           \n",
       "4453          \n",
       "4456          \n",
       "4556          \n",
       "4557          \n",
       "4558          \n",
       "4559          \n",
       "4560          \n",
       "4561          \n",
       "8000          \n",
       "   ...\n",
       " (Total: 59)"
      ],
      "text/html": "\n        \n        <style type=\"text/css\">\n            .Relation{\n                border-collapse:collapse;\n            }\n            .Relation th{\n                background: #A0A0A0; color: #ffffff; padding:4px; border:#f0e0e0 1px solid;\n                font-weight: normal; font-family: monospace; font-size: 100%;\n            }\n            .Relation td{\n                padding:4px; border:#f0e0e0 1px solid; font-size:100%;\n            }\n            .Relation tr:nth-child(odd){\n                background: #ffffff;\n            }\n            .Relation tr:nth-child(even){\n                background: #f3f1ff;\n            }\n            /* Tooltip container */\n            .djtooltip {\n            }\n            /* Tooltip text */\n            .djtooltip .djtooltiptext {\n                visibility: hidden;\n                width: 120px;\n                background-color: black;\n                color: #fff;\n                text-align: center;\n                padding: 5px 0;\n                border-radius: 6px;\n                /* Position the tooltip text - see examples below! */\n                position: absolute;\n                z-index: 1;\n            }\n            #primary {\n                font-weight: bold;\n                color: black;\n            }\n\n            #nonprimary {\n                font-weight: normal;\n                color: white;\n            }\n\n            /* Show the tooltip text when you mouse over the tooltip container */\n            .djtooltip:hover .djtooltiptext {\n                visibility: visible;\n            }\n        </style>\n        \n        \n            <div style=\"max-height:1000px;max-width:1500px;overflow:auto;\">\n            <table border=\"1\" class=\"Relation\">\n                <thead> <tr style=\"text-align: right;\"> <th> <div class=\"djtooltip\">\n                                <p id=\"primary\">rigwater_id</p>\n                                <span class=\"djtooltiptext\"></span>\n                            </div> </th> </tr> </thead>\n                <tbody> <tr> <td>1</td></tr><tr><td>2</td></tr><tr><td>166</td></tr><tr><td>4453</td></tr><tr><td>4456</td></tr><tr><td>4556</td></tr><tr><td>4557</td></tr><tr><td>4558</td></tr><tr><td>4559</td></tr><tr><td>4560</td></tr><tr><td>4561</td></tr><tr><td>8000</td> </tr> </tbody>\n            </table>\n            <p>...</p>\n            <p>Total: 59</p></div>\n            "
     },
     "metadata": {},
     "execution_count": 12
    }
   ],
   "source": [
    "shadow_action.Rigwater.proj() - new_action.Rigwater\n"
   ]
  },
  {
   "cell_type": "code",
   "execution_count": 13,
   "metadata": {},
   "outputs": [
    {
     "output_type": "stream",
     "name": "stdout",
     "text": [
      "\n",
      "Number of entries in ratinfo.Rigwater:  59\n",
      "\n",
      "Missing ratname in ratinfo.Rats:  {'X000', 'Z999', 'BROK', 'F100', 'F084', 'M000', '100', 'ratn', 'F066', 'K999'}\n"
     ]
    }
   ],
   "source": [
    "rigwater_missing_ratname = ratinfo.Rigwater & (shadow_action.Rigwater.proj(id='rigwater_id') - new_action.Rigwater.proj(id='rigwater_id'))\n",
    "\n",
    "print('\\nNumber of entries in ratinfo.Rigwater: ', len(rigwater_missing_ratname.fetch('ratname')))\n",
    "\n",
    "print('\\nMissing ratname in ratinfo.Rats: ', set(rigwater_missing_ratname.fetch('ratname')))"
   ]
  },
  {
   "source": [
    "---\n",
    "## action.Schedule: source table - shadow table\n"
   ],
   "cell_type": "markdown",
   "metadata": {}
  },
  {
   "cell_type": "code",
   "execution_count": 10,
   "metadata": {},
   "outputs": [
    {
     "output_type": "execute_result",
     "data": {
      "text/plain": [
       "*schedule_id  \n",
       "+------------+\n",
       "136150        \n",
       "136151        \n",
       "136152        \n",
       "136153        \n",
       "136154        \n",
       "220996        \n",
       "221001        \n",
       "221063        \n",
       " (Total: 8)"
      ],
      "text/html": "\n        \n        <style type=\"text/css\">\n            .Relation{\n                border-collapse:collapse;\n            }\n            .Relation th{\n                background: #A0A0A0; color: #ffffff; padding:4px; border:#f0e0e0 1px solid;\n                font-weight: normal; font-family: monospace; font-size: 100%;\n            }\n            .Relation td{\n                padding:4px; border:#f0e0e0 1px solid; font-size:100%;\n            }\n            .Relation tr:nth-child(odd){\n                background: #ffffff;\n            }\n            .Relation tr:nth-child(even){\n                background: #f3f1ff;\n            }\n            /* Tooltip container */\n            .djtooltip {\n            }\n            /* Tooltip text */\n            .djtooltip .djtooltiptext {\n                visibility: hidden;\n                width: 120px;\n                background-color: black;\n                color: #fff;\n                text-align: center;\n                padding: 5px 0;\n                border-radius: 6px;\n                /* Position the tooltip text - see examples below! */\n                position: absolute;\n                z-index: 1;\n            }\n            #primary {\n                font-weight: bold;\n                color: black;\n            }\n\n            #nonprimary {\n                font-weight: normal;\n                color: white;\n            }\n\n            /* Show the tooltip text when you mouse over the tooltip container */\n            .djtooltip:hover .djtooltiptext {\n                visibility: visible;\n            }\n        </style>\n        \n        \n            <div style=\"max-height:1000px;max-width:1500px;overflow:auto;\">\n            <table border=\"1\" class=\"Relation\">\n                <thead> <tr style=\"text-align: right;\"> <th> <div class=\"djtooltip\">\n                                <p id=\"primary\">schedule_id</p>\n                                <span class=\"djtooltiptext\"></span>\n                            </div> </th> </tr> </thead>\n                <tbody> <tr> <td>136150</td></tr><tr><td>136151</td></tr><tr><td>136152</td></tr><tr><td>136153</td></tr><tr><td>136154</td></tr><tr><td>220996</td></tr><tr><td>221001</td></tr><tr><td>221063</td> </tr> </tbody>\n            </table>\n            \n            <p>Total: 8</p></div>\n            "
     },
     "metadata": {},
     "execution_count": 10
    }
   ],
   "source": [
    "ratinfo.Schedule.proj(schedule_id='schedentryid') - shadow_action.Schedule"
   ]
  },
  {
   "cell_type": "code",
   "execution_count": 94,
   "metadata": {},
   "outputs": [
    {
     "output_type": "stream",
     "name": "stdout",
     "text": [
      "Error with date: {'0000-00-00'}\n"
     ]
    }
   ],
   "source": [
    "schedule_missing = ratinfo.Schedule - shadow_action.Schedule.proj(schedentryid='schedule_id')\n",
    "\n",
    "print('Error with date:', set(schedule_missing.fetch('date')))"
   ]
  },
  {
   "source": [
    "## action.Schedule: shadow table - new table"
   ],
   "cell_type": "markdown",
   "metadata": {}
  },
  {
   "cell_type": "code",
   "execution_count": 11,
   "metadata": {},
   "outputs": [
    {
     "output_type": "execute_result",
     "data": {
      "text/plain": [
       "*schedule_id  \n",
       "+------------+\n",
       "\n",
       " (Total: 0)"
      ],
      "text/html": "\n        \n        <style type=\"text/css\">\n            .Relation{\n                border-collapse:collapse;\n            }\n            .Relation th{\n                background: #A0A0A0; color: #ffffff; padding:4px; border:#f0e0e0 1px solid;\n                font-weight: normal; font-family: monospace; font-size: 100%;\n            }\n            .Relation td{\n                padding:4px; border:#f0e0e0 1px solid; font-size:100%;\n            }\n            .Relation tr:nth-child(odd){\n                background: #ffffff;\n            }\n            .Relation tr:nth-child(even){\n                background: #f3f1ff;\n            }\n            /* Tooltip container */\n            .djtooltip {\n            }\n            /* Tooltip text */\n            .djtooltip .djtooltiptext {\n                visibility: hidden;\n                width: 120px;\n                background-color: black;\n                color: #fff;\n                text-align: center;\n                padding: 5px 0;\n                border-radius: 6px;\n                /* Position the tooltip text - see examples below! */\n                position: absolute;\n                z-index: 1;\n            }\n            #primary {\n                font-weight: bold;\n                color: black;\n            }\n\n            #nonprimary {\n                font-weight: normal;\n                color: white;\n            }\n\n            /* Show the tooltip text when you mouse over the tooltip container */\n            .djtooltip:hover .djtooltiptext {\n                visibility: visible;\n            }\n        </style>\n        \n        \n            <div style=\"max-height:1000px;max-width:1500px;overflow:auto;\">\n            <table border=\"1\" class=\"Relation\">\n                <thead> <tr style=\"text-align: right;\"> <th> <div class=\"djtooltip\">\n                                <p id=\"primary\">schedule_id</p>\n                                <span class=\"djtooltiptext\"></span>\n                            </div> </th> </tr> </thead>\n                <tbody> <tr>  </tr> </tbody>\n            </table>\n            \n            <p>Total: 0</p></div>\n            "
     },
     "metadata": {},
     "execution_count": 11
    }
   ],
   "source": [
    "shadow_action.Schedule.proj() - new_action.Schedule"
   ]
  },
  {
   "source": [
    "---\n",
    "## action.Surgery: source table - shadow table"
   ],
   "cell_type": "markdown",
   "metadata": {}
  },
  {
   "cell_type": "code",
   "execution_count": 59,
   "metadata": {},
   "outputs": [
    {
     "output_type": "execute_result",
     "data": {
      "text/plain": [
       "*surgery_old_i\n",
       "+------------+\n",
       "1             \n",
       "2             \n",
       "56            \n",
       "115           \n",
       "117           \n",
       "119           \n",
       "120           \n",
       "163           \n",
       "192           \n",
       "229           \n",
       "230           \n",
       "231           \n",
       " (Total: 12)"
      ],
      "text/html": "\n        \n        <style type=\"text/css\">\n            .Relation{\n                border-collapse:collapse;\n            }\n            .Relation th{\n                background: #A0A0A0; color: #ffffff; padding:4px; border:#f0e0e0 1px solid;\n                font-weight: normal; font-family: monospace; font-size: 100%;\n            }\n            .Relation td{\n                padding:4px; border:#f0e0e0 1px solid; font-size:100%;\n            }\n            .Relation tr:nth-child(odd){\n                background: #ffffff;\n            }\n            .Relation tr:nth-child(even){\n                background: #f3f1ff;\n            }\n            /* Tooltip container */\n            .djtooltip {\n            }\n            /* Tooltip text */\n            .djtooltip .djtooltiptext {\n                visibility: hidden;\n                width: 120px;\n                background-color: black;\n                color: #fff;\n                text-align: center;\n                padding: 5px 0;\n                border-radius: 6px;\n                /* Position the tooltip text - see examples below! */\n                position: absolute;\n                z-index: 1;\n            }\n            #primary {\n                font-weight: bold;\n                color: black;\n            }\n\n            #nonprimary {\n                font-weight: normal;\n                color: white;\n            }\n\n            /* Show the tooltip text when you mouse over the tooltip container */\n            .djtooltip:hover .djtooltiptext {\n                visibility: visible;\n            }\n        </style>\n        \n        \n            <div style=\"max-height:1000px;max-width:1500px;overflow:auto;\">\n            <table border=\"1\" class=\"Relation\">\n                <thead> <tr style=\"text-align: right;\"> <th> <div class=\"djtooltip\">\n                                <p id=\"primary\">surgery_old_id</p>\n                                <span class=\"djtooltiptext\"></span>\n                            </div> </th> </tr> </thead>\n                <tbody> <tr> <td>1</td></tr><tr><td>2</td></tr><tr><td>56</td></tr><tr><td>115</td></tr><tr><td>117</td></tr><tr><td>119</td></tr><tr><td>120</td></tr><tr><td>163</td></tr><tr><td>192</td></tr><tr><td>229</td></tr><tr><td>230</td></tr><tr><td>231</td> </tr> </tbody>\n            </table>\n            \n            <p>Total: 12</p></div>\n            "
     },
     "metadata": {},
     "execution_count": 59
    }
   ],
   "source": [
    "ratinfo.Surgery.proj(surgery_old_id='id') - shadow_action.Surgery"
   ]
  },
  {
   "cell_type": "code",
   "execution_count": 182,
   "metadata": {},
   "outputs": [
    {
     "output_type": "stream",
     "name": "stdout",
     "text": [
      "\nIncorrect date:  {'0000-00-00'}\n"
     ]
    }
   ],
   "source": [
    "surgery_missing = ratinfo.Surgery - shadow_action.Surgery.proj(id='surgery_old_id')\n",
    "\n",
    "print('\\nIncorrect date: ', set(surgery_missing.fetch('date')))"
   ]
  },
  {
   "source": [
    "## action.Surgery: shadow table - new table"
   ],
   "cell_type": "markdown",
   "metadata": {}
  },
  {
   "cell_type": "code",
   "execution_count": 6,
   "metadata": {},
   "outputs": [
    {
     "output_type": "execute_result",
     "data": {
      "text/plain": [
       "*surgery_old_i\n",
       "+------------+\n",
       "53            \n",
       "121           \n",
       "122           \n",
       "159           \n",
       "160           \n",
       "179           \n",
       "263           \n",
       " (Total: 7)"
      ],
      "text/html": "\n        \n        <style type=\"text/css\">\n            .Relation{\n                border-collapse:collapse;\n            }\n            .Relation th{\n                background: #A0A0A0; color: #ffffff; padding:4px; border:#f0e0e0 1px solid;\n                font-weight: normal; font-family: monospace; font-size: 100%;\n            }\n            .Relation td{\n                padding:4px; border:#f0e0e0 1px solid; font-size:100%;\n            }\n            .Relation tr:nth-child(odd){\n                background: #ffffff;\n            }\n            .Relation tr:nth-child(even){\n                background: #f3f1ff;\n            }\n            /* Tooltip container */\n            .djtooltip {\n            }\n            /* Tooltip text */\n            .djtooltip .djtooltiptext {\n                visibility: hidden;\n                width: 120px;\n                background-color: black;\n                color: #fff;\n                text-align: center;\n                padding: 5px 0;\n                border-radius: 6px;\n                /* Position the tooltip text - see examples below! */\n                position: absolute;\n                z-index: 1;\n            }\n            #primary {\n                font-weight: bold;\n                color: black;\n            }\n\n            #nonprimary {\n                font-weight: normal;\n                color: white;\n            }\n\n            /* Show the tooltip text when you mouse over the tooltip container */\n            .djtooltip:hover .djtooltiptext {\n                visibility: visible;\n            }\n        </style>\n        \n        \n            <div style=\"max-height:1000px;max-width:1500px;overflow:auto;\">\n            <table border=\"1\" class=\"Relation\">\n                <thead> <tr style=\"text-align: right;\"> <th> <div class=\"djtooltip\">\n                                <p id=\"primary\">surgery_old_id</p>\n                                <span class=\"djtooltiptext\"></span>\n                            </div> </th> </tr> </thead>\n                <tbody> <tr> <td>53</td></tr><tr><td>121</td></tr><tr><td>122</td></tr><tr><td>159</td></tr><tr><td>160</td></tr><tr><td>179</td></tr><tr><td>263</td> </tr> </tbody>\n            </table>\n            \n            <p>Total: 7</p></div>\n            "
     },
     "metadata": {},
     "execution_count": 6
    }
   ],
   "source": [
    "shadow_action.Surgery.proj() - new_action.Surgery"
   ]
  },
  {
   "cell_type": "code",
   "execution_count": 7,
   "metadata": {},
   "outputs": [
    {
     "output_type": "stream",
     "name": "stdout",
     "text": [
      "\nDuplicate primary key for new table (ratname, surgery_date, surgery_starttime): W055, W009\n\n`ratname` not in ratinfo.Rats: ['T09' 'Z58' 'Z60' 'A280']\n"
     ]
    }
   ],
   "source": [
    "print('\\nDuplicate primary key for new table (ratname, surgery_date, surgery_starttime): W055, W009')\n",
    "\n",
    "surgery_missing_ratname = (shadow_action.Surgery & (shadow_action.Surgery.proj() - new_action.Surgery) & 'ratname != \"W009\"' & 'ratname != \"W055\"').fetch('ratname')\n",
    "\n",
    "print('\\n`ratname` not in ratinfo.Rats:', surgery_missing_ratname)"
   ]
  },
  {
   "source": [
    "---\n",
    "## action.TechSchedule: source table - shadow table\n"
   ],
   "cell_type": "markdown",
   "metadata": {}
  },
  {
   "cell_type": "code",
   "execution_count": 60,
   "metadata": {},
   "outputs": [
    {
     "output_type": "execute_result",
     "data": {
      "text/plain": [
       "*scheduleid   \n",
       "+------------+\n",
       "810           \n",
       " (Total: 1)"
      ],
      "text/html": "\n        \n        <style type=\"text/css\">\n            .Relation{\n                border-collapse:collapse;\n            }\n            .Relation th{\n                background: #A0A0A0; color: #ffffff; padding:4px; border:#f0e0e0 1px solid;\n                font-weight: normal; font-family: monospace; font-size: 100%;\n            }\n            .Relation td{\n                padding:4px; border:#f0e0e0 1px solid; font-size:100%;\n            }\n            .Relation tr:nth-child(odd){\n                background: #ffffff;\n            }\n            .Relation tr:nth-child(even){\n                background: #f3f1ff;\n            }\n            /* Tooltip container */\n            .djtooltip {\n            }\n            /* Tooltip text */\n            .djtooltip .djtooltiptext {\n                visibility: hidden;\n                width: 120px;\n                background-color: black;\n                color: #fff;\n                text-align: center;\n                padding: 5px 0;\n                border-radius: 6px;\n                /* Position the tooltip text - see examples below! */\n                position: absolute;\n                z-index: 1;\n            }\n            #primary {\n                font-weight: bold;\n                color: black;\n            }\n\n            #nonprimary {\n                font-weight: normal;\n                color: white;\n            }\n\n            /* Show the tooltip text when you mouse over the tooltip container */\n            .djtooltip:hover .djtooltiptext {\n                visibility: visible;\n            }\n        </style>\n        \n        \n            <div style=\"max-height:1000px;max-width:1500px;overflow:auto;\">\n            <table border=\"1\" class=\"Relation\">\n                <thead> <tr style=\"text-align: right;\"> <th> <div class=\"djtooltip\">\n                                <p id=\"primary\">scheduleid</p>\n                                <span class=\"djtooltiptext\"></span>\n                            </div> </th> </tr> </thead>\n                <tbody> <tr> <td>810</td> </tr> </tbody>\n            </table>\n            \n            <p>Total: 1</p></div>\n            "
     },
     "metadata": {},
     "execution_count": 60
    }
   ],
   "source": [
    "ratinfo.TechSchedule.proj() - shadow_action.TechSchedule\n"
   ]
  },
  {
   "cell_type": "code",
   "execution_count": 95,
   "metadata": {},
   "outputs": [
    {
     "output_type": "stream",
     "name": "stdout",
     "text": [
      "Error with date:\n date           day     overnight     *scheduleid    morning     evening    \n+------------+ +-----+ +-----------+ +------------+ +---------+ +---------+\n0000-00-00             Adrian        810            Klaus       Jovanna    \n (Total: 1)\n\n"
     ]
    }
   ],
   "source": [
    "techschedule_missing = ratinfo.TechSchedule & (ratinfo.TechSchedule.proj() - shadow_action.TechSchedule)\n",
    "\n",
    "print('Error with date:\\n', techschedule_missing)"
   ]
  },
  {
   "source": [
    "## action.TechSchedule: shadow table - new table"
   ],
   "cell_type": "markdown",
   "metadata": {}
  },
  {
   "cell_type": "code",
   "execution_count": 63,
   "metadata": {},
   "outputs": [
    {
     "output_type": "execute_result",
     "data": {
      "text/plain": [
       "*scheduleid   \n",
       "+------------+\n",
       "\n",
       " (Total: 0)"
      ],
      "text/html": "\n        \n        <style type=\"text/css\">\n            .Relation{\n                border-collapse:collapse;\n            }\n            .Relation th{\n                background: #A0A0A0; color: #ffffff; padding:4px; border:#f0e0e0 1px solid;\n                font-weight: normal; font-family: monospace; font-size: 100%;\n            }\n            .Relation td{\n                padding:4px; border:#f0e0e0 1px solid; font-size:100%;\n            }\n            .Relation tr:nth-child(odd){\n                background: #ffffff;\n            }\n            .Relation tr:nth-child(even){\n                background: #f3f1ff;\n            }\n            /* Tooltip container */\n            .djtooltip {\n            }\n            /* Tooltip text */\n            .djtooltip .djtooltiptext {\n                visibility: hidden;\n                width: 120px;\n                background-color: black;\n                color: #fff;\n                text-align: center;\n                padding: 5px 0;\n                border-radius: 6px;\n                /* Position the tooltip text - see examples below! */\n                position: absolute;\n                z-index: 1;\n            }\n            #primary {\n                font-weight: bold;\n                color: black;\n            }\n\n            #nonprimary {\n                font-weight: normal;\n                color: white;\n            }\n\n            /* Show the tooltip text when you mouse over the tooltip container */\n            .djtooltip:hover .djtooltiptext {\n                visibility: visible;\n            }\n        </style>\n        \n        \n            <div style=\"max-height:1000px;max-width:1500px;overflow:auto;\">\n            <table border=\"1\" class=\"Relation\">\n                <thead> <tr style=\"text-align: right;\"> <th> <div class=\"djtooltip\">\n                                <p id=\"primary\">scheduleid</p>\n                                <span class=\"djtooltiptext\"></span>\n                            </div> </th> </tr> </thead>\n                <tbody> <tr>  </tr> </tbody>\n            </table>\n            \n            <p>Total: 0</p></div>\n            "
     },
     "metadata": {},
     "execution_count": 63
    }
   ],
   "source": [
    "shadow_action.TechSchedule.proj() - new_action.TechSchedule\n",
    "\n"
   ]
  },
  {
   "source": [
    "---\n",
    "## action.Technotes: source table - shadow table"
   ],
   "cell_type": "markdown",
   "metadata": {}
  },
  {
   "cell_type": "code",
   "execution_count": 65,
   "metadata": {},
   "outputs": [
    {
     "output_type": "execute_result",
     "data": {
      "text/plain": [
       "*technote_id  \n",
       "+------------+\n",
       "\n",
       " (Total: 0)"
      ],
      "text/html": "\n        \n        <style type=\"text/css\">\n            .Relation{\n                border-collapse:collapse;\n            }\n            .Relation th{\n                background: #A0A0A0; color: #ffffff; padding:4px; border:#f0e0e0 1px solid;\n                font-weight: normal; font-family: monospace; font-size: 100%;\n            }\n            .Relation td{\n                padding:4px; border:#f0e0e0 1px solid; font-size:100%;\n            }\n            .Relation tr:nth-child(odd){\n                background: #ffffff;\n            }\n            .Relation tr:nth-child(even){\n                background: #f3f1ff;\n            }\n            /* Tooltip container */\n            .djtooltip {\n            }\n            /* Tooltip text */\n            .djtooltip .djtooltiptext {\n                visibility: hidden;\n                width: 120px;\n                background-color: black;\n                color: #fff;\n                text-align: center;\n                padding: 5px 0;\n                border-radius: 6px;\n                /* Position the tooltip text - see examples below! */\n                position: absolute;\n                z-index: 1;\n            }\n            #primary {\n                font-weight: bold;\n                color: black;\n            }\n\n            #nonprimary {\n                font-weight: normal;\n                color: white;\n            }\n\n            /* Show the tooltip text when you mouse over the tooltip container */\n            .djtooltip:hover .djtooltiptext {\n                visibility: visible;\n            }\n        </style>\n        \n        \n            <div style=\"max-height:1000px;max-width:1500px;overflow:auto;\">\n            <table border=\"1\" class=\"Relation\">\n                <thead> <tr style=\"text-align: right;\"> <th> <div class=\"djtooltip\">\n                                <p id=\"primary\">technote_id</p>\n                                <span class=\"djtooltiptext\"></span>\n                            </div> </th> </tr> </thead>\n                <tbody> <tr>  </tr> </tbody>\n            </table>\n            \n            <p>Total: 0</p></div>\n            "
     },
     "metadata": {},
     "execution_count": 65
    }
   ],
   "source": [
    "ratinfo.Technotes.proj(technote_id='technoteid') - shadow_action.Technotes\n"
   ]
  },
  {
   "source": [
    "## action.Technotes: shadow table - new table"
   ],
   "cell_type": "markdown",
   "metadata": {}
  },
  {
   "cell_type": "code",
   "execution_count": 66,
   "metadata": {},
   "outputs": [
    {
     "output_type": "execute_result",
     "data": {
      "text/plain": [
       "*technote_id  \n",
       "+------------+\n",
       "\n",
       " (Total: 0)"
      ],
      "text/html": "\n        \n        <style type=\"text/css\">\n            .Relation{\n                border-collapse:collapse;\n            }\n            .Relation th{\n                background: #A0A0A0; color: #ffffff; padding:4px; border:#f0e0e0 1px solid;\n                font-weight: normal; font-family: monospace; font-size: 100%;\n            }\n            .Relation td{\n                padding:4px; border:#f0e0e0 1px solid; font-size:100%;\n            }\n            .Relation tr:nth-child(odd){\n                background: #ffffff;\n            }\n            .Relation tr:nth-child(even){\n                background: #f3f1ff;\n            }\n            /* Tooltip container */\n            .djtooltip {\n            }\n            /* Tooltip text */\n            .djtooltip .djtooltiptext {\n                visibility: hidden;\n                width: 120px;\n                background-color: black;\n                color: #fff;\n                text-align: center;\n                padding: 5px 0;\n                border-radius: 6px;\n                /* Position the tooltip text - see examples below! */\n                position: absolute;\n                z-index: 1;\n            }\n            #primary {\n                font-weight: bold;\n                color: black;\n            }\n\n            #nonprimary {\n                font-weight: normal;\n                color: white;\n            }\n\n            /* Show the tooltip text when you mouse over the tooltip container */\n            .djtooltip:hover .djtooltiptext {\n                visibility: visible;\n            }\n        </style>\n        \n        \n            <div style=\"max-height:1000px;max-width:1500px;overflow:auto;\">\n            <table border=\"1\" class=\"Relation\">\n                <thead> <tr style=\"text-align: right;\"> <th> <div class=\"djtooltip\">\n                                <p id=\"primary\">technote_id</p>\n                                <span class=\"djtooltiptext\"></span>\n                            </div> </th> </tr> </thead>\n                <tbody> <tr>  </tr> </tbody>\n            </table>\n            \n            <p>Total: 0</p></div>\n            "
     },
     "metadata": {},
     "execution_count": 66
    }
   ],
   "source": [
    "shadow_action.Technotes.proj() - new_action.Technotes\n"
   ]
  },
  {
   "source": [
    "---\n",
    "## action.Water: source table - shadow table"
   ],
   "cell_type": "markdown",
   "metadata": {}
  },
  {
   "cell_type": "code",
   "execution_count": 4,
   "metadata": {},
   "outputs": [
    {
     "output_type": "execute_result",
     "data": {
      "text/plain": [
       "*water_id   \n",
       "+----------+\n",
       "455474      \n",
       "455475      \n",
       "455476      \n",
       "455477      \n",
       "455479      \n",
       " (Total: 5)"
      ],
      "text/html": "\n        \n        <style type=\"text/css\">\n            .Relation{\n                border-collapse:collapse;\n            }\n            .Relation th{\n                background: #A0A0A0; color: #ffffff; padding:4px; border:#f0e0e0 1px solid;\n                font-weight: normal; font-family: monospace; font-size: 100%;\n            }\n            .Relation td{\n                padding:4px; border:#f0e0e0 1px solid; font-size:100%;\n            }\n            .Relation tr:nth-child(odd){\n                background: #ffffff;\n            }\n            .Relation tr:nth-child(even){\n                background: #f3f1ff;\n            }\n            /* Tooltip container */\n            .djtooltip {\n            }\n            /* Tooltip text */\n            .djtooltip .djtooltiptext {\n                visibility: hidden;\n                width: 120px;\n                background-color: black;\n                color: #fff;\n                text-align: center;\n                padding: 5px 0;\n                border-radius: 6px;\n                /* Position the tooltip text - see examples below! */\n                position: absolute;\n                z-index: 1;\n            }\n            #primary {\n                font-weight: bold;\n                color: black;\n            }\n\n            #nonprimary {\n                font-weight: normal;\n                color: white;\n            }\n\n            /* Show the tooltip text when you mouse over the tooltip container */\n            .djtooltip:hover .djtooltiptext {\n                visibility: visible;\n            }\n        </style>\n        \n        \n            <div style=\"max-height:1000px;max-width:1500px;overflow:auto;\">\n            <table border=\"1\" class=\"Relation\">\n                <thead> <tr style=\"text-align: right;\"> <th> <div class=\"djtooltip\">\n                                <p id=\"primary\">water_id</p>\n                                <span class=\"djtooltiptext\"></span>\n                            </div> </th> </tr> </thead>\n                <tbody> <tr> <td>455474</td></tr><tr><td>455475</td></tr><tr><td>455476</td></tr><tr><td>455477</td></tr><tr><td>455479</td> </tr> </tbody>\n            </table>\n            \n            <p>Total: 5</p></div>\n            "
     },
     "metadata": {},
     "execution_count": 4
    }
   ],
   "source": [
    "ratinfo.Water.proj(water_id='watering') - shadow_action.Water"
   ]
  },
  {
   "cell_type": "code",
   "execution_count": 71,
   "metadata": {},
   "outputs": [
    {
     "output_type": "stream",
     "name": "stdout",
     "text": [
      "Error with date: {'0000-00-00'}\n"
     ]
    }
   ],
   "source": [
    "water_missing = ratinfo.Water - shadow_action.Water.proj(watering='water_id')\n",
    "print('Error with date:', set(water_missing.fetch('date')))\n"
   ]
  },
  {
   "source": [
    "## action.Water: shadow table - new table"
   ],
   "cell_type": "markdown",
   "metadata": {}
  },
  {
   "cell_type": "code",
   "execution_count": 2,
   "metadata": {},
   "outputs": [
    {
     "output_type": "execute_result",
     "data": {
      "text/plain": [
       "*water_id   \n",
       "+----------+\n",
       "3384        \n",
       "3516        \n",
       "3517        \n",
       "4281        \n",
       "4282        \n",
       "4403        \n",
       "4404        \n",
       "4503        \n",
       "4504        \n",
       "4603        \n",
       "4604        \n",
       "4740        \n",
       "   ...\n",
       " (Total: 4637)"
      ],
      "text/html": "\n        \n        <style type=\"text/css\">\n            .Relation{\n                border-collapse:collapse;\n            }\n            .Relation th{\n                background: #A0A0A0; color: #ffffff; padding:4px; border:#f0e0e0 1px solid;\n                font-weight: normal; font-family: monospace; font-size: 100%;\n            }\n            .Relation td{\n                padding:4px; border:#f0e0e0 1px solid; font-size:100%;\n            }\n            .Relation tr:nth-child(odd){\n                background: #ffffff;\n            }\n            .Relation tr:nth-child(even){\n                background: #f3f1ff;\n            }\n            /* Tooltip container */\n            .djtooltip {\n            }\n            /* Tooltip text */\n            .djtooltip .djtooltiptext {\n                visibility: hidden;\n                width: 120px;\n                background-color: black;\n                color: #fff;\n                text-align: center;\n                padding: 5px 0;\n                border-radius: 6px;\n                /* Position the tooltip text - see examples below! */\n                position: absolute;\n                z-index: 1;\n            }\n            #primary {\n                font-weight: bold;\n                color: black;\n            }\n\n            #nonprimary {\n                font-weight: normal;\n                color: white;\n            }\n\n            /* Show the tooltip text when you mouse over the tooltip container */\n            .djtooltip:hover .djtooltiptext {\n                visibility: visible;\n            }\n        </style>\n        \n        \n            <div style=\"max-height:1000px;max-width:1500px;overflow:auto;\">\n            <table border=\"1\" class=\"Relation\">\n                <thead> <tr style=\"text-align: right;\"> <th> <div class=\"djtooltip\">\n                                <p id=\"primary\">water_id</p>\n                                <span class=\"djtooltiptext\"></span>\n                            </div> </th> </tr> </thead>\n                <tbody> <tr> <td>3384</td></tr><tr><td>3516</td></tr><tr><td>3517</td></tr><tr><td>4281</td></tr><tr><td>4282</td></tr><tr><td>4403</td></tr><tr><td>4404</td></tr><tr><td>4503</td></tr><tr><td>4504</td></tr><tr><td>4603</td></tr><tr><td>4604</td></tr><tr><td>4740</td> </tr> </tbody>\n            </table>\n            <p>...</p>\n            <p>Total: 4637</p></div>\n            "
     },
     "metadata": {},
     "execution_count": 2
    }
   ],
   "source": [
    "shadow_action.Water.proj() - new_action.Water"
   ]
  },
  {
   "cell_type": "code",
   "execution_count": 13,
   "metadata": {},
   "outputs": [
    {
     "output_type": "stream",
     "name": "stdout",
     "text": [
      "\n",
      "Number of `ratname` missing in bl_new_action.Water:  50\n",
      "\n",
      "`ratname` present in ratinfo.Rats:  {'T075', 'J090', 'Z004', 'Z089', 'J096', 'Z003', 'J089'}\n",
      "\n",
      "`ratname` missing in ratinfo.Rats:  {'M084', 'F084', '`', 'U005', 'E057', 'J288', 'F100', 'S191', 'U011', 'Z130', 'M021', 'F133', 'U001', 'BROK', 'A171', '0058', 'U012', 'U006', 'U019', 'TANK', 'U030', 'F132', 'CO64', 'J289', '0014', 'U018', 'U029', 'U010', 'U015', 'U032', 'A172', 'H054', 'B010', 'H053', 'E068', 'U016', 'U021', 'E055', 'J148', 'U034', '0048', 'U017', 'U009'}\n",
      "\n",
      "`ratname` present in bl_new_subject.Rats:  []\n"
     ]
    }
   ],
   "source": [
    "water_missing = shadow_action.Water - new_action.Water.proj()\n",
    "\n",
    "print('\\nNumber of `ratname` missing in bl_new_action.Water: ', len(set(water_missing.fetch('ratname'))))\n",
    "\n",
    "print('\\n`ratname` present in ratinfo.Rats: ', set((water_missing & (dj.U('ratname') & ratinfo.Rats)).fetch('ratname')))\n",
    "\n",
    "print('\\n`ratname` missing in ratinfo.Rats: ', set((water_missing - (dj.U('ratname') & ratinfo.Rats)).fetch('ratname')))\n",
    "\n",
    "print('\\n`ratname` present in bl_new_subject.Rats: ', (water_missing & (dj.U('ratname') & new_subject.Rats)).fetch('ratname'))"
   ]
  },
  {
   "cell_type": "code",
   "execution_count": null,
   "metadata": {},
   "outputs": [],
   "source": []
  }
 ]
}