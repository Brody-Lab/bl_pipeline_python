{
 "cells": [
  {
   "cell_type": "markdown",
   "metadata": {},
   "source": [
    "# Ingest ephys session path on bl_new_acquisition.acquisition_sessions table"
   ]
  },
  {
   "cell_type": "code",
   "execution_count": 1,
   "metadata": {},
   "outputs": [
    {
     "name": "stdout",
     "output_type": "stream",
     "text": [
      "Local configuration file found !!, no need to run the configuration (unless configuration has changed)\n"
     ]
    }
   ],
   "source": [
    "from scripts.conf_file_finding import try_find_conf_file\n",
    "try_find_conf_file()"
   ]
  },
  {
   "cell_type": "markdown",
   "metadata": {},
   "source": [
    "## Connection to DB"
   ]
  },
  {
   "cell_type": "code",
   "execution_count": 2,
   "metadata": {},
   "outputs": [
    {
     "name": "stdout",
     "output_type": "stream",
     "text": [
      "Connecting alvaros@datajoint01.pni.princeton.edu:3306\n"
     ]
    }
   ],
   "source": [
    "import datajoint as dj\n",
    "import pandas as pd\n",
    "import utility.path_utility as pu\n",
    "import os\n",
    "\n",
    "bdata          = dj.create_virtual_module('bdata', 'bl_bdata')\n",
    "shadow_acquisition = dj.create_virtual_module('shadow_acquisition', 'bl_shadow_acquisition')\n",
    "new_acquisition = dj.create_virtual_module('new_acquisition', 'bl_new_acquisition')\n",
    "new_lab = dj.create_virtual_module('new_lav', 'bl_new_lab')\n",
    "ratinfo        = dj.create_virtual_module('ratinfo', 'bl_ratinfo')"
   ]
  },
  {
   "cell_type": "markdown",
   "metadata": {},
   "source": [
    "## Get all sessions info"
   ]
  },
  {
   "cell_type": "code",
   "execution_count": 3,
   "metadata": {},
   "outputs": [],
   "source": [
    "list_sessions_fields = ['sessid', 'session_rat', 'session_userid', 'session_rigid', 'session_date']\n",
    "sessions_df = pd.DataFrame(new_acquisition.Sessions.fetch(*list_sessions_fields, order_by='sessid desc', as_dict=True))\n",
    "list_contacts_fields = ['user_id', 'experimenter']\n",
    "contact_df = pd.DataFrame(new_lab.Contacts.fetch(*list_contacts_fields, as_dict=True))\n",
    "sessions_df = sessions_df.merge(contact_df, left_on='session_userid', right_on='user_id')\n",
    "sessions_df['session_date'] = sessions_df['session_date'].astype('str')"
   ]
  },
  {
   "cell_type": "markdown",
   "metadata": {},
   "source": [
    "# 1. Raw session processing"
   ]
  },
  {
   "cell_type": "markdown",
   "metadata": {},
   "source": [
    "## 1.1 Construct and find nominal paths"
   ]
  },
  {
   "cell_type": "code",
   "execution_count": null,
   "metadata": {},
   "outputs": [],
   "source": [
    "ephys_root = dj.config['custom']['ephys_root_data_dir']\n",
    "sessions_df['subject_path'] = sessions_df.apply(lambda x: pu.combine_str_path(ephys_root, [x['experimenter'], x['session_rat']]), axis=1)\n",
    "sessions_df['nominal_session_path'] = sessions_df.apply(lambda x: pu.check_date_directory(x['subject_path'], x['session_date']), axis=1)"
   ]
  },
  {
   "cell_type": "markdown",
   "metadata": {},
   "source": [
    "## 1.2 Filter only sessions with nominal path found"
   ]
  },
  {
   "cell_type": "code",
   "execution_count": null,
   "metadata": {
    "scrolled": true
   },
   "outputs": [],
   "source": [
    "raw_sessions_df_nom_path_found = sessions_df.loc[~sessions_df['nominal_session_path'].isin(pu.path_not_found_dict.values()), :]\n",
    "raw_sessions_df_nom_path_found = raw_sessions_df_nom_path_found.reset_index(drop=True)"
   ]
  },
  {
   "cell_type": "markdown",
   "metadata": {},
   "source": [
    "## 1.3 Enumerate all possible directories for each session"
   ]
  },
  {
   "cell_type": "code",
   "execution_count": null,
   "metadata": {},
   "outputs": [],
   "source": [
    "#If multiple paths found, this will create a record for each \"possibility\"\n",
    "raw_sessions_df_nom_path_found = raw_sessions_df_nom_path_found.explode(['nominal_session_path'])\n",
    "raw_sessions_df_nom_path_found = raw_sessions_df_nom_path_found.sort_values(by=['sessid'])"
   ]
  },
  {
   "cell_type": "markdown",
   "metadata": {},
   "source": [
    "## 1.4 Find session files in nominal directories and childs"
   ]
  },
  {
   "cell_type": "code",
   "execution_count": null,
   "metadata": {},
   "outputs": [],
   "source": [
    "raw_sessions_df_nom_path_found['real_raw_session_path'] = \\\n",
    "raw_sessions_df_nom_path_found.apply(lambda x: pu.find_file_pattern_dir(x['nominal_session_path'], \\\n",
    "                                                                         pu.file_pattern_ephys_session['raw_np_files']),axis=1)\n",
    "\n",
    "#If several recoring files are found inside a \"parent\" path\n",
    "raw_sessions_df_nom_path_found = raw_sessions_df_nom_path_found.explode(['real_raw_session_path'])\n",
    "\n",
    "raw_sessions_df_found = raw_sessions_df_nom_path_found.loc[~raw_sessions_df_nom_path_found['real_raw_session_path'].isin(pu.path_not_found_dict.values()), :]\n",
    "raw_sessions_df_found['raw_session_rel_path'] = raw_sessions_df_found.loc[:,'real_raw_session_path'].str.replace(dj.config['custom']['ephys_root_data_dir'], '', regex=False)\n",
    "raw_sessions_df_found = raw_sessions_df_found.reset_index(drop=True)"
   ]
  },
  {
   "cell_type": "code",
   "execution_count": null,
   "metadata": {},
   "outputs": [],
   "source": [
    "raw_sessions_df_found"
   ]
  },
  {
   "cell_type": "markdown",
   "metadata": {},
   "source": [
    "# 2. Sorted session processing"
   ]
  },
  {
   "cell_type": "markdown",
   "metadata": {},
   "source": [
    "## 2.1 Construct and find nominal paths"
   ]
  },
  {
   "cell_type": "code",
   "execution_count": null,
   "metadata": {},
   "outputs": [],
   "source": [
    "cluster_root = dj.config['custom']['clustering_root_data_dir']\n",
    "raw_sessions_df_found['subject_cluster_path'] = raw_sessions_df_found.apply(lambda x: pu.combine_str_path(cluster_root, [x['experimenter'], x['session_rat']]), axis=1)\n",
    "raw_sessions_df_found['nominal_cluster_session_path'] = raw_sessions_df_found.apply(lambda x: pu.check_date_directory(x['subject_cluster_path'], x['session_date']), axis=1)\n"
   ]
  },
  {
   "cell_type": "markdown",
   "metadata": {},
   "source": [
    "## 2.2 Filter only sessions with nominal path found"
   ]
  },
  {
   "cell_type": "code",
   "execution_count": null,
   "metadata": {},
   "outputs": [],
   "source": [
    "cluster_sessions_df_nom_path_found = raw_sessions_df_found.loc[~raw_sessions_df_found['nominal_cluster_session_path'].isin(pu.path_not_found_dict.values()), :]\n",
    "cluster_sessions_df_nom_path_found = cluster_sessions_df_nom_path_found.reset_index(drop=True)\n"
   ]
  },
  {
   "cell_type": "markdown",
   "metadata": {},
   "source": [
    "## 2.3 Enumerate all possible directories for each session"
   ]
  },
  {
   "cell_type": "code",
   "execution_count": null,
   "metadata": {},
   "outputs": [],
   "source": [
    "#If multiple paths found, this will create a record for each \"possibility\"\n",
    "cluster_sessions_df_nom_path_found = cluster_sessions_df_nom_path_found.explode(['nominal_cluster_session_path'])\n",
    "cluster_sessions_df_nom_path_found = cluster_sessions_df_nom_path_found.sort_values(by=['sessid'])\n"
   ]
  },
  {
   "cell_type": "markdown",
   "metadata": {},
   "source": [
    "## 2.4 Find session files in nominal directories and childs"
   ]
  },
  {
   "cell_type": "code",
   "execution_count": null,
   "metadata": {},
   "outputs": [],
   "source": [
    "cluster_sessions_df_nom_path_found['real_cluster_session_path'] =\\\n",
    "cluster_sessions_df_nom_path_found.apply(lambda x: pu.find_file_pattern_dir(x['nominal_cluster_session_path'],\\\n",
    "                                                                     pu.file_pattern_ephys_session['sorted_np_files']),axis=1)\n",
    "\n",
    "#If several recoring files are found inside a \"parent\" path\n",
    "cluster_sessions_df_nom_path_found = cluster_sessions_df_nom_path_found.explode(['real_cluster_session_path'])\n",
    "\n",
    "\n",
    "cluster_sessions_df_found = cluster_sessions_df_nom_path_found.loc[~cluster_sessions_df_nom_path_found['real_cluster_session_path'].isin(pu.path_not_found_dict.values()), :]\n",
    "cluster_sessions_df_found['cluster_session_rel_path'] = cluster_sessions_df_found.loc[:,'real_cluster_session_path'].str.replace(dj.config['custom']['clustering_root_data_dir'], '', regex=False)\n",
    "cluster_sessions_df_found = cluster_sessions_df_found.reset_index(drop=True)\n",
    "cluster_sessions_df_found"
   ]
  },
  {
   "cell_type": "markdown",
   "metadata": {},
   "source": [
    "# 3.  Ingest into DB (preAcquisitionSession)"
   ]
  },
  {
   "cell_type": "markdown",
   "metadata": {},
   "source": [
    "## 3.1 Add/Select columns from the DF --> DB"
   ]
  },
  {
   "cell_type": "code",
   "execution_count": null,
   "metadata": {},
   "outputs": [],
   "source": [
    "#Count how many possible directories for each session we have\n",
    "cluster_sessions_df_found['directory_num'] =  cluster_sessions_df_found.groupby('sessid').cumcount()\n",
    "cluster_sessions_df_found = cluster_sessions_df_found.reset_index(drop=True)\n",
    "\n",
    "\n",
    "cluster_sessions_df_found = cluster_sessions_df_found.rename(columns={\"cluster_session_rel_path\": \"acquisition_post_rel_path\",\\\n",
    "                                          \"raw_session_rel_path\": \"acquisition_raw_rel_path\"})\n",
    "\n",
    "cluster_sessions_df_found['acquisition_type'] = 'ephys'\n",
    "cluster_sessions_df_found['correct_dirs'] = 0\n",
    "\n",
    "pre_acquisition_sessions_df = cluster_sessions_df_found[new_acquisition.PreAcquisitionSessions.heading.names]\n",
    "pre_acquisition_sessions_df\n",
    "\n",
    "\n",
    "\n"
   ]
  },
  {
   "cell_type": "code",
   "execution_count": null,
   "metadata": {},
   "outputs": [],
   "source": [
    "so = pre_acquisition_sessions_df.groupby('directory_num').max()\n",
    "pre_acquisition_sessions_df.loc[pre_acquisition_sessions_df['sessid'] == 710898, 'acquisition_post_rel_path'].values"
   ]
  },
  {
   "cell_type": "markdown",
   "metadata": {},
   "source": [
    "## 3.2 Ingest to preAcquisitionSession"
   ]
  },
  {
   "cell_type": "code",
   "execution_count": null,
   "metadata": {},
   "outputs": [],
   "source": [
    "dict_keys = pre_acquisition_sessions_df.to_dict(orient='records')\n",
    "for i in dict_keys:\n",
    "    new_acquisition.PreAcquisitionSessions.insert1(i)"
   ]
  },
  {
   "cell_type": "markdown",
   "metadata": {},
   "source": [
    "# 4. Update correct_dirs of known PreAcquisitionSessions (triggers AcquisitionSessions insert)"
   ]
  },
  {
   "cell_type": "markdown",
   "metadata": {},
   "source": [
    "## 4.1  Fetch from PreAcquisitionSessions"
   ]
  },
  {
   "cell_type": "code",
   "execution_count": null,
   "metadata": {},
   "outputs": [],
   "source": [
    "preacq_sessions_df = pd.DataFrame(new_acquisition.PreAcquisitionSessions.fetch(order_by='sessid desc', as_dict=True))\n",
    "idx_duplicate_raw = preacq_sessions_df['sessid'].duplicated(keep=False)\n",
    "preacq_sessions_df = preacq_sessions_df[~idx_duplicate_raw]\n",
    "preacq_sessions_df = preacq_sessions_df.loc[preacq_sessions_df['directory_num'] == 0, :]\n",
    "preacq_sessions_df = preacq_sessions_df.reset_index(drop=True)\n",
    "preacq_sessions_df"
   ]
  },
  {
   "cell_type": "markdown",
   "metadata": {},
   "source": [
    "## 4.2 Find unequivocally relation between directories and session"
   ]
  },
  {
   "cell_type": "code",
   "execution_count": null,
   "metadata": {},
   "outputs": [],
   "source": [
    "idx_duplicate_raw = preacq_sessions_df['acquisition_raw_rel_path'].duplicated(keep=False)\n",
    "preacq_sessions_df_unique_raw = preacq_sessions_df[~idx_duplicate_raw]\n",
    "preacq_sessions_df_unique_raw = preacq_sessions_df_unique_raw.reset_index(drop=True)\n",
    "idx_duplicate_post = preacq_sessions_df_unique_raw['acquisition_post_rel_path'].duplicated(keep=False)\n",
    "acq_sessions_df_unique = preacq_sessions_df_unique_raw[~idx_duplicate_post]\n",
    "acq_sessions_df_unique = acq_sessions_df_unique.reset_index(drop=True)\n",
    "acq_sessions_df_unique"
   ]
  },
  {
   "cell_type": "markdown",
   "metadata": {},
   "source": [
    "## 4.3 Update correct_dir of found session trigger ingest acquisitionSessions"
   ]
  },
  {
   "cell_type": "code",
   "execution_count": null,
   "metadata": {},
   "outputs": [],
   "source": [
    "for i in range(acq_sessions_df_unique.shape[0]):\n",
    "    key = dict()\n",
    "    key['sessid'] = acq_sessions_df_unique.loc[i, 'sessid']\n",
    "    key['directory_num'] = 0\n",
    "    key['correct_dirs'] =  1\n",
    "    (new_acquisition.PreAcquisitionSessions).update1(key)"
   ]
  },
  {
   "cell_type": "markdown",
   "metadata": {},
   "source": [
    "## 4.4 Check AcquisitionSessions records"
   ]
  },
  {
   "cell_type": "code",
   "execution_count": null,
   "metadata": {},
   "outputs": [],
   "source": [
    "acq_sessions_df = pd.DataFrame(new_acquisition.AcquisitionSessions.fetch(order_by='sessid desc', as_dict=True))\n",
    "acq_sessions_df"
   ]
  },
  {
   "cell_type": "code",
   "execution_count": null,
   "metadata": {},
   "outputs": [],
   "source": []
  }
 ],
 "metadata": {
  "interpreter": {
   "hash": "69b99f51e057dae8bf7af0dfb3c6eb1984d102baaea9585d96e379423a8ef19c"
  },
  "kernelspec": {
   "display_name": "Python 3 (ipykernel)",
   "language": "python",
   "name": "python3"
  },
  "language_info": {
   "codemirror_mode": {
    "name": "ipython",
    "version": 3
   },
   "file_extension": ".py",
   "mimetype": "text/x-python",
   "name": "python",
   "nbconvert_exporter": "python",
   "pygments_lexer": "ipython3",
   "version": "3.7.11"
  }
 },
 "nbformat": 4,
 "nbformat_minor": 2
}
