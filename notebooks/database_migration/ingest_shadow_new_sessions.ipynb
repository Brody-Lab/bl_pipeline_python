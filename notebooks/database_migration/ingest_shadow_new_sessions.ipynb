{
 "cells": [
  {
   "cell_type": "markdown",
   "metadata": {},
   "source": [
    "# Ingest shadow and new acquisition sessions"
   ]
  },
  {
   "cell_type": "code",
   "execution_count": 1,
   "metadata": {},
   "outputs": [
    {
     "name": "stdout",
     "output_type": "stream",
     "text": [
      "Local configuration file found !!, no need to run the configuration (unless configuration has changed)\n"
     ]
    }
   ],
   "source": [
    "from scripts.conf_file_finding import try_find_conf_file\n",
    "try_find_conf_file()"
   ]
  },
  {
   "cell_type": "markdown",
   "metadata": {},
   "source": [
    "##Connection to DB"
   ]
  },
  {
   "cell_type": "code",
   "execution_count": 2,
   "metadata": {},
   "outputs": [
    {
     "name": "stdout",
     "output_type": "stream",
     "text": [
      "Connecting alvaros@datajoint01.pni.princeton.edu:3306\n"
     ]
    }
   ],
   "source": [
    "import utility.display_utility as du\n",
    "import datajoint as dj\n",
    "import pandas as pd\n",
    "import pathlib\n",
    "import glob\n",
    "\n",
    "bdata          = dj.create_virtual_module('bdata', 'bl_bdata')\n",
    "shadow_acquisition = dj.create_virtual_module('shadow_acquisition', 'bl_shadow_acquisition')\n",
    "new_acquisition = dj.create_virtual_module('new_acquisition', 'bl_new_acquisition')\n",
    "new_lab = dj.create_virtual_module('new_lav', 'bl_new_lab')\n",
    "ratinfo        = dj.create_virtual_module('ratinfo', 'bl_ratinfo')"
   ]
  },
  {
   "cell_type": "markdown",
   "metadata": {},
   "source": [
    "## Ingest bl_shadow_acquisition.sessStarted missing sessions"
   ]
  },
  {
   "cell_type": "code",
   "execution_count": 3,
   "metadata": {},
   "outputs": [
    {
     "ename": "NotImplementedError",
     "evalue": "Subclasses of AutoPopulate must implement the method `make`",
     "output_type": "error",
     "traceback": [
      "\u001b[1;31m---------------------------------------------------------------------------\u001b[0m",
      "\u001b[1;31mNotImplementedError\u001b[0m                       Traceback (most recent call last)",
      "\u001b[1;32m~\\AppData\\Local\\Temp/ipykernel_9984/1174594462.py\u001b[0m in \u001b[0;36m<module>\u001b[1;34m\u001b[0m\n\u001b[1;32m----> 1\u001b[1;33m \u001b[0mshadow_acquisition\u001b[0m\u001b[1;33m.\u001b[0m\u001b[0mSessStarted\u001b[0m\u001b[1;33m.\u001b[0m\u001b[0mpopulate\u001b[0m\u001b[1;33m(\u001b[0m\u001b[1;33m)\u001b[0m\u001b[1;33m\u001b[0m\u001b[1;33m\u001b[0m\u001b[0m\n\u001b[0m",
      "\u001b[1;32mc:\\users\\stephan\\anaconda3\\envs\\brody_ephys_elements\\lib\\site-packages\\datajoint\\autopopulate.py\u001b[0m in \u001b[0;36mpopulate\u001b[1;34m(self, suppress_errors, return_exception_objects, reserve_jobs, order, limit, max_calls, display_progress, *restrictions)\u001b[0m\n\u001b[0;32m    151\u001b[0m                     \u001b[0mself\u001b[0m\u001b[1;33m.\u001b[0m\u001b[0m__class__\u001b[0m\u001b[1;33m.\u001b[0m\u001b[0m_allow_insert\u001b[0m \u001b[1;33m=\u001b[0m \u001b[1;32mTrue\u001b[0m\u001b[1;33m\u001b[0m\u001b[1;33m\u001b[0m\u001b[0m\n\u001b[0;32m    152\u001b[0m                     \u001b[1;32mtry\u001b[0m\u001b[1;33m:\u001b[0m\u001b[1;33m\u001b[0m\u001b[1;33m\u001b[0m\u001b[0m\n\u001b[1;32m--> 153\u001b[1;33m                         \u001b[0mmake\u001b[0m\u001b[1;33m(\u001b[0m\u001b[0mdict\u001b[0m\u001b[1;33m(\u001b[0m\u001b[0mkey\u001b[0m\u001b[1;33m)\u001b[0m\u001b[1;33m)\u001b[0m\u001b[1;33m\u001b[0m\u001b[1;33m\u001b[0m\u001b[0m\n\u001b[0m\u001b[0;32m    154\u001b[0m                     \u001b[1;32mexcept\u001b[0m \u001b[1;33m(\u001b[0m\u001b[0mKeyboardInterrupt\u001b[0m\u001b[1;33m,\u001b[0m \u001b[0mSystemExit\u001b[0m\u001b[1;33m,\u001b[0m \u001b[0mException\u001b[0m\u001b[1;33m)\u001b[0m \u001b[1;32mas\u001b[0m \u001b[0merror\u001b[0m\u001b[1;33m:\u001b[0m\u001b[1;33m\u001b[0m\u001b[1;33m\u001b[0m\u001b[0m\n\u001b[0;32m    155\u001b[0m                         \u001b[1;32mtry\u001b[0m\u001b[1;33m:\u001b[0m\u001b[1;33m\u001b[0m\u001b[1;33m\u001b[0m\u001b[0m\n",
      "\u001b[1;32mc:\\users\\stephan\\anaconda3\\envs\\brody_ephys_elements\\lib\\site-packages\\datajoint\\autopopulate.py\u001b[0m in \u001b[0;36mmake\u001b[1;34m(self, key)\u001b[0m\n\u001b[0;32m     53\u001b[0m         \u001b[0mattributes\u001b[0m\u001b[1;33m,\u001b[0m \u001b[1;32mand\u001b[0m \u001b[0minserts\u001b[0m \u001b[0mthe\u001b[0m \u001b[0mnew\u001b[0m \u001b[0mtuples\u001b[0m \u001b[0minto\u001b[0m \u001b[0mself\u001b[0m\u001b[1;33m.\u001b[0m\u001b[1;33m\u001b[0m\u001b[1;33m\u001b[0m\u001b[0m\n\u001b[0;32m     54\u001b[0m         \"\"\"\n\u001b[1;32m---> 55\u001b[1;33m         \u001b[1;32mraise\u001b[0m \u001b[0mNotImplementedError\u001b[0m\u001b[1;33m(\u001b[0m\u001b[1;34m'Subclasses of AutoPopulate must implement the method `make`'\u001b[0m\u001b[1;33m)\u001b[0m\u001b[1;33m\u001b[0m\u001b[1;33m\u001b[0m\u001b[0m\n\u001b[0m\u001b[0;32m     56\u001b[0m \u001b[1;33m\u001b[0m\u001b[0m\n\u001b[0;32m     57\u001b[0m     \u001b[1;33m@\u001b[0m\u001b[0mproperty\u001b[0m\u001b[1;33m\u001b[0m\u001b[1;33m\u001b[0m\u001b[0m\n",
      "\u001b[1;31mNotImplementedError\u001b[0m: Subclasses of AutoPopulate must implement the method `make`"
     ]
    }
   ],
   "source": [
    "shadow_acquisition.SessStarted.populate()"
   ]
  },
  {
   "cell_type": "markdown",
   "metadata": {},
   "source": [
    "## Ingest bl_new_acquisition.sessStarted missing sessions"
   ]
  },
  {
   "cell_type": "code",
   "execution_count": null,
   "metadata": {},
   "outputs": [
    {
     "name": "stdout",
     "output_type": "stream",
     "text": [
      "Missing sessStrtedSessions: 0\n"
     ]
    }
   ],
   "source": [
    "#Check missing sessions from shadow\n",
    "SessStarted = new_acquisition.SessStarted()\n",
    "all_data = (shadow_acquisition.SessStarted - SessStarted.proj('sessid')).fetch('KEY')\n",
    "num_sessions_missing = len(all_data)\n",
    "print('Missing new_acquisition sessStrted:', num_sessions_missing)\n",
    "for indx, keys in enumerate(all_data):\n",
    "\n",
    "    du.drawProgressBar(indx/num_sessions_missing)\n",
    "    data = (bdata.SessStarted & keys).fetch1()\n",
    "\n",
    "    if data['ratname'] != None:\n",
    "        entry = dict(\n",
    "            sessid                   = data['sessid'],\n",
    "            session_started_rat      = data['ratname'],\n",
    "            session_started_rigid    = data['rigid'],\n",
    "            session_date             = data['sessiondate'],\n",
    "            session_starttime        = data['starttime'],\n",
    "            was_ended                = data['was_ended'],\n",
    "            crashed                  = data['crashed']\n",
    "        )\n",
    "\n",
    "        if data['rigid'] == 0 and data['hostname'] != None:\n",
    "            if 'Rig' in data['hostname']:\n",
    "                    entry.update(session_started_rigid=int(data['hostname'].strip('Rig')))\n",
    "            else:\n",
    "                    entry.update(session_started_rigid=int(float(data['hostname'])))\n",
    "                \n",
    "        SessStarted.insert1(entry, allow_direct_insert=True, skip_duplicates=True)\n",
    "\n",
    "\n"
   ]
  },
  {
   "cell_type": "markdown",
   "metadata": {},
   "source": [
    "## Ingest bl_new_acquisition.sessions missing sessions"
   ]
  },
  {
   "cell_type": "code",
   "execution_count": null,
   "metadata": {
    "tags": [
     "outputPrepend"
    ]
   },
   "outputs": [
    {
     "name": "stdout",
     "output_type": "stream",
     "text": [
      "Missing new_acquisition sessions: 0\n"
     ]
    }
   ],
   "source": [
    "#Find missing sessions\n",
    "Sessions = new_acquisition.Sessions()\n",
    "all_data = (shadow_acquisition.Sessions * new_acquisition.SessStarted.proj('sessid') - Sessions.proj('sessid')).fetch('KEY')\n",
    "num_sessions_missing = len(all_data)\n",
    "print('Missing new_acquisition sessions:', num_sessions_missing)\n",
    "fields = shadow_acquisition.Sessions.heading.names\n",
    "for indx, key in enumerate(all_data):\n",
    "\n",
    "    du.drawProgressBar(indx/num_sessions_missing)\n",
    "    data = (shadow_acquisition.Sessions & key).fetch(*fields, as_dict=True)[0]\n",
    "    Sessions.insert1(data, allow_direct_insert=True, skip_duplicates=True)\n"
   ]
  }
 ],
 "metadata": {
  "interpreter": {
   "hash": "69b99f51e057dae8bf7af0dfb3c6eb1984d102baaea9585d96e379423a8ef19c"
  },
  "kernelspec": {
   "display_name": "Python 3 (ipykernel)",
   "language": "python",
   "name": "python3"
  },
  "language_info": {
   "codemirror_mode": {
    "name": "ipython",
    "version": 3
   },
   "file_extension": ".py",
   "mimetype": "text/x-python",
   "name": "python",
   "nbconvert_exporter": "python",
   "pygments_lexer": "ipython3",
   "version": "3.7.10"
  }
 },
 "nbformat": 4,
 "nbformat_minor": 2
}
