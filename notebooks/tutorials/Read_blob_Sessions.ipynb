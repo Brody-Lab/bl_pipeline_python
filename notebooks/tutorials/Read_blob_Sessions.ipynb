{
 "cells": [
  {
   "cell_type": "markdown",
   "metadata": {},
   "source": [
    "# Explore BL Sessions Data\n",
    "\n",
    "Here we introduce some useful DataJoint tools to explore the bl19 pipeline\n",
    "\n",
    "First thing first, import datajoint"
   ]
  },
  {
   "cell_type": "code",
   "execution_count": 1,
   "metadata": {},
   "outputs": [
    {
     "name": "stdout",
     "output_type": "stream",
     "text": [
      "Local configuration file found !!, no need to run the configuration (unless configuration has changed)\n"
     ]
    }
   ],
   "source": [
    "from scripts.conf_file_finding import try_find_conf_file\n",
    "try_find_conf_file()\n"
   ]
  },
  {
   "cell_type": "code",
   "execution_count": 2,
   "metadata": {},
   "outputs": [],
   "source": [
    "import datajoint as dj\n",
    "import utility.blob_transformation as bt\n",
    "import numpy as np\n",
    "import pylab as plt\n",
    "import matplotlib.patches as mpatches\n",
    "from matplotlib import cm\n",
    "\n",
    "import pandas as pd"
   ]
  },
  {
   "cell_type": "code",
   "execution_count": 3,
   "metadata": {},
   "outputs": [],
   "source": [
    "dj.blob.use_32bit_dims = True"
   ]
  },
  {
   "cell_type": "markdown",
   "metadata": {},
   "source": [
    "## Get handle to DBs\n",
    "\n",
    "lab         =  researchers & rig DB <br />\n",
    "subject     =  rats DB <br />\n",
    "acquisition =  sessions DB"
   ]
  },
  {
   "cell_type": "code",
   "execution_count": 4,
   "metadata": {},
   "outputs": [
    {
     "name": "stderr",
     "output_type": "stream",
     "text": [
      "[2022-08-17 10:44:28,801][INFO]: Connecting alvaros@datajoint01.pni.princeton.edu:3306\n",
      "[2022-08-17 10:44:29,101][INFO]: Connected alvaros@datajoint01.pni.princeton.edu:3306\n"
     ]
    }
   ],
   "source": [
    "bdata = dj.create_virtual_module('bdatatest', 'bdatatest')\n",
    "session_key = {'sessid': 822635}\n",
    "session_data = (bdata.Sessions & session_key).fetch('protocol_data', as_dict=True)\n",
    "parsed_events = (bdata.ParsedEvents & session_key).fetch(as_dict=True)"
   ]
  },
  {
   "cell_type": "code",
   "execution_count": 5,
   "metadata": {},
   "outputs": [
    {
     "data": {
      "text/html": [
       "<div>\n",
       "<style scoped>\n",
       "    .dataframe tbody tr th:only-of-type {\n",
       "        vertical-align: middle;\n",
       "    }\n",
       "\n",
       "    .dataframe tbody tr th {\n",
       "        vertical-align: top;\n",
       "    }\n",
       "\n",
       "    .dataframe thead th {\n",
       "        text-align: right;\n",
       "    }\n",
       "</style>\n",
       "<table border=\"1\" class=\"dataframe\">\n",
       "  <thead>\n",
       "    <tr style=\"text-align: right;\">\n",
       "      <th></th>\n",
       "      <th>hits</th>\n",
       "      <th>sides</th>\n",
       "      <th>tasks</th>\n",
       "      <th>stage</th>\n",
       "    </tr>\n",
       "  </thead>\n",
       "  <tbody>\n",
       "    <tr>\n",
       "      <th>0</th>\n",
       "      <td>[nan, 1.0, 1.0, 0.0, 1.0, 0.0, nan]</td>\n",
       "      <td>llllrrl</td>\n",
       "      <td>ddddddd</td>\n",
       "      <td>Stage 10</td>\n",
       "    </tr>\n",
       "  </tbody>\n",
       "</table>\n",
       "</div>"
      ],
      "text/plain": [
       "                                  hits    sides    tasks     stage\n",
       "0  [nan, 1.0, 1.0, 0.0, 1.0, 0.0, nan]  llllrrl  ddddddd  Stage 10"
      ]
     },
     "execution_count": 5,
     "metadata": {},
     "output_type": "execute_result"
    }
   ],
   "source": [
    "protocol_data_python = bt.transform_blob(session_data[0]['protocol_data'])\n",
    "df_protocol_data = pd.DataFrame(protocol_data_python)\n",
    "df_protocol_data"
   ]
  },
  {
   "cell_type": "code",
   "execution_count": 6,
   "metadata": {},
   "outputs": [
    {
     "data": {
      "text/html": [
       "<div>\n",
       "<style scoped>\n",
       "    .dataframe tbody tr th:only-of-type {\n",
       "        vertical-align: middle;\n",
       "    }\n",
       "\n",
       "    .dataframe tbody tr th {\n",
       "        vertical-align: top;\n",
       "    }\n",
       "\n",
       "    .dataframe thead th {\n",
       "        text-align: right;\n",
       "    }\n",
       "</style>\n",
       "<table border=\"1\" class=\"dataframe\">\n",
       "  <thead>\n",
       "    <tr style=\"text-align: right;\">\n",
       "      <th></th>\n",
       "      <th>pokes</th>\n",
       "      <th>waves</th>\n",
       "      <th>states</th>\n",
       "    </tr>\n",
       "  </thead>\n",
       "  <tbody>\n",
       "    <tr>\n",
       "      <th>0</th>\n",
       "      <td>{'C': [[1005.2353039999999, 1005.2579039999999...</td>\n",
       "      <td>{'direct_reward': [], 'stimulatorwave': [1005....</td>\n",
       "      <td>{'state_0': [[nan, 883.515104], [1008.358804, ...</td>\n",
       "    </tr>\n",
       "    <tr>\n",
       "      <th>1</th>\n",
       "      <td>{'C': [1010.399115, 1012.049215], 'L': [[1008....</td>\n",
       "      <td>{'direct_reward': [1012.223015, 1012.327515], ...</td>\n",
       "      <td>{'state_0': [[nan, 1008.359015], [1012.828215,...</td>\n",
       "    </tr>\n",
       "    <tr>\n",
       "      <th>2</th>\n",
       "      <td>{'C': [1015.987304, 1017.469004], 'L': [[1017....</td>\n",
       "      <td>{'direct_reward': [1017.671604, 1017.776204], ...</td>\n",
       "      <td>{'state_0': [[nan, 1013.765804], [1018.2769040...</td>\n",
       "    </tr>\n",
       "    <tr>\n",
       "      <th>3</th>\n",
       "      <td>{'C': [1020.607404, 1022.716804], 'L': [], 'R'...</td>\n",
       "      <td>{'direct_reward': [], 'stimulatorwave': [1021....</td>\n",
       "      <td>{'state_0': [[nan, 1019.300804], [1026.878104,...</td>\n",
       "    </tr>\n",
       "    <tr>\n",
       "      <th>4</th>\n",
       "      <td>{'C': [[1027.853115, 1027.8705149999998], [102...</td>\n",
       "      <td>{'direct_reward': [1030.669915, 1030.799014999...</td>\n",
       "      <td>{'state_0': [[nan, 1026.878315], [1031.2997149...</td>\n",
       "    </tr>\n",
       "    <tr>\n",
       "      <th>5</th>\n",
       "      <td>{'C': [[1033.070804, 1033.0829039999999], [103...</td>\n",
       "      <td>{'direct_reward': [], 'stimulatorwave': [1033....</td>\n",
       "      <td>{'state_0': [[nan, 1031.845504], [1039.5069039...</td>\n",
       "    </tr>\n",
       "  </tbody>\n",
       "</table>\n",
       "</div>"
      ],
      "text/plain": [
       "                                               pokes  \\\n",
       "0  {'C': [[1005.2353039999999, 1005.2579039999999...   \n",
       "1  {'C': [1010.399115, 1012.049215], 'L': [[1008....   \n",
       "2  {'C': [1015.987304, 1017.469004], 'L': [[1017....   \n",
       "3  {'C': [1020.607404, 1022.716804], 'L': [], 'R'...   \n",
       "4  {'C': [[1027.853115, 1027.8705149999998], [102...   \n",
       "5  {'C': [[1033.070804, 1033.0829039999999], [103...   \n",
       "\n",
       "                                               waves  \\\n",
       "0  {'direct_reward': [], 'stimulatorwave': [1005....   \n",
       "1  {'direct_reward': [1012.223015, 1012.327515], ...   \n",
       "2  {'direct_reward': [1017.671604, 1017.776204], ...   \n",
       "3  {'direct_reward': [], 'stimulatorwave': [1021....   \n",
       "4  {'direct_reward': [1030.669915, 1030.799014999...   \n",
       "5  {'direct_reward': [], 'stimulatorwave': [1033....   \n",
       "\n",
       "                                              states  \n",
       "0  {'state_0': [[nan, 883.515104], [1008.358804, ...  \n",
       "1  {'state_0': [[nan, 1008.359015], [1012.828215,...  \n",
       "2  {'state_0': [[nan, 1013.765804], [1018.2769040...  \n",
       "3  {'state_0': [[nan, 1019.300804], [1026.878104,...  \n",
       "4  {'state_0': [[nan, 1026.878315], [1031.2997149...  \n",
       "5  {'state_0': [[nan, 1031.845504], [1039.5069039...  "
      ]
     },
     "execution_count": 6,
     "metadata": {},
     "output_type": "execute_result"
    }
   ],
   "source": [
    "peh = bt.transform_blob(parsed_events[0]['peh'])\n",
    "df_peh = pd.DataFrame(peh)\n",
    "df_peh"
   ]
  },
  {
   "cell_type": "code",
   "execution_count": null,
   "metadata": {},
   "outputs": [],
   "source": []
  }
 ],
 "metadata": {
  "kernelspec": {
   "display_name": "Python 3.7.0 ('bl_pipeline_python_env')",
   "language": "python",
   "name": "python3"
  },
  "language_info": {
   "codemirror_mode": {
    "name": "ipython",
    "version": 3
   },
   "file_extension": ".py",
   "mimetype": "text/x-python",
   "name": "python",
   "nbconvert_exporter": "python",
   "pygments_lexer": "ipython3",
   "version": "3.7.0"
  },
  "vscode": {
   "interpreter": {
    "hash": "23e69b64a79772630dfd26d451f3307575fe81cc91ac101e99783d1bbe06ea97"
   }
  }
 },
 "nbformat": 4,
 "nbformat_minor": 2
}
