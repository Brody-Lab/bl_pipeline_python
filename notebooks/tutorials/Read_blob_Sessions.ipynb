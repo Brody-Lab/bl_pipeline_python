{
 "cells": [
  {
   "cell_type": "markdown",
   "metadata": {},
   "source": [
    "# Explore BL Sessions Data\n",
    "\n",
    "Here we introduce some useful DataJoint tools to explore the bl19 pipeline\n",
    "\n",
    "First thing first, import datajoint"
   ]
  },
  {
   "cell_type": "code",
   "execution_count": 1,
   "metadata": {},
   "outputs": [
    {
     "name": "stdout",
     "output_type": "stream",
     "text": [
      "Local configuration file found !!, no need to run the configuration (unless configuration has changed)\n"
     ]
    }
   ],
   "source": [
    "from scripts.conf_file_finding import try_find_conf_file\n",
    "try_find_conf_file()\n"
   ]
  },
  {
   "cell_type": "code",
   "execution_count": 2,
   "metadata": {},
   "outputs": [],
   "source": [
    "import datajoint as dj\n",
    "import utility.blob_transformation as bt\n",
    "import numpy as np\n",
    "import pylab as plt\n",
    "import matplotlib.patches as mpatches\n",
    "from matplotlib import cm\n",
    "\n",
    "import pandas as pd"
   ]
  },
  {
   "cell_type": "code",
   "execution_count": 3,
   "metadata": {},
   "outputs": [],
   "source": [
    "dj.blob.use_32bit_dims = True"
   ]
  },
  {
   "cell_type": "markdown",
   "metadata": {},
   "source": [
    "## Get handle to DBs\n",
    "\n",
    "lab         =  researchers & rig DB <br />\n",
    "subject     =  rats DB <br />\n",
    "acquisition =  sessions DB"
   ]
  },
  {
   "cell_type": "code",
   "execution_count": 4,
   "metadata": {},
   "outputs": [
    {
     "name": "stderr",
     "output_type": "stream",
     "text": [
      "[2022-08-05 10:24:22,781][INFO]: Connecting alvaros@datajoint01.pni.princeton.edu:3306\n",
      "[2022-08-05 10:24:23,111][INFO]: Connected alvaros@datajoint01.pni.princeton.edu:3306\n"
     ]
    }
   ],
   "source": [
    "bdata = dj.create_virtual_module('bdatatest', 'bdatatest')\n",
    "session_key = {'sessid': 822635}\n",
    "session_data = (bdata.Sessions & session_key).fetch('protocol_data', as_dict=True)\n",
    "parsed_events = (bdata.ParsedEvents & session_key).fetch(as_dict=True)"
   ]
  },
  {
   "cell_type": "code",
   "execution_count": 6,
   "metadata": {},
   "outputs": [
    {
     "data": {
      "text/plain": [
       "{'hits': array([nan,  1.,  1.,  0.,  1.,  0., nan]),\n",
       " 'sides': 'llllrrl',\n",
       " 'tasks': 'ddddddd',\n",
       " 'stage': 'Stage 10'}"
      ]
     },
     "execution_count": 6,
     "metadata": {},
     "output_type": "execute_result"
    }
   ],
   "source": [
    "protocol_data = bt.mymblob_to_dict(session_data[0]['protocol_data'])\n",
    "protocol_data"
   ]
  },
  {
   "cell_type": "code",
   "execution_count": 8,
   "metadata": {},
   "outputs": [
    {
     "data": {
      "text/plain": [
       "dict_keys(['pokes', 'waves', 'states'])"
      ]
     },
     "execution_count": 8,
     "metadata": {},
     "output_type": "execute_result"
    }
   ],
   "source": [
    "peh = bt.mymblob_to_dict(parsed_events[0]['peh'])\n",
    "peh.keys()"
   ]
  },
  {
   "cell_type": "code",
   "execution_count": 10,
   "metadata": {},
   "outputs": [
    {
     "data": {
      "text/plain": [
       "(array([[        nan,  883.515104],\n",
       "        [1008.358804,         nan]]),\n",
       " array([[        nan,  883.515204],\n",
       "        [1008.358804, 1008.358804]]),\n",
       " array([[883.515104,        nan],\n",
       "        [883.515204, 884.515204]]),\n",
       " array([[884.515204, 884.515304]]),\n",
       " array([[884.515304, 885.515304]]),\n",
       " array([], shape=(0, 2), dtype=float64),\n",
       " array([[ 885.515304, 1005.235304]]),\n",
       " array([[1005.235304, 1005.236304]]),\n",
       " array([[1005.236304, 1005.236604]]),\n",
       " array([[1005.236604, 1005.257904]]),\n",
       " array([[1005.257904, 1005.357904]]),\n",
       " array([], shape=(0, 2), dtype=float64),\n",
       " array([], shape=(0, 2), dtype=float64),\n",
       " array([], shape=(0, 2), dtype=float64),\n",
       " array([], shape=(0, 2), dtype=float64),\n",
       " array([], shape=(0, 2), dtype=float64),\n",
       " array([], shape=(0, 2), dtype=float64),\n",
       " array([[1005.357904, 1005.358204]]),\n",
       " array([[1005.358204, 1008.358104]]),\n",
       " array([], shape=(0, 2), dtype=float64),\n",
       " array([[1008.358104, 1008.358804]]),\n",
       " array(['state_0'], dtype='<U7'),\n",
       " array(['state_0'], dtype='<U7'))"
      ]
     },
     "execution_count": 10,
     "metadata": {},
     "output_type": "execute_result"
    }
   ],
   "source": [
    "peh['states']"
   ]
  }
 ],
 "metadata": {
  "kernelspec": {
   "display_name": "Python 3.7.0 ('bl_pipeline_python_env')",
   "language": "python",
   "name": "python3"
  },
  "language_info": {
   "codemirror_mode": {
    "name": "ipython",
    "version": 3
   },
   "file_extension": ".py",
   "mimetype": "text/x-python",
   "name": "python",
   "nbconvert_exporter": "python",
   "pygments_lexer": "ipython3",
   "version": "3.7.0"
  },
  "vscode": {
   "interpreter": {
    "hash": "23e69b64a79772630dfd26d451f3307575fe81cc91ac101e99783d1bbe06ea97"
   }
  }
 },
 "nbformat": 4,
 "nbformat_minor": 2
}
