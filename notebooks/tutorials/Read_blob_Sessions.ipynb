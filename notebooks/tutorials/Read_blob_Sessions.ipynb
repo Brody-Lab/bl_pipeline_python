{
 "cells": [
  {
   "cell_type": "markdown",
   "metadata": {},
   "source": [
    "# Explore BL Sessions Data\n",
    "\n",
    "Here we introduce some useful DataJoint tools to explore the bl19 pipeline\n",
    "\n",
    "First thing first, import datajoint"
   ]
  },
  {
   "cell_type": "code",
   "execution_count": 1,
   "metadata": {},
   "outputs": [
    {
     "name": "stdout",
     "output_type": "stream",
     "text": [
      "Local configuration file found !!, no need to run the configuration (unless configuration has changed)\n"
     ]
    }
   ],
   "source": [
    "from scripts.conf_file_finding import try_find_conf_file\n",
    "try_find_conf_file()\n"
   ]
  },
  {
   "cell_type": "code",
   "execution_count": 2,
   "metadata": {},
   "outputs": [],
   "source": [
    "import datajoint as dj\n",
    "import utility.blob_transformation as bt\n",
    "import numpy as np\n",
    "import pylab as plt\n",
    "import matplotlib.patches as mpatches\n",
    "from matplotlib import cm\n",
    "\n",
    "import pandas as pd"
   ]
  },
  {
   "cell_type": "code",
   "execution_count": 3,
   "metadata": {},
   "outputs": [],
   "source": [
    "dj.blob.use_32bit_dims = True"
   ]
  },
  {
   "cell_type": "markdown",
   "metadata": {},
   "source": [
    "## Get handle to DBs\n",
    "\n",
    "lab         =  researchers & rig DB <br />\n",
    "subject     =  rats DB <br />\n",
    "acquisition =  sessions DB"
   ]
  },
  {
   "cell_type": "code",
   "execution_count": 4,
   "metadata": {},
   "outputs": [
    {
     "name": "stderr",
     "output_type": "stream",
     "text": [
      "[2022-08-16 14:53:14,509][INFO]: Connecting alvaros@datajoint01.pni.princeton.edu:3306\n",
      "[2022-08-16 14:53:14,819][INFO]: Connected alvaros@datajoint01.pni.princeton.edu:3306\n"
     ]
    }
   ],
   "source": [
    "bdata = dj.create_virtual_module('bdatatest', 'bdatatest')\n",
    "session_key = {'sessid': 882009}\n",
    "session_data = (bdata.Sessions & session_key).fetch('protocol_data', as_dict=True)\n",
    "parsed_events = (bdata.ParsedEvents & session_key).fetch(as_dict=True)"
   ]
  },
  {
   "cell_type": "code",
   "execution_count": 11,
   "metadata": {},
   "outputs": [
    {
     "data": {
      "text/plain": [
       "[{'hits': array([ 1.,  0.,  1.,  1.,  1., nan,  1., nan,  1.,  1., nan,  0., nan,\n",
       "         nan, nan, nan,  1.,  1.,  0.,  0.,  0., nan,  0., nan,  1.,  1.,\n",
       "          1., nan,  0.,  1., nan,  0.,  0.,  1., nan,  1.,  1.,  0., nan,\n",
       "         nan, nan,  1., nan, nan,  1.,  1.,  1., nan, nan, nan, nan,  1.,\n",
       "          1.,  1.,  1., nan, nan,  1.,  1.,  0.,  1.,  1.,  1., nan,  0.,\n",
       "          0.,  1.,  1., nan, nan, nan,  1.,  0.,  1.,  1.,  0.,  0., nan,\n",
       "          1., nan,  1., nan,  1.,  0.,  0., nan, nan,  1., nan, nan,  1.,\n",
       "         nan, nan, nan, nan, nan, nan, nan, nan, nan, nan, nan, nan, nan,\n",
       "         nan, nan, nan, nan, nan, nan, nan, nan, nan, nan, nan, nan, nan,\n",
       "         nan, nan, nan, nan, nan, nan, nan, nan, nan, nan, nan, nan, nan,\n",
       "         nan, nan, nan, nan, nan, nan, nan, nan, nan, nan, nan, nan, nan,\n",
       "         nan, nan, nan, nan, nan, nan, nan, nan, nan, nan, nan, nan,  0.,\n",
       "         nan,  1.,  1., nan,  1., nan, nan,  1., nan,  1.,  1.,  1., nan,\n",
       "          1., nan,  1., nan,  0.,  1., nan,  1.,  1.,  1.,  1.,  0.,  1.,\n",
       "         nan,  1.,  0.,  0., nan,  1., nan,  1.,  1., nan,  0., nan,  0.,\n",
       "         nan, nan, nan, nan, nan, nan]),\n",
       "  'sides': 'llrlrlrrlrllrlrlllrrllrlrlrlrrllrrllllrrllllrllrllrllrrrrrlrlrrrrrlllrlrrrrlrrrllrrrrllrrllrrlrllrlrrrllrrlrrrlrlllllllrlrrlllllrlllllllrrrrrlrlrrrlrrllrrrlrlrrrlllllrlllrlrrllrrlrrlrrrrrlllrrlrrrlrrrl',\n",
       "  'tasks': 'ddddddddddddddddddddddddddddddddddddddddddddddddddddffffffffffffffffffffffffffffffffffffffffffffffffffffffffffffffffffffffffffffffffffffffffffffffffffffffffffffffffddddddddddddddddddddddddddddddddddddd',\n",
       "  'stage': 'Stage 10'}]"
      ]
     },
     "execution_count": 11,
     "metadata": {},
     "output_type": "execute_result"
    }
   ],
   "source": [
    "su = bt.transform_blob(session_data[0]['protocol_data'])\n",
    "su"
   ]
  },
  {
   "cell_type": "code",
   "execution_count": 12,
   "metadata": {},
   "outputs": [
    {
     "data": {
      "text/html": [
       "<div>\n",
       "<style scoped>\n",
       "    .dataframe tbody tr th:only-of-type {\n",
       "        vertical-align: middle;\n",
       "    }\n",
       "\n",
       "    .dataframe tbody tr th {\n",
       "        vertical-align: top;\n",
       "    }\n",
       "\n",
       "    .dataframe thead th {\n",
       "        text-align: right;\n",
       "    }\n",
       "</style>\n",
       "<table border=\"1\" class=\"dataframe\">\n",
       "  <thead>\n",
       "    <tr style=\"text-align: right;\">\n",
       "      <th></th>\n",
       "      <th>pokes</th>\n",
       "      <th>waves</th>\n",
       "      <th>states</th>\n",
       "    </tr>\n",
       "  </thead>\n",
       "  <tbody>\n",
       "    <tr>\n",
       "      <th>0</th>\n",
       "      <td>{'C': [[391.283604, 391.955704], [392.01200400...</td>\n",
       "      <td>{'direct_reward': [393.011304, 393.06910400000...</td>\n",
       "      <td>{'state_0': [[nan, 280.845204], [393.569804000...</td>\n",
       "    </tr>\n",
       "    <tr>\n",
       "      <th>1</th>\n",
       "      <td>{'C': [[397.499403, 397.719003], [397.800103, ...</td>\n",
       "      <td>{'direct_reward': [], 'stimulatorwave': [397.5...</td>\n",
       "      <td>{'state_0': [[nan, 395.201303], [403.298703, n...</td>\n",
       "    </tr>\n",
       "    <tr>\n",
       "      <th>2</th>\n",
       "      <td>{'C': [[472.895615, 472.92401500000005], [472....</td>\n",
       "      <td>{'direct_reward': [474.732615, 474.791915], 's...</td>\n",
       "      <td>{'state_0': [[nan, 403.298915], [475.292615, n...</td>\n",
       "    </tr>\n",
       "    <tr>\n",
       "      <th>3</th>\n",
       "      <td>{'C': [[478.64200300000005, 479.060803], [479....</td>\n",
       "      <td>{'direct_reward': [480.42260300000004, 480.480...</td>\n",
       "      <td>{'state_0': [[nan, 476.231303], [480.981203000...</td>\n",
       "    </tr>\n",
       "    <tr>\n",
       "      <th>4</th>\n",
       "      <td>{'C': [[485.225104, 485.347304], [485.43100400...</td>\n",
       "      <td>{'direct_reward': [487.132604, 487.191904], 's...</td>\n",
       "      <td>{'state_0': [[nan, 481.662504], [487.692604, n...</td>\n",
       "    </tr>\n",
       "    <tr>\n",
       "      <th>...</th>\n",
       "      <td>...</td>\n",
       "      <td>...</td>\n",
       "      <td>...</td>\n",
       "    </tr>\n",
       "    <tr>\n",
       "      <th>196</th>\n",
       "      <td>{'C': [], 'L': [], 'R': [], 'starting_state': ...</td>\n",
       "      <td>{'direct_reward': [], 'stimulatorwave': [], 'c...</td>\n",
       "      <td>{'state_0': [[nan, 9537.876812], [9662.8777120...</td>\n",
       "    </tr>\n",
       "    <tr>\n",
       "      <th>197</th>\n",
       "      <td>{'C': [], 'L': [], 'R': [], 'starting_state': ...</td>\n",
       "      <td>{'direct_reward': [], 'stimulatorwave': [], 'c...</td>\n",
       "      <td>{'state_0': [[nan, 9662.877912], [9787.8788119...</td>\n",
       "    </tr>\n",
       "    <tr>\n",
       "      <th>198</th>\n",
       "      <td>{'C': [], 'L': [], 'R': [], 'starting_state': ...</td>\n",
       "      <td>{'direct_reward': [], 'stimulatorwave': [], 'c...</td>\n",
       "      <td>{'state_0': [[nan, 9787.879012], [9912.879912,...</td>\n",
       "    </tr>\n",
       "    <tr>\n",
       "      <th>199</th>\n",
       "      <td>{'C': [], 'L': [], 'R': [], 'starting_state': ...</td>\n",
       "      <td>{'direct_reward': [], 'stimulatorwave': [], 'c...</td>\n",
       "      <td>{'state_0': [[nan, 9912.880113], [10037.881012...</td>\n",
       "    </tr>\n",
       "    <tr>\n",
       "      <th>200</th>\n",
       "      <td>{'C': [], 'L': [], 'R': [], 'starting_state': ...</td>\n",
       "      <td>{'direct_reward': [], 'stimulatorwave': [], 'c...</td>\n",
       "      <td>{'state_0': [[nan, 10037.881213], [10162.88211...</td>\n",
       "    </tr>\n",
       "  </tbody>\n",
       "</table>\n",
       "<p>201 rows × 3 columns</p>\n",
       "</div>"
      ],
      "text/plain": [
       "                                                 pokes  \\\n",
       "0    {'C': [[391.283604, 391.955704], [392.01200400...   \n",
       "1    {'C': [[397.499403, 397.719003], [397.800103, ...   \n",
       "2    {'C': [[472.895615, 472.92401500000005], [472....   \n",
       "3    {'C': [[478.64200300000005, 479.060803], [479....   \n",
       "4    {'C': [[485.225104, 485.347304], [485.43100400...   \n",
       "..                                                 ...   \n",
       "196  {'C': [], 'L': [], 'R': [], 'starting_state': ...   \n",
       "197  {'C': [], 'L': [], 'R': [], 'starting_state': ...   \n",
       "198  {'C': [], 'L': [], 'R': [], 'starting_state': ...   \n",
       "199  {'C': [], 'L': [], 'R': [], 'starting_state': ...   \n",
       "200  {'C': [], 'L': [], 'R': [], 'starting_state': ...   \n",
       "\n",
       "                                                 waves  \\\n",
       "0    {'direct_reward': [393.011304, 393.06910400000...   \n",
       "1    {'direct_reward': [], 'stimulatorwave': [397.5...   \n",
       "2    {'direct_reward': [474.732615, 474.791915], 's...   \n",
       "3    {'direct_reward': [480.42260300000004, 480.480...   \n",
       "4    {'direct_reward': [487.132604, 487.191904], 's...   \n",
       "..                                                 ...   \n",
       "196  {'direct_reward': [], 'stimulatorwave': [], 'c...   \n",
       "197  {'direct_reward': [], 'stimulatorwave': [], 'c...   \n",
       "198  {'direct_reward': [], 'stimulatorwave': [], 'c...   \n",
       "199  {'direct_reward': [], 'stimulatorwave': [], 'c...   \n",
       "200  {'direct_reward': [], 'stimulatorwave': [], 'c...   \n",
       "\n",
       "                                                states  \n",
       "0    {'state_0': [[nan, 280.845204], [393.569804000...  \n",
       "1    {'state_0': [[nan, 395.201303], [403.298703, n...  \n",
       "2    {'state_0': [[nan, 403.298915], [475.292615, n...  \n",
       "3    {'state_0': [[nan, 476.231303], [480.981203000...  \n",
       "4    {'state_0': [[nan, 481.662504], [487.692604, n...  \n",
       "..                                                 ...  \n",
       "196  {'state_0': [[nan, 9537.876812], [9662.8777120...  \n",
       "197  {'state_0': [[nan, 9662.877912], [9787.8788119...  \n",
       "198  {'state_0': [[nan, 9787.879012], [9912.879912,...  \n",
       "199  {'state_0': [[nan, 9912.880113], [10037.881012...  \n",
       "200  {'state_0': [[nan, 10037.881213], [10162.88211...  \n",
       "\n",
       "[201 rows x 3 columns]"
      ]
     },
     "execution_count": 12,
     "metadata": {},
     "output_type": "execute_result"
    }
   ],
   "source": [
    "peh = bt.transform_blob(parsed_events[0]['peh'])\n",
    "df_peh = pd.DataFrame(peh)\n",
    "df_peh"
   ]
  }
 ],
 "metadata": {
  "kernelspec": {
   "display_name": "Python 3.7.0 ('bl_pipeline_python_env')",
   "language": "python",
   "name": "python3"
  },
  "language_info": {
   "codemirror_mode": {
    "name": "ipython",
    "version": 3
   },
   "file_extension": ".py",
   "mimetype": "text/x-python",
   "name": "python",
   "nbconvert_exporter": "python",
   "pygments_lexer": "ipython3",
   "version": "3.7.0"
  },
  "vscode": {
   "interpreter": {
    "hash": "23e69b64a79772630dfd26d451f3307575fe81cc91ac101e99783d1bbe06ea97"
   }
  }
 },
 "nbformat": 4,
 "nbformat_minor": 2
}
