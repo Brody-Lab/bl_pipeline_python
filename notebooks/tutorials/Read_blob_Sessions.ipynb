{
 "cells": [
  {
   "cell_type": "markdown",
   "metadata": {},
   "source": [
    "# Explore BL Sessions Data\n",
    "\n",
    "Here we introduce some useful DataJoint tools to explore the bl19 pipeline\n",
    "\n",
    "First thing first, import datajoint"
   ]
  },
  {
   "cell_type": "code",
   "execution_count": 6,
   "metadata": {},
   "outputs": [
    {
     "output_type": "stream",
     "name": "stdout",
     "text": [
      "Local configuration file found !!, no need to run the configuration (unless configuration has changed)\n"
     ]
    }
   ],
   "source": [
    "from scripts.conf_file_finding import try_find_conf_file\n",
    "try_find_conf_file()\n",
    "import numpy as np\n",
    "import pylab as plt\n",
    "import matplotlib.patches as mpatches\n",
    "from matplotlib import cm\n",
    "import datajoint as dj\n",
    "import pandas as pd"
   ]
  },
  {
   "cell_type": "markdown",
   "metadata": {},
   "source": [
    "## Get handle to DBs\n",
    "\n",
    "lab         =  researchers & rig DB <br />\n",
    "subject     =  rats DB <br />\n",
    "acquisition =  sessions DB"
   ]
  },
  {
   "cell_type": "code",
   "execution_count": 7,
   "metadata": {},
   "outputs": [],
   "source": [
    "bdata = dj.create_virtual_module('bdata', 'bdatatest')"
   ]
  },
  {
   "cell_type": "code",
   "execution_count": 8,
   "metadata": {},
   "outputs": [],
   "source": [
    "session_key = {'sessid': 822635}\n",
    "session_data = (bdata.Sessions & session_key).fetch('protocol_data', as_dict=True)"
   ]
  },
  {
   "cell_type": "code",
   "execution_count": 9,
   "metadata": {},
   "outputs": [
    {
     "output_type": "execute_result",
     "data": {
      "text/plain": [
       "rec.array([(array([[nan,  1.,  1.,  0.,  1.,  0., nan]]), array(['llllrrl'], dtype='<U7'), array(['ddddddd'], dtype='<U7'), array(['Stage 10'], dtype='<U8'))],\n",
       "          dtype=[('hits', 'O'), ('sides', 'O'), ('tasks', 'O'), ('stage', 'O')])"
      ]
     },
     "metadata": {},
     "execution_count": 9
    }
   ],
   "source": [
    "session_data[0]['protocol_data'][0]"
   ]
  },
  {
   "cell_type": "code",
   "execution_count": 10,
   "metadata": {},
   "outputs": [],
   "source": [
    "parsed_events = (bdata.ParsedEvents & session_key).fetch(as_dict=True)"
   ]
  },
  {
   "cell_type": "code",
   "execution_count": 11,
   "metadata": {},
   "outputs": [
    {
     "output_type": "execute_result",
     "data": {
      "text/plain": [
       "rec.array([(rec.array([[(array([[1005.235304, 1005.257904],\n",
       "                              [1006.869004, 1006.888104],\n",
       "                              [1006.898004, 1006.904304],\n",
       "                              [1007.065304, 1007.137104],\n",
       "                              [1007.674904, 1007.768104],\n",
       "                              [1007.805804, 1007.891204]]), array([[902.479404, 902.551704],\n",
       "                              [902.827904, 902.861604],\n",
       "                              [902.937004, 903.004004],\n",
       "                              [903.019404, 903.046404],\n",
       "                              [903.077504, 903.087704],\n",
       "                              [903.091004, 903.144404],\n",
       "                              [903.152204, 903.206704],\n",
       "                              [903.215404, 903.286104],\n",
       "                              [903.297304, 903.345604],\n",
       "                              [903.360804, 903.433204],\n",
       "                              [903.447104, 903.488304],\n",
       "                              [903.512404, 903.584904],\n",
       "                              [903.599604, 903.649404],\n",
       "                              [903.663304, 903.737304],\n",
       "                              [903.828604, 903.895504],\n",
       "                              [903.916004, 903.966504],\n",
       "                              [903.980904, 904.047804],\n",
       "                              [904.064004, 904.115504],\n",
       "                              [904.130204, 904.200804],\n",
       "                              [904.219804, 904.274404],\n",
       "                              [904.286004, 904.349604],\n",
       "                              [904.362404, 904.423504],\n",
       "                              [904.428304, 904.505304],\n",
       "                              [904.635204, 904.661104],\n",
       "                              [925.849004, 925.875104],\n",
       "                              [925.935004, 926.049604],\n",
       "                              [926.097804, 926.223904],\n",
       "                              [926.236304, 926.483304],\n",
       "                              [926.535704, 926.593204],\n",
       "                              [926.601804, 926.624704],\n",
       "                              [926.675304, 926.724504],\n",
       "                              [926.735904, 926.762504],\n",
       "                              [926.807804, 926.871004],\n",
       "                              [980.691404, 980.771204]]), array([[891.733004, 891.929004],\n",
       "                              [892.046604, 892.091704],\n",
       "                              [892.165104, 892.552304],\n",
       "                              [892.615204, 892.713204],\n",
       "                              [892.780604, 892.848604],\n",
       "                              [892.850504, 892.878204],\n",
       "                              [892.937404, 893.067104],\n",
       "                              [893.099704, 893.178904],\n",
       "                              [893.597504, 893.646904],\n",
       "                              [893.735504, 893.834804],\n",
       "                              [893.909004, 893.959504],\n",
       "                              [894.094404, 894.356704],\n",
       "                              [913.334704, 913.340104],\n",
       "                              [913.544604, 913.602004],\n",
       "                              [913.670704, 913.750204],\n",
       "                              [913.806804, 913.894304],\n",
       "                              [913.950404, 914.007404],\n",
       "                              [981.493704, 981.542104],\n",
       "                              [981.625804, 981.685704],\n",
       "                              [981.761604, 981.824704],\n",
       "                              [981.911204, 981.972504],\n",
       "                              [982.088504, 982.097304]]), rec.array([[(array(['out'], dtype='<U3'), array(['out'], dtype='<U3'), array(['out'], dtype='<U3'))]],\n",
       "                                 dtype=[('C', 'O'), ('L', 'O'), ('R', 'O')]), rec.array([[(array(['out'], dtype='<U3'), array(['out'], dtype='<U3'), array(['out'], dtype='<U3'))]],\n",
       "                                 dtype=[('C', 'O'), ('L', 'O'), ('R', 'O')]))                                                                                                       ]],\n",
       "                     dtype=[('C', 'O'), ('L', 'O'), ('R', 'O'), ('starting_state', 'O'), ('ending_state', 'O')]), rec.array([[(array([], shape=(0, 2), dtype=float64), array([[1005.236404, 1005.246304]]), array([[1006.636304, 1006.636404]]), rec.array([[(array([], shape=(0, 0), dtype=float64), array(['out'], dtype='<U3'), array(['out'], dtype='<U3'))]],\n",
       "                                 dtype=[('direct_reward', 'O'), ('stimulatorwave', 'O'), ('cpoke_timer', 'O')]), rec.array([[(array([], shape=(0, 0), dtype=float64), array(['out'], dtype='<U3'), array(['out'], dtype='<U3'))]],\n",
       "                                 dtype=[('direct_reward', 'O'), ('stimulatorwave', 'O'), ('cpoke_timer', 'O')]))                                                                                                                                           ]],\n",
       "                     dtype=[('direct_reward', 'O'), ('stimulatorwave', 'O'), ('cpoke_timer', 'O'), ('starting_state', 'O'), ('ending_state', 'O')]), rec.array([[(array([[        nan,  883.515104],\n",
       "                              [1008.358804,         nan]]), array([[        nan,  883.515204],\n",
       "                              [1008.358804, 1008.358804]]), array([[883.515104,        nan],\n",
       "                              [883.515204, 884.515204]]), array([[884.515204, 884.515304]]), array([[884.515304, 885.515304]]), array([], shape=(0, 2), dtype=float64), array([[ 885.515304, 1005.235304]]), array([[1005.235304, 1005.236304]]), array([[1005.236304, 1005.236604]]), array([[1005.236604, 1005.257904]]), array([[1005.257904, 1005.357904]]), array([], shape=(0, 2), dtype=float64), array([], shape=(0, 2), dtype=float64), array([], shape=(0, 2), dtype=float64), array([], shape=(0, 2), dtype=float64), array([], shape=(0, 2), dtype=float64), array([], shape=(0, 2), dtype=float64), array([[1005.357904, 1005.358204]]), array([[1005.358204, 1008.358104]]), array([], shape=(0, 2), dtype=float64), array([[1008.358104, 1008.358804]]), array(['state_0'], dtype='<U7'), array(['state_0'], dtype='<U7'))]],\n",
       "                     dtype=[('state_0', 'O'), ('check_next_trial_ready', 'O'), ('wait_for_cpoke', 'O'), ('wait_for_cpoke_wait2', 'O'), ('wait_for_cpoke_dir', 'O'), ('wait_for_cpoke_freq', 'O'), ('wait_for_cpoke_bis', 'O'), ('nic_prestim', 'O'), ('cpoke', 'O'), ('cpoke_in', 'O'), ('cpoke_out', 'O'), ('wait_for_cout', 'O'), ('wait_for_spoke', 'O'), ('hit_state', 'O'), ('hit_state2', 'O'), ('error_state', 'O'), ('wait_state', 'O'), ('nic_error_state', 'O'), ('nic_error_state2', 'O'), ('timeout_state', 'O'), ('clean_up_state', 'O'), ('starting_state', 'O'), ('ending_state', 'O')]))                                                                                                                                                                                                                                    ],\n",
       "          dtype=[('pokes', 'O'), ('waves', 'O'), ('states', 'O')])"
      ]
     },
     "metadata": {},
     "execution_count": 11
    }
   ],
   "source": [
    "parsed_events[0]['peh'][0]"
   ]
  },
  {
   "cell_type": "code",
   "execution_count": null,
   "metadata": {},
   "outputs": [],
   "source": []
  }
 ],
 "metadata": {
  "kernelspec": {
   "display_name": "Python 3.7.11 64-bit ('bl_pipeline_python_alDJ': conda)",
   "language": "python",
   "name": "python371164bitblpipelinepythonaldjconda5df87ac2610b4414ad7ef3c5e1336828"
  },
  "language_info": {
   "codemirror_mode": {
    "name": "ipython",
    "version": 3
   },
   "file_extension": ".py",
   "mimetype": "text/x-python",
   "name": "python",
   "nbconvert_exporter": "python",
   "pygments_lexer": "ipython3",
   "version": "3.7.11-final"
  }
 },
 "nbformat": 4,
 "nbformat_minor": 2
}