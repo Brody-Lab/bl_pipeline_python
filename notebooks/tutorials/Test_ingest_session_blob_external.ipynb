{
 "cells": [
  {
   "cell_type": "markdown",
   "metadata": {},
   "source": [
    "# Explore BL Sessions Data\n",
    "\n",
    "Here we introduce some useful DataJoint tools to explore the bl19 pipeline\n",
    "\n",
    "First thing first, import datajoint"
   ]
  },
  {
   "cell_type": "code",
   "execution_count": 1,
   "metadata": {},
   "outputs": [
    {
     "name": "stdout",
     "output_type": "stream",
     "text": [
      "Local configuration file found !!, no need to run the configuration (unless configuration has changed)\n"
     ]
    }
   ],
   "source": [
    "from scripts.conf_file_finding import try_find_conf_file\n",
    "try_find_conf_file()\n"
   ]
  },
  {
   "cell_type": "code",
   "execution_count": 2,
   "metadata": {},
   "outputs": [
    {
     "name": "stderr",
     "output_type": "stream",
     "text": [
      "[2022-08-23 09:55:10,123][INFO]: Connecting alvaros@datajoint01.pni.princeton.edu:3306\n",
      "[2022-08-23 09:55:10,600][INFO]: Connected alvaros@datajoint01.pni.princeton.edu:3306\n"
     ]
    }
   ],
   "source": [
    "import datajoint as dj\n",
    "import utility.blob_transformation as bt\n",
    "import numpy as np\n",
    "import pylab as plt\n",
    "import matplotlib.patches as mpatches\n",
    "from matplotlib import cm\n",
    "\n",
    "import pandas as pd\n",
    "\n",
    "import bl_pipeline.acquisition as acquisition\n",
    "import bl_pipeline.shadow.acquisition as shadow_acquisition\n"
   ]
  },
  {
   "cell_type": "code",
   "execution_count": 3,
   "metadata": {},
   "outputs": [],
   "source": [
    "bdata = dj.create_virtual_module('bdatatest', 'bdatatest')"
   ]
  },
  {
   "cell_type": "code",
   "execution_count": 4,
   "metadata": {},
   "outputs": [],
   "source": [
    "dj.blob.use_32bit_dims = True"
   ]
  },
  {
   "cell_type": "markdown",
   "metadata": {},
   "source": [
    "## Get handle to DBs\n",
    "\n",
    "lab         =  researchers & rig DB <br />\n",
    "subject     =  rats DB <br />\n",
    "acquisition =  sessions DB"
   ]
  },
  {
   "cell_type": "code",
   "execution_count": 5,
   "metadata": {},
   "outputs": [],
   "source": [
    "import traceback\n",
    "dj.blob.bypass_serialization = True\n",
    "\n",
    "sas = shadow_acquisition.Sessions\n",
    "\n",
    "acquisition_shadow_fields = pd.DataFrame.from_dict(sas.heading.attributes, orient='index')\n",
    "acquisition_shadow_fields = acquisition_shadow_fields['name'].tolist()\n",
    "acquisition_shadow_fields.remove('peh')\n",
    "acquisition_shadow_fields.remove('protocol_data')\n",
    "\n",
    "sas = sas.proj(*acquisition_shadow_fields) & 'session_date > \"2022-08-22\" and session_starttime > \"05:53:12\"'\n",
    "\n",
    "bdata_t = bdata.Sessions.proj('protocol_data', 'sessiondate', 'starttime') * bdata.ParsedEvents() & 'sessiondate > \"2022-08-22\"  and starttime > \"05:53:12\"'\n",
    "bdata_t = bdata_t.proj('protocol_data', 'peh')\n",
    "final_table = sas * bdata_t\n",
    "\n",
    "\n",
    "q_insert = final_table - acquisition.Sessions2.proj()\n",
    "\n",
    "\n",
    "for t in (q_insert).fetch(as_dict=True):\n",
    "    try:\n",
    "        acquisition.Sessions2.insert1(t)\n",
    "    except Exception:\n",
    "        print(\"Error when inserting {}\".format(t))\n",
    "        traceback.print_exc()"
   ]
  },
  {
   "cell_type": "code",
   "execution_count": 7,
   "metadata": {},
   "outputs": [
    {
     "data": {
      "text/html": [
       "<div>\n",
       "<style scoped>\n",
       "    .dataframe tbody tr th:only-of-type {\n",
       "        vertical-align: middle;\n",
       "    }\n",
       "\n",
       "    .dataframe tbody tr th {\n",
       "        vertical-align: top;\n",
       "    }\n",
       "\n",
       "    .dataframe thead th {\n",
       "        text-align: right;\n",
       "    }\n",
       "</style>\n",
       "<table border=\"1\" class=\"dataframe\">\n",
       "  <thead>\n",
       "    <tr style=\"text-align: right;\">\n",
       "      <th></th>\n",
       "      <th>pokes</th>\n",
       "      <th>waves</th>\n",
       "      <th>states</th>\n",
       "    </tr>\n",
       "  </thead>\n",
       "  <tbody>\n",
       "    <tr>\n",
       "      <th>0</th>\n",
       "      <td>{'C': [2951.837104, 2951.966304], 'L': [], 'R'...</td>\n",
       "      <td>{'direct_left_reward': [], 'direct_right_rewar...</td>\n",
       "      <td>{'state_0': [[nan, 2949.059604], [2952.992304,...</td>\n",
       "    </tr>\n",
       "    <tr>\n",
       "      <th>1</th>\n",
       "      <td>{'C': [2979.848204, 2979.967604], 'L': [[2962....</td>\n",
       "      <td>{'direct_left_reward': [], 'direct_right_rewar...</td>\n",
       "      <td>{'state_0': [[nan, 2957.147504], [2980.9936040...</td>\n",
       "    </tr>\n",
       "    <tr>\n",
       "      <th>2</th>\n",
       "      <td>{'C': [2988.736504, 2990.200304], 'L': [[2990....</td>\n",
       "      <td>{'direct_left_reward': [], 'direct_right_rewar...</td>\n",
       "      <td>{'state_0': [[nan, 2984.376104], [2991.226304,...</td>\n",
       "    </tr>\n",
       "    <tr>\n",
       "      <th>3</th>\n",
       "      <td>{'C': [[3003.1977039999997, 3003.2672039999998...</td>\n",
       "      <td>{'direct_left_reward': [], 'direct_right_rewar...</td>\n",
       "      <td>{'state_0': [[nan, 2994.405504], [3004.293204,...</td>\n",
       "    </tr>\n",
       "    <tr>\n",
       "      <th>4</th>\n",
       "      <td>{'C': [3008.6075039999996, 3010.2285039999997]...</td>\n",
       "      <td>{'direct_left_reward': [], 'direct_right_rewar...</td>\n",
       "      <td>{'state_0': [[nan, 3007.333104], [3013.5091039...</td>\n",
       "    </tr>\n",
       "    <tr>\n",
       "      <th>...</th>\n",
       "      <td>...</td>\n",
       "      <td>...</td>\n",
       "      <td>...</td>\n",
       "    </tr>\n",
       "    <tr>\n",
       "      <th>420</th>\n",
       "      <td>{'C': [8544.312502, 8546.131002], 'L': [], 'R'...</td>\n",
       "      <td>{'direct_left_reward': [], 'direct_right_rewar...</td>\n",
       "      <td>{'state_0': [[nan, 8543.094402], [8549.593402,...</td>\n",
       "    </tr>\n",
       "    <tr>\n",
       "      <th>421</th>\n",
       "      <td>{'C': [8551.460802, 8553.186402], 'L': [[8553....</td>\n",
       "      <td>{'direct_left_reward': [8553.675502, 8553.8289...</td>\n",
       "      <td>{'state_0': [[nan, 8550.269502], [8558.6086019...</td>\n",
       "    </tr>\n",
       "    <tr>\n",
       "      <th>422</th>\n",
       "      <td>{'C': [8561.340117000002, 8563.315217000001], ...</td>\n",
       "      <td>{'direct_left_reward': [], 'direct_right_rewar...</td>\n",
       "      <td>{'state_0': [[nan, 8558.609517], [8569.778617,...</td>\n",
       "    </tr>\n",
       "    <tr>\n",
       "      <th>423</th>\n",
       "      <td>{'C': [8575.647916, 8577.580616000001], 'L': [...</td>\n",
       "      <td>{'direct_left_reward': [], 'direct_right_rewar...</td>\n",
       "      <td>{'state_0': [[nan, 8569.779516], [8580.8967160...</td>\n",
       "    </tr>\n",
       "    <tr>\n",
       "      <th>424</th>\n",
       "      <td>{'C': [[8582.814601999999, 8582.866902], [8582...</td>\n",
       "      <td>{'direct_left_reward': [], 'direct_right_rewar...</td>\n",
       "      <td>{'state_0': [[nan, 8581.762802], [8583.892902,...</td>\n",
       "    </tr>\n",
       "  </tbody>\n",
       "</table>\n",
       "<p>425 rows × 3 columns</p>\n",
       "</div>"
      ],
      "text/plain": [
       "                                                 pokes  \\\n",
       "0    {'C': [2951.837104, 2951.966304], 'L': [], 'R'...   \n",
       "1    {'C': [2979.848204, 2979.967604], 'L': [[2962....   \n",
       "2    {'C': [2988.736504, 2990.200304], 'L': [[2990....   \n",
       "3    {'C': [[3003.1977039999997, 3003.2672039999998...   \n",
       "4    {'C': [3008.6075039999996, 3010.2285039999997]...   \n",
       "..                                                 ...   \n",
       "420  {'C': [8544.312502, 8546.131002], 'L': [], 'R'...   \n",
       "421  {'C': [8551.460802, 8553.186402], 'L': [[8553....   \n",
       "422  {'C': [8561.340117000002, 8563.315217000001], ...   \n",
       "423  {'C': [8575.647916, 8577.580616000001], 'L': [...   \n",
       "424  {'C': [[8582.814601999999, 8582.866902], [8582...   \n",
       "\n",
       "                                                 waves  \\\n",
       "0    {'direct_left_reward': [], 'direct_right_rewar...   \n",
       "1    {'direct_left_reward': [], 'direct_right_rewar...   \n",
       "2    {'direct_left_reward': [], 'direct_right_rewar...   \n",
       "3    {'direct_left_reward': [], 'direct_right_rewar...   \n",
       "4    {'direct_left_reward': [], 'direct_right_rewar...   \n",
       "..                                                 ...   \n",
       "420  {'direct_left_reward': [], 'direct_right_rewar...   \n",
       "421  {'direct_left_reward': [8553.675502, 8553.8289...   \n",
       "422  {'direct_left_reward': [], 'direct_right_rewar...   \n",
       "423  {'direct_left_reward': [], 'direct_right_rewar...   \n",
       "424  {'direct_left_reward': [], 'direct_right_rewar...   \n",
       "\n",
       "                                                states  \n",
       "0    {'state_0': [[nan, 2949.059604], [2952.992304,...  \n",
       "1    {'state_0': [[nan, 2957.147504], [2980.9936040...  \n",
       "2    {'state_0': [[nan, 2984.376104], [2991.226304,...  \n",
       "3    {'state_0': [[nan, 2994.405504], [3004.293204,...  \n",
       "4    {'state_0': [[nan, 3007.333104], [3013.5091039...  \n",
       "..                                                 ...  \n",
       "420  {'state_0': [[nan, 8543.094402], [8549.593402,...  \n",
       "421  {'state_0': [[nan, 8550.269502], [8558.6086019...  \n",
       "422  {'state_0': [[nan, 8558.609517], [8569.778617,...  \n",
       "423  {'state_0': [[nan, 8569.779516], [8580.8967160...  \n",
       "424  {'state_0': [[nan, 8581.762802], [8583.892902,...  \n",
       "\n",
       "[425 rows x 3 columns]"
      ]
     },
     "execution_count": 7,
     "metadata": {},
     "output_type": "execute_result"
    }
   ],
   "source": [
    "dj.blob.bypass_serialization = False\n",
    "session_data = acquisition.Sessions2.fetch(as_dict=True)\n",
    "\n",
    "\n",
    "protocol_data_python = bt.transform_blob(session_data[0]['peh'])\n",
    "df_protocol_data = pd.DataFrame(protocol_data_python)\n",
    "\n",
    "df_protocol_data"
   ]
  },
  {
   "cell_type": "code",
   "execution_count": null,
   "metadata": {},
   "outputs": [],
   "source": []
  },
  {
   "cell_type": "code",
   "execution_count": 6,
   "metadata": {},
   "outputs": [
    {
     "data": {
      "text/html": [
       "<div>\n",
       "<style scoped>\n",
       "    .dataframe tbody tr th:only-of-type {\n",
       "        vertical-align: middle;\n",
       "    }\n",
       "\n",
       "    .dataframe tbody tr th {\n",
       "        vertical-align: top;\n",
       "    }\n",
       "\n",
       "    .dataframe thead th {\n",
       "        text-align: right;\n",
       "    }\n",
       "</style>\n",
       "<table border=\"1\" class=\"dataframe\">\n",
       "  <thead>\n",
       "    <tr style=\"text-align: right;\">\n",
       "      <th></th>\n",
       "      <th>pokes</th>\n",
       "      <th>waves</th>\n",
       "      <th>states</th>\n",
       "    </tr>\n",
       "  </thead>\n",
       "  <tbody>\n",
       "    <tr>\n",
       "      <th>0</th>\n",
       "      <td>{'C': [[1005.2353039999999, 1005.2579039999999...</td>\n",
       "      <td>{'direct_reward': [], 'stimulatorwave': [1005....</td>\n",
       "      <td>{'state_0': [[nan, 883.515104], [1008.358804, ...</td>\n",
       "    </tr>\n",
       "    <tr>\n",
       "      <th>1</th>\n",
       "      <td>{'C': [1010.399115, 1012.049215], 'L': [[1008....</td>\n",
       "      <td>{'direct_reward': [1012.223015, 1012.327515], ...</td>\n",
       "      <td>{'state_0': [[nan, 1008.359015], [1012.828215,...</td>\n",
       "    </tr>\n",
       "    <tr>\n",
       "      <th>2</th>\n",
       "      <td>{'C': [1015.987304, 1017.469004], 'L': [[1017....</td>\n",
       "      <td>{'direct_reward': [1017.671604, 1017.776204], ...</td>\n",
       "      <td>{'state_0': [[nan, 1013.765804], [1018.2769040...</td>\n",
       "    </tr>\n",
       "    <tr>\n",
       "      <th>3</th>\n",
       "      <td>{'C': [1020.607404, 1022.716804], 'L': [], 'R'...</td>\n",
       "      <td>{'direct_reward': [], 'stimulatorwave': [1021....</td>\n",
       "      <td>{'state_0': [[nan, 1019.300804], [1026.878104,...</td>\n",
       "    </tr>\n",
       "    <tr>\n",
       "      <th>4</th>\n",
       "      <td>{'C': [[1027.853115, 1027.8705149999998], [102...</td>\n",
       "      <td>{'direct_reward': [1030.669915, 1030.799014999...</td>\n",
       "      <td>{'state_0': [[nan, 1026.878315], [1031.2997149...</td>\n",
       "    </tr>\n",
       "    <tr>\n",
       "      <th>5</th>\n",
       "      <td>{'C': [[1033.070804, 1033.0829039999999], [103...</td>\n",
       "      <td>{'direct_reward': [], 'stimulatorwave': [1033....</td>\n",
       "      <td>{'state_0': [[nan, 1031.845504], [1039.5069039...</td>\n",
       "    </tr>\n",
       "  </tbody>\n",
       "</table>\n",
       "</div>"
      ],
      "text/plain": [
       "                                               pokes  \\\n",
       "0  {'C': [[1005.2353039999999, 1005.2579039999999...   \n",
       "1  {'C': [1010.399115, 1012.049215], 'L': [[1008....   \n",
       "2  {'C': [1015.987304, 1017.469004], 'L': [[1017....   \n",
       "3  {'C': [1020.607404, 1022.716804], 'L': [], 'R'...   \n",
       "4  {'C': [[1027.853115, 1027.8705149999998], [102...   \n",
       "5  {'C': [[1033.070804, 1033.0829039999999], [103...   \n",
       "\n",
       "                                               waves  \\\n",
       "0  {'direct_reward': [], 'stimulatorwave': [1005....   \n",
       "1  {'direct_reward': [1012.223015, 1012.327515], ...   \n",
       "2  {'direct_reward': [1017.671604, 1017.776204], ...   \n",
       "3  {'direct_reward': [], 'stimulatorwave': [1021....   \n",
       "4  {'direct_reward': [1030.669915, 1030.799014999...   \n",
       "5  {'direct_reward': [], 'stimulatorwave': [1033....   \n",
       "\n",
       "                                              states  \n",
       "0  {'state_0': [[nan, 883.515104], [1008.358804, ...  \n",
       "1  {'state_0': [[nan, 1008.359015], [1012.828215,...  \n",
       "2  {'state_0': [[nan, 1013.765804], [1018.2769040...  \n",
       "3  {'state_0': [[nan, 1019.300804], [1026.878104,...  \n",
       "4  {'state_0': [[nan, 1026.878315], [1031.2997149...  \n",
       "5  {'state_0': [[nan, 1031.845504], [1039.5069039...  "
      ]
     },
     "execution_count": 6,
     "metadata": {},
     "output_type": "execute_result"
    }
   ],
   "source": [
    "peh = bt.transform_blob(parsed_events[0]['peh'])\n",
    "df_peh = pd.DataFrame(peh)\n",
    "df_peh"
   ]
  },
  {
   "cell_type": "code",
   "execution_count": null,
   "metadata": {},
   "outputs": [],
   "source": []
  }
 ],
 "metadata": {
  "kernelspec": {
   "display_name": "Python 3.7.0 ('bl_pipeline_python_env')",
   "language": "python",
   "name": "python3"
  },
  "language_info": {
   "codemirror_mode": {
    "name": "ipython",
    "version": 3
   },
   "file_extension": ".py",
   "mimetype": "text/x-python",
   "name": "python",
   "nbconvert_exporter": "python",
   "pygments_lexer": "ipython3",
   "version": "3.7.0"
  },
  "vscode": {
   "interpreter": {
    "hash": "23e69b64a79772630dfd26d451f3307575fe81cc91ac101e99783d1bbe06ea97"
   }
  }
 },
 "nbformat": 4,
 "nbformat_minor": 2
}
