{
 "cells": [
  {
   "cell_type": "code",
   "execution_count": null,
   "metadata": {},
   "outputs": [],
   "source": [
    "import datajoint as dj\n",
    "import sys\n",
    "sys.path.append('/Users/carlos/Github/UberPhys/src')\n",
    "\n",
    "import numpy as np\n",
    "\n",
    "import sys\n",
    "import pickle\n",
    "# sys.path.append('/Users/carlos/Github/UberPhys/src')\n",
    "sys.path.append('/Users/carlos/Github/bl_pipeline_python')\n",
    "import datajoint as dj\n",
    "import utility.blob_transformation as bt\n",
    "import os\n",
    "\n",
    "\n",
    "dj.blob.use_32bit_dims = True  # necessary for pd.blob read\n",
    "\n",
    "dj.config['database.host'] = 'datajoint01.pni.princeton.edu'\n",
    "dj.config['database.host'] = 'bdata00.pni.princeton.edu'\n",
    "dj.config['database.user'] = 'brody'  # enter your puid username\n",
    "\n",
    "dj.conn()\n",
    "\n",
    "if dj.config['database.host'] != 'bdata00.pni.princeton.edu':\n",
    "    raise ValueError(\"Only run this on bdata00.pni.princeton.edu\")\n"
   ]
  },
  {
   "cell_type": "code",
   "execution_count": null,
   "metadata": {},
   "outputs": [],
   "source": [
    "bdata.Sessions()"
   ]
  },
  {
   "cell_type": "code",
   "execution_count": null,
   "metadata": {},
   "outputs": [],
   "source": [
    "bdata = dj.create_virtual_module('bdata', 'bdata')\n",
    "\n",
    "ratname = \"A327\"\n",
    "savedir = \"/Users/carlos/Github/bl_pipeline_python/carlos\""
   ]
  },
  {
   "cell_type": "code",
   "execution_count": null,
   "metadata": {},
   "outputs": [],
   "source": [
    "sids = (bdata.Sessions & \"ratname='%s'\" % ratname).fetch('sessid')  # session ids for this rat\n",
    "\n",
    "sessionsAndBevs = []\n",
    "for i in range(sids.size):\n",
    "    sid = sids[i]  # a single session id\n",
    "    parsed_events = (bdata.ParsedEvents & \"sessid=%d\" % sid).fetch(as_dict=True)  # get the parsed events for this session\n",
    "    # Now put them through Alvaro's pipeline:\n",
    "    peh = bt.transform_blob(parsed_events[0]['peh'])\n",
    "    df_trial_peh = bt.blob_peh_to_df(peh, append_original_columnname=True)\n",
    "    df_event = bt.peh_trial_df_to_event_df(df_trial_peh, sid)\n",
    "\n",
    "    # Finally, append the session's events to the list of sessionsAndBevs\n",
    "    sessionsAndBevs.append(df_event.to_dict('records'))\n",
    "    if i % 10 == 0:\n",
    "        print(\"Processed %d/%d sessions\" % (i, sids.size))\n",
    "\n",
    "# save the pickle file:\n",
    "with open(\"%s/%s_sessionsAndBevs.pkl\" % (savedir, ratname), 'wb') as f:\n",
    "    pickle.dump(sessionsAndBevs, f)\n",
    "    print(\"Saved %s/%s_sessionsAndBevs.pkl\" % (savedir, ratname))\n",
    "\n"
   ]
  },
  {
   "cell_type": "markdown",
   "metadata": {},
   "source": [
    "## Sandbox"
   ]
  },
  {
   "cell_type": "code",
   "execution_count": null,
   "metadata": {},
   "outputs": [],
   "source": []
  },
  {
   "cell_type": "code",
   "execution_count": null,
   "metadata": {},
   "outputs": [],
   "source": [
    "bdata.BehaviorEvent() & \"sessid = 903003\""
   ]
  }
 ],
 "metadata": {
  "kernelspec": {
   "display_name": "base",
   "language": "python",
   "name": "python3"
  },
  "language_info": {
   "codemirror_mode": {
    "name": "ipython",
    "version": 3
   },
   "file_extension": ".py",
   "mimetype": "text/x-python",
   "name": "python",
   "nbconvert_exporter": "python",
   "pygments_lexer": "ipython3",
   "version": "3.11.8"
  }
 },
 "nbformat": 4,
 "nbformat_minor": 2
}
