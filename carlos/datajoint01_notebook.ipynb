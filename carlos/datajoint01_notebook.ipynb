{
 "cells": [
  {
   "cell_type": "code",
   "execution_count": null,
   "metadata": {},
   "outputs": [],
   "source": [
    "import datajoint as dj\n",
    "import sys\n",
    "sys.path.append('/Users/carlos/Github/UberPhys/src')\n",
    "\n",
    "import numpy as np\n",
    "\n",
    "import sys\n",
    "import pickle\n",
    "# sys.path.append('/Users/carlos/Github/UberPhys/src')\n",
    "sys.path.append('/Users/carlos/Github/bl_pipeline_python')\n",
    "import datajoint as dj\n",
    "import utility.blob_transformation as bt\n",
    "import os\n",
    "\n",
    "\n",
    "dj.blob.use_32bit_dims = True  # necessary for pd.blob read\n",
    "\n",
    "dj.config['database.host'] = 'datajoint01.pni.princeton.edu'\n",
    "# dj.config['database.host'] = 'bdata00.pni.princeton.edu'\n",
    "dj.config['database.user'] = 'brody'  # enter your puid username\n",
    "\n",
    "dj.conn()\n",
    "\n",
    "if dj.config['database.host'] != 'datajoint01.pni.princeton.edu':\n",
    "    raise ValueError(\"Only run this on datajoint01.pni.princeton.edu\")\n"
   ]
  },
  {
   "cell_type": "code",
   "execution_count": null,
   "metadata": {},
   "outputs": [],
   "source": [
    "schema = dj.schema('brody_test')\n",
    "\n",
    "@schema\n",
    "class BehaviorEvent(dj.Manual):\n",
    "     definition = \"\"\"\n",
    "     sessid:                 INT(11)                    # Unique number for session\n",
    "     id_event:               INT(11)                    # Unique number for event                      \n",
    "     -----\n",
    "     trial:                  INT(10)                    # trial number in session\n",
    "     event_type:             VARCHAR(16)                # type of event in session (e.g. pokes, states)\n",
    "     event_name:             VARCHAR(32)                # sub category of event type (e.g. C, L, R, state0)\n",
    "     entry_num:              INT(10)                    # occurence number of event inside trial\n",
    "     in_time=null:           DOUBLE                     # start time of event\n",
    "     out_time=null:          DOUBLE                     # end time of event\n",
    "     \"\"\"\n",
    "\n",
    "\n",
    "\n",
    "\n"
   ]
  },
  {
   "cell_type": "markdown",
   "metadata": {},
   "source": [
    "## Load pickled data and insert it into BehaviorEvent()\n",
    "\n",
    "Safe to run, it'll only insert sessions that aren't already in there."
   ]
  },
  {
   "cell_type": "code",
   "execution_count": null,
   "metadata": {},
   "outputs": [],
   "source": [
    "ratname = \"A327\"\n",
    "fp = open(\"/Users/carlos/Github/bl_pipeline_python/carlos/%s_sessionsAndBevs.pkl\" % ratname, \"rb\")\n",
    "sessionsAndBevs = pickle.load(fp)\n",
    "\n",
    "\n",
    "for i in range(len(sessionsAndBevs)):\n",
    "    if len(sessionsAndBevs[i]) == 0:  # if not events, skip session\n",
    "        continue\n",
    "    existing = (BehaviorEvent & \"sessid=%d\" % sessionsAndBevs[i][0][\"sessid\"]).fetch(\"id_event\")\n",
    "    if len(existing) > 0:  # if session already exists, skip\n",
    "        print(\"sessid=%d (i=%d/%d) already exists\" % (sessionsAndBevs[i][0][\"sessid\"], i, len(sessionsAndBevs)))\n",
    "        continue\n",
    "    \n",
    "    # Ok, insert this session:\n",
    "    BehaviorEvent.insert(sessionsAndBevs[i])\n",
    "\n",
    "    # report every now and then\n",
    "    if i % 10 == 0:\n",
    "        print(\"Inserted %d/%d sessions\" % (i, len(sessionsAndBevs)))"
   ]
  },
  {
   "cell_type": "code",
   "execution_count": null,
   "metadata": {},
   "outputs": [],
   "source": [
    "sessionsAndBevs[i]"
   ]
  },
  {
   "cell_type": "code",
   "execution_count": null,
   "metadata": {},
   "outputs": [],
   "source": [
    "gu = (BehaviorEvent() & \"sessid=%d\" % sessionsAndBevs[1][0][\"sessid\"]).fetch(as_dict=True)"
   ]
  },
  {
   "cell_type": "code",
   "execution_count": null,
   "metadata": {},
   "outputs": [],
   "source": [
    "gu = (BehaviorEvent() & \"sessid=%d\" % 23).fetch(as_dict=True)"
   ]
  },
  {
   "cell_type": "code",
   "execution_count": null,
   "metadata": {},
   "outputs": [],
   "source": [
    "gu"
   ]
  },
  {
   "cell_type": "code",
   "execution_count": null,
   "metadata": {},
   "outputs": [],
   "source": [
    "bdata = dj.create_virtual_module('bdata', 'bdata')"
   ]
  },
  {
   "cell_type": "code",
   "execution_count": null,
   "metadata": {},
   "outputs": [],
   "source": [
    "def matStruct2py(m, verbose=False):\n",
    "    \"\"\"\n",
    "    This function takes a dj.blob.MatStruct object and returns a dictionary \n",
    "    with its contents of the Matlab file.\n",
    "\n",
    "    Parameters\n",
    "    ----------\n",
    "    \"\"\"\n",
    "\n",
    "    def cellParse(m):\n",
    "        \"\"\"\n",
    "        This function parses a cell array. It is called by singleLevelParse() and structureParse().\n",
    "        For cell arrays with a single element, we'll try to unpack the content into a regular data type.\n",
    "        For cell arrays with multiple elements, the different elements coule be different types, so\n",
    "        they'll go into a numpy object array (dtype = np.object_) to allow for different data types.\n",
    "\n",
    "        Parameters\n",
    "        ----------\n",
    "        m : np.array\n",
    "\n",
    "        Returns\n",
    "        -------\n",
    "        res : np.array\n",
    "            The parsed contents of the cell array.\n",
    "\n",
    "        goodFlag : bool\n",
    "            True if the parsing of all elements was successful, False otherwise.\n",
    "\n",
    "\n",
    "        \"\"\"\n",
    "        if m.size == 1: # cell has only one element, we can return it as a regular data type if possible\n",
    "            res, goodFlag = singleLevelParse(m.flat[0])\n",
    "            if (not goodFlag) and verbose:\n",
    "                print(\"Warning: singleLevelParse() returned with error when object to be parsed was \", m.flat[i])\n",
    "            return res.squeeze()\n",
    "        \n",
    "        # else pack contents into a cell to allow different data types for different entries:    \n",
    "        res = np.empty(m.shape, np.object_)\n",
    "        for i in range(m.size):\n",
    "            res.flat[i], goodFlag = singleLevelParse(m.flat[i])\n",
    "            if (not goodFlag) and verbose:\n",
    "                print(\"Warning: singleLevelParse() returned with error when object to be parsed was \", m.flat[i])\n",
    "        return res.squeeze()\n",
    "\n",
    "\n",
    "    def singleLevelParse(m):\n",
    "        \"\"\"\n",
    "        This function parses a single element. It is called by cellParse() and structureParse(),\n",
    "        and can in turn call them, to handle nested structures and cells.\n",
    "        If the passed element has a data type with length greater than one, then \n",
    "        unless it is MatlabOpaque, it is a structure, so structureParse() is called to parse it.\n",
    "        If its data type is a subtype of np.object_, then it is a cell array, \n",
    "        so cellParse() is called to parse it. Otherwise it is parsed as a regular data type, with\n",
    "        attempts to unsqueeze as far as possible (e.g., a 1x1 array is converted to a scalar).\n",
    "\n",
    "        Parameters\n",
    "        ----------\n",
    "        m : np.array\n",
    "\n",
    "        Returns\n",
    "        -------\n",
    "        res : np.array\n",
    "            The parsed contents of m.\n",
    "\n",
    "        goodFlag : bool\n",
    "            True if the parsing was successful, False otherwise.\n",
    "        \"\"\"\n",
    "        goodFlag = True    \n",
    "        if hasattr(m, 'dtype') and len(m.dtype)>1:\n",
    "            if type(m) == scipy.io.matlab.MatlabOpaque:\n",
    "                res = \"Sorry, cannot parse a MatlabOpaque object\"\n",
    "                if verbose:\n",
    "                    print(\"Warning: singleLevelParse() found a MatlabOpaque object\")\n",
    "                goodFlag = False\n",
    "            else:\n",
    "                res, goodFlag = structureParse(m)\n",
    "                if (not goodFlag) and verbose:\n",
    "                    print(\"Warning: structureParse() returned with error when object to be parsed was \", m)\n",
    "        elif not hasattr(m, 'dtype'):\n",
    "            res = None\n",
    "            goodFlag = False\n",
    "            if verbose:\n",
    "                print(\"Warning: singleLevelParse() found no dtype attribute for entry \", m)\n",
    "        elif np.issubdtype(m.dtype, np.object_):\n",
    "            res = cellParse(m)\n",
    "        elif np.issubdtype(m.dtype, np.integer) and m.size == 1:\n",
    "            res = m[0,0].astype(int).squeeze()\n",
    "        elif np.issubdtype(m.dtype, np.integer) and (m.size == 0 or m.size > 1):\n",
    "            res = m.astype(int).squeeze()\n",
    "        elif np.issubdtype(m.dtype, np.float_) and m.size == 1:\n",
    "            res = m[0,0].astype(float).squeeze()\n",
    "        elif np.issubdtype(m.dtype, np.float_) and (m.size == 0 or m.size > 1):\n",
    "            res = m.astype(float).squeeze()\n",
    "        elif np.issubdtype(m.dtype, np.float32) and m.size == 1:\n",
    "            res = m[0,0].astype(np.float32).squeeze()\n",
    "        elif np.issubdtype(m.dtype, np.float32) and (m.size == 0 or m.size > 1):\n",
    "            res = m.astype(np.float32).squeeze()\n",
    "        elif m.dtype.descr[0][1].startswith('<U') and m.size == 1:\n",
    "            res = m[0].squeeze()\n",
    "        elif m.dtype.descr[0][1].startswith('<U') and (m.size == 0 or m.size > 1):\n",
    "            res = m.astype(str).squeeze()\n",
    "        else:\n",
    "            res = None\n",
    "            if verbose:\n",
    "                print(\"Warning: singleLevelParse() coudn't parse, it is missing a case for \", m)\n",
    "            goodFlag = False\n",
    "\n",
    "        return res, goodFlag\n",
    "\n",
    "\n",
    "    def structureParse(m):\n",
    "        \"\"\"\n",
    "        This function parses a structure. It is called by singleLevelParse().\n",
    "        It returns a dictionary with the contents of the structure.\n",
    "\n",
    "        Parameters\n",
    "        ----------\n",
    "        m : np.array\n",
    "\n",
    "        Returns\n",
    "        -------\n",
    "        res : dict\n",
    "            The parsed contents of the structure.\n",
    "        \"\"\"\n",
    "        allGood = True\n",
    "        res = {}\n",
    "        z = m.dtype.names\n",
    "        for n in range(len(z)):\n",
    "            if len(m.shape)==1:\n",
    "                msg = m[0][z[n]]\n",
    "            elif len(m.shape)==2:\n",
    "                msg = m[0,0][z[n]]\n",
    "            else:\n",
    "                # print(\"Warning: structureParse() found unexpected shape for entry \", k)\n",
    "                raise ValueError(\"Unexpected shape for entry \", m)\n",
    "\n",
    "            if hasattr(msg, 'dtype'):\n",
    "                if len(msg.dtype)<=1:\n",
    "                    res[z[n]], goodFlag = singleLevelParse(msg)\n",
    "                    allGood = allGood and goodFlag\n",
    "                    if (not goodFlag) and verbose:\n",
    "                        print(\"singleLevelParse() just returned with error when msg was \", msg)\n",
    "                else:   \n",
    "                    if type(msg) == scipy.io.matlab.MatlabOpaque:\n",
    "                        res[z[n]] = \"Sorry, cannot parse a MatlabOpaque object\"\n",
    "                        if verbose:\n",
    "                            print(\"Warning: singleLevelParse() found a MatlabOpaque object\")\n",
    "                        allGood = False\n",
    "                    else:\n",
    "                        res[z[n]], goodFlag = structureParse(msg)\n",
    "                        allGood = allGood and goodFlag\n",
    "                        if (not goodFlag) and verbose:\n",
    "                            print(\"structure parse() just returned with error when msg was \", msg)\n",
    "            else:\n",
    "                if verbose:\n",
    "                    print(\"structureParse(): Skipping \", z[n])\n",
    "                allGood = False\n",
    "\n",
    "        return res, allGood\n",
    "\n",
    "    res = {}\n",
    "    skipped = []\n",
    "    for k, v in m.items():\n",
    "        if not k.startswith(\"__\"):\n",
    "            if hasattr(m[k], 'dtype'):\n",
    "                res[k], goodFlag = singleLevelParse(m[k])\n",
    "                if (not goodFlag) and verbose:\n",
    "                    print(\"Warning: singleLevelParse() returned with error at outer level when k was \", k)\n",
    "            else:\n",
    "                if verbose:\n",
    "                    print(\"Outer level Skipping \", k)\n",
    "                skipped.append[v]\n",
    "\n",
    "    return res\n"
   ]
  },
  {
   "cell_type": "code",
   "execution_count": null,
   "metadata": {},
   "outputs": [],
   "source": [
    "mysessid = 956289\n",
    "gu = (bdata.ParsedEvents & \"sessid = %d\" % mysessid).fetch('peh', as_dict=True)[0]['peh']"
   ]
  },
  {
   "cell_type": "code",
   "execution_count": null,
   "metadata": {},
   "outputs": [],
   "source": [
    "gaz = 2\n",
    "\n",
    "def recArrayParsed(m):\n",
    "    if m.size > 1:\n",
    "        m = m.squeeze()\n",
    "\n",
    "    names = m.dtype.names\n",
    "    nNames = len(names)\n",
    "    nEntries = m.size\n",
    "\n",
    "    res = np.empty(nEntries, np.object_)\n",
    "\n",
    "    for entry in range(nEntries):\n",
    "        res[entry] = {} # the dict for this trial, with the names as keys\n",
    "        for n in range(nNames):\n",
    "            res[entry][names[n]] = {}\n",
    "            z = m[entry][names[n]][0]\n",
    "            if z.size > 0:\n",
    "                z = z[0]\n",
    "            innerNames = z.dtype.names\n",
    "            if innerNames is None:\n",
    "                if z.size == 1:\n",
    "                    res[entry][names[n]] = z.item()\n",
    "                else:\n",
    "                    res[entry][names[n]] = z\n",
    "                continue\n",
    "            nInnerNames = len(innerNames)\n",
    "            for k in range(nInnerNames):\n",
    "                if type(z[innerNames[k]]) == dj.blob.MatStruct:\n",
    "                    res[entry][names[n]][innerNames[k]] = recArrayParsed(z[innerNames[k]])\n",
    "                else:   \n",
    "                    res[entry][names[n]][innerNames[k]] = z[innerNames[k]].squeeze()\n",
    "\n",
    "    if res.size == 1:\n",
    "        return res.item()\n",
    "    else:\n",
    "        return res.squeeze()"
   ]
  },
  {
   "cell_type": "code",
   "execution_count": null,
   "metadata": {},
   "outputs": [],
   "source": [
    "m0 = gu.squeeze()\n",
    "z0 = m[1][\"pokes\"][0,0][\"starting_state\"]\n",
    "\n",
    "z0[0][\"L\"][0].size"
   ]
  },
  {
   "cell_type": "code",
   "execution_count": null,
   "metadata": {},
   "outputs": [],
   "source": [
    "z0"
   ]
  },
  {
   "cell_type": "code",
   "execution_count": null,
   "metadata": {},
   "outputs": [],
   "source": [
    "recArrayParsed(z0)"
   ]
  },
  {
   "cell_type": "code",
   "execution_count": null,
   "metadata": {},
   "outputs": [],
   "source": [
    "za = recArrayParsed(gu)[3][\"states\"]\n",
    "za"
   ]
  },
  {
   "cell_type": "code",
   "execution_count": null,
   "metadata": {},
   "outputs": [],
   "source": [
    "za"
   ]
  },
  {
   "cell_type": "code",
   "execution_count": null,
   "metadata": {},
   "outputs": [],
   "source": [
    "m = gu.squeeze()\n",
    "names = m.dtype.names\n",
    "m.size\n",
    "\n",
    "m[1][0][0,0][2].squeeze()"
   ]
  },
  {
   "cell_type": "code",
   "execution_count": null,
   "metadata": {},
   "outputs": [],
   "source": [
    "gu.squeeze().dtype.names"
   ]
  },
  {
   "cell_type": "code",
   "execution_count": null,
   "metadata": {},
   "outputs": [],
   "source": [
    "schema.list_tables()"
   ]
  },
  {
   "cell_type": "code",
   "execution_count": null,
   "metadata": {},
   "outputs": [],
   "source": [
    "parsed_events = dj.create_virtual_module('bdata', 'bdata')"
   ]
  },
  {
   "cell_type": "code",
   "execution_count": null,
   "metadata": {},
   "outputs": [],
   "source": [
    "bdata.Sessions() & \"sessiondate > '2024-05-01'\""
   ]
  },
  {
   "cell_type": "code",
   "execution_count": null,
   "metadata": {},
   "outputs": [],
   "source": [
    "sessions = dj.create_virtual_module('sessions', 'bl_bdata')"
   ]
  },
  {
   "cell_type": "code",
   "execution_count": null,
   "metadata": {},
   "outputs": [],
   "source": [
    "(sessions.Sessions() & \"sessid = 811000\").fetch1(\"sessiondate\")"
   ]
  },
  {
   "cell_type": "code",
   "execution_count": null,
   "metadata": {},
   "outputs": [],
   "source": [
    "sessions.Sessions() & \"sessiondate > '2021-01-01'\" & \"experimenter = 'Thomas'\""
   ]
  },
  {
   "cell_type": "code",
   "execution_count": null,
   "metadata": {},
   "outputs": [],
   "source": [
    "mysessid = 956289"
   ]
  },
  {
   "cell_type": "code",
   "execution_count": null,
   "metadata": {},
   "outputs": [],
   "source": [
    "import datetime"
   ]
  },
  {
   "cell_type": "code",
   "execution_count": null,
   "metadata": {},
   "outputs": [],
   "source": [
    "ratinfo = dj.create_virtual_module('ratinfo', 'ratinfotest')"
   ]
  },
  {
   "cell_type": "code",
   "execution_count": null,
   "metadata": {},
   "outputs": [],
   "source": [
    "ratinfo.Rats() & \"experimenter = 'Thomas'\""
   ]
  },
  {
   "cell_type": "code",
   "execution_count": null,
   "metadata": {},
   "outputs": [],
   "source": [
    "\n",
    "schema = dj.Schema(f\"{dj.config['database.user']}_shapes\") # \n",
    "\n",
    "@schema # \n",
    "class Rectangle(dj.Manual):\n",
    "    definition = \"\"\" # (3)\n",
    "    shape_id: int\n",
    "    ---\n",
    "    shape_height: float\n",
    "    shape_width: float\n",
    "    \"\"\"\n",
    "\n",
    "\n",
    "@schema\n",
    "class Area(dj.Computed):\n",
    "    definition = \"\"\"\n",
    "    -> Rectangle\n",
    "    ---\n",
    "    shape_area: float\n",
    "    \"\"\"\n",
    "    def make(self, key):\n",
    "        rectangle = (Rectangle & key).fetch1()\n",
    "        Area.insert1(\n",
    "            dict(\n",
    "                shape_id=rectangle[\"shape_id\"],\n",
    "                shape_area=rectangle[\"shape_height\"] * rectangle[\"shape_width\"],\n",
    "            )\n",
    "        )"
   ]
  }
 ],
 "metadata": {
  "kernelspec": {
   "display_name": "bl_datajoint",
   "language": "python",
   "name": "python3"
  },
  "language_info": {
   "codemirror_mode": {
    "name": "ipython",
    "version": 3
   },
   "file_extension": ".py",
   "mimetype": "text/x-python",
   "name": "python",
   "nbconvert_exporter": "python",
   "pygments_lexer": "ipython3",
   "version": "3.11.8"
  }
 },
 "nbformat": 4,
 "nbformat_minor": 2
}
